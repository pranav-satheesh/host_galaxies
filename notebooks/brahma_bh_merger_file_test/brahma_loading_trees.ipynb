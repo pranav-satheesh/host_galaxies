{
 "cells": [
  {
   "cell_type": "code",
   "execution_count": 27,
   "metadata": {
    "tags": []
   },
   "outputs": [],
   "source": [
    "import numpy as np\n",
    "from scipy.stats import ks_2samp\n",
    "from scipy import stats\n",
    "import matplotlib.pyplot as plt\n",
    "import h5py\n",
    "import time\n",
    "import illustris_python_mod as il\n",
    "import sys\n",
    "import os\n",
    "sys.path.append('../BH_dynamics_analysis')\n",
    "sys.path.append('/home/pranavsatheesh/arepo_package/')\n",
    "import arepo_package as arepo\n",
    "from scipy.spatial import cKDTree\n",
    "\n",
    "from tqdm import tqdm"
   ]
  },
  {
   "cell_type": "code",
   "execution_count": 28,
   "metadata": {
    "tags": []
   },
   "outputs": [],
   "source": [
    "# import illustris_python_mod as il\n",
    "# print(il.__file__)"
   ]
  },
  {
   "cell_type": "markdown",
   "metadata": {
    "tags": []
   },
   "source": [
    "## Loading the run and BH merger file"
   ]
  },
  {
   "cell_type": "code",
   "execution_count": 29,
   "metadata": {
    "tags": []
   },
   "outputs": [],
   "source": [
    "basePath = '/orange/lblecha/aklantbhowmick/GAS_BASED_SEED_MODEL_UNIFORM_RUNS/L12p5n512/AREPO/output_ratio10_SFMFGM5_seed5.00_bFOF_LW10_spin_rich/'"
   ]
  },
  {
   "cell_type": "code",
   "execution_count": 30,
   "metadata": {},
   "outputs": [],
   "source": [
    "basePath_DF = '/orange/lblecha/aklantbhowmick/GAS_BASED_SEED_MODEL_UNIFORM_RUNS/L12p5n512/AREPO/output_ratio10_SFMFGM5_seed5.00_bFOF_LW10_DFD_3/'"
   ]
  },
  {
   "cell_type": "code",
   "execution_count": 36,
   "metadata": {},
   "outputs": [
    {
     "ename": "ValueError",
     "evalue": "invalid literal for int() with base 10: '023_postprocessed'",
     "output_type": "error",
     "traceback": [
      "\u001b[0;31m---------------------------------------------------------------------------\u001b[0m",
      "\u001b[0;31mValueError\u001b[0m                                Traceback (most recent call last)",
      "Cell \u001b[0;32mIn[36], line 1\u001b[0m\n\u001b[0;32m----> 1\u001b[0m \u001b[43marepo\u001b[49m\u001b[38;5;241;43m.\u001b[39;49m\u001b[43mget_cosmology\u001b[49m\u001b[43m(\u001b[49m\u001b[43mbasePath_DF\u001b[49m\u001b[43m)\u001b[49m\n",
      "File \u001b[0;32m~/arepo_package/arepo_package.py:158\u001b[0m, in \u001b[0;36mget_cosmology\u001b[0;34m(output_path)\u001b[0m\n\u001b[1;32m    156\u001b[0m \u001b[38;5;28;01mfor\u001b[39;00m name \u001b[38;5;129;01min\u001b[39;00m output_file_names:\n\u001b[1;32m    157\u001b[0m     \u001b[38;5;28;01mif\u001b[39;00m (\u001b[38;5;124m'\u001b[39m\u001b[38;5;124mgroups\u001b[39m\u001b[38;5;124m'\u001b[39m \u001b[38;5;129;01min\u001b[39;00m name) \u001b[38;5;241m&\u001b[39m (\u001b[38;5;124m'\u001b[39m\u001b[38;5;124mgroups_sub\u001b[39m\u001b[38;5;124m'\u001b[39m \u001b[38;5;129;01mnot\u001b[39;00m \u001b[38;5;129;01min\u001b[39;00m name):\n\u001b[0;32m--> 158\u001b[0m         snapshot_number\u001b[38;5;241m=\u001b[39m\u001b[38;5;28;43mint\u001b[39;49m\u001b[43m(\u001b[49m\u001b[43mname\u001b[49m\u001b[43m[\u001b[49m\u001b[38;5;241;43m7\u001b[39;49m\u001b[43m:\u001b[49m\u001b[43m]\u001b[49m\u001b[43m)\u001b[49m\n\u001b[1;32m    159\u001b[0m         header\u001b[38;5;241m=\u001b[39mil\u001b[38;5;241m.\u001b[39mgroupcat\u001b[38;5;241m.\u001b[39mloadHeader(output_path,snapshot_number)\n\u001b[1;32m    160\u001b[0m         om0\u001b[38;5;241m=\u001b[39mheader\u001b[38;5;241m.\u001b[39mget(\u001b[38;5;124m'\u001b[39m\u001b[38;5;124mOmega0\u001b[39m\u001b[38;5;124m'\u001b[39m)\n",
      "\u001b[0;31mValueError\u001b[0m: invalid literal for int() with base 10: '023_postprocessed'"
     ]
    }
   ],
   "source": [
    "arepo.get_cosmology(basePath_DF)"
   ]
  },
  {
   "cell_type": "code",
   "execution_count": 17,
   "metadata": {},
   "outputs": [],
   "source": [
    "basePath='/orange/lblecha/aklantbhowmick/GAS_BASED_SEED_MODEL_UNIFORM_RUNS/L12p5n512/AREPO/'\n",
    "runname='output_ratio10_SFMFGM5_seed5.00_bFOF_LW10_DFD_3'"
   ]
  },
  {
   "cell_type": "code",
   "execution_count": 20,
   "metadata": {},
   "outputs": [
    {
     "data": {
      "text/plain": [
       "'/orange/lblecha/aklantbhowmick/GAS_BASED_SEED_MODEL_UNIFORM_RUNS/L12p5n512/AREPO/output_ratio10_SFMFGM5_seed5.00_bFOF_LW10_DFD_3/'"
      ]
     },
     "execution_count": 20,
     "metadata": {},
     "output_type": "execute_result"
    }
   ],
   "source": [
    "basePath+runname+'/'"
   ]
  },
  {
   "cell_type": "code",
   "execution_count": 25,
   "metadata": {},
   "outputs": [
    {
     "ename": "ValueError",
     "evalue": "invalid literal for int() with base 10: '023_postprocessed'",
     "output_type": "error",
     "traceback": [
      "\u001b[0;31m---------------------------------------------------------------------------\u001b[0m",
      "\u001b[0;31mValueError\u001b[0m                                Traceback (most recent call last)",
      "Cell \u001b[0;32mIn[25], line 1\u001b[0m\n\u001b[0;32m----> 1\u001b[0m \u001b[43marepo\u001b[49m\u001b[38;5;241;43m.\u001b[39;49m\u001b[43mget_cosmology\u001b[49m\u001b[43m(\u001b[49m\u001b[43mbasePath_DF\u001b[49m\u001b[43m)\u001b[49m[\u001b[38;5;241m2\u001b[39m]\n",
      "File \u001b[0;32m~/arepo_package/arepo_package.py:158\u001b[0m, in \u001b[0;36mget_cosmology\u001b[0;34m(output_path)\u001b[0m\n\u001b[1;32m    156\u001b[0m \u001b[38;5;28;01mfor\u001b[39;00m name \u001b[38;5;129;01min\u001b[39;00m output_file_names:\n\u001b[1;32m    157\u001b[0m     \u001b[38;5;28;01mif\u001b[39;00m (\u001b[38;5;124m'\u001b[39m\u001b[38;5;124mgroups\u001b[39m\u001b[38;5;124m'\u001b[39m \u001b[38;5;129;01min\u001b[39;00m name) \u001b[38;5;241m&\u001b[39m (\u001b[38;5;124m'\u001b[39m\u001b[38;5;124mgroups_sub\u001b[39m\u001b[38;5;124m'\u001b[39m \u001b[38;5;129;01mnot\u001b[39;00m \u001b[38;5;129;01min\u001b[39;00m name):\n\u001b[0;32m--> 158\u001b[0m         snapshot_number\u001b[38;5;241m=\u001b[39m\u001b[38;5;28;43mint\u001b[39;49m\u001b[43m(\u001b[49m\u001b[43mname\u001b[49m\u001b[43m[\u001b[49m\u001b[38;5;241;43m7\u001b[39;49m\u001b[43m:\u001b[49m\u001b[43m]\u001b[49m\u001b[43m)\u001b[49m\n\u001b[1;32m    159\u001b[0m         header\u001b[38;5;241m=\u001b[39mil\u001b[38;5;241m.\u001b[39mgroupcat\u001b[38;5;241m.\u001b[39mloadHeader(output_path,snapshot_number)\n\u001b[1;32m    160\u001b[0m         om0\u001b[38;5;241m=\u001b[39mheader\u001b[38;5;241m.\u001b[39mget(\u001b[38;5;124m'\u001b[39m\u001b[38;5;124mOmega0\u001b[39m\u001b[38;5;124m'\u001b[39m)\n",
      "\u001b[0;31mValueError\u001b[0m: invalid literal for int() with base 10: '023_postprocessed'"
     ]
    }
   ],
   "source": [
    "arepo.get_cosmology(basePath_DF)[2]"
   ]
  },
  {
   "cell_type": "code",
   "execution_count": 18,
   "metadata": {},
   "outputs": [
    {
     "ename": "ValueError",
     "evalue": "invalid literal for int() with base 10: '023_postprocessed'",
     "output_type": "error",
     "traceback": [
      "\u001b[0;31m---------------------------------------------------------------------------\u001b[0m",
      "\u001b[0;31mValueError\u001b[0m                                Traceback (most recent call last)",
      "Cell \u001b[0;32mIn[18], line 1\u001b[0m\n\u001b[0;32m----> 1\u001b[0m \u001b[43marepo\u001b[49m\u001b[38;5;241;43m.\u001b[39;49m\u001b[43mget_cosmology\u001b[49m\u001b[43m(\u001b[49m\u001b[43mbasePath\u001b[49m\u001b[38;5;241;43m+\u001b[39;49m\u001b[43mrunname\u001b[49m\u001b[38;5;241;43m+\u001b[39;49m\u001b[38;5;124;43m'\u001b[39;49m\u001b[38;5;124;43m/\u001b[39;49m\u001b[38;5;124;43m'\u001b[39;49m\u001b[43m)\u001b[49m\n",
      "File \u001b[0;32m~/arepo_package/arepo_package.py:158\u001b[0m, in \u001b[0;36mget_cosmology\u001b[0;34m(output_path)\u001b[0m\n\u001b[1;32m    156\u001b[0m \u001b[38;5;28;01mfor\u001b[39;00m name \u001b[38;5;129;01min\u001b[39;00m output_file_names:\n\u001b[1;32m    157\u001b[0m     \u001b[38;5;28;01mif\u001b[39;00m (\u001b[38;5;124m'\u001b[39m\u001b[38;5;124mgroups\u001b[39m\u001b[38;5;124m'\u001b[39m \u001b[38;5;129;01min\u001b[39;00m name) \u001b[38;5;241m&\u001b[39m (\u001b[38;5;124m'\u001b[39m\u001b[38;5;124mgroups_sub\u001b[39m\u001b[38;5;124m'\u001b[39m \u001b[38;5;129;01mnot\u001b[39;00m \u001b[38;5;129;01min\u001b[39;00m name):\n\u001b[0;32m--> 158\u001b[0m         snapshot_number\u001b[38;5;241m=\u001b[39m\u001b[38;5;28;43mint\u001b[39;49m\u001b[43m(\u001b[49m\u001b[43mname\u001b[49m\u001b[43m[\u001b[49m\u001b[38;5;241;43m7\u001b[39;49m\u001b[43m:\u001b[49m\u001b[43m]\u001b[49m\u001b[43m)\u001b[49m\n\u001b[1;32m    159\u001b[0m         header\u001b[38;5;241m=\u001b[39mil\u001b[38;5;241m.\u001b[39mgroupcat\u001b[38;5;241m.\u001b[39mloadHeader(output_path,snapshot_number)\n\u001b[1;32m    160\u001b[0m         om0\u001b[38;5;241m=\u001b[39mheader\u001b[38;5;241m.\u001b[39mget(\u001b[38;5;124m'\u001b[39m\u001b[38;5;124mOmega0\u001b[39m\u001b[38;5;124m'\u001b[39m)\n",
      "\u001b[0;31mValueError\u001b[0m: invalid literal for int() with base 10: '023_postprocessed'"
     ]
    }
   ],
   "source": [
    "arepo.get_cosmology(basePath+runname+'/')"
   ]
  },
  {
   "cell_type": "code",
   "execution_count": 15,
   "metadata": {
    "tags": []
   },
   "outputs": [],
   "source": [
    "h = arepo.get_cosmology(basePath)[2]\n",
    "N_snaps = 32\n",
    "snaps = np.arange(0,N_snaps+1,1)"
   ]
  },
  {
   "cell_type": "code",
   "execution_count": null,
   "metadata": {},
   "outputs": [],
   "source": []
  },
  {
   "cell_type": "code",
   "execution_count": 7,
   "metadata": {
    "tags": []
   },
   "outputs": [
    {
     "name": "stdout",
     "output_type": "stream",
     "text": [
      "dict_keys(['merger_redshift', 'remnant_redshift', 'BH_ID1', 'BH_ID2', 'BH_Mass1', 'BH_Mass2', 'remnant_SubhaloID', 'remnant_SubhaloDarkMatterMass', 'remnant_SubhaloStellarMass', 'remnant_SubhaloHalfMassRadii', 'remnant_central_or_satellite', 'merger_type'])\n"
     ]
    }
   ],
   "source": [
    "merger_properties=np.load(basePath + 'merger_statistics_subhalo_remnants.npy',allow_pickle=True)[0]\n",
    "print(merger_properties.keys())\n",
    "true_merger_flag  = np.array(merger_properties['merger_type'])==1"
   ]
  },
  {
   "cell_type": "code",
   "execution_count": 8,
   "metadata": {},
   "outputs": [],
   "source": [
    "true_merger_flag  = np.array(merger_properties['merger_type'])==1\n",
    "M2 = np.array(merger_properties['BH_Mass2'])[true_merger_flag]\n",
    "M1 = np.array(merger_properties['BH_Mass1'])[true_merger_flag]"
   ]
  },
  {
   "cell_type": "code",
   "execution_count": 9,
   "metadata": {},
   "outputs": [
    {
     "data": {
      "text/plain": [
       "455"
      ]
     },
     "execution_count": 9,
     "metadata": {},
     "output_type": "execute_result"
    }
   ],
   "source": [
    "mass_ratios = np.where(M2 < M1, M2 / M1, M1 / M2)\n",
    "np.sum(mass_ratios>0.1)"
   ]
  },
  {
   "cell_type": "code",
   "execution_count": 10,
   "metadata": {
    "tags": []
   },
   "outputs": [],
   "source": [
    "def show_mergers_hist(bh_merger_properties):\n",
    "    true_merger_flag  = np.array(bh_merger_properties['merger_type'])==1\n",
    "    merger_z = np.array(bh_merger_properties['remnant_redshift'])[true_merger_flag]\n",
    "    fig,ax = plt.subplots(1,1,figsize=[5,3])\n",
    "    ax.hist(merger_z, bins=9,histtype=\"step\")\n",
    "    ax.set_xlabel(\"z\")\n",
    "    ax.set_ylabel(\"Number of mergers\")\n",
    "    ax.set_title(\"Mergers in BRAHMA\")\n",
    "    #fig.show()\n",
    "    \n",
    "    N_mergers = np.sum(true_merger_flag)\n",
    "    print(\"The number of BH mergers in this run is %d\"%(N_mergers))\n",
    "    return fig,ax"
   ]
  },
  {
   "cell_type": "code",
   "execution_count": 11,
   "metadata": {
    "tags": []
   },
   "outputs": [
    {
     "name": "stdout",
     "output_type": "stream",
     "text": [
      "The number of BH mergers in this run is 559\n"
     ]
    },
    {
     "data": {
      "image/png": "[encoded data removed]",
      "text/plain": [
       "<Figure size 500x300 with 1 Axes>"
      ]
     },
     "metadata": {},
     "output_type": "display_data"
    }
   ],
   "source": [
    "fig,ax = show_mergers_hist(merger_properties)"
   ]
  },
  {
   "cell_type": "markdown",
   "metadata": {},
   "source": [
    "These are the mergers in the run without DF - just repositioning added"
   ]
  },
  {
   "cell_type": "code",
   "execution_count": 12,
   "metadata": {
    "tags": []
   },
   "outputs": [],
   "source": [
    "def get_snapshots_to_bh_mergers(basePath):\n",
    "    \n",
    "    snap_list, z_list=arepo.get_snapshot_redshift_correspondence(basePath)\n",
    "    snap_numbers = []\n",
    "    \n",
    "    brahma_merger_data=np.load(basePath + 'merger_statistics_subhalo_remnants.npy',allow_pickle=True)[0]\n",
    "\n",
    "    for remnant_redshift in brahma_merger_data['remnant_redshift']:\n",
    "        idx = np.where(z_list == remnant_redshift)[0]\n",
    "        snap_numbers.append(snap_list[idx[0]])\n",
    "    \n",
    "    return snap_numbers"
   ]
  },
  {
   "cell_type": "code",
   "execution_count": 13,
   "metadata": {
    "tags": []
   },
   "outputs": [],
   "source": [
    "snap_mergers = get_snapshots_to_bh_mergers(basePath)\n",
    "snap_list, z_list=arepo.get_snapshot_redshift_correspondence(basePath)"
   ]
  },
  {
   "cell_type": "markdown",
   "metadata": {},
   "source": [
    "## Connecting BH merger file to treedata"
   ]
  },
  {
   "cell_type": "markdown",
   "metadata": {},
   "source": [
    "These are BRAHMA runs with the 10^5 Msolar seed, LW10 criteria, so more linent seed formation criteria"
   ]
  },
  {
   "cell_type": "code",
   "execution_count": 14,
   "metadata": {
    "tags": []
   },
   "outputs": [],
   "source": [
    "basePath_DF = '/orange/lblecha/aklantbhowmick/GAS_BASED_SEED_MODEL_UNIFORM_RUNS/L12p5n512/AREPO/output_ratio10_SFMFGM5_seed5.00_bFOF_LW10_DFD_3/'\n",
    "basePath = '/orange/lblecha/aklantbhowmick/GAS_BASED_SEED_MODEL_UNIFORM_RUNS/L12p5n512/AREPO/output_ratio10_SFMFGM5_seed5.00_bFOF_LW10_spin_rich/'"
   ]
  },
  {
   "cell_type": "code",
   "execution_count": 15,
   "metadata": {
    "tags": []
   },
   "outputs": [
    {
     "name": "stdout",
     "output_type": "stream",
     "text": [
      "Max redshift: 25\n",
      "Box length : 18.461 Mpc\n"
     ]
    }
   ],
   "source": [
    "snap_num = 0\n",
    "h = il.groupcat.loadHeader(basePath_DF, snap_num)['HubbleParam']\n",
    "Box_l = il.groupcat.loadHeader(basePath_DF,snap_num)['BoxSize']/1000/h\n",
    "redshifts  =np.array([il.groupcat.loadHeader(basePath, snap)['Redshift'] for snap in snaps])\n",
    "print(\"Max redshift: %d\"%(redshifts[0]))\n",
    "print(\"Box length : %1.3f Mpc\"%(Box_l))"
   ]
  },
  {
   "cell_type": "markdown",
   "metadata": {},
   "source": [
    "### For the DF run"
   ]
  },
  {
   "cell_type": "code",
   "execution_count": 16,
   "metadata": {
    "tags": []
   },
   "outputs": [
    {
     "name": "stdout",
     "output_type": "stream",
     "text": [
      "The number of BH mergers in this run is 2990\n"
     ]
    },
    {
     "data": {
      "text/plain": [
       "(<Figure size 500x300 with 1 Axes>,\n",
       " <Axes: title={'center': 'Mergers in BRAHMA'}, xlabel='z', ylabel='Number of mergers'>)"
      ]
     },
     "execution_count": 16,
     "metadata": {},
     "output_type": "execute_result"
    },
    {
     "data": {
      "image/png": "[encoded data removed]",
      "text/plain": [
       "<Figure size 500x300 with 1 Axes>"
      ]
     },
     "metadata": {},
     "output_type": "display_data"
    }
   ],
   "source": [
    "bh_merger_properties=np.load(basePath_DF + 'merger_statistics_subhalo_remnants.npy',allow_pickle=True)[0]\n",
    "show_mergers_hist(bh_merger_properties)"
   ]
  },
  {
   "cell_type": "code",
   "execution_count": 17,
   "metadata": {
    "tags": []
   },
   "outputs": [
    {
     "name": "stdout",
     "output_type": "stream",
     "text": [
      "dict_keys(['merger_redshift', 'remnant_redshift', 'BH_ID1', 'BH_ID2', 'BH_Mass1', 'BH_Mass2', 'remnant_SubhaloID', 'remnant_SubhaloDarkMatterMass', 'remnant_SubhaloStellarMass', 'remnant_SubhaloHalfMassRadii', 'remnant_central_or_satellite', 'merger_type'])\n",
      "There are 2990 mergers in this run\n"
     ]
    }
   ],
   "source": [
    "merger_properties=np.load(basePath_DF + 'merger_statistics_subhalo_remnants.npy',allow_pickle=True)[0]\n",
    "print(merger_properties.keys())\n",
    "true_merger_flag  = np.array(merger_properties['merger_type'])==1\n",
    "print(\"There are %d mergers in this run\"%(np.sum(true_merger_flag)))\n",
    "Nmergers = np.sum(true_merger_flag)\n",
    "true_merger_flag  = np.array(merger_properties['merger_type'])==1\n",
    "M2 = np.array(merger_properties['BH_Mass2'])[true_merger_flag]\n",
    "M1 = np.array(merger_properties['BH_Mass1'])[true_merger_flag]"
   ]
  },
  {
   "cell_type": "code",
   "execution_count": 18,
   "metadata": {
    "tags": []
   },
   "outputs": [],
   "source": [
    "snapshots_DF = get_snapshots_to_bh_mergers(basePath_DF)\n",
    "snap_list, z_list=arepo.get_snapshot_redshift_correspondence(basePath_DF)"
   ]
  },
  {
   "cell_type": "code",
   "execution_count": 19,
   "metadata": {
    "tags": []
   },
   "outputs": [],
   "source": [
    "merger_remnant_snap = []\n",
    "merger_remnant_z = np.array(merger_properties['remnant_redshift'])[true_merger_flag]\n",
    "merger_remnant_SubhaloID = np.array(merger_properties['remnant_SubhaloID'])[true_merger_flag]\n",
    "\n",
    "for remnant_redshift in merger_remnant_z:\n",
    "    idx = np.where(z_list == remnant_redshift)[0]\n",
    "    merger_remnant_snap.append(snap_list[idx[0]])"
   ]
  },
  {
   "cell_type": "code",
   "execution_count": 20,
   "metadata": {
    "tags": []
   },
   "outputs": [],
   "source": [
    "tree=h5py.File(basePath_DF+'postprocessing/tree_extended.hdf5','r')\n",
    "SubfindID=tree.get('SubfindID')[:]\n",
    "FirstProgenitorID=tree.get('FirstProgenitorID')[:]\n",
    "NextProgenitorID=tree.get('NextProgenitorID')[:]\n",
    "DescendantID=tree.get('DescendantID')[:]\n",
    "SnapNum=tree.get('SnapNum')[:]\n",
    "SubhaloID=tree.get('SubhaloID')[:]"
   ]
  },
  {
   "cell_type": "code",
   "execution_count": 21,
   "metadata": {
    "tags": []
   },
   "outputs": [],
   "source": [
    "def print_tree_details_for_bh_merger(tree,i):\n",
    "    tree_target_index = (SubfindID == merger_remnant_SubhaloID[i])&(SnapNum == merger_remnant_snap[i])\n",
    "    print(\"SubhaloID:\",SubhaloID[tree_target_index])\n",
    "    print(\"FpID:\",FirstProgenitorID[tree_target_index])\n",
    "    print(\"npID:\",NextProgenitorID[tree_target_index])\n",
    "    print(\"dID:\",DescendantID[tree_target_index])\n",
    "    print(\"snap at BH merger:\",SnapNum[tree_target_index])\n",
    "    \n",
    "def print_tree_details(tree,tree_target_index):\n",
    "\n",
    "    print(\"SubhaloID:\",SubhaloID[tree_target_index])\n",
    "    print(\"FpID:\",FirstProgenitorID[tree_target_index])\n",
    "    print(\"npID:\",NextProgenitorID[tree_target_index])\n",
    "    print(\"dID:\",DescendantID[tree_target_index])\n",
    "    print(\"snap at BH merger:\",SnapNum[tree_target_index])"
   ]
  },
  {
   "cell_type": "code",
   "execution_count": null,
   "metadata": {},
   "outputs": [
    {
     "name": "stdout",
     "output_type": "stream",
     "text": [
      "There are 2359 valid BH mergers with fpIDs != -1 and npIDs != -1\n",
      "There are 539 invalid BH mergers with fpIDs != -1 and npIDs = -1\n",
      "There are 92 invalid BH mergers with fpIDs = -1\n"
     ]
    }
   ],
   "source": [
    "valid_mergers = 0\n",
    "invalid_mergers = 0\n",
    "invalid_mergers_with_no_progenitor = 0\n",
    "mass_ratio_valid = []\n",
    "mass_ratio_invalid = []\n",
    "valid_merger_indices = []\n",
    "\n",
    "for i in range(Nmergers):\n",
    "    #print(\"Processing merger %d of %d\"%(i+1,Nmergers))\n",
    "    #tree_target_index = (SubfindID == merger_remnant_SubhaloID[i])&(SnapNum == merger_remnant_snap[i])\n",
    "    #print(i)\n",
    "    tree_target_index = np.where((SubfindID == merger_remnant_SubhaloID[i]) & (SnapNum == merger_remnant_snap[i]))\n",
    "    if len(tree_target_index[0]) != 0:\n",
    "        tree_target_index = tree_target_index[0][0]  \n",
    "        fpID = FirstProgenitorID[tree_target_index]\n",
    "        if fpID !=-1:\n",
    "            fpIndex = np.where(SubhaloID==fpID)[0][0]\n",
    "            npID = NextProgenitorID[fpIndex]\n",
    "            if npID != -1:\n",
    "                valid_mergers = valid_mergers + 1\n",
    "                valid_merger_indices.append(i)\n",
    "                #mass_ratio_valid.append(mass_ratios[i])\n",
    "            else:\n",
    "                invalid_mergers = invalid_mergers + 1\n",
    "                #mass_ratio_invalid.append(mass_ratios[i])\n",
    "        else:\n",
    "            invalid_mergers_with_no_progenitor = invalid_mergers_with_no_progenitor + 1\n",
    "\n",
    "\n",
    "print(\"There are %d valid BH mergers with fpIDs != -1 and npIDs != -1\"%(valid_mergers))\n",
    "print(\"There are %d invalid BH mergers with fpIDs != -1 and npIDs = -1\"%(invalid_mergers))\n",
    "print(\"There are %d invalid BH mergers with fpIDs = -1\"%(invalid_mergers_with_no_progenitor))"
   ]
  },
  {
   "cell_type": "markdown",
   "metadata": {},
   "source": [
    "### Valid merger properties"
   ]
  },
  {
   "cell_type": "code",
   "execution_count": 44,
   "metadata": {},
   "outputs": [],
   "source": [
    "valid_merger_properties = {}\n",
    "for key in merger_properties.keys():\n",
    "    valid_merger_properties[key] = np.array(merger_properties[key])[true_merger_flag][valid_merger_indices]"
   ]
  },
  {
   "cell_type": "code",
   "execution_count": null,
   "metadata": {},
   "outputs": [],
   "source": [
    "merger_file_loc = '/home/pranavsatheesh/host_galaxies/data/merger_files/'\n",
    "np.save(merger_file_loc + 'brahma_merger_file_output_ratio10_SFMFGM5_seed5.00_bFOF_LW10_DFD_3.npy',valid_merger_properties)"
   ]
  },
  {
   "cell_type": "code",
   "execution_count": 5,
   "metadata": {},
   "outputs": [],
   "source": [
    "merger_file_loc = '/home/pranavsatheesh/host_galaxies/data/merger_files/'\n",
    "merger_prop = np.load(merger_file_loc + 'brahma_merger_file_output_ratio10_SFMFGM5_seed5.00_bFOF_LW10_DFD_3.npy',allow_pickle=True).item()"
   ]
  },
  {
   "cell_type": "code",
   "execution_count": 6,
   "metadata": {},
   "outputs": [
    {
     "data": {
      "text/plain": [
       "dict_keys(['merger_redshift', 'remnant_redshift', 'BH_ID1', 'BH_ID2', 'BH_Mass1', 'BH_Mass2', 'remnant_SubhaloID', 'remnant_SubhaloDarkMatterMass', 'remnant_SubhaloStellarMass', 'remnant_SubhaloHalfMassRadii', 'remnant_central_or_satellite', 'merger_type'])"
      ]
     },
     "execution_count": 6,
     "metadata": {},
     "output_type": "execute_result"
    }
   ],
   "source": [
    "merger_prop.keys()"
   ]
  },
  {
   "cell_type": "code",
   "execution_count": 8,
   "metadata": {},
   "outputs": [
    {
     "data": {
      "text/plain": [
       "2359"
      ]
     },
     "execution_count": 8,
     "metadata": {},
     "output_type": "execute_result"
    }
   ],
   "source": [
    "len(np.logical_and(np.array(merger_prop['merger_type']) == 1,\n",
    "                                           np.array(merger_prop['remnant_SubhaloStellarMass']) > 0))"
   ]
  },
  {
   "cell_type": "code",
   "execution_count": 77,
   "metadata": {},
   "outputs": [
    {
     "data": {
      "text/plain": [
       "(array([1449.,  380.,  160.,  111.,   67.,   47.,   42.,   19.,   24.,\n",
       "          60.]),\n",
       " array([5.47039615, 5.79620761, 6.12201908, 6.44783054, 6.77364201,\n",
       "        7.09945347, 7.42526493, 7.7510764 , 8.07688786, 8.40269933,\n",
       "        8.72851079]),\n",
       " [<matplotlib.patches.Polygon at 0x150e4700f7f0>])"
      ]
     },
     "execution_count": 77,
     "metadata": {},
     "output_type": "execute_result"
    },
    {
     "data": {
      "image/png": "[encoded data removed]",
      "text/plain": [
       "<Figure size 640x480 with 1 Axes>"
      ]
     },
     "metadata": {},
     "output_type": "display_data"
    }
   ],
   "source": [
    "plt.hist(np.log10(merger_prop['BH_Mass1']* 1e10 / h + merger_prop['BH_Mass2']* 1e10 / h),histtype=\"step\")"
   ]
  },
  {
   "cell_type": "code",
   "execution_count": null,
   "metadata": {},
   "outputs": [],
   "source": [
    "'remnant_SubhaloStellarMass'"
   ]
  },
  {
   "cell_type": "code",
   "execution_count": 70,
   "metadata": {},
   "outputs": [
    {
     "data": {
      "text/plain": [
       "(array([585., 593., 517., 331., 188.,  82.,  41.,  14.,   6.,   2.]),\n",
       " array([ 0.        ,  1.61669574,  3.23339149,  4.85008723,  6.46678297,\n",
       "         8.08347872,  9.70017446, 11.3168702 , 12.93356595, 14.55026169,\n",
       "        16.16695743]),\n",
       " [<matplotlib.patches.Polygon at 0x150e4bb24e20>])"
      ]
     },
     "execution_count": 70,
     "metadata": {},
     "output_type": "execute_result"
    },
    {
     "data": {
      "image/png": "[encoded data removed]",
      "text/plain": [
       "<Figure size 640x480 with 1 Axes>"
      ]
     },
     "metadata": {},
     "output_type": "display_data"
    }
   ],
   "source": [
    "plt.hist(merger_prop['merger_redshift'],histtype=\"step\")"
   ]
  },
  {
   "cell_type": "code",
   "execution_count": 43,
   "metadata": {},
   "outputs": [
    {
     "data": {
      "text/plain": [
       "2359"
      ]
     },
     "execution_count": 43,
     "metadata": {},
     "output_type": "execute_result"
    }
   ],
   "source": [
    "len(valid_merger_indices)"
   ]
  },
  {
   "cell_type": "code",
   "execution_count": 22,
   "metadata": {},
   "outputs": [],
   "source": [
    "snap_list, z_list=arepo.get_snapshot_redshift_correspondence(basePath_DF)\n",
    "def get_z_from_snap(snap_input):\n",
    "    z_output = z_list[np.where(snap_list==snap_input)[0][0]]\n",
    "    return z_output"
   ]
  },
  {
   "cell_type": "code",
   "execution_count": 23,
   "metadata": {},
   "outputs": [],
   "source": [
    "# find all cases where FpIDs = -1 \n",
    "fpID_minus_1_count = 0\n",
    "fpID_minus_1_npID_not_minus_1_count = 0\n",
    "fpID_not_minus1_but_npID_minus1_count = 0\n",
    "\n",
    "\n",
    "fpIDs_merger = []\n",
    "npIDs_merger = []\n",
    "snap_subhalo_merger = []\n",
    "z_subhalo_merger = []\n",
    "\n",
    "\n",
    "snap_subhalo_remnant = []\n",
    "z_subhalo_remnant = []\n",
    "snap_bh_merger = []\n",
    "z_bh_merger = []\n",
    "remnant_subfind_bh_merger = []\n",
    "\n",
    "no_merger = 0\n",
    "no_merger_index = []\n",
    "\n",
    "bh_and_subhalo_merger_snap_list = {'subhalo_mrg_remnant':[],'bh_merger':[],'index':[]}\n",
    "bh_and_subhalo_merger_z_list = {'subhalo_mrg_remnant':[],'bh_merger':[],'index':[]}\n",
    "\n",
    "for i in range(Nmergers):\n",
    "    #print(\"Processing merger %d of %d\"%(i+1,Nmergers))\n",
    "    #tree_target_index = (SubfindID == merger_remnant_SubhaloID[i])&(SnapNum == merger_remnant_snap[i])\n",
    "    #print(i)\n",
    "    tree_target_index = np.where((SubfindID == merger_remnant_SubhaloID[i]) & (SnapNum == merger_remnant_snap[i]))\n",
    "    if len(tree_target_index[0]) != 0:\n",
    "        tree_target_index = tree_target_index[0][0]  \n",
    "        fpID = FirstProgenitorID[tree_target_index]\n",
    "        \n",
    "        if fpID ==-1:\n",
    "            fpIDs_merger.append(fpID)\n",
    "            fpID_minus_1_count += 1\n",
    "            npID = NextProgenitorID[tree_target_index]\n",
    "\n",
    "            new_target_index = tree_target_index\n",
    "            if(npID != -1):\n",
    "                #fpID_minus_1_npID_not_minus_1_count += 1\n",
    "                #npIDs_merger.append(npID)\n",
    "                \n",
    "                #the subhalo is merging with the next progenitor in this snapshot. The descendant subhalo is the merger remnant.\n",
    "                descID = DescendantID[new_target_index]\n",
    "                if descID == -1:\n",
    "                    print(i,\"confused!\")\n",
    "                else:\n",
    "                    subhalo_remnant_index = np.where(SubhaloID==descID)[0][0]\n",
    "\n",
    "                    bh_and_subhalo_merger_snap_list['subhalo_mrg_remnant'].append(SnapNum[subhalo_remnant_index])\n",
    "                    bh_and_subhalo_merger_snap_list['bh_merger'].append(merger_remnant_snap[i])\n",
    "                    bh_and_subhalo_merger_snap_list['index'].append(i)\n",
    "\n",
    "                    bh_and_subhalo_merger_z_list['subhalo_mrg_remnant'].append(get_z_from_snap(SnapNum[subhalo_remnant_index]))\n",
    "                    bh_and_subhalo_merger_z_list['bh_merger'].append(get_z_from_snap(merger_remnant_snap[i]))\n",
    "                    bh_and_subhalo_merger_z_list['index'].append(i)\n",
    "\n",
    "                    # snap_subhalo_remnant.append(SnapNum[subhalo_remnant_index])\n",
    "                    # z_subhalo_remnant.append(get_z_from_snap(SnapNum[subhalo_remnant_index]))\n",
    "                    # snap_bh_merger.append(merger_remnant_snap[i])\n",
    "                    # z_bh_merger.append(get_z_from_snap(merger_remnant_snap[i]))\n",
    "                    # remnant_subfind_bh_merger.append(merger_remnant_SubhaloID[i])\n",
    "                    #print(i,SnapNum[subhalo_remnant_index],merger_remnant_snap[i])\n",
    "                #snap_subhalo_merger.append(SnapNum[tree_target_index])\n",
    "                #z_subhalo_merger.append(get_z_from_snap(SnapNum[tree_target_index]))\n",
    "\n",
    "            else:\n",
    "                #there is no next progenitor for the target subhalo. Hence, we will look at the descendant subhalo\n",
    "                #and see if it has a next progenitor\n",
    "                new_target_index = tree_target_index\n",
    "\n",
    "                while npID==-1:\n",
    "                    descID = DescendantID[new_target_index]\n",
    "                    if descID == -1:\n",
    "                        #no descendant found for this merger\n",
    "                        #print(\"No descendant found for this merger\")\n",
    "                        no_merger += 1\n",
    "                        no_merger_index.append(i)\n",
    "                        break\n",
    "                    else:\n",
    "                        new_target_index = np.where(SubhaloID==descID)[0][0]\n",
    "                        npID = NextProgenitorID[new_target_index]\n",
    "                \n",
    "                #npIDs_merger.append(npID)\n",
    "\n",
    "                descID = DescendantID[new_target_index]\n",
    "                if descID!=-1:\n",
    "                \n",
    "                    subhalo_remnant_index = np.where(SubhaloID==descID)[0][0]\n",
    "                    bh_and_subhalo_merger_snap_list['subhalo_mrg_remnant'].append(SnapNum[subhalo_remnant_index])\n",
    "                    bh_and_subhalo_merger_snap_list['bh_merger'].append(merger_remnant_snap[i])\n",
    "                    bh_and_subhalo_merger_snap_list['index'].append(i)\n",
    "\n",
    "                    bh_and_subhalo_merger_z_list['subhalo_mrg_remnant'].append(get_z_from_snap(SnapNum[subhalo_remnant_index]))\n",
    "                    bh_and_subhalo_merger_z_list['bh_merger'].append(get_z_from_snap(merger_remnant_snap[i]))\n",
    "                    bh_and_subhalo_merger_z_list['index'].append(i)\n",
    "\n",
    "                    # snap_subhalo_remnant.append(SnapNum[subhalo_remnant_index])\n",
    "                    # z_subhalo_remnant.append(get_z_from_snap(SnapNum[subhalo_remnant_index]))\n",
    "                    # snap_bh_merger.append(merger_remnant_snap[i])\n",
    "                    # z_bh_merger.append(get_z_from_snap(merger_remnant_snap[i]))\n",
    "\n",
    "\n",
    "                        #z_subhalo_merger.append(get_z_from_snap(SnapNum[new_target_index]))\n",
    "\n",
    "        else:\n",
    "            #check if the npID is minus -1 at fp\n",
    "            fpIndex = np.where(SubhaloID==fpID)[0][0]\n",
    "            npID = NextProgenitorID[fpIndex]\n",
    "            \n",
    "            if npID == -1:\n",
    "                #There is only one progenitor! Maybe there is a next progenitor merging with it on the same snapshot?\n",
    "                npID = NextProgenitorID[tree_target_index]\n",
    "                new_target_index = tree_target_index\n",
    "                #fpID_not_minus1_but_npID_minus1_count += 1\n",
    "                while npID==-1:\n",
    "                    descID = DescendantID[new_target_index]\n",
    "                    if descID == -1:\n",
    "                        #print(\"No descendant found for this merger\")\n",
    "                        no_merger += 1\n",
    "                        no_merger_index.append(i)\n",
    "                        break\n",
    "                    else:\n",
    "                        new_target_index = np.where(SubhaloID==descID)[0][0]\n",
    "                        npID = NextProgenitorID[new_target_index]\n",
    "\n",
    "                descID = DescendantID[new_target_index]\n",
    "                if descID!=-1:\n",
    "\n",
    "                    subhalo_remnant_index = np.where(SubhaloID==descID)[0][0]\n",
    "                    bh_and_subhalo_merger_snap_list['subhalo_mrg_remnant'].append(SnapNum[subhalo_remnant_index])\n",
    "                    bh_and_subhalo_merger_snap_list['bh_merger'].append(merger_remnant_snap[i])\n",
    "                    bh_and_subhalo_merger_snap_list['index'].append(i)\n",
    "\n",
    "                    bh_and_subhalo_merger_z_list['subhalo_mrg_remnant'].append(get_z_from_snap(SnapNum[subhalo_remnant_index]))\n",
    "                    bh_and_subhalo_merger_z_list['bh_merger'].append(get_z_from_snap(merger_remnant_snap[i]))\n",
    "                    bh_and_subhalo_merger_z_list['index'].append(i)\n",
    "\n",
    "                    # snap_subhalo_remnant.append(SnapNum[subhalo_remnant_index])\n",
    "                    # z_subhalo_remnant.append(get_z_from_snap(SnapNum[subhalo_remnant_index]))\n",
    "                    # snap_bh_merger.append(merger_remnant_snap[i])\n",
    "                    # z_bh_merger.append(get_z_from_snap(merger_remnant_snap[i]))\n",
    "\n",
    "\n",
    "                # snap_bh_merger.append(merger_remnant_snap[i])\n",
    "                # z_bh_merger.append(get_z_from_snap(merger_remnant_snap[i]))\n",
    "                # remnant_subfind_bh_merger.append(merger_remnant_SubhaloID[i])\n",
    "                # new_target_index = tree_target_index\n",
    "                # while npID==-1:\n",
    "                #     descID = DescendantID[new_target_index]\n",
    "                #     if descID == -1:\n",
    "                #         #print(\"No descendant found for this merger\")\n",
    "                #         no_merger += 1\n",
    "                #         no_merger_index.append(i)\n",
    "                #         break\n",
    "                #     else:\n",
    "                #         new_target_index = np.where(SubhaloID==descID)[0][0]\n",
    "                #         npID = NextProgenitorID[new_target_index]\n",
    "                # npIDs_merger.append(npID)\n",
    "                # snap_subhalo_merger.append(SnapNum[new_target_index])\n",
    "                # z_subhalo_merger.append(get_z_from_snap(SnapNum[tree_target_index]))\n",
    "\n",
    "# print(\"There are %d BH mergers with fpIDs = -1\"%(fpID_minus_1_count))\n",
    "# print(\"There are %d BH mergers with fpIDs = -1 and npIDs != -1\"%(fpID_minus_1_npID_not_minus_1_count))   \n",
    "# print(\"There are %d BH mergers with fpIDs != -1 but npIDs = -1\"%(fpID_not_minus1_but_npID_minus1_count))"
   ]
  },
  {
   "cell_type": "code",
   "execution_count": 26,
   "metadata": {},
   "outputs": [
    {
     "name": "stdout",
     "output_type": "stream",
     "text": [
      "(array([132993]),)\n",
      "132994\n",
      "-1\n",
      "snap_bh_merger 31\n",
      "z_bh_merger 0.099\n",
      "132992\n",
      "-1\n",
      "132993\n",
      "snap_subhalo_merger is 32.000\n",
      "z_subhalo_merger is 9.940e-02\n",
      "-1\n",
      "No descendant found for this merger\n"
     ]
    }
   ],
   "source": [
    "found = False\n",
    "tree_target_index = np.where((SubfindID == merger_remnant_SubhaloID[6]) & (SnapNum == merger_remnant_snap[6]))\n",
    "print(tree_target_index)\n",
    "if len(tree_target_index[0]) != 0:\n",
    "    tree_target_index = tree_target_index[0][0]  \n",
    "    fpID = FirstProgenitorID[tree_target_index]\n",
    "    print(fpID)\n",
    "  \n",
    "    fpIndex = np.where(SubhaloID==fpID)[0][0]\n",
    "    npID = NextProgenitorID[fpIndex]\n",
    "    print(npID)\n",
    "    if npID == -1:\n",
    "    #             fpID_not_minus1_but_npID_minus1_count += 1\n",
    "        print(\"snap_bh_merger %d\"%(merger_remnant_snap[6]))\n",
    "        print(\"z_bh_merger %2.3f\"%(get_z_from_snap(merger_remnant_snap[6])))\n",
    "    #             remnant_subfind_bh_merger.append(merger_remnant_SubhaloID[i])\n",
    "\n",
    "        new_target_index = tree_target_index\n",
    "        while npID==-1:\n",
    "            descID = DescendantID[new_target_index]\n",
    "            print(descID)\n",
    "            if descID == -1:\n",
    "                print(\"No descendant found for this merger\")\n",
    "                break\n",
    "    #                     no_merger += 1\n",
    "    #                     no_merger_index.append(i)\n",
    "                \n",
    "            else:\n",
    "                new_target_index = np.where(SubhaloID==descID)[0][0]\n",
    "                npID = NextProgenitorID[new_target_index]\n",
    "    #             npIDs_merger.append(npID)\n",
    "                print(npID)\n",
    "                print(FirstProgenitorID[new_target_index])\n",
    "                print(\"snap_subhalo_merger is %3.3f\"%(SnapNum[new_target_index]))\n",
    "                print(\"z_subhalo_merger is %3.3e\"%(get_z_from_snap(SnapNum[tree_target_index])))\n",
    "            if found:\n",
    "                pass"
   ]
  },
  {
   "cell_type": "code",
   "execution_count": 27,
   "metadata": {},
   "outputs": [],
   "source": [
    "snap_diff = np.array(bh_and_subhalo_merger_snap_list['subhalo_mrg_remnant']) - np.array(bh_and_subhalo_merger_snap_list['bh_merger'])"
   ]
  },
  {
   "cell_type": "code",
   "execution_count": 82,
   "metadata": {},
   "outputs": [
    {
     "data": {
      "image/png": "[encoded data removed]",
      "text/plain": [
       "<Figure size 640x480 with 1 Axes>"
      ]
     },
     "metadata": {},
     "output_type": "display_data"
    }
   ],
   "source": [
    "snap_diff_x = np.arange(0,15,1)\n",
    "snap_diff_count = np.histogram(snap_diff,bins=snap_diff_x)\n",
    "#plt.step(snap_diff_x[:-1],snap_diff_count[0],where='post')\n",
    "plt.hist(snap_diff, bins=snap_diff_x,histtype=\"step\")\n",
    "plt.xticks(snap_diff_x)\n",
    "plt.title(\"Difference in snapshots between BH merger and subhalo merger remnant\")\n",
    "plt.xlabel(\"$\\Delta s$\")\n",
    "plt.ylabel(\"N\")\n",
    "plt.show()"
   ]
  },
  {
   "cell_type": "code",
   "execution_count": 83,
   "metadata": {},
   "outputs": [
    {
     "data": {
      "image/png": "[encoded data removed]",
      "text/plain": [
       "<Figure size 640x480 with 1 Axes>"
      ]
     },
     "metadata": {},
     "output_type": "display_data"
    }
   ],
   "source": [
    "z_diff = np.array(bh_and_subhalo_merger_z_list['subhalo_mrg_remnant']) - np.array(bh_and_subhalo_merger_z_list['bh_merger'])\n",
    "plt.hist(z_diff, bins=10,histtype=\"step\")\n",
    "plt.title(\"Difference in redshift between BH merger and subhalo merger remnant\")\n",
    "plt.xlabel(\"$\\Delta z$\")\n",
    "plt.ylabel(\"N\")\n",
    "plt.show()"
   ]
  },
  {
   "cell_type": "code",
   "execution_count": 118,
   "metadata": {},
   "outputs": [
    {
     "data": {
      "text/plain": [
       "Text(0.5, 0.98, 'Difference in snapshot(redshift) between BH merger and subhalo merger remnant')"
      ]
     },
     "execution_count": 118,
     "metadata": {},
     "output_type": "execute_result"
    },
    {
     "data": {
      "image/png": "[encoded data removed]",
      "text/plain": [
       "<Figure size 1500x600 with 2 Axes>"
      ]
     },
     "metadata": {},
     "output_type": "display_data"
    }
   ],
   "source": [
    "fig,axes = plt.subplots(1,2,figsize=[15,6])\n",
    "\n",
    "snap_diff_x = np.arange(0,15,1)\n",
    "snap_diff_count = np.histogram(snap_diff,bins=snap_diff_x)\n",
    "#plt.step(snap_diff_x[:-1],snap_diff_count[0],where='post')\n",
    "axes[0].hist(snap_diff, bins=snap_diff_x,histtype=\"step\")\n",
    "axes[0].set_xticks(snap_diff_x)\n",
    "#axes[0].set_title(\"Difference in snapshots between BH merger and subhalo merger remnant\")\n",
    "axes[0].set_xlabel(\"$\\Delta s$\",fontsize=16)\n",
    "axes[0].set_ylabel(\"N\",fontsize=16)\n",
    "axes[0].tick_params(axis='both', labelsize=16)\n",
    "\n",
    "z_diff = np.array(bh_and_subhalo_merger_z_list['subhalo_mrg_remnant']) - np.array(bh_and_subhalo_merger_z_list['bh_merger'])\n",
    "axes[1].hist(z_diff, bins=np.arange(-7,1,1),histtype=\"step\")\n",
    "axes[1].tick_params(axis='both', labelsize=16)\n",
    "axes[1].set_xticks(np.arange(-7,1,1))\n",
    "axes[1].set_xlabel(\"$\\Delta z$\",fontsize=16)\n",
    "axes[1].set_ylabel(\"N\",fontsize=16)\n",
    "\n",
    "\n",
    "fig.suptitle(\"Difference in snapshot(redshift) between BH merger and subhalo merger remnant\",fontsize=16)"
   ]
  },
  {
   "cell_type": "code",
   "execution_count": 81,
   "metadata": {},
   "outputs": [
    {
     "data": {
      "image/png": "[encoded data removed]",
      "text/plain": [
       "<Figure size 640x480 with 1 Axes>"
      ]
     },
     "metadata": {},
     "output_type": "display_data"
    }
   ],
   "source": [
    "plt.hist(np.array(snap_subhalo_merger)-np.array(snap_bh_merger), histtype=\"step\", bins=8)\n",
    "plt.xticks(np.arange(0, 20, 2), fontsize=16)\n",
    "plt.yticks(fontsize=16)\n",
    "plt.title(\"Difference in snapshots between subhalo and BH merger\")\n",
    "plt.xlabel(\"$\\\\Delta s$\", fontsize=16)\n",
    "plt.ylabel(\"Count\", fontsize=16)\n",
    "plt.show()"
   ]
  },
  {
   "cell_type": "code",
   "execution_count": null,
   "metadata": {},
   "outputs": [],
   "source": []
  },
  {
   "cell_type": "code",
   "execution_count": null,
   "metadata": {},
   "outputs": [],
   "source": []
  },
  {
   "cell_type": "markdown",
   "metadata": {},
   "source": [
    "### For the run with repositioning"
   ]
  },
  {
   "cell_type": "code",
   "execution_count": 48,
   "metadata": {},
   "outputs": [
    {
     "name": "stdout",
     "output_type": "stream",
     "text": [
      "The number of BH mergers in this run is 559\n"
     ]
    },
    {
     "data": {
      "text/plain": [
       "(<Figure size 500x300 with 1 Axes>,\n",
       " <Axes: title={'center': 'Mergers in BRAHMA'}, xlabel='z', ylabel='Number of mergers'>)"
      ]
     },
     "execution_count": 48,
     "metadata": {},
     "output_type": "execute_result"
    },
    {
     "data": {
      "image/png": "[encoded data removed]",
      "text/plain": [
       "<Figure size 500x300 with 1 Axes>"
      ]
     },
     "metadata": {},
     "output_type": "display_data"
    }
   ],
   "source": [
    "bh_merger_properties=np.load(basePath + 'merger_statistics_subhalo_remnants.npy',allow_pickle=True)[0]\n",
    "show_mergers_hist(bh_merger_properties)\n"
   ]
  },
  {
   "cell_type": "code",
   "execution_count": 49,
   "metadata": {},
   "outputs": [
    {
     "name": "stdout",
     "output_type": "stream",
     "text": [
      "dict_keys(['merger_redshift', 'remnant_redshift', 'BH_ID1', 'BH_ID2', 'BH_Mass1', 'BH_Mass2', 'remnant_SubhaloID', 'remnant_SubhaloDarkMatterMass', 'remnant_SubhaloStellarMass', 'remnant_SubhaloHalfMassRadii', 'remnant_central_or_satellite', 'merger_type'])\n",
      "There are 559 mergers in this run\n"
     ]
    }
   ],
   "source": [
    "merger_properties=np.load(basePath + 'merger_statistics_subhalo_remnants.npy',allow_pickle=True)[0]\n",
    "print(merger_properties.keys())\n",
    "true_merger_flag  = np.array(merger_properties['merger_type'])==1\n",
    "print(\"There are %d mergers in this run\"%(np.sum(true_merger_flag)))\n",
    "Nmergers = np.sum(true_merger_flag)\n",
    "\n",
    "snap_list, z_list=arepo.get_snapshot_redshift_correspondence(basePath)\n",
    "\n",
    "snapshots = get_snapshots_to_bh_mergers(basePath)\n",
    "merger_remnant_snap = []\n",
    "merger_remnant_z = np.array(merger_properties['remnant_redshift'])[true_merger_flag]\n",
    "merger_remnant_SubhaloID = np.array(merger_properties['remnant_SubhaloID'])[true_merger_flag]\n",
    "\n",
    "for remnant_redshift in merger_remnant_z:\n",
    "    idx = np.where(z_list == remnant_redshift)[0]\n",
    "    merger_remnant_snap.append(snap_list[idx[0]])"
   ]
  },
  {
   "cell_type": "code",
   "execution_count": 50,
   "metadata": {},
   "outputs": [],
   "source": [
    "tree=h5py.File(basePath+'postprocessing/tree_extended.hdf5','r')\n",
    "SubfindID=tree.get('SubfindID')[:]\n",
    "FirstProgenitorID=tree.get('FirstProgenitorID')[:]\n",
    "NextProgenitorID=tree.get('NextProgenitorID')[:]\n",
    "DescendantID=tree.get('DescendantID')[:]\n",
    "SnapNum=tree.get('SnapNum')[:]\n",
    "SubhaloID=tree.get('SubhaloID')[:]"
   ]
  },
  {
   "cell_type": "code",
   "execution_count": 51,
   "metadata": {},
   "outputs": [
    {
     "name": "stdout",
     "output_type": "stream",
     "text": [
      "There are 34 BH mergers with fpIDs = -1\n",
      "There are 1 BH mergers with fpIDs = -1 and npIDs != -1\n",
      "There are 381 BH mergers with fpIDs != -1 but npIDs = -1\n"
     ]
    }
   ],
   "source": [
    "# find all cases where FpIDs = -1 \n",
    "fpID_minus_1_count = 0\n",
    "fpID_minus_1_npID_not_minus_1_count = 0\n",
    "fpID_not_minus1_but_npID_minus1_count = 0\n",
    "\n",
    "\n",
    "fpIDs_merger = []\n",
    "npIDs_merger = []\n",
    "snap_subhalo_merger = []\n",
    "snap_bh_merger = []\n",
    "remnant_subfind_bh_merger = []\n",
    "\n",
    "no_merger = 0\n",
    "\n",
    "\n",
    "for i in range(Nmergers):\n",
    "    #print(\"Processing merger %d of %d\"%(i+1,Nmergers))\n",
    "    #tree_target_index = (SubfindID == merger_remnant_SubhaloID[i])&(SnapNum == merger_remnant_snap[i])\n",
    "    #print(i)\n",
    "    tree_target_index = np.where((SubfindID == merger_remnant_SubhaloID[i]) & (SnapNum == merger_remnant_snap[i]))\n",
    "    if len(tree_target_index[0]) != 0:\n",
    "        tree_target_index = tree_target_index[0][0]  \n",
    "        fpID = FirstProgenitorID[tree_target_index]\n",
    "        if fpID ==-1:\n",
    "            fpIDs_merger.append(fpID)\n",
    "            fpID_minus_1_count += 1\n",
    "            npID = NextProgenitorID[tree_target_index]\n",
    "            snap_bh_merger.append(merger_remnant_snap[i])\n",
    "            remnant_subfind_bh_merger.append(merger_remnant_SubhaloID[i])\n",
    "            if(npID != -1):\n",
    "                fpID_minus_1_npID_not_minus_1_count += 1\n",
    "                npIDs_merger.append(npID)\n",
    "                snap_subhalo_merger.append(SnapNum[tree_target_index])\n",
    "            else:\n",
    "                new_target_index = tree_target_index\n",
    "                while npID==-1:\n",
    "                    descID = DescendantID[new_target_index]\n",
    "                    if descID == -1:\n",
    "                        #print(\"No descendant found for this merger\")\n",
    "                        no_merger += 1\n",
    "                        break\n",
    "                    else:\n",
    "                        new_target_index = np.where(SubhaloID==descID)[0][0]\n",
    "                        npID = NextProgenitorID[new_target_index]\n",
    "                npIDs_merger.append(npID)\n",
    "                snap_subhalo_merger.append(SnapNum[new_target_index])\n",
    "\n",
    "        else:\n",
    "            #check if the npID is minus -1 at fp\n",
    "            fpIndex = np.where(SubhaloID==fpID)[0][0]\n",
    "            npID = NextProgenitorID[fpIndex]\n",
    "            if npID == -1:\n",
    "                fpID_not_minus1_but_npID_minus1_count += 1\n",
    "                snap_bh_merger.append(merger_remnant_snap[i])\n",
    "                remnant_subfind_bh_merger.append(merger_remnant_SubhaloID[i])\n",
    "                new_target_index = tree_target_index\n",
    "                while npID==-1:\n",
    "                    descID = DescendantID[new_target_index]\n",
    "                    if descID == -1:\n",
    "                        #print(\"No descendant found for this merger\")\n",
    "                        no_merger += 1\n",
    "                        break\n",
    "                    else:\n",
    "                        new_target_index = np.where(SubhaloID==descID)[0][0]\n",
    "                        npID = NextProgenitorID[new_target_index]\n",
    "                npIDs_merger.append(npID)\n",
    "                snap_subhalo_merger.append(SnapNum[new_target_index])\n",
    "\n",
    "print(\"There are %d BH mergers with fpIDs = -1\"%(fpID_minus_1_count))\n",
    "print(\"There are %d BH mergers with fpIDs = -1 and npIDs != -1\"%(fpID_minus_1_npID_not_minus_1_count))   \n",
    "print(\"There are %d BH mergers with fpIDs != -1 but npIDs = -1\"%(fpID_not_minus1_but_npID_minus1_count))"
   ]
  },
  {
   "cell_type": "code",
   "execution_count": 54,
   "metadata": {},
   "outputs": [
    {
     "name": "stdout",
     "output_type": "stream",
     "text": [
      "There are 134 valid BH mergers with fpIDs != -1 and npIDs != -1\n",
      "There are 381 invalid BH mergers with fpIDs != -1 and npIDs = -1\n"
     ]
    }
   ],
   "source": [
    "valid_mergers = 0\n",
    "invalid_mergers = 0\n",
    "mass_ratio_valid = []\n",
    "mass_ratio_invalid = []\n",
    "\n",
    "for i in range(Nmergers):\n",
    "    #print(\"Processing merger %d of %d\"%(i+1,Nmergers))\n",
    "    #tree_target_index = (SubfindID == merger_remnant_SubhaloID[i])&(SnapNum == merger_remnant_snap[i])\n",
    "    #print(i)\n",
    "    tree_target_index = np.where((SubfindID == merger_remnant_SubhaloID[i]) & (SnapNum == merger_remnant_snap[i]))\n",
    "    if len(tree_target_index[0]) != 0:\n",
    "        tree_target_index = tree_target_index[0][0]  \n",
    "        fpID = FirstProgenitorID[tree_target_index]\n",
    "        if fpID !=-1:\n",
    "            fpIndex = np.where(SubhaloID==fpID)[0][0]\n",
    "            npID = NextProgenitorID[fpIndex]\n",
    "            if npID != -1:\n",
    "                valid_mergers = valid_mergers + 1\n",
    "                #mass_ratio_valid.append(mass_ratios[i])\n",
    "            else:\n",
    "                invalid_mergers = invalid_mergers + 1\n",
    "                #mass_ratio_invalid.append(mass_ratios[i])\n",
    "\n",
    "\n",
    "print(\"There are %d valid BH mergers with fpIDs != -1 and npIDs != -1\"%(valid_mergers))\n",
    "print(\"There are %d invalid BH mergers with fpIDs != -1 and npIDs = -1\"%(invalid_mergers))"
   ]
  },
  {
   "cell_type": "code",
   "execution_count": 52,
   "metadata": {},
   "outputs": [
    {
     "data": {
      "image/png": "[encoded data removed]",
      "text/plain": [
       "<Figure size 640x480 with 1 Axes>"
      ]
     },
     "metadata": {},
     "output_type": "display_data"
    }
   ],
   "source": [
    "plt.hist(np.array(snap_subhalo_merger)-np.array(snap_bh_merger),histtype=\"step\",bins=8)\n",
    "plt.xticks(np.arange(0,20,2))\n",
    "plt.title(\"Difference in snapshots between subhalo and BH merger\")\n",
    "plt.xlabel(\"$\\Delta s$\")\n",
    "plt.show()"
   ]
  },
  {
   "cell_type": "markdown",
   "metadata": {},
   "source": [
    "## fpID is equal to -1\n",
    "The subhalo containing the BHs have no progenitors which means the BHs have merged but the subhalo hasn't. Look for the next progenitor of this subhalo and the descendent of them would be the post merger subhalo."
   ]
  },
  {
   "cell_type": "code",
   "execution_count": 26,
   "metadata": {
    "tags": []
   },
   "outputs": [
    {
     "name": "stdout",
     "output_type": "stream",
     "text": [
      "SubhaloID: [300000031000000004]\n",
      "FpID: [-1]\n",
      "npID: [300000031000000005]\n",
      "dID: [300000031000000003]\n",
      "snap at BH merger: [21]\n"
     ]
    }
   ],
   "source": [
    "print_tree_details_for_bh_merger(tree,27)"
   ]
  },
  {
   "cell_type": "markdown",
   "metadata": {},
   "source": [
    "In this case the npID is not -1 and therefore the merger is happening right here and the descendant is the post merger subhalo. "
   ]
  },
  {
   "cell_type": "code",
   "execution_count": 27,
   "metadata": {
    "tags": []
   },
   "outputs": [
    {
     "name": "stdout",
     "output_type": "stream",
     "text": [
      "SubhaloID: 300000031000000003\n",
      "FpID: 300000031000000004\n",
      "npID: -1\n",
      "dID: 300000031000000002\n",
      "snap at BH merger: 22\n"
     ]
    }
   ],
   "source": [
    "print_tree_details(tree,np.where(SubhaloID==300000031000000003)[0][0])"
   ]
  },
  {
   "cell_type": "code",
   "execution_count": 28,
   "metadata": {},
   "outputs": [
    {
     "data": {
      "text/plain": [
       "array([184212])"
      ]
     },
     "execution_count": 28,
     "metadata": {},
     "output_type": "execute_result"
    }
   ],
   "source": [
    "np.where((SubfindID == merger_remnant_SubhaloID[529]) & (SnapNum == merger_remnant_snap[529]))[0]"
   ]
  },
  {
   "cell_type": "code",
   "execution_count": 29,
   "metadata": {},
   "outputs": [
    {
     "name": "stdout",
     "output_type": "stream",
     "text": [
      "There are 198 BH mergers with fpIDs = -1\n",
      "There are 20 BH mergers with fpIDs = -1 and npIDs != -1\n",
      "There are 2268 BH mergers with fpIDs != -1 but npIDs = -1\n"
     ]
    }
   ],
   "source": [
    "# find all cases where FpIDs = -1 \n",
    "fpID_minus_1_count = 0\n",
    "fpID_minus_1_npID_not_minus_1_count = 0\n",
    "fpID_not_minus1_but_npID_minus1_count = 0\n",
    "\n",
    "\n",
    "fpIDs_merger = []\n",
    "npIDs_merger = []\n",
    "snap_subhalo_merger = []\n",
    "snap_bh_merger = []\n",
    "remnant_subfind_bh_merger = []\n",
    "\n",
    "no_merger = 0\n",
    "\n",
    "\n",
    "for i in range(Nmergers):\n",
    "    #print(\"Processing merger %d of %d\"%(i+1,Nmergers))\n",
    "    #tree_target_index = (SubfindID == merger_remnant_SubhaloID[i])&(SnapNum == merger_remnant_snap[i])\n",
    "    #print(i)\n",
    "    tree_target_index = np.where((SubfindID == merger_remnant_SubhaloID[i]) & (SnapNum == merger_remnant_snap[i]))\n",
    "    if len(tree_target_index[0]) != 0:\n",
    "        tree_target_index = tree_target_index[0][0]  \n",
    "        fpID = FirstProgenitorID[tree_target_index]\n",
    "        if fpID ==-1:\n",
    "            fpIDs_merger.append(fpID)\n",
    "            fpID_minus_1_count += 1\n",
    "            npID = NextProgenitorID[tree_target_index]\n",
    "            snap_bh_merger.append(merger_remnant_snap[i])\n",
    "            remnant_subfind_bh_merger.append(merger_remnant_SubhaloID[i])\n",
    "            if(npID != -1):\n",
    "                fpID_minus_1_npID_not_minus_1_count += 1\n",
    "                npIDs_merger.append(npID)\n",
    "                snap_subhalo_merger.append(SnapNum[tree_target_index])\n",
    "            else:\n",
    "                new_target_index = tree_target_index\n",
    "                while npID==-1:\n",
    "                    descID = DescendantID[new_target_index]\n",
    "                    if descID == -1:\n",
    "                        #print(\"No descendant found for this merger\")\n",
    "                        no_merger += 1\n",
    "                        break\n",
    "                    else:\n",
    "                        new_target_index = np.where(SubhaloID==descID)[0][0]\n",
    "                        npID = NextProgenitorID[new_target_index]\n",
    "                npIDs_merger.append(npID)\n",
    "                snap_subhalo_merger.append(SnapNum[new_target_index])\n",
    "\n",
    "        else:\n",
    "            #check if the npID is minus -1 at fp\n",
    "            fpIndex = np.where(SubhaloID==fpID)[0][0]\n",
    "            npID = NextProgenitorID[fpIndex]\n",
    "            if npID == -1:\n",
    "                fpID_not_minus1_but_npID_minus1_count += 1\n",
    "                snap_bh_merger.append(merger_remnant_snap[i])\n",
    "                remnant_subfind_bh_merger.append(merger_remnant_SubhaloID[i])\n",
    "                new_target_index = tree_target_index\n",
    "                while npID==-1:\n",
    "                    descID = DescendantID[new_target_index]\n",
    "                    if descID == -1:\n",
    "                        #print(\"No descendant found for this merger\")\n",
    "                        no_merger += 1\n",
    "                        break\n",
    "                    else:\n",
    "                        new_target_index = np.where(SubhaloID==descID)[0][0]\n",
    "                        npID = NextProgenitorID[new_target_index]\n",
    "                npIDs_merger.append(npID)\n",
    "                snap_subhalo_merger.append(SnapNum[new_target_index])\n",
    "\n",
    "print(\"There are %d BH mergers with fpIDs = -1\"%(fpID_minus_1_count))\n",
    "print(\"There are %d BH mergers with fpIDs = -1 and npIDs != -1\"%(fpID_minus_1_npID_not_minus_1_count))   \n",
    "print(\"There are %d BH mergers with fpIDs != -1 but npIDs = -1\"%(fpID_not_minus1_but_npID_minus1_count))"
   ]
  },
  {
   "cell_type": "code",
   "execution_count": 31,
   "metadata": {},
   "outputs": [
    {
     "name": "stdout",
     "output_type": "stream",
     "text": [
      "There are 517 valid BH mergers with fpIDs != -1 and npIDs != -1\n",
      "There are 2268 invalid BH mergers with fpIDs != -1 and npIDs = -1\n"
     ]
    }
   ],
   "source": [
    "valid_mergers = 0\n",
    "invalid_mergers = 0\n",
    "mass_ratio_valid = []\n",
    "mass_ratio_invalid = []\n",
    "\n",
    "for i in range(Nmergers):\n",
    "    #print(\"Processing merger %d of %d\"%(i+1,Nmergers))\n",
    "    #tree_target_index = (SubfindID == merger_remnant_SubhaloID[i])&(SnapNum == merger_remnant_snap[i])\n",
    "    #print(i)\n",
    "    tree_target_index = np.where((SubfindID == merger_remnant_SubhaloID[i]) & (SnapNum == merger_remnant_snap[i]))\n",
    "    if len(tree_target_index[0]) != 0:\n",
    "        tree_target_index = tree_target_index[0][0]  \n",
    "        fpID = FirstProgenitorID[tree_target_index]\n",
    "        if fpID !=-1:\n",
    "            fpIndex = np.where(SubhaloID==fpID)[0][0]\n",
    "            npID = NextProgenitorID[fpIndex]\n",
    "            if npID != -1:\n",
    "                valid_mergers = valid_mergers + 1\n",
    "                #mass_ratio_valid.append(mass_ratios[i])\n",
    "            else:\n",
    "                invalid_mergers = invalid_mergers + 1\n",
    "                #mass_ratio_invalid.append(mass_ratios[i])\n",
    "\n",
    "\n",
    "print(\"There are %d valid BH mergers with fpIDs != -1 and npIDs != -1\"%(valid_mergers))\n",
    "print(\"There are %d invalid BH mergers with fpIDs != -1 and npIDs = -1\"%(invalid_mergers))"
   ]
  },
  {
   "cell_type": "markdown",
   "metadata": {},
   "source": [
    "### Special case: DescID = -1 when traced down. So subhalos don't merge at all?"
   ]
  },
  {
   "cell_type": "code",
   "execution_count": 52,
   "metadata": {},
   "outputs": [
    {
     "name": "stdout",
     "output_type": "stream",
     "text": [
      "SubhaloID: [130000050000000015]\n",
      "FpID: [-1]\n",
      "npID: [-1]\n",
      "dID: [130000050000000007]\n",
      "snap at BH merger: [23]\n"
     ]
    }
   ],
   "source": [
    "print_tree_details_for_bh_merger(tree,227)"
   ]
  },
  {
   "cell_type": "code",
   "execution_count": 61,
   "metadata": {},
   "outputs": [
    {
     "name": "stdout",
     "output_type": "stream",
     "text": [
      "SubhaloID: 130000050000000015\n",
      "FpID: -1\n",
      "npID: -1\n",
      "dID: 130000050000000007\n",
      "snap at BH merger: 23\n"
     ]
    }
   ],
   "source": [
    "print_tree_details(tree,np.where(SubhaloID==130000050000000015)[0][0])"
   ]
  },
  {
   "cell_type": "markdown",
   "metadata": {},
   "source": [
    "For the npID = -1 we look for the descendant where there is an non npID i.e fpID = npID = -1"
   ]
  },
  {
   "cell_type": "code",
   "execution_count": 183,
   "metadata": {},
   "outputs": [
    {
     "data": {
      "image/png": "[encoded data removed]",
      "text/plain": [
       "<Figure size 640x480 with 1 Axes>"
      ]
     },
     "metadata": {},
     "output_type": "display_data"
    }
   ],
   "source": [
    "plt.hist(np.array(snap_subhalo_merger)-np.array(snap_bh_merger),histtype=\"step\",bins=8)\n",
    "plt.xticks(np.arange(0,20,2))\n",
    "plt.title(\"Difference in snapshots between subhalo and BH merger\")\n",
    "plt.xlabel(\"$\\Delta s$\")\n",
    "plt.show()"
   ]
  },
  {
   "cell_type": "code",
   "execution_count": 184,
   "metadata": {},
   "outputs": [],
   "source": [
    "delta_s = np.array(snap_subhalo_merger)-np.array(snap_bh_merger)"
   ]
  },
  {
   "cell_type": "code",
   "execution_count": 191,
   "metadata": {},
   "outputs": [
    {
     "data": {
      "text/plain": [
       "0.5539334955393349"
      ]
     },
     "execution_count": 191,
     "metadata": {},
     "output_type": "execute_result"
    }
   ],
   "source": [
    "np.sum(delta_s>2)/len(delta_s)"
   ]
  },
  {
   "cell_type": "code",
   "execution_count": 187,
   "metadata": {},
   "outputs": [
    {
     "data": {
      "text/plain": [
       "672"
      ]
     },
     "execution_count": 187,
     "metadata": {},
     "output_type": "execute_result"
    }
   ],
   "source": [
    "np.sum(delta_s<2)"
   ]
  },
  {
   "cell_type": "markdown",
   "metadata": {
    "tags": []
   },
   "source": [
    "## fpID is not equal to -1, np is -1\n",
    "\n",
    "There is a first progenitor associated with this subhalo of bh merger but it has no next progenitor. Check if it has a next progenitor in this snapshot"
   ]
  },
  {
   "cell_type": "code",
   "execution_count": 293,
   "metadata": {
    "tags": []
   },
   "outputs": [
    {
     "name": "stdout",
     "output_type": "stream",
     "text": [
      "SubhaloID: [20000000000002832]\n",
      "FpID: [20000000000002833]\n",
      "npID: [-1]\n",
      "dID: [20000000000002831]\n",
      "snap at BH merger: [16]\n"
     ]
    }
   ],
   "source": [
    "print_tree_details_for_bh_merger(tree,0)"
   ]
  },
  {
   "cell_type": "code",
   "execution_count": 295,
   "metadata": {
    "tags": []
   },
   "outputs": [
    {
     "data": {
      "text/plain": [
       "32869"
      ]
     },
     "execution_count": 295,
     "metadata": {},
     "output_type": "execute_result"
    }
   ],
   "source": [
    "np.where(SubhaloID==20000000000002833)[0][0]"
   ]
  },
  {
   "cell_type": "code",
   "execution_count": 296,
   "metadata": {
    "tags": []
   },
   "outputs": [
    {
     "name": "stdout",
     "output_type": "stream",
     "text": [
      "SubhaloID: 20000000000002833\n",
      "FpID: 20000000000002834\n",
      "npID: -1\n",
      "dID: 20000000000002832\n",
      "snap at BH merger: 15\n"
     ]
    }
   ],
   "source": [
    "print_tree_details(tree,32869)"
   ]
  },
  {
   "cell_type": "markdown",
   "metadata": {
    "tags": []
   },
   "source": [
    "##### if not check the descendant in the nexr snapshot"
   ]
  },
  {
   "cell_type": "code",
   "execution_count": 298,
   "metadata": {
    "tags": []
   },
   "outputs": [
    {
     "data": {
      "text/plain": [
       "32867"
      ]
     },
     "execution_count": 298,
     "metadata": {},
     "output_type": "execute_result"
    }
   ],
   "source": [
    "np.where(SubhaloID==20000000000002831)[0][0]"
   ]
  },
  {
   "cell_type": "code",
   "execution_count": 299,
   "metadata": {
    "tags": []
   },
   "outputs": [
    {
     "name": "stdout",
     "output_type": "stream",
     "text": [
      "SubhaloID: 20000000000002831\n",
      "FpID: 20000000000002832\n",
      "npID: -1\n",
      "dID: 20000000000002830\n",
      "snap at BH merger: 17\n"
     ]
    }
   ],
   "source": [
    "print_tree_details(tree,32867)"
   ]
  },
  {
   "cell_type": "code",
   "execution_count": 300,
   "metadata": {
    "tags": []
   },
   "outputs": [
    {
     "data": {
      "text/plain": [
       "32866"
      ]
     },
     "execution_count": 300,
     "metadata": {},
     "output_type": "execute_result"
    }
   ],
   "source": [
    "np.where(SubhaloID==20000000000002830)[0][0]"
   ]
  },
  {
   "cell_type": "code",
   "execution_count": 301,
   "metadata": {
    "tags": []
   },
   "outputs": [
    {
     "name": "stdout",
     "output_type": "stream",
     "text": [
      "SubhaloID: 20000000000002830\n",
      "FpID: 20000000000002831\n",
      "npID: 20000000000002837\n",
      "dID: 20000000000002829\n",
      "snap at BH merger: 18\n"
     ]
    }
   ],
   "source": [
    "print_tree_details(tree,32866)"
   ]
  },
  {
   "cell_type": "markdown",
   "metadata": {},
   "source": [
    "### Keep looking at the descendants until you find a merger. In this case the subhalos merge at snapshot 18!"
   ]
  },
  {
   "cell_type": "markdown",
   "metadata": {},
   "source": [
    "## Special case: No subhalo found for bh merger!"
   ]
  },
  {
   "cell_type": "code",
   "execution_count": 302,
   "metadata": {
    "tags": []
   },
   "outputs": [
    {
     "name": "stdout",
     "output_type": "stream",
     "text": [
      "[] [] [] [] []\n"
     ]
    }
   ],
   "source": [
    "tree_target_index = (SubfindID == merger_remnant_SubhaloID[527])&(SnapNum == merger_remnant_snap[527])\n",
    "print(SubhaloID[tree_target_index],FirstProgenitorID[tree_target_index],NextProgenitorID[tree_target_index],DescendantID[tree_target_index],SnapNum[tree_target_index])"
   ]
  },
  {
   "cell_type": "code",
   "execution_count": 303,
   "metadata": {
    "tags": []
   },
   "outputs": [
    {
     "name": "stdout",
     "output_type": "stream",
     "text": [
      "SubhaloID: []\n",
      "FpID: []\n",
      "npID: []\n",
      "dID: []\n",
      "snap at BH merger: []\n"
     ]
    }
   ],
   "source": [
    "print_tree_details_for_bh_merger(tree,527)"
   ]
  },
  {
   "cell_type": "markdown",
   "metadata": {},
   "source": [
    "## However,"
   ]
  },
  {
   "cell_type": "code",
   "execution_count": 265,
   "metadata": {
    "tags": []
   },
   "outputs": [
    {
     "name": "stdout",
     "output_type": "stream",
     "text": [
      "[30000000100001198] [30000000100001199] [-1] [30000000100001197] [16]\n"
     ]
    }
   ],
   "source": [
    "tree_target_index = (SubfindID == merger_remnant_SubhaloID[527])&(SnapNum == merger_remnant_snap[527]+1)\n",
    "print(SubhaloID[tree_target_index],FirstProgenitorID[tree_target_index],NextProgenitorID[tree_target_index],DescendantID[tree_target_index],SnapNum[tree_target_index])"
   ]
  },
  {
   "cell_type": "code",
   "execution_count": 230,
   "metadata": {
    "tags": []
   },
   "outputs": [
    {
     "data": {
      "text/plain": [
       "300000031000000004"
      ]
     },
     "execution_count": 230,
     "metadata": {},
     "output_type": "execute_result"
    }
   ],
   "source": [
    "FirstProgenitorID[505679]"
   ]
  },
  {
   "cell_type": "code",
   "execution_count": 231,
   "metadata": {
    "tags": []
   },
   "outputs": [
    {
     "name": "stdout",
     "output_type": "stream",
     "text": [
      "[300000031000000004]\n"
     ]
    }
   ],
   "source": [
    "print(SubhaloID[tree_target_index])"
   ]
  },
  {
   "cell_type": "code",
   "execution_count": null,
   "metadata": {},
   "outputs": [
    {
     "name": "stdout",
     "output_type": "stream",
     "text": [
      "The number of BH mergers in this run is 559\n"
     ]
    },
    {
     "data": {
      "text/plain": [
       "(<Figure size 500x300 with 1 Axes>,\n",
       " <Axes: title={'center': 'Mergers in BRAHMA'}, xlabel='z', ylabel='Number of mergers'>)"
      ]
     },
     "execution_count": 35,
     "metadata": {},
     "output_type": "execute_result"
    },
    {
     "data": {
      "image/png": "[encoded data removed]",
      "text/plain": [
       "<Figure size 500x300 with 1 Axes>"
      ]
     },
     "metadata": {},
     "output_type": "display_data"
    }
   ],
   "source": []
  },
  {
   "cell_type": "code",
   "execution_count": null,
   "metadata": {},
   "outputs": [
    {
     "name": "stdout",
     "output_type": "stream",
     "text": [
      "dict_keys(['merger_redshift', 'remnant_redshift', 'BH_ID1', 'BH_ID2', 'BH_Mass1', 'BH_Mass2', 'remnant_SubhaloID', 'remnant_SubhaloDarkMatterMass', 'remnant_SubhaloStellarMass', 'remnant_SubhaloHalfMassRadii', 'remnant_central_or_satellite', 'merger_type'])\n",
      "There are 559 mergers in this run\n"
     ]
    }
   ],
   "source": [
    "merger_properties=np.load(basePath + 'merger_statistics_subhalo_remnants.npy',allow_pickle=True)[0]\n",
    "print(merger_properties.keys())\n",
    "true_merger_flag  = np.array(merger_properties['merger_type'])==1\n",
    "print(\"There are %d mergers in this run\"%(np.sum(true_merger_flag)))\n",
    "Nmergers = np.sum(true_merger_flag)"
   ]
  },
  {
   "cell_type": "code",
   "execution_count": 42,
   "metadata": {},
   "outputs": [],
   "source": [
    "snap_list, z_list=arepo.get_snapshot_redshift_correspondence(basePath)"
   ]
  },
  {
   "cell_type": "code",
   "execution_count": 41,
   "metadata": {},
   "outputs": [],
   "source": [
    "snapshots = get_snapshots_to_bh_mergers(basePath)\n",
    "merger_remnant_snap = []\n",
    "merger_remnant_z = np.array(merger_properties['remnant_redshift'])[true_merger_flag]\n",
    "merger_remnant_SubhaloID = np.array(merger_properties['remnant_SubhaloID'])[true_merger_flag]\n",
    "\n",
    "for remnant_redshift in merger_remnant_z:\n",
    "    idx = np.where(z_list == remnant_redshift)[0]\n",
    "    merger_remnant_snap.append(snap_list[idx[0]])"
   ]
  },
  {
   "cell_type": "code",
   "execution_count": 43,
   "metadata": {},
   "outputs": [],
   "source": [
    "tree=h5py.File(basePath+'postprocessing/tree_extended.hdf5','r')\n",
    "SubfindID=tree.get('SubfindID')[:]\n",
    "FirstProgenitorID=tree.get('FirstProgenitorID')[:]\n",
    "NextProgenitorID=tree.get('NextProgenitorID')[:]\n",
    "DescendantID=tree.get('DescendantID')[:]\n",
    "SnapNum=tree.get('SnapNum')[:]\n",
    "SubhaloID=tree.get('SubhaloID')[:]"
   ]
  },
  {
   "cell_type": "code",
   "execution_count": null,
   "metadata": {},
   "outputs": [],
   "source": [
    "# find all cases where FpIDs = -1 \n",
    "fpID_minus_1_count = 0\n",
    "fpID_minus_1_npID_not_minus_1_count = 0\n",
    "fpID_not_minus1_but_npID_minus1_count = 0\n",
    "\n",
    "\n",
    "fpIDs_merger = []\n",
    "npIDs_merger = []\n",
    "snap_subhalo_merger = []\n",
    "snap_bh_merger = []\n",
    "remnant_subfind_bh_merger = []\n",
    "\n",
    "no_merger = 0\n",
    "\n",
    "\n",
    "for i in range(Nmergers):\n",
    "    #print(\"Processing merger %d of %d\"%(i+1,Nmergers))\n",
    "    #tree_target_index = (SubfindID == merger_remnant_SubhaloID[i])&(SnapNum == merger_remnant_snap[i])\n",
    "    #print(i)\n",
    "    tree_target_index = np.where((SubfindID == merger_remnant_SubhaloID[i]) & (SnapNum == merger_remnant_snap[i]))\n",
    "    if len(tree_target_index[0]) != 0:\n",
    "        tree_target_index = tree_target_index[0][0]  \n",
    "        fpID = FirstProgenitorID[tree_target_index]\n",
    "        if fpID ==-1:\n",
    "            fpIDs_merger.append(fpID)\n",
    "            fpID_minus_1_count += 1\n",
    "            npID = NextProgenitorID[tree_target_index]\n",
    "            snap_bh_merger.append(merger_remnant_snap[i])\n",
    "            remnant_subfind_bh_merger.append(merger_remnant_SubhaloID[i])\n",
    "            if(npID != -1):\n",
    "                fpID_minus_1_npID_not_minus_1_count += 1\n",
    "                npIDs_merger.append(npID)\n",
    "                snap_subhalo_merger.append(SnapNum[tree_target_index])\n",
    "            else:\n",
    "                new_target_index = tree_target_index\n",
    "                while npID==-1:\n",
    "                    descID = DescendantID[new_target_index]\n",
    "                    if descID == -1:\n",
    "                        #print(\"No descendant found for this merger\")\n",
    "                        no_merger += 1\n",
    "                        break\n",
    "                    else:\n",
    "                        new_target_index = np.where(SubhaloID==descID)[0][0]\n",
    "                        npID = NextProgenitorID[new_target_index]\n",
    "                npIDs_merger.append(npID)\n",
    "                snap_subhalo_merger.append(SnapNum[new_target_index])\n",
    "\n",
    "        else:\n",
    "            #check if the npID is minus -1 at fp\n",
    "            fpIndex = np.where(SubhaloID==fpID)[0][0]\n",
    "            npID = NextProgenitorID[fpIndex]\n",
    "            if npID == -1:\n",
    "                fpID_not_minus1_but_npID_minus1_count += 1\n",
    "                snap_bh_merger.append(merger_remnant_snap[i])\n",
    "                remnant_subfind_bh_merger.append(merger_remnant_SubhaloID[i])\n",
    "                new_target_index = tree_target_index\n",
    "                while npID==-1:\n",
    "                    descID = DescendantID[new_target_index]\n",
    "                    if descID == -1:\n",
    "                        #print(\"No descendant found for this merger\")\n",
    "                        no_merger += 1\n",
    "                        break\n",
    "                    else:\n",
    "                        new_target_index = np.where(SubhaloID==descID)[0][0]\n",
    "                        npID = NextProgenitorID[new_target_index]\n",
    "                npIDs_merger.append(npID)\n",
    "                snap_subhalo_merger.append(SnapNum[new_target_index])\n",
    "\n",
    "print(\"There are %d BH mergers with fpIDs = -1\"%(fpID_minus_1_count))\n",
    "print(\"There are %d BH mergers with fpIDs = -1 and npIDs != -1\"%(fpID_minus_1_npID_not_minus_1_count))   \n",
    "print(\"There are %d BH mergers with fpIDs != -1 but npIDs = -1\"%(fpID_not_minus1_but_npID_minus1_count))"
   ]
  },
  {
   "cell_type": "code",
   "execution_count": null,
   "metadata": {},
   "outputs": [],
   "source": []
  }
 ],
 "metadata": {
  "kernelspec": {
   "display_name": "hfrl",
   "language": "python",
   "name": "python3"
  },
  "language_info": {
   "codemirror_mode": {
    "name": "ipython",
    "version": 3
   },
   "file_extension": ".py",
   "mimetype": "text/x-python",
   "name": "python",
   "nbconvert_exporter": "python",
   "pygments_lexer": "ipython3",
   "version": "3.10.15"
  }
 },
 "nbformat": 4,
 "nbformat_minor": 4
}
