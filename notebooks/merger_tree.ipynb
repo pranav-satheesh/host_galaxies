{
 "cells": [
  {
   "cell_type": "code",
   "execution_count": 1,
   "id": "771c67ce-6a22-4e52-a271-daf8ef2456b3",
   "metadata": {
    "tags": []
   },
   "outputs": [],
   "source": [
    "import illustris_python as il\n",
    "import matplotlib.pyplot as plt\n",
    "import h5py\n",
    "import numpy as np"
   ]
  },
  {
   "cell_type": "code",
   "execution_count": 5,
   "id": "cb79b9a7-5940-40c8-a067-c71dce54435e",
   "metadata": {
    "tags": []
   },
   "outputs": [],
   "source": [
    "basePath = '/orange/lblecha/IllustrisTNG/Runs/TNG50-1/output'\n",
    "codePath = '/home/pranavsatheesh/host_galaxies/merger_file_runs'"
   ]
  },
  {
   "cell_type": "code",
   "execution_count": 6,
   "id": "c25e4be5-cecc-4f1d-889b-da55161b9c27",
   "metadata": {
    "tags": []
   },
   "outputs": [
    {
     "data": {
      "text/plain": [
       "{'BoxSize': 35000.0,\n",
       " 'FlagDoubleprecision': 0,\n",
       " 'Git_commit': b'd203ec8b07c7e2bdda5f608aa0babea46d603699',\n",
       " 'Git_date': b'Thu Apr 7 14:14:27 2016 +0200',\n",
       " 'HubbleParam': 0.6774,\n",
       " 'Ngroups_ThisFile': 1128,\n",
       " 'Ngroups_Total': 756234,\n",
       " 'Nids_ThisFile': 106159,\n",
       " 'Nids_Total': 64985755,\n",
       " 'Nsubgroups_ThisFile': 1317,\n",
       " 'Nsubgroups_Total': 689643,\n",
       " 'NumFiles': 680,\n",
       " 'Omega0': 0.3089,\n",
       " 'OmegaLambda': 0.6911,\n",
       " 'Redshift': 14.989173240042412,\n",
       " 'Time': 0.06254232066831665}"
      ]
     },
     "execution_count": 6,
     "metadata": {},
     "output_type": "execute_result"
    }
   ],
   "source": [
    "snapNum=1\n",
    "il.groupcat.loadHeader(basePath, snapNum) #header file details"
   ]
  },
  {
   "cell_type": "code",
   "execution_count": 25,
   "id": "8c3f3413",
   "metadata": {},
   "outputs": [],
   "source": [
    "h = il.groupcat.loadHeader(basePath, snapNum) ['HubbleParam']\n",
    "MSOL = 1.988409870698051e+33"
   ]
  },
  {
   "cell_type": "code",
   "execution_count": 7,
   "id": "8c9a9ccf-1a94-4a5e-9335-c3770dc7885b",
   "metadata": {
    "tags": []
   },
   "outputs": [],
   "source": [
    "# Load scale factors and redshifts\n",
    "snap_list = range(100)\n",
    "redshifts = np.array([il.groupcat.loadHeader(basePath, snap)['Redshift'].item() for snap in snap_list])\n",
    "scale_factors = np.array([il.groupcat.loadHeader(basePath, snap)['Time'].item() for snap in snap_list])"
   ]
  },
  {
   "cell_type": "markdown",
   "id": "c3f65604-4eca-4a3e-a9be-039e0a5708a7",
   "metadata": {},
   "source": [
    "## Loading merger file"
   ]
  },
  {
   "cell_type": "code",
   "execution_count": 9,
   "id": "d3a31530-875f-49de-b119-59a9dac1838d",
   "metadata": {
    "tags": []
   },
   "outputs": [],
   "source": [
    "merger_file_1bh = codePath+'/galaxy-mergers_TNG50-1_gas-100_dm-100_star-100_bh-001.hdf5' #merger file\n",
    "f = h5py.File(merger_file_1bh, 'r')"
   ]
  },
  {
   "cell_type": "code",
   "execution_count": 16,
   "id": "925cff82-f114-406a-b475-2823e0a0eecc",
   "metadata": {
    "tags": []
   },
   "outputs": [
    {
     "name": "stdout",
     "output_type": "stream",
     "text": [
      "ProgMassRatio shape: (467,)\n",
      "SubhaloBHMass shape: (467, 3)\n",
      "SubhaloBHMdot shape: (467, 3)\n",
      "SubhaloCM shape: (467, 3, 3)\n",
      "SubhaloGrNr shape: (467, 3)\n",
      "SubhaloHalfmassRadType shape: (467, 6, 3)\n",
      "SubhaloLenType shape: (467, 6, 3)\n",
      "SubhaloMassInHalfRadType shape: (467, 6, 3)\n",
      "SubhaloMassInRadType shape: (467, 6, 3)\n",
      "SubhaloMassType shape: (467, 6, 3)\n",
      "SubhaloPos shape: (467, 3, 3)\n",
      "SubhaloSFR shape: (467, 3)\n",
      "SubhaloVel shape: (467, 3, 3)\n",
      "SubhaloVelDisp shape: (467, 3)\n",
      "fpMass shape: (467,)\n",
      "npMass shape: (467,)\n",
      "shids_subf shape: (467, 3)\n",
      "shids_tree shape: (467, 3)\n",
      "snaps shape: (467, 3)\n",
      "time shape: (467, 3)\n"
     ]
    }
   ],
   "source": [
    "for key in f.keys():\n",
    "    print(key,\"shape:\",f[key].shape)"
   ]
  },
  {
   "cell_type": "markdown",
   "id": "62fdd2b7",
   "metadata": {},
   "source": [
    "### Major Mergers"
   ]
  },
  {
   "cell_type": "code",
   "execution_count": 42,
   "id": "3cc081de",
   "metadata": {},
   "outputs": [],
   "source": [
    "q_merger_list = []\n",
    "\n",
    "for BHMasses in f['SubhaloBHMass'][:]:\n",
    "    if BHMasses[0] > BHMasses[1]:\n",
    "        q_merger = BHMasses[1]/BHMasses[0]\n",
    "    else:\n",
    "        q_merger = BHMasses[0]/BHMasses[1]\n",
    "    q_merger_list.append(q_merger)"
   ]
  },
  {
   "cell_type": "code",
   "execution_count": 49,
   "id": "b0e22ad4",
   "metadata": {},
   "outputs": [
    {
     "name": "stdout",
     "output_type": "stream",
     "text": [
      "444\n"
     ]
    }
   ],
   "source": [
    "q_merger_list = np.array(q_merger_list)\n",
    "print(len(q_merger_list[q_merger_list>0.1]))"
   ]
  },
  {
   "cell_type": "code",
   "execution_count": 60,
   "id": "20e17a58",
   "metadata": {},
   "outputs": [],
   "source": [
    "major_merger_mask = [True if qi > 0.1 else False for qi in q_merger_list]\n"
   ]
  },
  {
   "cell_type": "code",
   "execution_count": 61,
   "id": "fe1a9e55",
   "metadata": {},
   "outputs": [
    {
     "data": {
      "text/plain": [
       "[True,\n",
       " False,\n",
       " True,\n",
       " True,\n",
       " True,\n",
       " True,\n",
       " True,\n",
       " True,\n",
       " False,\n",
       " True,\n",
       " True,\n",
       " True,\n",
       " True,\n",
       " True,\n",
       " True,\n",
       " True,\n",
       " False,\n",
       " True,\n",
       " True,\n",
       " True,\n",
       " True,\n",
       " True,\n",
       " True,\n",
       " True,\n",
       " True,\n",
       " True,\n",
       " True,\n",
       " True,\n",
       " True,\n",
       " True,\n",
       " True,\n",
       " False,\n",
       " True,\n",
       " True,\n",
       " False,\n",
       " True,\n",
       " True,\n",
       " True,\n",
       " True,\n",
       " True,\n",
       " True,\n",
       " True,\n",
       " True,\n",
       " True,\n",
       " True,\n",
       " True,\n",
       " True,\n",
       " True,\n",
       " True,\n",
       " True,\n",
       " True,\n",
       " True,\n",
       " True,\n",
       " True,\n",
       " True,\n",
       " True,\n",
       " True,\n",
       " True,\n",
       " True,\n",
       " True,\n",
       " True,\n",
       " True,\n",
       " True,\n",
       " True,\n",
       " True,\n",
       " True,\n",
       " True,\n",
       " True,\n",
       " True,\n",
       " True,\n",
       " True,\n",
       " True,\n",
       " True,\n",
       " True,\n",
       " False,\n",
       " True,\n",
       " False,\n",
       " True,\n",
       " True,\n",
       " True,\n",
       " True,\n",
       " True,\n",
       " True,\n",
       " True,\n",
       " True,\n",
       " True,\n",
       " True,\n",
       " True,\n",
       " True,\n",
       " False,\n",
       " True,\n",
       " True,\n",
       " True,\n",
       " True,\n",
       " True,\n",
       " True,\n",
       " True,\n",
       " True,\n",
       " True,\n",
       " True,\n",
       " True,\n",
       " True,\n",
       " True,\n",
       " True,\n",
       " True,\n",
       " True,\n",
       " True,\n",
       " True,\n",
       " True,\n",
       " True,\n",
       " True,\n",
       " True,\n",
       " True,\n",
       " True,\n",
       " True,\n",
       " True,\n",
       " True,\n",
       " False,\n",
       " False,\n",
       " True,\n",
       " True,\n",
       " True,\n",
       " True,\n",
       " True,\n",
       " True,\n",
       " False,\n",
       " True,\n",
       " True,\n",
       " True,\n",
       " True,\n",
       " True,\n",
       " True,\n",
       " True,\n",
       " True,\n",
       " True,\n",
       " True,\n",
       " True,\n",
       " True,\n",
       " False,\n",
       " True,\n",
       " True,\n",
       " True,\n",
       " False,\n",
       " True,\n",
       " True,\n",
       " True,\n",
       " True,\n",
       " True,\n",
       " True,\n",
       " True,\n",
       " True,\n",
       " True,\n",
       " True,\n",
       " True,\n",
       " True,\n",
       " True,\n",
       " True,\n",
       " True,\n",
       " True,\n",
       " True,\n",
       " True,\n",
       " True,\n",
       " True,\n",
       " True,\n",
       " True,\n",
       " True,\n",
       " True,\n",
       " True,\n",
       " True,\n",
       " True,\n",
       " True,\n",
       " True,\n",
       " True,\n",
       " True,\n",
       " True,\n",
       " True,\n",
       " True,\n",
       " True,\n",
       " True,\n",
       " False,\n",
       " True,\n",
       " True,\n",
       " True,\n",
       " True,\n",
       " True,\n",
       " True,\n",
       " True,\n",
       " True,\n",
       " True,\n",
       " True,\n",
       " True,\n",
       " True,\n",
       " True,\n",
       " True,\n",
       " True,\n",
       " True,\n",
       " True,\n",
       " True,\n",
       " True,\n",
       " True,\n",
       " True,\n",
       " True,\n",
       " True,\n",
       " True,\n",
       " True,\n",
       " True,\n",
       " False,\n",
       " True,\n",
       " True,\n",
       " True,\n",
       " True,\n",
       " True,\n",
       " True,\n",
       " True,\n",
       " True,\n",
       " True,\n",
       " True,\n",
       " True,\n",
       " True,\n",
       " True,\n",
       " True,\n",
       " True,\n",
       " True,\n",
       " True,\n",
       " True,\n",
       " True,\n",
       " True,\n",
       " True,\n",
       " True,\n",
       " True,\n",
       " True,\n",
       " True,\n",
       " True,\n",
       " True,\n",
       " True,\n",
       " True,\n",
       " True,\n",
       " True,\n",
       " True,\n",
       " True,\n",
       " True,\n",
       " True,\n",
       " True,\n",
       " True,\n",
       " True,\n",
       " True,\n",
       " True,\n",
       " True,\n",
       " True,\n",
       " True,\n",
       " True,\n",
       " True,\n",
       " True,\n",
       " True,\n",
       " True,\n",
       " True,\n",
       " True,\n",
       " True,\n",
       " True,\n",
       " True,\n",
       " True,\n",
       " True,\n",
       " True,\n",
       " False,\n",
       " True,\n",
       " True,\n",
       " True,\n",
       " True,\n",
       " True,\n",
       " True,\n",
       " True,\n",
       " True,\n",
       " True,\n",
       " True,\n",
       " True,\n",
       " True,\n",
       " True,\n",
       " True,\n",
       " True,\n",
       " True,\n",
       " True,\n",
       " True,\n",
       " True,\n",
       " True,\n",
       " True,\n",
       " True,\n",
       " True,\n",
       " True,\n",
       " True,\n",
       " True,\n",
       " True,\n",
       " True,\n",
       " True,\n",
       " True,\n",
       " True,\n",
       " True,\n",
       " True,\n",
       " True,\n",
       " True,\n",
       " False,\n",
       " True,\n",
       " True,\n",
       " True,\n",
       " True,\n",
       " True,\n",
       " True,\n",
       " True,\n",
       " True,\n",
       " True,\n",
       " True,\n",
       " True,\n",
       " True,\n",
       " True,\n",
       " False,\n",
       " True,\n",
       " True,\n",
       " True,\n",
       " True,\n",
       " True,\n",
       " True,\n",
       " True,\n",
       " True,\n",
       " True,\n",
       " True,\n",
       " True,\n",
       " True,\n",
       " True,\n",
       " True,\n",
       " True,\n",
       " True,\n",
       " True,\n",
       " True,\n",
       " True,\n",
       " True,\n",
       " True,\n",
       " True,\n",
       " True,\n",
       " True,\n",
       " True,\n",
       " True,\n",
       " True,\n",
       " True,\n",
       " False,\n",
       " True,\n",
       " True,\n",
       " True,\n",
       " True,\n",
       " True,\n",
       " True,\n",
       " True,\n",
       " True,\n",
       " True,\n",
       " True,\n",
       " True,\n",
       " True,\n",
       " True,\n",
       " True,\n",
       " True,\n",
       " True,\n",
       " True,\n",
       " True,\n",
       " True,\n",
       " True,\n",
       " True,\n",
       " True,\n",
       " True,\n",
       " True,\n",
       " True,\n",
       " True,\n",
       " True,\n",
       " True,\n",
       " True,\n",
       " True,\n",
       " True,\n",
       " True,\n",
       " True,\n",
       " True,\n",
       " True,\n",
       " True,\n",
       " True,\n",
       " False,\n",
       " True,\n",
       " True,\n",
       " True,\n",
       " True,\n",
       " True,\n",
       " True,\n",
       " False,\n",
       " True,\n",
       " True,\n",
       " True,\n",
       " True,\n",
       " True,\n",
       " True,\n",
       " True,\n",
       " True,\n",
       " True,\n",
       " True,\n",
       " True,\n",
       " True,\n",
       " True,\n",
       " True,\n",
       " True,\n",
       " True,\n",
       " True,\n",
       " True,\n",
       " True,\n",
       " True,\n",
       " True,\n",
       " False,\n",
       " True,\n",
       " True,\n",
       " True,\n",
       " True,\n",
       " True,\n",
       " True,\n",
       " True,\n",
       " True,\n",
       " True,\n",
       " True,\n",
       " True,\n",
       " True,\n",
       " True,\n",
       " True,\n",
       " True,\n",
       " True,\n",
       " True,\n",
       " True,\n",
       " True,\n",
       " True,\n",
       " True,\n",
       " True,\n",
       " True,\n",
       " True,\n",
       " True,\n",
       " True,\n",
       " True,\n",
       " False,\n",
       " True,\n",
       " True,\n",
       " True,\n",
       " True,\n",
       " True,\n",
       " True,\n",
       " True,\n",
       " True,\n",
       " True,\n",
       " True,\n",
       " True,\n",
       " True,\n",
       " True,\n",
       " True,\n",
       " True,\n",
       " True,\n",
       " True,\n",
       " True,\n",
       " True,\n",
       " True,\n",
       " True,\n",
       " True,\n",
       " True,\n",
       " True,\n",
       " True,\n",
       " True,\n",
       " True,\n",
       " True,\n",
       " True]"
      ]
     },
     "execution_count": 61,
     "metadata": {},
     "output_type": "execute_result"
    }
   ],
   "source": [
    "major_merger_mask"
   ]
  },
  {
   "cell_type": "code",
   "execution_count": 8,
   "id": "dbf6034f-0143-4305-be6a-1dd96a77c41b",
   "metadata": {
    "tags": []
   },
   "outputs": [],
   "source": [
    "merger_snaps = f['snaps'][:][:,0] #snapshots of all mergers "
   ]
  },
  {
   "cell_type": "code",
   "execution_count": 12,
   "id": "209d0ec5",
   "metadata": {},
   "outputs": [
    {
     "data": {
      "text/plain": [
       "array([4.70015963e+45, 6.16977417e+43, 5.28399463e+45])"
      ]
     },
     "execution_count": 12,
     "metadata": {},
     "output_type": "execute_result"
    }
   ],
   "source": [
    "np.sum(f['SubhaloMassType'][0],axis=0)"
   ]
  },
  {
   "cell_type": "code",
   "execution_count": 18,
   "id": "51933af1",
   "metadata": {},
   "outputs": [],
   "source": [
    "mass_ratios = np.sum(f['SubhaloMassType'],axis=1)[:,1]/np.sum(f['SubhaloMassType'],axis=1)[:,0]"
   ]
  },
  {
   "cell_type": "code",
   "execution_count": 22,
   "id": "1a8793a3",
   "metadata": {},
   "outputs": [
    {
     "data": {
      "text/plain": [
       "104"
      ]
     },
     "execution_count": 22,
     "metadata": {},
     "output_type": "execute_result"
    }
   ],
   "source": [
    "len(mass_ratios[mass_ratios>0.1])"
   ]
  },
  {
   "cell_type": "code",
   "execution_count": 253,
   "id": "39523dac-3b01-4d4c-ab50-82d086a1c7d4",
   "metadata": {
    "tags": []
   },
   "outputs": [],
   "source": [
    "def find_n_mergers(z_bin_index):\n",
    "    \n",
    "    mrgr_count = 0\n",
    "    for mrgr_snap_i in merger_snaps:\n",
    "        if mrgr_snap_i in snap_groups[z_bin_index]:\n",
    "            mrgr_count= mrgr_count + 1\n",
    "\n",
    "    print(\"There are %d mergers between z=%d and z=%d redshifts\"%(mrgr_count,z_bins[z_bin_index-1],z_bins[z_bin_index-1]+1))\n",
    "    return mrgr_count"
   ]
  },
  {
   "cell_type": "code",
   "execution_count": 254,
   "id": "432511f3-d100-42ce-a637-32b71651bb3b",
   "metadata": {
    "tags": []
   },
   "outputs": [
    {
     "name": "stdout",
     "output_type": "stream",
     "text": [
      "There are 16 mergers between z=4 and z=5 redshifts\n"
     ]
    },
    {
     "data": {
      "text/plain": [
       "16"
      ]
     },
     "execution_count": 254,
     "metadata": {},
     "output_type": "execute_result"
    }
   ],
   "source": [
    "find_n_mergers(5)"
   ]
  },
  {
   "cell_type": "code",
   "execution_count": null,
   "id": "607de1f7-9f21-4342-9ab6-97dda513ddb0",
   "metadata": {
    "tags": []
   },
   "outputs": [],
   "source": [
    "sub_lentype = il.groupcat.loadSubhalos(basePath, snapNum, fields=['SubhaloLenType'])"
   ]
  },
  {
   "cell_type": "code",
   "execution_count": null,
   "id": "cf94e13f-2b83-4073-bfcd-5fef52a0ecea",
   "metadata": {
    "tags": []
   },
   "outputs": [],
   "source": [
    "Ngas = sub_lentype[:,0]\n",
    "Ndm = sub_lentype[:,1]\n",
    "Nstar = sub_lentype[:,4]\n",
    "Nbh = sub_lentype[:,5]"
   ]
  },
  {
   "cell_type": "code",
   "execution_count": 9,
   "id": "1fff8d38-78cf-419b-9ceb-455df99eb40c",
   "metadata": {
    "tags": []
   },
   "outputs": [],
   "source": [
    "minNdm=100\n",
    "minNgas=100\n",
    "minNstar=100\n",
    "minNbh=1"
   ]
  },
  {
   "cell_type": "code",
   "execution_count": 10,
   "id": "a5894671-e6ab-4d41-8e2d-505a5a27ca92",
   "metadata": {
    "tags": []
   },
   "outputs": [],
   "source": [
    "idx = np.where((Ngas >= minNgas) & (Ndm >= minNdm) & (Nstar >= minNstar) & (Nbh >= minNbh))[0]"
   ]
  },
  {
   "cell_type": "code",
   "execution_count": 11,
   "id": "13bfc166-530c-41ae-b6ba-58d95f932b49",
   "metadata": {
    "tags": []
   },
   "outputs": [
    {
     "data": {
      "text/plain": [
       "array([     0,      1,      2, ..., 849263, 857357, 860100])"
      ]
     },
     "execution_count": 11,
     "metadata": {},
     "output_type": "execute_result"
    }
   ],
   "source": [
    "idx"
   ]
  },
  {
   "cell_type": "code",
   "execution_count": 12,
   "id": "193a333d-a503-402f-9220-d059cffc9abd",
   "metadata": {
    "tags": []
   },
   "outputs": [
    {
     "data": {
      "text/plain": [
       "(array([0]),)"
      ]
     },
     "execution_count": 12,
     "metadata": {},
     "output_type": "execute_result"
    }
   ],
   "source": [
    "np.where(sub_lentype[:,5]>=3)"
   ]
  },
  {
   "cell_type": "code",
   "execution_count": 15,
   "id": "a25a1468-33ed-4c66-96a1-cdc4f7c1afb6",
   "metadata": {
    "tags": []
   },
   "outputs": [],
   "source": [
    "codePath ='/home/pranavsatheesh/host_galaxies/merger_file_runs'"
   ]
  },
  {
   "cell_type": "code",
   "execution_count": 16,
   "id": "5c84cfbd-bdd0-4795-ad03-8073528dcb92",
   "metadata": {
    "tags": []
   },
   "outputs": [],
   "source": [
    "merger_file = codePath+'/galaxy-mergers_TNG50-1_gas-100_dm-100_star-100_bh-001.hdf5'"
   ]
  },
  {
   "cell_type": "code",
   "execution_count": 17,
   "id": "15ee5a4b-18e5-41d5-aaab-d80c59b8221d",
   "metadata": {
    "tags": []
   },
   "outputs": [
    {
     "name": "stdout",
     "output_type": "stream",
     "text": [
      "Dataset: ProgMassRatio\n",
      "(467,)\n",
      "Dataset: SubhaloBHMass\n",
      "(467, 3)\n",
      "Dataset: SubhaloBHMdot\n",
      "(467, 3)\n",
      "Dataset: SubhaloCM\n",
      "(467, 3, 3)\n",
      "Dataset: SubhaloGrNr\n",
      "(467, 3)\n",
      "Dataset: SubhaloHalfmassRadType\n",
      "(467, 6, 3)\n",
      "Dataset: SubhaloLenType\n",
      "(467, 6, 3)\n",
      "Dataset: SubhaloMassInHalfRadType\n",
      "(467, 6, 3)\n",
      "Dataset: SubhaloMassInRadType\n",
      "(467, 6, 3)\n",
      "Dataset: SubhaloMassType\n",
      "(467, 6, 3)\n",
      "Dataset: SubhaloPos\n",
      "(467, 3, 3)\n",
      "Dataset: SubhaloSFR\n",
      "(467, 3)\n",
      "Dataset: SubhaloVel\n",
      "(467, 3, 3)\n",
      "Dataset: SubhaloVelDisp\n",
      "(467, 3)\n",
      "Dataset: fpMass\n",
      "(467,)\n",
      "Dataset: npMass\n",
      "(467,)\n",
      "Dataset: shids_subf\n",
      "(467, 3)\n",
      "Dataset: shids_tree\n",
      "(467, 3)\n",
      "Dataset: snaps\n",
      "(467, 3)\n",
      "Dataset: time\n",
      "(467, 3)\n",
      "HubbleParam: 0.6774\n",
      "Omega0: 0.3089\n",
      "OmegaLambda: 0.6911\n",
      "box_volume_mpc: 137933.11879725818\n",
      "created: 2024-12-18 01:35:27.457083\n",
      "merger_components_in_data_arrays: (FirstProg, NextProg, Descendant)\n",
      "min_parts: [100 100 100   1]\n",
      "num_mergers: 467\n",
      "part_names: ['gas' 'dm' 'star' 'bh']\n",
      "part_types: [0 1 4 5]\n",
      "snaptimes: [0.04751386 0.06254232 0.07704034 0.08350282 0.09093728 0.09625777\n",
      " 0.09997661 0.10582597 0.11096103 0.11634526 0.12141409 0.12491542\n",
      " 0.13348287 0.14263794 0.1460576  0.15314485 0.16057599 0.1667797\n",
      " 0.17653754 0.18422877 0.19316822 0.1996827  0.21236949 0.22267443\n",
      " 0.2334794  0.24949284 0.25668768 0.26787083 0.2795412  0.29034102\n",
      " 0.30155808 0.31172794 0.32224077 0.33310814 0.344342   0.35427208\n",
      " 0.36448853 0.37499959 0.38398999 0.39506344 0.40071935 0.41423335\n",
      " 0.42416436 0.43433346 0.44474635 0.45325613 0.46412269 0.47300321\n",
      " 0.48205365 0.49127726 0.50067736 0.51268081 0.52002058 0.52997065\n",
      " 0.54011111 0.55044559 0.55832602 0.56900902 0.57715521 0.5881985\n",
      " 0.59661941 0.60803512 0.61674002 0.62556955 0.63452548 0.64666649\n",
      " 0.65592445 0.66531496 0.6748399  0.68450121 0.69430083 0.70424076\n",
      " 0.71432298 0.72454955 0.73492252 0.74192021 0.75254187 0.76331559\n",
      " 0.77058363 0.78532797 0.7928056  0.80415576 0.81566841 0.82343493\n",
      " 0.8352236  0.84718103 0.8552476  0.86749171 0.87575168 0.88828933\n",
      " 0.90100647 0.90958556 0.92260759 0.93139235 0.94472658 0.95372195\n",
      " 0.96737586 0.97658689 0.99056814 1.        ]\n"
     ]
    }
   ],
   "source": [
    "with h5py.File(merger_file, 'r') as f:\n",
    "    \n",
    "    for key in f.keys():\n",
    "        # Check if it's a dataset (array) or a group\n",
    "        data = f[key]\n",
    "        # If it's a dataset, you can load it as a numpy array\n",
    "        if isinstance(data, h5py._hl.dataset.Dataset):\n",
    "            print(f\"Dataset: {key}\")\n",
    "            print(np.shape(data))  # Print the entire array (or use a subset with slicing)\n",
    "            \n",
    "    for attr_name, attr_value in f.attrs.items():\n",
    "        print(f\"{attr_name}: {attr_value}\")\n",
    "        "
   ]
  },
  {
   "cell_type": "code",
   "execution_count": null,
   "id": "b97a4153-4361-4ee5-bb22-c080faff0581",
   "metadata": {},
   "outputs": [],
   "source": []
  },
  {
   "cell_type": "code",
   "execution_count": 18,
   "id": "2cf36746-51f9-4cba-8571-ba5680d6d74e",
   "metadata": {
    "tags": []
   },
   "outputs": [],
   "source": [
    "merger_file_1bh = codePath+'/galaxy-mergers_TNG50-1_gas-100_dm-100_star-100_bh-001.hdf5'\n",
    "merger_file_nobh = codePath+'/galaxy-mergers_TNG50-1_gas-100_dm-100_star-100_bh-000.hdf5'"
   ]
  },
  {
   "cell_type": "code",
   "execution_count": 19,
   "id": "6733764e-78bc-45fc-ba2f-0134b609401f",
   "metadata": {
    "tags": []
   },
   "outputs": [
    {
     "name": "stdout",
     "output_type": "stream",
     "text": [
      "7\n"
     ]
    }
   ],
   "source": [
    "f = h5py.File(merger_file_1bh, 'r')\n",
    "f_no = h5py.File(merger_file_nobh, 'r')\n",
    "idx1 = np.where(f['SubhaloLenType'][:][:, -1]==0)[0]\n",
    "print(len(idx1))"
   ]
  },
  {
   "cell_type": "code",
   "execution_count": 39,
   "id": "acaf3a0d-9fd9-480b-ac6c-83d43a992fe0",
   "metadata": {
    "tags": []
   },
   "outputs": [
    {
     "data": {
      "text/plain": [
       "array([[35, 35, 36],\n",
       "       [28, 27, 29],\n",
       "       [21, 20, 22],\n",
       "       ...,\n",
       "       [82, 83, 84],\n",
       "       [76, 75, 77],\n",
       "       [82, 81, 83]])"
      ]
     },
     "execution_count": 39,
     "metadata": {},
     "output_type": "execute_result"
    }
   ],
   "source": [
    "f['snaps'][:]"
   ]
  },
  {
   "cell_type": "code",
   "execution_count": 42,
   "id": "0a29112e-e3cc-4446-8f48-e54e961a29f0",
   "metadata": {
    "tags": []
   },
   "outputs": [
    {
     "name": "stdout",
     "output_type": "stream",
     "text": [
      "The minimum redshift of merger is 0.010\n",
      "The maximum redshift of merger is 5.530\n"
     ]
    }
   ],
   "source": [
    "print(\"The minimum redshift of merger is %2.3f\"%(np.min(1/(f['time'][:][:,0])-1)))\n",
    "print(\"The maximum redshift of merger is %2.3f\"%(np.max(1/(f['time'][:][:,0])-1)))"
   ]
  },
  {
   "cell_type": "code",
   "execution_count": 45,
   "id": "fc0a2ac7-619c-4837-8987-c4385dc6c9df",
   "metadata": {
    "tags": []
   },
   "outputs": [
    {
     "name": "stdout",
     "output_type": "stream",
     "text": [
      "The minimum snapshot number of merger is 15.000\n",
      "The maximum snapshot number of merger is 98.000\n"
     ]
    }
   ],
   "source": [
    "print(\"The minimum snapshot number of merger is %2.3f\"%(np.min(f['snaps'][:][:,0])))\n",
    "print(\"The maximum snapshot number of merger is %2.3f\"%(np.max(f['snaps'][:][:,0])))"
   ]
  },
  {
   "cell_type": "code",
   "execution_count": 37,
   "id": "d99d3b45-a3cd-44c3-ada2-2f5eb276fcb9",
   "metadata": {
    "tags": []
   },
   "outputs": [
    {
     "data": {
      "text/plain": [
       "(array([101.,  79.,  79.,  87.,  57.,  29.,  15.,  10.,   4.,   6.]),\n",
       " array([0.00952167, 0.56154608, 1.1135705 , 1.66559491, 2.21761933,\n",
       "        2.76964374, 3.32166816, 3.87369257, 4.42571699, 4.9777414 ,\n",
       "        5.52976582]),\n",
       " [<matplotlib.patches.Polygon at 0x146e59518bb0>])"
      ]
     },
     "execution_count": 37,
     "metadata": {},
     "output_type": "execute_result"
    },
    {
     "data": {
      "image/png": "[encoded data removed]",
      "text/plain": [
       "<Figure size 640x480 with 1 Axes>"
      ]
     },
     "metadata": {},
     "output_type": "display_data"
    }
   ],
   "source": [
    "plt.hist(1/(f['time'][:][:,0])-1,bins=10,histtype = \"step\")"
   ]
  },
  {
   "cell_type": "code",
   "execution_count": 168,
   "id": "278d7f01-09a0-4737-9624-550c258e330d",
   "metadata": {
    "tags": []
   },
   "outputs": [
    {
     "data": {
      "text/plain": [
       "array([[1, 1, 1],\n",
       "       [1, 1, 1],\n",
       "       [1, 1, 1],\n",
       "       ...,\n",
       "       [1, 1, 1],\n",
       "       [1, 1, 1],\n",
       "       [1, 1, 1]])"
      ]
     },
     "execution_count": 168,
     "metadata": {},
     "output_type": "execute_result"
    }
   ],
   "source": [
    "f['SubhaloLenType'][:][:, -1]"
   ]
  },
  {
   "cell_type": "code",
   "execution_count": 144,
   "id": "702a1029-016b-42bc-97dd-29aae76283d0",
   "metadata": {
    "tags": []
   },
   "outputs": [
    {
     "data": {
      "text/plain": [
       "array([[1, 1, 0],\n",
       "       [1, 1, 0],\n",
       "       [1, 1, 0],\n",
       "       [1, 1, 0],\n",
       "       [1, 1, 0],\n",
       "       [1, 1, 0],\n",
       "       [1, 1, 0]])"
      ]
     },
     "execution_count": 144,
     "metadata": {},
     "output_type": "execute_result"
    }
   ],
   "source": [
    "f['SubhaloLenType'][:][:, -1][idx1]"
   ]
  },
  {
   "cell_type": "code",
   "execution_count": 145,
   "id": "4ab8a4fe-839e-46da-b5e6-8a851e24cfa6",
   "metadata": {
    "tags": []
   },
   "outputs": [
    {
     "data": {
      "text/plain": [
       "array([[6.19119092e+07, 1.26086737e+08, 0.00000000e+00],\n",
       "       [7.57870791e+06, 4.43584481e+06, 0.00000000e+00],\n",
       "       [2.06788560e+08, 1.90215198e+08, 0.00000000e+00],\n",
       "       [1.66818503e+06, 1.74673863e+06, 0.00000000e+00],\n",
       "       [1.40154217e+08, 1.22702368e+08, 0.00000000e+00],\n",
       "       [4.60558450e+06, 4.28627930e+06, 0.00000000e+00],\n",
       "       [1.27157277e+08, 1.05574646e+08, 0.00000000e+00]])"
      ]
     },
     "execution_count": 145,
     "metadata": {},
     "output_type": "execute_result"
    }
   ],
   "source": [
    "f['SubhaloBHMass'][:][idx1]/MSOL"
   ]
  },
  {
   "cell_type": "code",
   "execution_count": 155,
   "id": "cb14ff9f-6491-4119-b9c1-62a8680db74f",
   "metadata": {
    "tags": []
   },
   "outputs": [
    {
     "data": {
      "text/plain": [
       "array([1, 1, 1, ..., 0, 0, 0])"
      ]
     },
     "execution_count": 155,
     "metadata": {},
     "output_type": "execute_result"
    }
   ],
   "source": [
    "f_no['SubhaloLenType'][:][:, -1][:,2]"
   ]
  },
  {
   "cell_type": "code",
   "execution_count": 148,
   "id": "92b1648b-20b0-4293-920d-cff05ab1659b",
   "metadata": {
    "tags": []
   },
   "outputs": [
    {
     "name": "stdout",
     "output_type": "stream",
     "text": [
      "14532\n"
     ]
    }
   ],
   "source": [
    "idx2 = np.where(f_no['SubhaloLenType'][:][:, -1]==0)[0]\n",
    "print(len(idx2))"
   ]
  },
  {
   "cell_type": "code",
   "execution_count": 170,
   "id": "74315581-ac4c-4022-8884-23155f478c9f",
   "metadata": {
    "tags": []
   },
   "outputs": [
    {
     "data": {
      "text/plain": [
       "0"
      ]
     },
     "execution_count": 170,
     "metadata": {},
     "output_type": "execute_result"
    }
   ],
   "source": [
    "len(np.where((f['SubhaloLenType'][:][:, -1,0]==1)&(f['SubhaloLenType'][:][:, -1,1]==0))[0])"
   ]
  },
  {
   "cell_type": "code",
   "execution_count": 167,
   "id": "0162611a-bd88-4737-b8dd-de13cdabdb20",
   "metadata": {
    "tags": []
   },
   "outputs": [
    {
     "data": {
      "text/plain": [
       "468"
      ]
     },
     "execution_count": 167,
     "metadata": {},
     "output_type": "execute_result"
    }
   ],
   "source": [
    "len(np.where((f_no['SubhaloLenType'][:][:, -1,0]==1)&(f_no['SubhaloLenType'][:][:, -1,1]==1))[0])"
   ]
  },
  {
   "cell_type": "code",
   "execution_count": 156,
   "id": "199371c8-96ad-46d0-9cdb-cbb04d5bf5d6",
   "metadata": {
    "tags": []
   },
   "outputs": [
    {
     "data": {
      "text/plain": [
       "array([[1, 0, 1],\n",
       "       [1, 0, 1],\n",
       "       [1, 0, 1],\n",
       "       [1, 0, 1],\n",
       "       [1, 0, 1],\n",
       "       [1, 0, 1],\n",
       "       [1, 0, 1],\n",
       "       [1, 0, 1],\n",
       "       [1, 0, 2],\n",
       "       [1, 0, 1],\n",
       "       [1, 0, 1],\n",
       "       [1, 0, 1],\n",
       "       [0, 2, 1],\n",
       "       [1, 0, 1],\n",
       "       [1, 0, 1],\n",
       "       [1, 0, 1],\n",
       "       [0, 0, 0],\n",
       "       [0, 0, 0],\n",
       "       [0, 0, 0],\n",
       "       [1, 0, 1],\n",
       "       [0, 1, 0],\n",
       "       [0, 1, 0],\n",
       "       [1, 0, 1],\n",
       "       [1, 0, 1],\n",
       "       [0, 0, 0],\n",
       "       [0, 0, 0],\n",
       "       [0, 0, 0],\n",
       "       [1, 0, 1],\n",
       "       [0, 0, 0],\n",
       "       [0, 0, 0],\n",
       "       [0, 0, 0],\n",
       "       [1, 0, 1],\n",
       "       [1, 0, 1],\n",
       "       [0, 0, 0],\n",
       "       [0, 0, 0],\n",
       "       [0, 0, 0],\n",
       "       [0, 0, 0],\n",
       "       [0, 0, 0],\n",
       "       [0, 0, 0],\n",
       "       [1, 0, 1],\n",
       "       [0, 0, 1],\n",
       "       [0, 0, 1],\n",
       "       [0, 0, 0],\n",
       "       [0, 0, 0],\n",
       "       [0, 0, 0],\n",
       "       [1, 0, 1],\n",
       "       [1, 0, 1],\n",
       "       [1, 0, 1],\n",
       "       [0, 0, 0],\n",
       "       [0, 0, 0],\n",
       "       [0, 0, 0],\n",
       "       [1, 0, 1],\n",
       "       [1, 0, 1],\n",
       "       [0, 0, 0],\n",
       "       [0, 0, 0],\n",
       "       [0, 0, 0],\n",
       "       [1, 0, 1],\n",
       "       [0, 0, 1],\n",
       "       [0, 0, 1],\n",
       "       [1, 0, 1],\n",
       "       [0, 1, 1],\n",
       "       [0, 0, 1],\n",
       "       [0, 0, 1],\n",
       "       [0, 0, 0],\n",
       "       [0, 0, 0],\n",
       "       [0, 0, 0],\n",
       "       [0, 0, 0],\n",
       "       [0, 0, 0],\n",
       "       [0, 0, 0],\n",
       "       [1, 0, 1],\n",
       "       [0, 0, 0],\n",
       "       [0, 0, 0],\n",
       "       [0, 0, 0],\n",
       "       [0, 0, 0],\n",
       "       [0, 0, 0],\n",
       "       [0, 0, 0],\n",
       "       [0, 0, 0],\n",
       "       [0, 0, 0],\n",
       "       [0, 0, 0],\n",
       "       [1, 0, 1],\n",
       "       [0, 0, 0],\n",
       "       [0, 0, 0],\n",
       "       [0, 0, 0],\n",
       "       [1, 0, 1],\n",
       "       [1, 0, 1],\n",
       "       [1, 0, 1],\n",
       "       [0, 0, 0],\n",
       "       [0, 0, 0],\n",
       "       [0, 0, 0],\n",
       "       [1, 0, 1],\n",
       "       [0, 0, 0],\n",
       "       [0, 0, 0],\n",
       "       [0, 0, 0],\n",
       "       [1, 0, 1],\n",
       "       [0, 0, 1],\n",
       "       [0, 0, 1],\n",
       "       [0, 0, 0],\n",
       "       [0, 0, 0],\n",
       "       [0, 0, 0],\n",
       "       [0, 0, 0]])"
      ]
     },
     "execution_count": 156,
     "metadata": {},
     "output_type": "execute_result"
    }
   ],
   "source": [
    "f_no['SubhaloLenType'][:][:, -1][idx2][:100]"
   ]
  },
  {
   "cell_type": "code",
   "execution_count": 133,
   "id": "9bfcc08e-6c38-4506-b89b-ad4ed2780f43",
   "metadata": {},
   "outputs": [
    {
     "name": "stdout",
     "output_type": "stream",
     "text": [
      "(467, 3)\n",
      "[[ 99118404  99155741  99118403]\n",
      " [ 99118411  99136070  99118410]\n",
      " [ 97902989  97915567  97902988]\n",
      " [ 97469036  97472891  97469035]\n",
      " [ 97300148  97396067  97300147]\n",
      " [ 97300163  97312122  97300162]\n",
      " [ 96501649  96526395  96501648]\n",
      " [ 95881340  96220191  95881339]\n",
      " [ 95881346  96022049  95881345]\n",
      " [ 95881353  95927655  95881352]\n",
      " [ 94666038  94667860  94666037]\n",
      " [ 94158918  94236651  94158917]\n",
      " [ 94236659  94250561  94236658]\n",
      " [ 94158919  94232267  94158918]\n",
      " [ 92809253  92990814  92809252]\n",
      " [ 92990817  93005180  92990816]\n",
      " [ 92809265  92900245  92809264]\n",
      " [ 92809269  92848378  92809268]\n",
      " [ 91527327  91567269  91527326]\n",
      " [ 90497308  90779911  90497307]\n",
      " [ 90497318  90537893  90497317]\n",
      " [100568393 100698227 100568392]\n",
      " [100568403 100603019 100568402]\n",
      " [100568406 100583213 100568405]\n",
      " [100831174 100841201 100831173]\n",
      " [101207836 101211653 101207835]\n",
      " [101317100 101326066 101317099]\n",
      " [101342082 101354016 101342081]\n",
      " [ 20519036  21001264  20519035]\n",
      " [ 21001273  21033409  21001272]\n",
      " [ 21001274  21020018  21001273]\n",
      " [ 20708819  20734433  20708818]\n",
      " [ 20519051  20589520  20519050]\n",
      " [ 20589525  20593862  20589524]\n",
      " [ 20519052  20569028  20519051]\n",
      " [ 24581234  24608997  24581233]\n",
      " [ 24390011  24425423  24390010]\n",
      " [ 24390013  24413075  24390012]\n",
      " [ 24779660  24817222  24779659]\n",
      " [ 24817232  24820436  24817231]\n",
      " [ 24779662  24812732  24779661]\n",
      " [ 24882994  24934244  24882993]\n",
      " [ 24883028  24891797  24883027]\n",
      " [ 25075857  25093735  25075856]\n",
      " [ 25299719  25331604  25299718]\n",
      " [  1053376   1071815   1053375]\n",
      " [  1060682   1064174   1060681]\n",
      " [   694195    775633    694194]\n",
      " [   595507    641899    595506]\n",
      " [       61    219160        60]\n",
      " [       67     58668        66]\n",
      " [  3139543   3151400   3139542]\n",
      " [  3234301   3258691   3234300]\n",
      " [ 49994673  50014200  49994672]\n",
      " [ 49169143  49216266  49169142]\n",
      " [ 49216286  49219307  49216285]\n",
      " [ 48871473  49046895  48871472]\n",
      " [ 48871480  48974177  48871479]\n",
      " [ 48871498  48898740  48871497]\n",
      " [ 48871499  48881989  48871498]\n",
      " [ 50464680  50738907  50464679]\n",
      " [ 50738976  50754576  50738975]\n",
      " [ 50464723  50589722  50464722]\n",
      " [ 50464750  50492966  50464749]\n",
      " [ 51176955  51229105  51176954]\n",
      " [ 51238057  51277417  51238056]\n",
      " [ 51605112  51612727  51605111]\n",
      " [ 35980612  36217715  35980611]\n",
      " [ 36217744  36244391  36217743]\n",
      " [ 35980661  36002690  35980660]\n",
      " [ 36689130  36841144  36689129]\n",
      " [ 36689149  36741481  36689148]\n",
      " [ 36689149  36752369  36689148]\n",
      " [ 36689152  36713866  36689151]\n",
      " [ 37050314  37065331  37050313]\n",
      " [ 37238764  37314737  37238763]\n",
      " [ 37238767  37293570  37238766]\n",
      " [ 37735106  37774253  37735105]\n",
      " [ 37735110  37743726  37735109]\n",
      " [ 38111869  38186121  38111868]\n",
      " [ 38186156  38200856  38186155]\n",
      " [ 38186157  38193847  38186156]\n",
      " [ 38111902  38136952  38111901]\n",
      " [ 38227539  38241707  38227538]\n",
      " [ 38302132  38326692  38302131]\n",
      " [ 38375416  38396916  38375415]\n",
      " [ 38375424  38390396  38375423]\n",
      " [ 38375425  38382585  38375424]\n",
      " [ 38442607  38451071  38442606]\n",
      " [ 58932358  58959957  58932357]\n",
      " [ 58337121  58576764  58337120]\n",
      " [ 58576785  58598129  58576784]\n",
      " [ 58576786  58590367  58576785]\n",
      " [ 58392513  58400861  58392512]\n",
      " [ 58337149  58344921  58337148]\n",
      " [ 59296184  59505200  59296183]\n",
      " [ 59505214  59513157  59505213]\n",
      " [ 59296191  59434900  59296190]\n",
      " [ 59296197  59357706  59296196]\n",
      " [ 59296201  59323630  59296200]]\n"
     ]
    }
   ],
   "source": [
    "f = h5py.File(merger_file_1bh, 'r')\n",
    "\n",
    "# Access the dataset 'shids_tree'\n",
    "shids_tree_data = f['shids_tree'][:]\n",
    "\n",
    "# Optionally, print out the data or its shape\n",
    "print(shids_tree_data.shape)  # To see the shape of the data\n",
    "print(shids_tree_data[:100])   # To print the first 10 entries\n"
   ]
  },
  {
   "cell_type": "code",
   "execution_count": 26,
   "id": "b145b316-71be-4e05-a40a-2ef88b6bc8a6",
   "metadata": {
    "tags": []
   },
   "outputs": [
    {
     "data": {
      "text/plain": [
       "array([99118411, 99136070, 99118410])"
      ]
     },
     "execution_count": 26,
     "metadata": {},
     "output_type": "execute_result"
    }
   ],
   "source": [
    "shids_tree_data[1]"
   ]
  },
  {
   "cell_type": "code",
   "execution_count": null,
   "id": "21727c84-4f44-4c9e-a3fd-6cdfb38c091e",
   "metadata": {},
   "outputs": [],
   "source": []
  }
 ],
 "metadata": {
  "kernelspec": {
   "display_name": "hfrl",
   "language": "python",
   "name": "hfrl"
  },
  "language_info": {
   "codemirror_mode": {
    "name": "ipython",
    "version": 3
   },
   "file_extension": ".py",
   "mimetype": "text/x-python",
   "name": "python",
   "nbconvert_exporter": "python",
   "pygments_lexer": "ipython3",
   "version": "3.10.12"
  }
 },
 "nbformat": 4,
 "nbformat_minor": 5
}
