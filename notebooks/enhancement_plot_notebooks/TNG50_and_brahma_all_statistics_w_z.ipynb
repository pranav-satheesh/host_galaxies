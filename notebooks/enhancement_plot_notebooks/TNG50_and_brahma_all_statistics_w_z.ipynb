{
 "cells": [
  {
   "cell_type": "code",
   "execution_count": 1,
   "id": "3eaf62e7",
   "metadata": {},
   "outputs": [],
   "source": [
    "import numpy as np\n",
    "import matplotlib.pyplot as plt\n",
    "import h5py\n",
    "import illustris_python as il\n",
    "import sys\n",
    "sys.path.append('../../py_files/')\n",
    "#import weights\n",
    "import control_sample as control\n",
    "import BRAHMA_python as il_brahma\n",
    "from tqdm import tqdm\n",
    "import host_galaxy_enhancement_plots as hostplot"
   ]
  },
  {
   "cell_type": "code",
   "execution_count": 3,
   "id": "964fa4a9",
   "metadata": {},
   "outputs": [],
   "source": [
    "TNG_basepath = '/orange/lblecha/IllustrisTNG/Runs/TNG50-1/output'\n",
    "BRAHMA_path=\"/orange/lblecha/aklantbhowmick/GAS_BASED_SEED_MODEL_UNIFORM_RUNS/L12p5n512/AREPO/\""
   ]
  }
 ],
 "metadata": {
  "kernelspec": {
   "display_name": "hfrl",
   "language": "python",
   "name": "python3"
  },
  "language_info": {
   "codemirror_mode": {
    "name": "ipython",
    "version": 3
   },
   "file_extension": ".py",
   "mimetype": "text/x-python",
   "name": "python",
   "nbconvert_exporter": "python",
   "pygments_lexer": "ipython3",
   "version": "3.10.15"
  }
 },
 "nbformat": 4,
 "nbformat_minor": 5
}
