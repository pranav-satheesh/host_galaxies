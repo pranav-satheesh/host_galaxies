{
 "cells": [
  {
   "cell_type": "code",
   "execution_count": 18,
   "metadata": {},
   "outputs": [],
   "source": [
    "import numpy as np\n",
    "from scipy.stats import ks_2samp\n",
    "from scipy import stats\n",
    "import matplotlib.pyplot as plt\n",
    "import h5py\n",
    "import time\n",
    "from scipy.spatial import cKDTree\n",
    "#from scipy.spatial import distance\n",
    "from tqdm import tqdm"
   ]
  },
  {
   "cell_type": "code",
   "execution_count": 6,
   "metadata": {},
   "outputs": [],
   "source": [
    "pop_file_loc = \"/home/pranavsatheesh/host_galaxies/data/population_files/\"\n",
    "pop_file = pop_file_loc + \"population_sort_gas-100_dm-100_star-100_bh-001_w_rsep_cut.hdf5\""
   ]
  },
  {
   "cell_type": "code",
   "execution_count": 7,
   "metadata": {},
   "outputs": [],
   "source": [
    "pop = h5py.File(pop_file, 'r')\n",
    "# Mstar_merging = pop['merging_population']['Mstar'][:]\n",
    "# Mstar_non_merging = pop['non_merging_population']['Mstar'][:]"
   ]
  },
  {
   "cell_type": "code",
   "execution_count": 10,
   "metadata": {},
   "outputs": [
    {
     "data": {
      "text/plain": [
       "<KeysViewHDF5 ['MBH', 'MBH_1', 'MBH_2', 'Mdot', 'Mgas', 'Mstar', 'SFR', 'q_merger', 'snap', 'subhalo_ids', 'z']>"
      ]
     },
     "execution_count": 10,
     "metadata": {},
     "output_type": "execute_result"
    }
   ],
   "source": [
    "pop['merging_population'].keys()"
   ]
  },
  {
   "cell_type": "markdown",
   "metadata": {},
   "source": [
    "### Algorithm 1: Assigning a weight to each galaxies "
   ]
  },
  {
   "cell_type": "code",
   "execution_count": 5,
   "metadata": {},
   "outputs": [],
   "source": [
    "def generate_control_sample_restrictive(pop,z_tol_def = 0.01,Mstar_dex_tol_def = 0.1):\n",
    "    start_time = time.time()\n",
    "\n",
    "    control_sample = {\n",
    "        \"idx\": np.array([], dtype=int),\n",
    "        \"subhalo_ids\": [],\n",
    "        \"snap\": [],\n",
    "        \"z\": [],\n",
    "        \"Mstar\": [],\n",
    "        \"z_tol\": [],\n",
    "        \"Mstar_dex_tol\": []\n",
    "    }\n",
    "\n",
    "    for i in range(len(pop['merging_population'][\"z\"])):\n",
    "        z_mrg = pop['merging_population'][\"z\"][i]\n",
    "        Mstar_mrg = pop['merging_population'][\"Mstar\"][i]\n",
    "\n",
    "        z_tol = z_tol_def\n",
    "        Mstar_dex_tol = Mstar_dex_tol_def\n",
    "        \n",
    "        idxs = np.where((np.abs(pop['non_merging_population'][\"z\"] - z_mrg) <= z_tol) & (np.abs(np.log10(pop['non_merging_population'][\"Mstar\"]) - np.log10(Mstar_mrg)) <= Mstar_dex_tol))\n",
    "        \n",
    "        while (np.size(idxs) < 10 and Mstar_dex_tol < 0.3):\n",
    "            z_tol *= 1.5  # increase the tolerances by 50 percent\n",
    "            Mstar_dex_tol *= 1.5\n",
    "            idxs = np.where((np.abs(pop['non_merging_population'][\"z\"] - z_mrg) <= z_tol) & \n",
    "                            (np.abs(np.log10(pop['non_merging_population'][\"Mstar\"]) - np.log10(Mstar_mrg)) <= Mstar_dex_tol))\n",
    "\n",
    "        control_sample[\"idx\"] = np.append(control_sample[\"idx\"], i)\n",
    "        control_sample[\"z_tol\"].append(z_tol)\n",
    "        control_sample[\"Mstar_dex_tol\"].append(Mstar_dex_tol)\n",
    "        control_sample[\"subhalo_ids\"].append(pop['non_merging_population'][\"subhalo_ids\"][idxs])\n",
    "        control_sample[\"snap\"].append(pop['non_merging_population'][\"snap\"][idxs])\n",
    "        control_sample[\"z\"].append(pop['non_merging_population'][\"z\"][idxs])\n",
    "        control_sample[\"Mstar\"].append(pop['non_merging_population'][\"Mstar\"][idxs])\n",
    "    \n",
    "    end_time = time.time()\n",
    "    print(f\"Elapsed time: {end_time - start_time} seconds\")\n",
    "\n",
    "    return control_sample"
   ]
  },
  {
   "cell_type": "code",
   "execution_count": 10,
   "metadata": {},
   "outputs": [],
   "source": [
    "def generate_control_sample(pop,z_tol_def = 0.01,Mstar_dex_tol_def = 0.1):\n",
    "    start_time = time.time()\n",
    "\n",
    "    control_sample = {\n",
    "        \"idx\": np.array([], dtype=int),\n",
    "        \"subhalo_ids\": [],\n",
    "        \"snap\": [],\n",
    "        \"z\": [],\n",
    "        \"Mstar\": [],\n",
    "        \"z_tol\": [],\n",
    "        \"Mstar_dex_tol\": []\n",
    "    }\n",
    "\n",
    "    for i in range(len(pop['merging_population'][\"z\"])):\n",
    "        z_mrg = pop['merging_population'][\"z\"][i]\n",
    "        Mstar_mrg = pop['merging_population'][\"Mstar\"][i]\n",
    "\n",
    "        z_tol = z_tol_def\n",
    "        Mstar_dex_tol = Mstar_dex_tol_def\n",
    "        \n",
    "        idxs = np.where((np.abs(pop['non_merging_population'][\"z\"] - z_mrg) <= z_tol) & (np.abs(np.log10(pop['non_merging_population'][\"Mstar\"]) - np.log10(Mstar_mrg)) <= Mstar_dex_tol))\n",
    "        \n",
    "        while (np.size(idxs) < 10):\n",
    "            z_tol *= 1.5  # increase the tolerances by 50 percent\n",
    "            Mstar_dex_tol *= 1.5\n",
    "            idxs = np.where((np.abs(pop['non_merging_population'][\"z\"] - z_mrg) <= z_tol) & \n",
    "                            (np.abs(np.log10(pop['non_merging_population'][\"Mstar\"]) - np.log10(Mstar_mrg)) <= Mstar_dex_tol))\n",
    "\n",
    "        control_sample[\"idx\"] = np.append(control_sample[\"idx\"], i)\n",
    "        control_sample[\"z_tol\"]=np.append(control_sample[\"z_tol\"],z_tol)\n",
    "        control_sample[\"Mstar_dex_tol\"]=np.append(control_sample[\"Mstar_dex_tol\"],Mstar_dex_tol)\n",
    "       #control_sample[\"z_tol\"].append(z_tol)\n",
    "        #control_sample[\"Mstar_dex_tol\"].append(Mstar_dex_tol)\n",
    "        control_sample[\"subhalo_ids\"].append(pop['non_merging_population'][\"subhalo_ids\"][idxs])\n",
    "        control_sample[\"snap\"].append(pop['non_merging_population'][\"snap\"][idxs])\n",
    "        control_sample[\"z\"].append(pop['non_merging_population'][\"z\"][idxs])\n",
    "        control_sample[\"Mstar\"].append(pop['non_merging_population'][\"Mstar\"][idxs])\n",
    "    \n",
    "    end_time = time.time()\n",
    "    print(f\"Elapsed time: {end_time - start_time} seconds\")\n",
    "\n",
    "    return control_sample"
   ]
  },
  {
   "cell_type": "code",
   "execution_count": 11,
   "metadata": {},
   "outputs": [
    {
     "name": "stdout",
     "output_type": "stream",
     "text": [
      "Elapsed time: 28.67768144607544 seconds\n",
      "Elapsed time: 28.13616156578064 seconds\n"
     ]
    }
   ],
   "source": [
    "control_def = generate_control_sample(pop)\n",
    "control_restrictive = generate_control_sample_restrictive(pop)"
   ]
  },
  {
   "cell_type": "markdown",
   "metadata": {},
   "source": [
    "## Algorithm 2: Using KS matching and KDTrees"
   ]
  },
  {
   "cell_type": "code",
   "execution_count": 67,
   "metadata": {},
   "outputs": [
    {
     "name": "stdout",
     "output_type": "stream",
     "text": [
      "0.10072685274193992\n",
      "7.152853985801412\n"
     ]
    }
   ],
   "source": [
    "pop['merging_population'].keys()\n",
    "print(np.min(pop['merging_population']['q_merger']))\n",
    "print(np.min(np.log10(pop['merging_population']['Mstar'])))"
   ]
  },
  {
   "cell_type": "code",
   "execution_count": 16,
   "metadata": {},
   "outputs": [
    {
     "name": "stdout",
     "output_type": "stream",
     "text": [
      "444\n",
      "1524708\n"
     ]
    }
   ],
   "source": [
    "N_mergers = len(pop['merging_population']['MBH'])\n",
    "print(N_mergers)\n",
    "N_non_mergers = len(pop['non_merging_population']['MBH'])\n",
    "print(N_non_mergers)"
   ]
  },
  {
   "cell_type": "code",
   "execution_count": 19,
   "metadata": {},
   "outputs": [
    {
     "name": "stdout",
     "output_type": "stream",
     "text": [
      "[ True  True  True ...  True  True  True]\n"
     ]
    }
   ],
   "source": [
    "control_indices = np.arange(0,N_non_mergers)\n",
    "control_mask = np.ones(N_non_mergers, dtype=bool)\n",
    "print(control_mask)"
   ]
  },
  {
   "cell_type": "code",
   "execution_count": 20,
   "metadata": {},
   "outputs": [
    {
     "name": "stderr",
     "output_type": "stream",
     "text": [
      "Processing merging points: 100%|█████████████████████████████████| 444/444 [00:03<00:00, 114.88it/s]\n"
     ]
    },
    {
     "name": "stdout",
     "output_type": "stream",
     "text": [
      "444 444\n",
      "1.0 0.9999999999999998 1\n"
     ]
    },
    {
     "name": "stderr",
     "output_type": "stream",
     "text": [
      "Processing merging points: 100%|██████████████████████████████████| 444/444 [02:06<00:00,  3.50it/s]\n"
     ]
    },
    {
     "name": "stdout",
     "output_type": "stream",
     "text": [
      "444 444\n",
      "1.0 0.9999999999999998 2\n"
     ]
    },
    {
     "name": "stderr",
     "output_type": "stream",
     "text": [
      "Processing merging points: 100%|██████████████████████████████████| 444/444 [02:07<00:00,  3.49it/s]\n"
     ]
    },
    {
     "name": "stdout",
     "output_type": "stream",
     "text": [
      "444 444\n",
      "0.9999999999999999 0.9999999999999998 3\n"
     ]
    },
    {
     "name": "stderr",
     "output_type": "stream",
     "text": [
      "Processing merging points: 100%|██████████████████████████████████| 444/444 [02:07<00:00,  3.49it/s]\n"
     ]
    },
    {
     "name": "stdout",
     "output_type": "stream",
     "text": [
      "444 444\n",
      "0.9999999999999999 0.999999999999469 4\n"
     ]
    },
    {
     "name": "stderr",
     "output_type": "stream",
     "text": [
      "Processing merging points: 100%|██████████████████████████████████| 444/444 [02:07<00:00,  3.47it/s]\n"
     ]
    },
    {
     "name": "stdout",
     "output_type": "stream",
     "text": [
      "444 444\n",
      "0.9999999999999999 0.9999999982785098 5\n"
     ]
    },
    {
     "name": "stderr",
     "output_type": "stream",
     "text": [
      "Processing merging points: 100%|██████████████████████████████████| 444/444 [02:07<00:00,  3.47it/s]\n"
     ]
    },
    {
     "name": "stdout",
     "output_type": "stream",
     "text": [
      "444 444\n",
      "0.9999896420993635 0.999999999999469 6\n"
     ]
    },
    {
     "name": "stderr",
     "output_type": "stream",
     "text": [
      "Processing merging points: 100%|██████████████████████████████████| 444/444 [02:07<00:00,  3.48it/s]\n"
     ]
    },
    {
     "name": "stdout",
     "output_type": "stream",
     "text": [
      "444 444\n",
      "0.9999896420993635 0.9999999982785098 7\n"
     ]
    },
    {
     "name": "stderr",
     "output_type": "stream",
     "text": [
      "Processing merging points: 100%|██████████████████████████████████| 444/444 [02:07<00:00,  3.48it/s]\n"
     ]
    },
    {
     "name": "stdout",
     "output_type": "stream",
     "text": [
      "444 444\n",
      "0.999875286370536 0.9999996923996428 8\n"
     ]
    },
    {
     "name": "stderr",
     "output_type": "stream",
     "text": [
      "Processing merging points: 100%|██████████████████████████████████| 444/444 [02:07<00:00,  3.48it/s]\n"
     ]
    },
    {
     "name": "stdout",
     "output_type": "stream",
     "text": [
      "444 444\n",
      "0.999875286370536 0.9999896420993635 9\n"
     ]
    },
    {
     "name": "stderr",
     "output_type": "stream",
     "text": [
      "Processing merging points: 100%|██████████████████████████████████| 444/444 [02:19<00:00,  3.19it/s]\n"
     ]
    },
    {
     "name": "stdout",
     "output_type": "stream",
     "text": [
      "444 444\n",
      "0.999999999999469 0.999875286370536 10\n"
     ]
    }
   ],
   "source": [
    "merging_points = np.column_stack((pop['merging_population']['z'], np.log10(pop['merging_population']['Mstar'])))\n",
    "non_merging_points = np.column_stack((pop['non_merging_population']['z'], np.log10(pop['non_merging_population']['Mstar'])))\n",
    "\n",
    "# Build a KDTree for fast nearest neighbor search\n",
    "tree = cKDTree(non_merging_points)\n",
    "\n",
    "# Track used indices\n",
    "used = np.zeros(len(non_merging_points), dtype=bool)  # False means available\n",
    "#closest_indices = np.full(len(merging_points), -1)  # Store assigned indices\n",
    "\n",
    "control_indices = []\n",
    "\n",
    "p_z = 1.0  # or set an initial value\n",
    "p_Mstar = 1.0  # or set an initial value\n",
    "\n",
    "# Perform the loop with initial values\n",
    "while True:\n",
    "    closest_indices = np.full(len(merging_points), -1)  # Store assigned indices\n",
    "\n",
    "    for i in tqdm(range(len(merging_points)), desc=\"Processing merging points\", ncols=100):\n",
    "    #for i in range(len(merging_points)):\n",
    "    # Find the closest available neighbor\n",
    "        d, min_index = tree.query(merging_points[i])\n",
    "\n",
    "        if (used[min_index]): # If already taken, find the next closest manually\n",
    "            dists, idxs = tree.query(merging_points[i], k=len(non_merging_points))  # Get sorted neighbor\n",
    "            min_index = idxs[np.where(~used[idxs])[0][0]]  # Find first unused index\n",
    "\n",
    "\n",
    "        # Ensure we select an unused index\n",
    "        #while used[min_index]:  # If already taken, find the next closest manually\n",
    "            #dists, idxs = tree.query(merging_points[i], k=len(non_merging_points))  # Get sorted neighbors\n",
    "            #min_index = idxs[np.where(~used[idxs])[0][0]]  # Find first unused index\n",
    "        \n",
    "        # Store the match and mark as used\n",
    "        closest_indices[i] = min_index\n",
    "        used[min_index] = True  # Mark as used\n",
    "\n",
    "    control_indices.append(closest_indices)\n",
    "    print(len(pop['non_merging_population']['Mstar'][np.sort(closest_indices)]),len(pop['non_merging_population']['z'][np.sort(closest_indices)]))\n",
    "\n",
    "    D_mstar, p_Mstar = ks_2samp(pop['non_merging_population']['Mstar'][np.sort(closest_indices)],pop['merging_population']['Mstar'])\n",
    "    D_z, p_z = ks_2samp(pop['non_merging_population']['z'][np.sort(closest_indices)],pop['merging_population']['z'])\n",
    "    print(p_z,p_Mstar,np.shape(control_indices)[0])\n",
    "    \n",
    "    if p_z < 0.99 or p_Mstar < 0.99 or np.shape(control_indices)[0]>=10:\n",
    "        \n",
    "        break  # Exit the loop if both conditions are no longer true\n",
    "\n",
    "# `closest_indices` now contains the nearest non-merging index for each merging point without replacement."
   ]
  },
  {
   "cell_type": "code",
   "execution_count": 24,
   "metadata": {},
   "outputs": [],
   "source": [
    "sorted_indices = np.sort(closest_indices)\n",
    "D_mstar, p_Mstar = ks_2samp(pop['non_merging_population']['Mstar'][sorted_indices],pop['merging_population']['Mstar'])"
   ]
  },
  {
   "cell_type": "code",
   "execution_count": 34,
   "metadata": {},
   "outputs": [],
   "source": [
    "Mstar_binsize = 0.5  # specify the binsize\n",
    "Mstar_min = 7\n",
    "Mstar_max = 12\n",
    "Nbins_Ms = int((Mstar_max-Mstar_min)/Mstar_binsize)\n",
    "Mstar_bins = np.linspace(Mstar_min,Mstar_max,Nbins_Ms)\n",
    "\n",
    "z_binsize = 0.6\n",
    "z_min = 0\n",
    "z_max = 5\n",
    "Nbins_z = int((z_max - z_min) / z_binsize)\n",
    "z_bins = np.linspace(z_min, z_max, Nbins_z)"
   ]
  },
  {
   "cell_type": "code",
   "execution_count": 68,
   "metadata": {},
   "outputs": [
    {
     "data": {
      "text/plain": [
       "Text(0.5, 0, '$\\\\log(M_{\\\\star}/M_{\\\\odot})$')"
      ]
     },
     "execution_count": 68,
     "metadata": {},
     "output_type": "execute_result"
    },
    {
     "data": {
      "image/png": "[encoded data removed]",
      "text/plain": [
       "<Figure size 1000x400 with 2 Axes>"
      ]
     },
     "metadata": {},
     "output_type": "display_data"
    }
   ],
   "source": [
    "control_sample_ids = np.array(control_indices).flatten()\n",
    "\n",
    "fig,ax = plt.subplots(1,2,figsize=(10,4))\n",
    "\n",
    "ax[0].hist(pop['non_merging_population']['z'][np.sort(control_sample_ids)], bins=z_bins, color=\"black\", histtype=\"step\",density=True)\n",
    "ax[0].hist(pop['merging_population']['z'], bins=z_bins, histtype=\"step\",color=\"orange\",linestyle=\"--\",density=True)\n",
    "ax[0].set_xlabel(\"z\",fontsize=25)\n",
    "ax[0].set_ylabel(\"N\",fontsize=25)\n",
    "\n",
    "\n",
    "ax[1].hist(np.log10(pop['non_merging_population']['Mstar'][np.sort(control_sample_ids)]), bins=Mstar_bins,histtype=\"step\",color=\"black\",label=\"control\",density=True)\n",
    "ax[1].hist(np.log10(pop['merging_population']['Mstar']),bins=Mstar_bins,histtype=\"step\",label=\"mergers\",color=\"orange\",linestyle=\"--\",density=True)\n",
    "\n",
    "ax[1].legend(fontsize=15)\n",
    "ax[1].set_xlabel(\"$\\log(M_{\\star}/M_{\\odot})$\",fontsize=25)\n"
   ]
  },
  {
   "cell_type": "code",
   "execution_count": 49,
   "metadata": {},
   "outputs": [
    {
     "data": {
      "image/png": "[encoded data removed]",
      "text/plain": [
       "<Figure size 640x480 with 1 Axes>"
      ]
     },
     "metadata": {},
     "output_type": "display_data"
    }
   ],
   "source": [
    "# Filter out non-positive SFR values\n",
    "sfr_non_merging = pop['non_merging_population']['SFR'][np.sort(control_z)][:]\n",
    "sfr_merging = pop['merging_population']['SFR'][:]\n",
    "\n",
    "# Remove any non-positive values (SFR <= 0)\n",
    "log_sfr_non_merging = np.log10(sfr_non_merging[sfr_non_merging > 0])\n",
    "log_sfr_merging = np.log10(sfr_merging[sfr_merging > 0])\n",
    "\n",
    "# Create the histograms for both distributions, normalized to the same area (density=True)\n",
    "plt.hist(log_sfr_non_merging, histtype=\"step\", density=True, bins=10, label=\"Non-merging\")\n",
    "plt.hist(log_sfr_merging, histtype=\"step\", density=True, bins=10, label=\"Merging\")\n",
    "\n",
    "# Add a legend and axis labels\n",
    "plt.legend()\n",
    "plt.xlabel(\"Log10(SFR)\")\n",
    "plt.ylabel(\"Density\")\n",
    "plt.show()"
   ]
  },
  {
   "cell_type": "code",
   "execution_count": 60,
   "metadata": {},
   "outputs": [
    {
     "data": {
      "text/plain": [
       "1.3755364977734479"
      ]
     },
     "execution_count": 60,
     "metadata": {},
     "output_type": "execute_result"
    }
   ],
   "source": [
    "np.median(10**log_sfr_merging)/np.median(10**log_sfr_non_merging)"
   ]
  },
  {
   "cell_type": "code",
   "execution_count": 54,
   "metadata": {},
   "outputs": [
    {
     "data": {
      "image/png": "[encoded data removed]",
      "text/plain": [
       "<Figure size 640x480 with 1 Axes>"
      ]
     },
     "metadata": {},
     "output_type": "display_data"
    }
   ],
   "source": [
    "# Filter out non-positive Mgas values\n",
    "log_mgas_non_merging = np.log10(pop['non_merging_population']['Mgas'][np.sort(control_z)])\n",
    "log_mgas_merging = np.log10(pop['merging_population']['Mgas'])\n",
    "\n",
    "# Remove any non-positive values (Mgas <= 0)\n",
    "log_mgas_non_merging = log_mgas_non_merging[log_mgas_non_merging > 0]\n",
    "log_mgas_merging = log_mgas_merging[log_mgas_merging > 0]\n",
    "\n",
    "# Define the bins for Mgas (logarithmic bins or linear bins depending on your needs)\n",
    "bins = np.linspace(np.min(log_mgas_non_merging),np.max(log_mgas_non_merging), 12)\n",
    "\n",
    "# Create the histograms for both distributions, normalized to the same area (density=True)\n",
    "plt.hist(log_mgas_non_merging, histtype=\"step\", density=True, bins=bins, label=\"Non-merging\")\n",
    "plt.hist(log_mgas_merging, histtype=\"step\", density=True, bins=bins, label=\"Merging\")\n",
    "\n",
    "\n",
    "# Add a legend and axis labels\n",
    "plt.legend()\n",
    "#plt.xscale('log')  # Use logarithmic x-axis for better visibility\n",
    "plt.xlabel(\"Log10(Mgas)\")\n",
    "plt.ylabel(\"Density\")\n",
    "plt.show()\n"
   ]
  },
  {
   "cell_type": "code",
   "execution_count": null,
   "metadata": {},
   "outputs": [],
   "source": []
  }
 ],
 "metadata": {
  "kernelspec": {
   "display_name": "hfrl",
   "language": "python",
   "name": "hfrl"
  },
  "language_info": {
   "codemirror_mode": {
    "name": "ipython",
    "version": 3
   },
   "file_extension": ".py",
   "mimetype": "text/x-python",
   "name": "python",
   "nbconvert_exporter": "python",
   "pygments_lexer": "ipython3",
   "version": "3.10.12"
  }
 },
 "nbformat": 4,
 "nbformat_minor": 2
}
