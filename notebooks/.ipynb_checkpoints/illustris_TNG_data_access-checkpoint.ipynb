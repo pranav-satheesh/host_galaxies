{
 "cells": [
  {
   "cell_type": "code",
   "execution_count": 113,
   "id": "da5abbd3-236e-4384-a4cd-6f29e0d11fa6",
   "metadata": {
    "tags": []
   },
   "outputs": [],
   "source": [
    "import numpy as np\n",
    "import illustris_python as il\n",
    "import matplotlib.pyplot as plt"
   ]
  },
  {
   "cell_type": "code",
   "execution_count": 114,
   "id": "c74f4baa-11c0-4f6d-9f15-de57df89d44d",
   "metadata": {
    "tags": []
   },
   "outputs": [],
   "source": [
    "basePath = '/orange/lblecha/IllustrisTNG/Runs/TNG50-1/output'"
   ]
  },
  {
   "cell_type": "markdown",
   "id": "92782d3f-6d8c-47c0-96b6-3b96316f5727",
   "metadata": {},
   "source": [
    "## Reading from the Group and Subhalo Catalog"
   ]
  },
  {
   "cell_type": "code",
   "execution_count": null,
   "id": "fcdb9c2b-abb1-410b-9804-49c2de18ebda",
   "metadata": {
    "tags": []
   },
   "outputs": [],
   "source": [
    "#groupcat.loadSubhalos() loads the subhalo data from the group catalog\n",
    "#The group catalog is a collection of all the subhalos in a given snapshot\n",
    "\n",
    "fields = ['SubhaloMass','SubhaloSFRinRad']\n",
    "snapnumber = 1\n",
    "subhalos = il.groupcat.loadSubhalos(basePath,snapnumber,fields=fields)\n",
    "print(\"The number of subhalos in snapshot %d is %d\"%(snapnumber,subhalos['count']))\n",
    "\n",
    "h = il.groupcat.loadHeader(basePath,snapnumber)['HubbleParam']\n",
    "Subhalomass = subhalos['SubhaloMass'] * 1e10 / h\n",
    "\n",
    "plt.plot(Subhalomass,subhalos['SubhaloSFRinRad'],'.')\n",
    "plt.xscale('log')\n",
    "plt.yscale('log')\n",
    "plt.xlabel('Total Mass [$M_\\odot$]')\n",
    "plt.ylabel('Star Formation Rate [$M_\\odot / yr$]')"
   ]
  },
  {
   "cell_type": "code",
   "execution_count": null,
   "id": "3bd49178-e1d3-4c90-8b41-db273445ae1f",
   "metadata": {
    "tags": []
   },
   "outputs": [],
   "source": [
    "#loading the primary subhalo IDs\n",
    "Groupinfo = il.groupcat.loadHalos(basePath,snapnumber,fields=['GroupFirstSub','GroupBHMass','GroupNsubs'])\n",
    "print(\"The number of FoF groups/halos in snapshot %d is %d\"%(snapnumber,Groupinfo['count']))\n",
    "print(\"The number of FoF groups/halos with atleast one subhalo is %d\"%(np.sum(Groupinfo['GroupNsubs'] > 0)))"
   ]
  },
  {
   "cell_type": "code",
   "execution_count": null,
   "id": "839551a0-3718-4a83-92f9-e37a10e636d5",
   "metadata": {
    "tags": []
   },
   "outputs": [],
   "source": [
    "## loading the  5 most massive central subhalos and printing their gas fraction\n",
    "ptNumGas = il.snapshot.partTypeNum('gas') # 0\n",
    "ptNumStars = il.snapshot.partTypeNum('stars') # 4\n",
    "\n",
    "for i in range(5):\n",
    "    all_fields = il.groupcat.loadSingle(basePath,1,subhaloID=Groupinfo['GroupFirstSub'][i])\n",
    "    gas_mass   = all_fields['SubhaloMassInHalfRadType'][ptNumGas]\n",
    "    stars_mass = all_fields['SubhaloMassInHalfRadType'][ptNumStars]\n",
    "    frac = gas_mass / (gas_mass + stars_mass)\n",
    "    print(\"FoF ID: %d, Primary Subhalo ID: %d, Gas fraction: %.2f\" % (Groupinfo['GroupFirstSub'][i], Groupinfo['GroupFirstSub'][i], frac))"
   ]
  },
  {
   "cell_type": "code",
   "execution_count": null,
   "id": "4f0080f5-290b-4e07-967a-658777c79063",
   "metadata": {
    "tags": []
   },
   "outputs": [],
   "source": [
    "subhalos = il.groupcat.loadSubhalos(basePath, snapNum=1, fields=['SubhaloMass', 'SubhaloGrNr'])\n",
    "\n",
    "# Get the \"index-based IDs\" for subhalos (0 to N-1)\n",
    "subhalo_indices = np.arange(len(subhalos['SubhaloMass']))\n",
    "\n",
    "halo_data = il.groupcat.loadHalos(basePath, snapNum=1, fields=['GroupFirstSub', 'GroupNsubs'])\n",
    "group_first_sub = halo_data['GroupFirstSub']  # Index of first subhalo in subhalo catalog\n",
    "group_nsubs = halo_data['GroupNsubs']         # Number of subhalos in halo\n",
    "\n",
    "def subhalo_indices_in_halo(halo_index):\n",
    "    \"\"\"\n",
    "    Get the indices of subhalos in a given halo.\n",
    "    \"\"\"\n",
    "    start = group_first_sub[halo_index]\n",
    "    end = start + group_nsubs[halo_index]\n",
    "    print(\"Subhalo indices in halo %d: %d to %d\" % (halo_index, start, end))\n",
    "\n",
    "    return subhalo_indices[start:end]\n",
    "\n",
    "\n",
    "subixs = subhalo_indices_in_halo(1)"
   ]
  },
  {
   "cell_type": "markdown",
   "id": "a244b8b8-7c51-4ba9-934c-d02b753d26e1",
   "metadata": {},
   "source": [
    "So the subhalo index is essentially the ordered array of subhalos. GroupFirstSub corresponds to the the primary subhalo's ID in each halo. GroupNsubs shows the number of subhalos within each halos."
   ]
  },
  {
   "cell_type": "markdown",
   "id": "e1f3ad17-d35a-4f82-aa5f-73ff9d8ec991",
   "metadata": {
    "tags": []
   },
   "source": [
    "## Sublink Merger Tree"
   ]
  },
  {
   "cell_type": "code",
   "execution_count": null,
   "id": "ef36a70b-40c7-49e6-aec2-5db5dc3fe859",
   "metadata": {
    "tags": []
   },
   "outputs": [],
   "source": [
    "group_first_sub[3]"
   ]
  },
  {
   "cell_type": "markdown",
   "id": "8bfad4c0-1b2b-4a8a-96eb-bde5f10956a9",
   "metadata": {},
   "source": [
    "The SubLink algorithm constructs merger trees at the subhalo level. A unique descendant is assigned to each subhalo in three steps (see Rodriguez-Gomez+ 2015). First, descendant candidates are identified for each subhalo as those subhalos in the following snapshot that have common particles with the subhalo in question. Second, each of the descendant candidates is given a score based on a merit function that takes into account the binding energy rank of each particle. Third, the unique descendant of the subhalo in question is the descendant candidate with the highest score. Sometimes the halo finder does not detect a small subhalo that is passing through a larger structure, because the density contrast is not high enough. {\\sc SubLink} deals with this issue by allowing some subhalos to skip a snapshot when finding a descendant. Once all descendant connections have been made, the main progenitor of each subhalo is defined as the one with the \"most massive history\" behind it."
   ]
  },
  {
   "cell_type": "code",
   "execution_count": null,
   "id": "08c6dcd3-917f-4b78-b402-a362e065d872",
   "metadata": {
    "tags": []
   },
   "outputs": [],
   "source": [
    "fields = ['SubhaloID','LastProgenitorID','MainLeafProgenitorID','RootDescendantID','TreeID','FirstProgenitorID','NextProgenitorID','DescendantID','SubhaloMass','SubhaloMassType','SubfindID','SnapNum','FirstSubhaloInFOFGroupID']\n",
    "tree = il.sublink.loadTree(basePath,4,group_first_sub[3],fields=fields,onlyMPB=True)"
   ]
  },
  {
   "cell_type": "code",
   "execution_count": null,
   "id": "64e59a1b-2726-41dc-a927-802688569cb6",
   "metadata": {
    "tags": []
   },
   "outputs": [],
   "source": [
    "tree"
   ]
  },
  {
   "cell_type": "code",
   "execution_count": 119,
   "id": "d819d8f8-baa4-497e-9698-a7a36fa0c9d5",
   "metadata": {
    "tags": []
   },
   "outputs": [
    {
     "data": {
      "text/plain": [
       "Text(0.5, 1.0, 'Progenitor branch walk of subhalos')"
      ]
     },
     "execution_count": 119,
     "metadata": {},
     "output_type": "execute_result"
    },
    {
     "data": {
      "image/png": "[encoded data removed]",
      "text/plain": [
       "<Figure size 640x480 with 1 Axes>"
      ]
     },
     "metadata": {},
     "output_type": "display_data"
    }
   ],
   "source": [
    "fields = ['SubhaloMass','SubfindID','SnapNum']\n",
    "\n",
    "start = 100\n",
    "for i in range(start,start+3):\n",
    "    tree = il.sublink.loadTree(basePath,90,GroupFirstSub[i],fields=fields,onlyMPB=True)\n",
    "    plt.plot(tree['SnapNum'],tree['SubhaloMass'],'-')\n",
    "plt.yscale('log')\n",
    "plt.xlabel('Snapshot Number')\n",
    "plt.ylabel('Subhalo Mass (sim unit)')\n",
    "plt.title('Progenitor branch walk of subhalos')"
   ]
  },
  {
   "cell_type": "code",
   "execution_count": 37,
   "id": "c13034a0-d3e3-4696-9a51-e7839aed8274",
   "metadata": {
    "tags": []
   },
   "outputs": [],
   "source": [
    "#final snapshot\n",
    "snapnum = 99"
   ]
  },
  {
   "cell_type": "code",
   "execution_count": 38,
   "id": "5d628999-3dd4-4bea-8c65-ebe80e19bdc5",
   "metadata": {
    "tags": []
   },
   "outputs": [
    {
     "data": {
      "text/plain": [
       "{'BoxSize': 35000.0,\n",
       " 'FlagDoubleprecision': 0,\n",
       " 'Git_commit': b'd203ec8b07c7e2bdda5f608aa0babea46d603699',\n",
       " 'Git_date': b'Thu Apr 7 14:14:27 2016 +0200',\n",
       " 'HubbleParam': 0.6774,\n",
       " 'Ngroups_ThisFile': 1,\n",
       " 'Ngroups_Total': 10247012,\n",
       " 'Nids_ThisFile': 13513936,\n",
       " 'Nids_Total': 9471772986,\n",
       " 'Nsubgroups_ThisFile': 63864,\n",
       " 'Nsubgroups_Total': 5688113,\n",
       " 'NumFiles': 680,\n",
       " 'Omega0': 0.3089,\n",
       " 'OmegaLambda': 0.6911,\n",
       " 'Redshift': 2.220446049250313e-16,\n",
       " 'Time': 0.9999999999999998}"
      ]
     },
     "execution_count": 38,
     "metadata": {},
     "output_type": "execute_result"
    }
   ],
   "source": [
    "il.groupcat.loadHeader(basePath,snapnum)"
   ]
  },
  {
   "cell_type": "code",
   "execution_count": 39,
   "id": "d781cd1f-1636-457a-8295-a93cf60fb27b",
   "metadata": {
    "tags": []
   },
   "outputs": [],
   "source": [
    "fields = ['SubhaloID', 'NextProgenitorID', 'MainLeafProgenitorID', 'FirstProgenitorID',\n",
    "              'LastProgenitorID', 'RootDescendantID', 'SubhaloLenType', 'SubhaloMassType',\n",
    "              'SnapNum', 'DescendantID', 'SubfindID']"
   ]
  },
  {
   "cell_type": "code",
   "execution_count": 41,
   "id": "b6f6e6ca-9398-483a-ba7d-aca97865dba5",
   "metadata": {
    "tags": []
   },
   "outputs": [],
   "source": [
    "sub_lentype = il.groupcat.loadSubhalos(basePath, snapnum, fields=['SubhaloLenType'])"
   ]
  },
  {
   "cell_type": "code",
   "execution_count": 43,
   "id": "2be94e64-349d-4002-a2a6-90fefd9e5dce",
   "metadata": {
    "tags": []
   },
   "outputs": [],
   "source": [
    "Ngas = sub_lentype[:,0]\n",
    "Ndm = sub_lentype[:,1]\n",
    "Nstar = sub_lentype[:,4]\n",
    "Nbh = sub_lentype[:,5]\n",
    "    \n",
    "idx = np.where((Ngas >= 100) & (Ndm >= 100) & (Nstar >= 100) & (Nbh >= 1))[0]"
   ]
  },
  {
   "cell_type": "code",
   "execution_count": 49,
   "id": "a92e3804-a0ca-45cf-936a-220b4f97edb0",
   "metadata": {
    "tags": []
   },
   "outputs": [
    {
     "data": {
      "text/plain": [
       "0"
      ]
     },
     "execution_count": 49,
     "metadata": {},
     "output_type": "execute_result"
    }
   ],
   "source": [
    "idx[0]"
   ]
  },
  {
   "cell_type": "code",
   "execution_count": 112,
   "id": "e7f38bb9-12ab-4dea-a14e-811b3ebb1215",
   "metadata": {
    "tags": []
   },
   "outputs": [
    {
     "ename": "IndexError",
     "evalue": "Fancy indexing out of range for (0-5688112)",
     "output_type": "error",
     "traceback": [
      "\u001b[0;31m---------------------------------------------------------------------------\u001b[0m",
      "\u001b[0;31mIndexError\u001b[0m                                Traceback (most recent call last)",
      "Cell \u001b[0;32mIn[112], line 1\u001b[0m\n\u001b[0;32m----> 1\u001b[0m tree \u001b[38;5;241m=\u001b[39m \u001b[43mil\u001b[49m\u001b[38;5;241;43m.\u001b[39;49m\u001b[43msublink\u001b[49m\u001b[38;5;241;43m.\u001b[39;49m\u001b[43mloadTree\u001b[49m\u001b[43m(\u001b[49m\u001b[43mbasePath\u001b[49m\u001b[43m,\u001b[49m\u001b[43m \u001b[49m\u001b[43msnapnum\u001b[49m\u001b[43m,\u001b[49m\u001b[43midx\u001b[49m\u001b[43m[\u001b[49m\u001b[38;5;241;43m0\u001b[39;49m\u001b[43m]\u001b[49m\u001b[43m,\u001b[49m\u001b[43m \u001b[49m\u001b[43mfields\u001b[49m\u001b[38;5;241;43m=\u001b[39;49m\u001b[43mfields\u001b[49m\u001b[43m,\u001b[49m\u001b[43m \u001b[49m\u001b[43monlyMPB\u001b[49m\u001b[38;5;241;43m=\u001b[39;49m\u001b[38;5;28;43;01mFalse\u001b[39;49;00m\u001b[43m)\u001b[49m\n",
      "File \u001b[0;32m/blue/lblecha/pranavsatheesh/.conda/envs/hfrl/lib/python3.10/site-packages/illustris_python/sublink.py:101\u001b[0m, in \u001b[0;36mloadTree\u001b[0;34m(basePath, snapNum, id, fields, onlyMPB, onlyMDB, treeName, cache)\u001b[0m\n\u001b[1;32m     98\u001b[0m \u001b[38;5;250m\u001b[39m\u001b[38;5;124;03m\"\"\" Load portion of Sublink tree, for a given subhalo, in its existing flat format.\u001b[39;00m\n\u001b[1;32m     99\u001b[0m \u001b[38;5;124;03m    (optionally restricted to a subset fields).\"\"\"\u001b[39;00m\n\u001b[1;32m    100\u001b[0m \u001b[38;5;66;03m# the tree is all subhalos between SubhaloID and LastProgenitorID\u001b[39;00m\n\u001b[0;32m--> 101\u001b[0m RowNum, LastProgID, SubhaloID \u001b[38;5;241m=\u001b[39m \u001b[43mtreeOffsets\u001b[49m\u001b[43m(\u001b[49m\u001b[43mbasePath\u001b[49m\u001b[43m,\u001b[49m\u001b[43m \u001b[49m\u001b[43msnapNum\u001b[49m\u001b[43m,\u001b[49m\u001b[43m \u001b[49m\u001b[38;5;28;43mid\u001b[39;49m\u001b[43m,\u001b[49m\u001b[43m \u001b[49m\u001b[43mtreeName\u001b[49m\u001b[43m)\u001b[49m\n\u001b[1;32m    103\u001b[0m \u001b[38;5;28;01mif\u001b[39;00m RowNum \u001b[38;5;241m==\u001b[39m \u001b[38;5;241m-\u001b[39m\u001b[38;5;241m1\u001b[39m:\n\u001b[1;32m    104\u001b[0m     \u001b[38;5;28mprint\u001b[39m(\u001b[38;5;124m'\u001b[39m\u001b[38;5;124mWarning, empty return. Subhalo [\u001b[39m\u001b[38;5;132;01m%d\u001b[39;00m\u001b[38;5;124m] at snapNum [\u001b[39m\u001b[38;5;132;01m%d\u001b[39;00m\u001b[38;5;124m] not in tree.\u001b[39m\u001b[38;5;124m'\u001b[39m \u001b[38;5;241m%\u001b[39m (\u001b[38;5;28mid\u001b[39m, snapNum))\n",
      "File \u001b[0;32m/blue/lblecha/pranavsatheesh/.conda/envs/hfrl/lib/python3.10/site-packages/illustris_python/sublink.py:63\u001b[0m, in \u001b[0;36mtreeOffsets\u001b[0;34m(basePath, snapNum, id, treeName)\u001b[0m\n\u001b[1;32m     59\u001b[0m     prefix \u001b[38;5;241m=\u001b[39m \u001b[38;5;124m'\u001b[39m\u001b[38;5;124mOffsets/Subhalo_Sublink\u001b[39m\u001b[38;5;124m'\u001b[39m\n\u001b[1;32m     61\u001b[0m \u001b[38;5;28;01mwith\u001b[39;00m h5py\u001b[38;5;241m.\u001b[39mFile(offsetFile, \u001b[38;5;124m'\u001b[39m\u001b[38;5;124mr\u001b[39m\u001b[38;5;124m'\u001b[39m) \u001b[38;5;28;01mas\u001b[39;00m f:\n\u001b[1;32m     62\u001b[0m     \u001b[38;5;66;03m# load the merger tree offsets of this subgroup\u001b[39;00m\n\u001b[0;32m---> 63\u001b[0m     RowNum     \u001b[38;5;241m=\u001b[39m \u001b[43mf\u001b[49m\u001b[43m[\u001b[49m\u001b[43mprefix\u001b[49m\u001b[38;5;241;43m+\u001b[39;49m\u001b[38;5;124;43m'\u001b[39;49m\u001b[38;5;124;43mRowNum\u001b[39;49m\u001b[38;5;124;43m'\u001b[39;49m\u001b[43m]\u001b[49m\u001b[43m[\u001b[49m\u001b[43mgroupOffset\u001b[49m\u001b[43m]\u001b[49m\n\u001b[1;32m     64\u001b[0m     LastProgID \u001b[38;5;241m=\u001b[39m f[prefix\u001b[38;5;241m+\u001b[39m\u001b[38;5;124m'\u001b[39m\u001b[38;5;124mLastProgenitorID\u001b[39m\u001b[38;5;124m'\u001b[39m][groupOffset]\n\u001b[1;32m     65\u001b[0m     SubhaloID  \u001b[38;5;241m=\u001b[39m f[prefix\u001b[38;5;241m+\u001b[39m\u001b[38;5;124m'\u001b[39m\u001b[38;5;124mSubhaloID\u001b[39m\u001b[38;5;124m'\u001b[39m][groupOffset]\n",
      "File \u001b[0;32mh5py/_objects.pyx:54\u001b[0m, in \u001b[0;36mh5py._objects.with_phil.wrapper\u001b[0;34m()\u001b[0m\n",
      "File \u001b[0;32mh5py/_objects.pyx:55\u001b[0m, in \u001b[0;36mh5py._objects.with_phil.wrapper\u001b[0;34m()\u001b[0m\n",
      "File \u001b[0;32m/blue/lblecha/pranavsatheesh/.conda/envs/hfrl/lib/python3.10/site-packages/h5py/_hl/dataset.py:781\u001b[0m, in \u001b[0;36mDataset.__getitem__\u001b[0;34m(self, args, new_dtype)\u001b[0m\n\u001b[1;32m    779\u001b[0m \u001b[38;5;28;01mif\u001b[39;00m \u001b[38;5;28mself\u001b[39m\u001b[38;5;241m.\u001b[39m_fast_read_ok \u001b[38;5;129;01mand\u001b[39;00m (new_dtype \u001b[38;5;129;01mis\u001b[39;00m \u001b[38;5;28;01mNone\u001b[39;00m):\n\u001b[1;32m    780\u001b[0m     \u001b[38;5;28;01mtry\u001b[39;00m:\n\u001b[0;32m--> 781\u001b[0m         \u001b[38;5;28;01mreturn\u001b[39;00m \u001b[38;5;28;43mself\u001b[39;49m\u001b[38;5;241;43m.\u001b[39;49m\u001b[43m_fast_reader\u001b[49m\u001b[38;5;241;43m.\u001b[39;49m\u001b[43mread\u001b[49m\u001b[43m(\u001b[49m\u001b[43margs\u001b[49m\u001b[43m)\u001b[49m\n\u001b[1;32m    782\u001b[0m     \u001b[38;5;28;01mexcept\u001b[39;00m \u001b[38;5;167;01mTypeError\u001b[39;00m:\n\u001b[1;32m    783\u001b[0m         \u001b[38;5;28;01mpass\u001b[39;00m  \u001b[38;5;66;03m# Fall back to Python read pathway below\u001b[39;00m\n",
      "File \u001b[0;32mh5py/_selector.pyx:361\u001b[0m, in \u001b[0;36mh5py._selector.Reader.read\u001b[0;34m()\u001b[0m\n",
      "File \u001b[0;32mh5py/_selector.pyx:212\u001b[0m, in \u001b[0;36mh5py._selector.Selector.apply_args\u001b[0;34m()\u001b[0m\n",
      "\u001b[0;31mIndexError\u001b[0m: Fancy indexing out of range for (0-5688112)"
     ]
    }
   ],
   "source": [
    "tree = il.sublink.loadTree(basePath, snapnum,idx[0], fields=fields, onlyMPB=False)"
   ]
  },
  {
   "cell_type": "code",
   "execution_count": 106,
   "id": "44e1055e-fdca-462e-ad14-1c0e2628cd34",
   "metadata": {
    "tags": []
   },
   "outputs": [],
   "source": [
    "index = 0"
   ]
  },
  {
   "cell_type": "code",
   "execution_count": 107,
   "id": "0867c93c-25be-4621-a57c-15c210f368c5",
   "metadata": {
    "tags": []
   },
   "outputs": [
    {
     "data": {
      "text/plain": [
       "10071090"
      ]
     },
     "execution_count": 107,
     "metadata": {},
     "output_type": "execute_result"
    }
   ],
   "source": [
    "len(tree['SubhaloID']) #total tree entries for subhalo idx[0] in snapnum"
   ]
  },
  {
   "cell_type": "code",
   "execution_count": 108,
   "id": "1d3a331d-deae-476f-9880-9553813dde9b",
   "metadata": {
    "tags": []
   },
   "outputs": [],
   "source": [
    "rootID = tree['SubhaloID'][0]\n",
    "rootSubfindID = tree['SubfindID'][0]\n",
    "fpID   = tree['FirstProgenitorID'][0]\n",
    "rootSnap = tree['SnapNum'][0]\n",
    "fpSnap = rootSnap\n",
    "fdesID = tree['DescendantID'][0]"
   ]
  },
  {
   "cell_type": "code",
   "execution_count": null,
   "id": "b5db308a-0fc8-4abc-86b9-f9b0d46abb3a",
   "metadata": {},
   "outputs": [],
   "source": []
  },
  {
   "cell_type": "code",
   "execution_count": 76,
   "id": "37c69b7c-5e3b-4347-b094-e0bf66a35d5b",
   "metadata": {
    "tags": []
   },
   "outputs": [],
   "source": [
    "fpIndex = index + fpID-rootID\n",
    "fpMass  = il.sublink.maxPastMass(tree, fpIndex)\n",
    "fpNpart = tree['SubhaloLenType'][fpIndex,:]"
   ]
  },
  {
   "cell_type": "code",
   "execution_count": 86,
   "id": "7b5a4671-5821-4ca5-a518-39884f0b2cd0",
   "metadata": {
    "tags": []
   },
   "outputs": [
    {
     "data": {
      "text/plain": [
       "array([       -1,  90497240,  90497241, ..., 100568326,  90497240,\n",
       "       100568328])"
      ]
     },
     "execution_count": 86,
     "metadata": {},
     "output_type": "execute_result"
    }
   ],
   "source": [
    "tree['DescendantID']"
   ]
  },
  {
   "cell_type": "code",
   "execution_count": 80,
   "id": "c8871ac9-d6a6-473d-83d5-ea74ad3203ce",
   "metadata": {
    "tags": []
   },
   "outputs": [
    {
     "data": {
      "text/plain": [
       "array([ 90497241,  90497242,  90497243, ...,        -1, 100568329,\n",
       "              -1])"
      ]
     },
     "execution_count": 80,
     "metadata": {},
     "output_type": "execute_result"
    }
   ],
   "source": [
    "tree['FirstProgenitorID']"
   ]
  },
  {
   "cell_type": "code",
   "execution_count": 79,
   "id": "e8281efe-8bbc-4f5a-a126-9e2f976761a7",
   "metadata": {
    "tags": []
   },
   "outputs": [
    {
     "data": {
      "text/plain": [
       "array([ 90497240,  90497241,  90497242, ..., 100568327, 100568328,\n",
       "       100568329])"
      ]
     },
     "execution_count": 79,
     "metadata": {},
     "output_type": "execute_result"
    }
   ],
   "source": [
    "tree['SubhaloID']"
   ]
  },
  {
   "cell_type": "code",
   "execution_count": 81,
   "id": "e76e9c13-20fa-4a17-8925-835336171ef8",
   "metadata": {
    "tags": []
   },
   "outputs": [
    {
     "data": {
      "text/plain": [
       "array([       -1, 100135434,  99967641, ...,        -1,        -1,\n",
       "              -1])"
      ]
     },
     "execution_count": 81,
     "metadata": {},
     "output_type": "execute_result"
    }
   ],
   "source": [
    "tree['NextProgenitorID']"
   ]
  },
  {
   "cell_type": "code",
   "execution_count": 83,
   "id": "b620d841-a7c6-455b-86f7-157f9c8e1ee2",
   "metadata": {
    "tags": []
   },
   "outputs": [
    {
     "data": {
      "text/plain": [
       "array([99, 98, 97, ..., 96, 98, 97], dtype=int16)"
      ]
     },
     "execution_count": 83,
     "metadata": {},
     "output_type": "execute_result"
    }
   ],
   "source": [
    "tree['SnapNum']"
   ]
  },
  {
   "cell_type": "code",
   "execution_count": 82,
   "id": "c096954b-e53d-463d-ac5d-cb3fe070ed01",
   "metadata": {
    "tags": []
   },
   "outputs": [
    {
     "name": "stdout",
     "output_type": "stream",
     "text": [
      "100135434 98 90497240\n"
     ]
    }
   ],
   "source": [
    "npID = tree['NextProgenitorID'][fpIndex]\n",
    "npSnap = tree['SnapNum'][fpIndex]\n",
    "ndesID = tree['DescendantID'][fpIndex]\n",
    "print(npID,npSnap,ndesID)"
   ]
  },
  {
   "cell_type": "code",
   "execution_count": 88,
   "id": "4ac5208b-fcfb-4b5c-94e8-10792ba982c6",
   "metadata": {
    "tags": []
   },
   "outputs": [
    {
     "data": {
      "text/plain": [
       "90497240"
      ]
     },
     "execution_count": 88,
     "metadata": {},
     "output_type": "execute_result"
    }
   ],
   "source": [
    "rootID"
   ]
  },
  {
   "cell_type": "code",
   "execution_count": 89,
   "id": "848ed783-1eb3-4446-b0bd-d0028c2f5ef8",
   "metadata": {
    "tags": []
   },
   "outputs": [
    {
     "data": {
      "text/plain": [
       "90497241"
      ]
     },
     "execution_count": 89,
     "metadata": {},
     "output_type": "execute_result"
    }
   ],
   "source": [
    "fpID"
   ]
  },
  {
   "cell_type": "code",
   "execution_count": 90,
   "id": "6f64be4e-1822-4cd7-a7f0-056e84edf244",
   "metadata": {
    "tags": []
   },
   "outputs": [
    {
     "data": {
      "text/plain": [
       "100135434"
      ]
     },
     "execution_count": 90,
     "metadata": {},
     "output_type": "execute_result"
    }
   ],
   "source": [
    "npID"
   ]
  },
  {
   "cell_type": "code",
   "execution_count": 95,
   "id": "00c08387-1fea-467b-8431-e26f64d6561e",
   "metadata": {
    "tags": []
   },
   "outputs": [
    {
     "data": {
      "text/plain": [
       "1"
      ]
     },
     "execution_count": 95,
     "metadata": {},
     "output_type": "execute_result"
    }
   ],
   "source": [
    "fpIndex"
   ]
  },
  {
   "cell_type": "code",
   "execution_count": 98,
   "id": "ad052bfe-7a18-40ca-a0d6-dca4b27cc9b5",
   "metadata": {
    "tags": []
   },
   "outputs": [
    {
     "data": {
      "text/plain": [
       "369.20422"
      ]
     },
     "execution_count": 98,
     "metadata": {},
     "output_type": "execute_result"
    }
   ],
   "source": [
    "il.sublink.maxPastMass(tree, fpIndex)"
   ]
  },
  {
   "cell_type": "code",
   "execution_count": 99,
   "id": "0b0903b8-7e85-4b48-bdf1-3609f86822ed",
   "metadata": {
    "tags": []
   },
   "outputs": [
    {
     "data": {
      "text/plain": [
       "0.0029645374"
      ]
     },
     "execution_count": 99,
     "metadata": {},
     "output_type": "execute_result"
    }
   ],
   "source": [
    "npIndex = index + (npID - rootID)\n",
    "il.sublink.maxPastMass(tree, npIndex)"
   ]
  },
  {
   "cell_type": "code",
   "execution_count": 103,
   "id": "37c081b7-2955-4037-a7e0-064569bd6d9d",
   "metadata": {
    "tags": []
   },
   "outputs": [
    {
     "data": {
      "text/plain": [
       "90497339"
      ]
     },
     "execution_count": 103,
     "metadata": {},
     "output_type": "execute_result"
    }
   ],
   "source": [
    "tree['MainLeafProgenitorID'][fpIndex]"
   ]
  },
  {
   "cell_type": "code",
   "execution_count": 104,
   "id": "fabd88f0-7c35-42e9-9cec-be5dbacbea84",
   "metadata": {
    "tags": []
   },
   "outputs": [
    {
     "data": {
      "text/plain": [
       "100135531"
      ]
     },
     "execution_count": 104,
     "metadata": {},
     "output_type": "execute_result"
    }
   ],
   "source": [
    "tree['MainLeafProgenitorID'][npIndex]"
   ]
  },
  {
   "cell_type": "code",
   "execution_count": null,
   "id": "a4a4277e-0ecf-416e-b354-7966923d8bc1",
   "metadata": {},
   "outputs": [],
   "source": [
    "fpMass  = il.sublink.maxPastMass(tree, fpIndex, massPartType)"
   ]
  }
 ],
 "metadata": {
  "kernelspec": {
   "display_name": "Python (hfrl)",
   "language": "python",
   "name": "hfrl"
  },
  "language_info": {
   "codemirror_mode": {
    "name": "ipython",
    "version": 3
   },
   "file_extension": ".py",
   "mimetype": "text/x-python",
   "name": "python",
   "nbconvert_exporter": "python",
   "pygments_lexer": "ipython3",
   "version": "3.10.15"
  }
 },
 "nbformat": 4,
 "nbformat_minor": 5
}
