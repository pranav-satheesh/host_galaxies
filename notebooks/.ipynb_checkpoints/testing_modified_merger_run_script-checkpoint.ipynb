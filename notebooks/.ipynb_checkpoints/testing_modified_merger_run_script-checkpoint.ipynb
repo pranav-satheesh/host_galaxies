{
 "cells": [
  {
   "cell_type": "code",
   "execution_count": 1,
   "id": "25ecb524",
   "metadata": {
    "tags": []
   },
   "outputs": [],
   "source": [
    "import sys\n",
    "import os\n",
    "sys.path.append(os.path.abspath('/home/pranavsatheesh/host_galaxies/py_files'))\n",
    "import population_sort_by_mergers as pop\n",
    "import merger_file_from_sublink_trees_mod as mrgpy"
   ]
  },
  {
   "cell_type": "code",
   "execution_count": 2,
   "id": "47534a6e",
   "metadata": {
    "tags": []
   },
   "outputs": [],
   "source": [
    "import illustris_python as il\n",
    "import matplotlib.pyplot as plt\n",
    "import h5py\n",
    "import numpy as np"
   ]
  },
  {
   "cell_type": "code",
   "execution_count": 3,
   "id": "448e6a3a",
   "metadata": {
    "tags": []
   },
   "outputs": [],
   "source": [
    "basePath='/orange/lblecha/IllustrisTNG/Runs/TNG50-1/output'\n",
    "codePath='/home/pranavsatheesh/host_galaxies/py_files'\n",
    "snapNum=99\n",
    "minNdm=100\n",
    "minNgas=100\n",
    "minNstar=100\n",
    "minNbh=1"
   ]
  },
  {
   "cell_type": "code",
   "execution_count": 4,
   "id": "c1d5ef9d",
   "metadata": {
    "tags": []
   },
   "outputs": [
    {
     "name": "stdout",
     "output_type": "stream",
     "text": [
      "snapshot scale factors in /orange/lblecha/IllustrisTNG/Runs/TNG50-1:\n",
      "[0.04751386 0.06254232 0.07704034 0.08350282 0.09093728 0.09625777\n",
      " 0.09997661 0.10582597 0.11096103 0.11634526 0.12141409 0.12491542\n",
      " 0.13348287 0.14263794 0.1460576  0.15314485 0.16057599 0.1667797\n",
      " 0.17653754 0.18422877 0.19316822 0.1996827  0.21236949 0.22267443\n",
      " 0.2334794  0.24949284 0.25668768 0.26787083 0.2795412  0.29034102\n",
      " 0.30155808 0.31172794 0.32224077 0.33310814 0.344342   0.35427208\n",
      " 0.36448853 0.37499959 0.38398999 0.39506344 0.40071935 0.41423335\n",
      " 0.42416436 0.43433346 0.44474635 0.45325613 0.46412269 0.47300321\n",
      " 0.48205365 0.49127726 0.50067736 0.51268081 0.52002058 0.52997065\n",
      " 0.54011111 0.55044559 0.55832602 0.56900902 0.57715521 0.5881985\n",
      " 0.59661941 0.60803512 0.61674002 0.62556955 0.63452548 0.64666649\n",
      " 0.65592445 0.66531496 0.6748399  0.68450121 0.69430083 0.70424076\n",
      " 0.71432298 0.72454955 0.73492252 0.74192021 0.75254187 0.76331559\n",
      " 0.77058363 0.78532797 0.7928056  0.80415576 0.81566841 0.82343493\n",
      " 0.8352236  0.84718103 0.8552476  0.86749171 0.87575168 0.88828933\n",
      " 0.90100647 0.90958556 0.92260759 0.93139235 0.94472658 0.95372195\n",
      " 0.96737586 0.97658689 0.99056814 1.        ]\n"
     ]
    },
    {
     "data": {
      "text/plain": [
       "''"
      ]
     },
     "execution_count": 4,
     "metadata": {},
     "output_type": "execute_result"
    }
   ],
   "source": [
    "sub_hdr = il.groupcat.loadHeader(basePath, snapNum)\n",
    "#nsubs = sub_hdr['Nsubgroups_Total']\n",
    "snaptimes = mrgpy.get_scale_factors(basePath)\n",
    "    \n",
    "    # load subhalo len types & find those that meet criteria\n",
    "sub_lentype = il.groupcat.loadSubhalos(basePath, snapNum, fields=['SubhaloLenType'])\n",
    "Ngas = sub_lentype[:,0]\n",
    "Ndm = sub_lentype[:,1]\n",
    "Nstar = sub_lentype[:,4]\n",
    "Nbh = sub_lentype[:,5]\n",
    "idx = np.where((Ngas >= minNgas) & (Ndm >= minNdm) & (Nstar >= minNstar) & (Nbh >= minNbh))[0]\n",
    "\n",
    "\n",
    "# list of required subhalo fields\n",
    "fields = ['SubhaloID', 'NextProgenitorID', 'MainLeafProgenitorID', 'FirstProgenitorID',\n",
    "            'LastProgenitorID', 'RootDescendantID', 'SubhaloLenType', 'SubhaloMassType',\n",
    "            'SnapNum', 'DescendantID', 'SubfindID','FirstSubhaloInFOFGroupID']\n",
    "\n",
    " \n",
    "isub = idx[0]\n",
    "    \n",
    "tree = il.sublink.loadTree(basePath, snapNum, isub, fields=fields, onlyMPB=False)\n"
   ]
  },
  {
   "cell_type": "code",
   "execution_count": 8,
   "id": "ccaedc81-aa84-4873-99ec-2bd5a95e2f1f",
   "metadata": {
    "tags": []
   },
   "outputs": [
    {
     "ename": "AttributeError",
     "evalue": "module 'merger_file_from_sublink_trees_mod' has no attribute 'getMergerInfoSubtree'",
     "output_type": "error",
     "traceback": [
      "\u001b[0;31m---------------------------------------------------------------------------\u001b[0m",
      "\u001b[0;31mAttributeError\u001b[0m                            Traceback (most recent call last)",
      "Cell \u001b[0;32mIn[8], line 1\u001b[0m\n\u001b[0;32m----> 1\u001b[0m \u001b[43mmrgpy\u001b[49m\u001b[38;5;241;43m.\u001b[39;49m\u001b[43mgetMergerInfoSubtree\u001b[49m(tree, minMassRatio\u001b[38;5;241m=\u001b[39m\u001b[38;5;241m1.0e-10\u001b[39m, massPartType\u001b[38;5;241m=\u001b[39m\u001b[38;5;124m'\u001b[39m\u001b[38;5;124mdm\u001b[39m\u001b[38;5;124m'\u001b[39m, \n\u001b[1;32m      2\u001b[0m                                   index\u001b[38;5;241m=\u001b[39mindex, getFullTree\u001b[38;5;241m=\u001b[39mgetFullTree, minNdm\u001b[38;5;241m=\u001b[39mminNdm, \n\u001b[1;32m      3\u001b[0m                                   minNgas\u001b[38;5;241m=\u001b[39mminNgas, minNstar\u001b[38;5;241m=\u001b[39mminNstar, verbose\u001b[38;5;241m=\u001b[39m\u001b[38;5;28;01mTrue\u001b[39;00m)\n",
      "\u001b[0;31mAttributeError\u001b[0m: module 'merger_file_from_sublink_trees_mod' has no attribute 'getMergerInfoSubtree'"
     ]
    }
   ],
   "source": [
    "mrgpy.getMergerInfoSubtree(tree, minMassRatio=1.0e-10, massPartType='dm', \n",
    "                                  index=index, getFullTree=getFullTree, minNdm=minNdm, \n",
    "                                  minNgas=minNgas, minNstar=minNstar, verbose=True)"
   ]
  },
  {
   "cell_type": "code",
   "execution_count": null,
   "id": "a225ae52-41cb-42d8-9844-8bec69ff6ed8",
   "metadata": {},
   "outputs": [],
   "source": [
    "def getMergerInfoSubtree(self, tree, minMassRatio=1e-10, massPartType='stars', index=0, \n",
    "                             getFullTree=True, minNdm=0, minNgas=0, minNstar=0, minNbh=0, verbose=False):\n",
    "        \"\"\" Return merger snapshots in this sub-tree (optionally above some mass ratio threshold). \"\"\"\n",
    "\n",
    "\n",
    "        invMinMassRatio = 1.0 / minMassRatio\n",
    "    \n",
    "        # walk back main progenitor branch\n",
    "        rootID = tree['SubhaloID'][index]\n",
    "        rootSubfindID = tree['SubfindID'][index]\n",
    "        fpID   = tree['FirstProgenitorID'][index]\n",
    "        rootSnap = tree['SnapNum'][index]\n",
    "        fpSnap = rootSnap #tree['SnapNum'][index]\n",
    "        #print(f\"rootID = {rootID}, fpID={fpID}\")\n",
    "        fdesID = tree['DescendantID'][index]\n",
    "        \n",
    "        while fpID != -1:\n",
    "    \n",
    "            fpIndex = index + (fpID - rootID)\n",
    "            fpMass  = il.sublink.maxPastMass(tree, fpIndex, massPartType)\n",
    "            fpNpart = tree['SubhaloLenType'][fpIndex,:]\n",
    "\n",
    "            #for ptype in ['stars','gas','dm']:\n",
    "            #    tmp, altfpMass = idOfMaxPastMass(tree, fpIndex, ptype)\n",
    "            #    if altfpMass > fpMass:\n",
    "            #        print(\"WARNING!! mass of type {ptype} greater than {massPartType} fpMass!!\")\n",
    "            #fpMass = maxPastMass(tree, fpIndex, massPartType)\n",
    "\n",
    "            # explore breadth\n",
    "            npID = tree['NextProgenitorID'][fpIndex]\n",
    "            npSnap = tree['SnapNum'][fpIndex]\n",
    "            ndesID = tree['DescendantID'][fpIndex]\n",
    "\n",
    "            fdesIndex = index + (fdesID - rootID)\n",
    "\n",
    "            while npID != -1:\n",
    "\n",
    "                npIndex = index + (npID - rootID)\n",
    "                npMass  = il.sublink.maxPastMass(tree, npIndex, massPartType)\n",
    "                npNpart = tree['SubhaloLenType'][npIndex,:]\n",
    "\n",
    "                #for ptype in ['stars','gas','dm']:\n",
    "                #    tmp, altnpMass = idOfMaxPastMass(tree, npIndex, ptype)\n",
    "                #    if altnpMass > npMass:\n",
    "                #        print(\"WARNING!! mass of type {ptype} greater than {massPartType} npMass!!\")\n",
    "                #npMass = maxPastMass(tree, npIndex, massPartType)\n",
    "            \n",
    "                ndesIndex = index + (ndesID - rootID)\n",
    "            \n",
    "                # count if both masses are non-zero, and ratio exceeds threshold\n",
    "                if fpMass > 0.0 and npMass > 0.0:\n",
    "                    ratio = npMass / fpMass\n",
    "                    \n",
    "                    if (ratio >= self.minMassRatio and ratio <= invMinMassRatio and \n",
    "                        min(npNpart[0], fpNpart[0]) >= self.minNgas and \n",
    "                        min(npNpart[1], fpNpart[1]) >= self.minNdm and\n",
    "                        min(npNpart[4], fpNpart[4]) >= self.minNstar and\n",
    "                        min(npNpart[5], fpNpart[5]) >= self.minNbh):\n",
    "                        \n",
    "                        self.count += 1\n",
    "\n",
    "                        # make sure descendant snap is progenitor snap + 1\n",
    "                        if fpSnap == (npSnap+2):\n",
    "                            if verbose: print(f\"NOTE: SubLink skipped snap {npSnap+1} in finding descendant.\")\n",
    "                        elif fpSnap != (npSnap+1) and fpSnap != (npSnap+2):\n",
    "                            raise Exception(f'ERROR: snaps not contiguous b/t prog ({npSnap}) & desc ({fpSnap}).')\n",
    "\n",
    "\n",
    "                        # progenitor snapnum\n",
    "                        self.fpSnap = np.append(self.fpSnap, tree['SnapNum'][fpIndex])\n",
    "                        self.npSnap = np.append(self.npSnap, tree['SnapNum'][npIndex])\n",
    "                        self.descSnap = np.append(self.descSnap, tree['SnapNum'][ndesIndex])\n",
    "                        # first progenitor subfind ID and masses\n",
    "                        self.fpSubhaloID = np.append(self.fpSubhaloID, tree['SubhaloID'][fpIndex])\n",
    "                        self.fpSubfindID = np.append(self.fpSubfindID, tree['SubfindID'][fpIndex])\n",
    "                        self.fpSubhaloMassType = np.vstack((self.fpSubhaloMassType, \n",
    "                                                            tree['SubhaloMassType'][fpIndex,:]))\n",
    "                        self.fpSubhaloLenType = np.vstack((self.fpSubhaloLenType, tree['SubhaloLenType'][fpIndex,:]))\n",
    "                        # next progenitor subfind ID and masses\n",
    "                        self.npSubhaloID = np.append(self.npSubhaloID, tree['SubhaloID'][npIndex])\n",
    "                        self.npSubfindID = np.append(self.npSubfindID, tree['SubfindID'][npIndex])\n",
    "                        self.npSubhaloMassType = np.vstack((self.npSubhaloMassType, \n",
    "                                                            tree['SubhaloMassType'][npIndex,:]))\n",
    "                        self.npSubhaloLenType = np.vstack((self.npSubhaloLenType, tree['SubhaloLenType'][npIndex,:]))\n",
    "                        \n",
    "                        # fp_fof = tree['FirstSubhaloInFOFGroupID'][fpIndex]\n",
    "                        # np_fof = tree['FirstSubhaloInFOFGroupID'][npIndex]   \n",
    "\n",
    "                        fp_maxpast_mass,np_maxpast_mass,fpinfallMass,npinfallMass,fp_mass_history, np_mass_history, fp_snap_history, np_snap_history = find_infall_and_maxpastmass(tree,fpIndex,npIndex)\n",
    "\n",
    "                        fpMass_mod = fp_maxpast_mass\n",
    "                        npMass_mod = np_maxpast_mass\n",
    "                        print(\"The sizes of fp_mass_history and np_mass_history are: \", fp_mass_history.size, np_mass_history.size)\n",
    "                        \n",
    "\n",
    "                        # mass ratio (defined to be nextProg / firstProg *at max past mass*)\n",
    "                        self.progMassRatio = np.append(self.progMassRatio, ratio)\n",
    "                        self.progMassRatio_mod = np.append(self.progMassRatio_mod, npMass_mod / fpMass_mod)\n",
    "                        self.infallMassRatio = np.append(self.infallMassRatio, npinfallMass / fpinfallMass)\n",
    "\n",
    "                        self.fpMass = np.append(self.fpMass, fpMass)\n",
    "                        self.npMass = np.append(self.npMass, npMass)\n",
    "                        self.fpMass_mod = np.append(self.fpMass_mod, fpMass_mod)\n",
    "                        self.npMass_mod = np.append(self.npMass_mod, npMass_mod)\n",
    "                        self.fpinfallMass = np.append(self.fpinfallMass, fpinfallMass)\n",
    "                        self.npinfallMass = np.append(self.npinfallMass, npinfallMass)\n",
    "\n",
    "                        self.fpMasshistory = np.append(self.fpMasshistory, fp_mass_history)\n",
    "                        self.npMasshistory = np.append(self.npMasshistory, np_mass_history)\n",
    "                        self.fpsnaphistory = np.append(self.fpsnaphistory, fp_snap_history)\n",
    "                        self.npsnaphistory = np.append(self.npsnaphistory, np_snap_history)\n",
    "\n",
    "                        # descendant subfind ID and masses\n",
    "                        self.descSubhaloID = np.append(self.descSubhaloID, tree['SubhaloID'][ndesIndex])\n",
    "                        self.descSubfindID = np.append(self.descSubfindID, tree['SubfindID'][ndesIndex])\n",
    "                        self.descSubhaloMassType = np.vstack((self.descSubhaloMassType, \n",
    "                                                              tree['SubhaloMassType'][ndesIndex,:]))\n",
    "                        self.descSubhaloLenType = np.vstack((self.descSubhaloLenType, \n",
    "                                                             tree['SubhaloLenType'][ndesIndex,:]))\n",
    "\n",
    "                    #else:\n",
    "                    #    print(\"WARNING!! merger didnt meet mass ratio &/or Npart criteria!\")\n",
    "                        \n",
    "                npID = tree['NextProgenitorID'][npIndex]\n",
    "                npSnap = tree['SnapNum'][npIndex]\n",
    "                ndesID = tree['DescendantID'][npIndex]\n",
    "\n",
    "                #check for sub-trees and add their mergers\n",
    "                if getFullTree and tree['FirstProgenitorID'][npIndex] != -1:\n",
    "                    if verbose: print(f\"tracing subtree...\")\n",
    "                    self = self.getMergerInfoSubtree(tree, minMassRatio=self.minMassRatio, \n",
    "                                                     massPartType=massPartType, index=npIndex, \n",
    "                                                     minNdm=self.minNdm, minNgas=self.minNgas, \n",
    "                                                     minNstar=self.minNstar, minNbh=self.minNbh,\n",
    "                                                     verbose=verbose)\n",
    "                \n",
    "                #print(f\"status: {tree['SubhaloID'][fpIndex]} {tree['NextProgenitorID'][fpIndex]} {tree['MainLeafProgenitorID'][fpIndex]} {tree['FirstProgenitorID'][fpIndex]} {tree['SnapNum'][fpIndex]} {tree['DescendantID'][fpIndex]} {tree['SubfindID'][fpIndex]}\")\n",
    "\n",
    "            fpID = tree['FirstProgenitorID'][fpIndex]\n",
    "            fpSnap = tree['SnapNum'][fpIndex]\n",
    "            fdesID = tree['DescendantID'][fpIndex]\n",
    "\n",
    "            #print(f\"status: {tree['SubhaloID'][fpIndex]} {tree['NextProgenitorID'][fpIndex]} {tree['MainLeafProgenitorID'][fpIndex]} {tree['FirstProgenitorID'][fpIndex]} {tree['SnapNum'][fpIndex]} {tree['DescendantID'][fpIndex]} {tree['SubfindID'][fpIndex]}\")\n"
   ]
  },
  {
   "cell_type": "code",
   "execution_count": 5,
   "id": "16b42d38",
   "metadata": {
    "tags": []
   },
   "outputs": [
    {
     "data": {
      "text/plain": [
       "{'count': 10071090,\n",
       " 'SubhaloID': array([ 90497240,  90497241,  90497242, ..., 100568327, 100568328,\n",
       "        100568329]),\n",
       " 'NextProgenitorID': array([       -1, 100135434,  99967641, ...,        -1,        -1,\n",
       "               -1]),\n",
       " 'MainLeafProgenitorID': array([ 90497339,  90497339,  90497339, ..., 100568327, 100568329,\n",
       "        100568329]),\n",
       " 'FirstProgenitorID': array([ 90497241,  90497242,  90497243, ...,        -1, 100568329,\n",
       "               -1]),\n",
       " 'LastProgenitorID': array([100568329, 100135433,  99967640, ..., 100568327, 100568329,\n",
       "        100568329]),\n",
       " 'RootDescendantID': array([90497240, 90497240, 90497240, ..., 90497240, 90497240, 90497240]),\n",
       " 'SubhaloLenType': array([[254750400, 369615124,         0,         0,  94211842,         3],\n",
       "        [254605422, 370461282,         0,         0,  94051487,         2],\n",
       "        [254095578, 371110497,         0,         0,  93953580,         1],\n",
       "        ...,\n",
       "        [        0,         1,         0,         0,     78062,         0],\n",
       "        [        0,         2,         0,         0,     54018,         0],\n",
       "        [        0,         2,         0,         0,     61626,         0]],\n",
       "       dtype=int32),\n",
       " 'SubhaloMassType': array([[1.5599565e+03, 1.1360775e+04, 0.0000000e+00, 0.0000000e+00,\n",
       "         3.6829300e+02, 5.7902855e-01],\n",
       "        [1.5587188e+03, 1.1386783e+04, 0.0000000e+00, 0.0000000e+00,\n",
       "         3.6794583e+02, 5.7932431e-01],\n",
       "        [1.5551145e+03, 1.1406738e+04, 0.0000000e+00, 0.0000000e+00,\n",
       "         3.6799905e+02, 5.7817507e-01],\n",
       "        ...,\n",
       "        [0.0000000e+00, 3.0736770e-05, 0.0000000e+00, 0.0000000e+00,\n",
       "         3.4054971e-01, 0.0000000e+00],\n",
       "        [0.0000000e+00, 6.1473540e-05, 0.0000000e+00, 0.0000000e+00,\n",
       "         2.4002333e-01, 0.0000000e+00],\n",
       "        [0.0000000e+00, 6.1473540e-05, 0.0000000e+00, 0.0000000e+00,\n",
       "         2.7339607e-01, 0.0000000e+00]], dtype=float32),\n",
       " 'SnapNum': array([99, 98, 97, ..., 96, 98, 97], dtype=int16),\n",
       " 'DescendantID': array([       -1,  90497240,  90497241, ..., 100568326,  90497240,\n",
       "        100568328]),\n",
       " 'SubfindID': array([  0,   0,   0, ..., 108, 141, 131], dtype=int32),\n",
       " 'FirstSubhaloInFOFGroupID': array([90497240, 90497241, 90497242, ..., 90497243, 90497241, 90497242])}"
      ]
     },
     "execution_count": 5,
     "metadata": {},
     "output_type": "execute_result"
    }
   ],
   "source": [
    "tree"
   ]
  },
  {
   "cell_type": "code",
   "execution_count": null,
   "id": "52ca58c3",
   "metadata": {},
   "outputs": [],
   "source": [
    "mrg = mrgpy.MergerInfo(tree, massPartType='stars', verbose=True,minNgas=minNgas, \n",
    "                         minNdm=minNdm, minNstar=minNstar, minNbh=minNbh)"
   ]
  },
  {
   "cell_type": "code",
   "execution_count": null,
   "id": "8a45b77e",
   "metadata": {},
   "outputs": [],
   "source": []
  },
  {
   "cell_type": "code",
   "execution_count": null,
   "id": "409d5f04",
   "metadata": {},
   "outputs": [],
   "source": []
  }
 ],
 "metadata": {
  "kernelspec": {
   "display_name": "Python (hfrl)",
   "language": "python",
   "name": "hfrl"
  },
  "language_info": {
   "codemirror_mode": {
    "name": "ipython",
    "version": 3
   },
   "file_extension": ".py",
   "mimetype": "text/x-python",
   "name": "python",
   "nbconvert_exporter": "python",
   "pygments_lexer": "ipython3",
   "version": "3.10.15"
  }
 },
 "nbformat": 4,
 "nbformat_minor": 5
}
