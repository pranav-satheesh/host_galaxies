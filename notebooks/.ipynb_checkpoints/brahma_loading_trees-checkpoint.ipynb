{
 "cells": [
  {
   "cell_type": "code",
   "execution_count": 238,
   "metadata": {
    "tags": []
   },
   "outputs": [],
   "source": [
    "import numpy as np\n",
    "from scipy.stats import ks_2samp\n",
    "from scipy import stats\n",
    "import matplotlib.pyplot as plt\n",
    "import h5py\n",
    "import time\n",
    "import illustris_python_mod as il\n",
    "\n",
    "import sys\n",
    "import os\n",
    "sys.path.append('../BH_dynamics_analysis')\n",
    "sys.path.append('/home/pranavsatheesh/arepo_package/')\n",
    "import arepo_package as arepo\n",
    "from scipy.spatial import cKDTree\n",
    "\n",
    "from tqdm import tqdm"
   ]
  },
  {
   "cell_type": "code",
   "execution_count": 239,
   "metadata": {
    "tags": []
   },
   "outputs": [],
   "source": [
    "# import illustris_python_mod as il\n",
    "# print(il.__file__)"
   ]
  },
  {
   "cell_type": "markdown",
   "metadata": {
    "tags": []
   },
   "source": [
    "## Loading the run and BH merger file"
   ]
  },
  {
   "cell_type": "code",
   "execution_count": 240,
   "metadata": {
    "tags": []
   },
   "outputs": [],
   "source": [
    "basePath = '/orange/lblecha/aklantbhowmick/GAS_BASED_SEED_MODEL_UNIFORM_RUNS/L12p5n512/AREPO/output_ratio10_SFMFGM5_seed5.00_bFOF_LW10_spin_rich/'"
   ]
  },
  {
   "cell_type": "code",
   "execution_count": 241,
   "metadata": {
    "tags": []
   },
   "outputs": [],
   "source": [
    "h = arepo.get_cosmology(basePath)[2]\n",
    "N_snaps = 32\n",
    "snaps = np.arange(0,N_snaps+1,1)"
   ]
  },
  {
   "cell_type": "code",
   "execution_count": 242,
   "metadata": {
    "tags": []
   },
   "outputs": [
    {
     "name": "stdout",
     "output_type": "stream",
     "text": [
      "dict_keys(['merger_redshift', 'remnant_redshift', 'BH_ID1', 'BH_ID2', 'BH_Mass1', 'BH_Mass2', 'remnant_SubhaloID', 'remnant_SubhaloDarkMatterMass', 'remnant_SubhaloStellarMass', 'remnant_SubhaloHalfMassRadii', 'remnant_central_or_satellite', 'merger_type'])\n"
     ]
    }
   ],
   "source": [
    "merger_properties=np.load(basePath + 'merger_statistics_subhalo_remnants.npy',allow_pickle=True)[0]\n",
    "print(merger_properties.keys())\n",
    "true_merger_flag  = np.array(merger_properties['merger_type'])==1"
   ]
  },
  {
   "cell_type": "code",
   "execution_count": 243,
   "metadata": {
    "tags": []
   },
   "outputs": [],
   "source": [
    "def show_mergers_hist(bh_merger_properties):\n",
    "    true_merger_flag  = np.array(bh_merger_properties['merger_type'])==1\n",
    "    merger_z = np.array(bh_merger_properties['remnant_redshift'])[true_merger_flag]\n",
    "    fig,ax = plt.subplots(1,1,figsize=[5,3])\n",
    "    ax.hist(merger_z, bins=9,histtype=\"step\")\n",
    "    ax.set_xlabel(\"z\")\n",
    "    ax.set_ylabel(\"Number of mergers\")\n",
    "    ax.set_title(\"Mergers in BRAHMA\")\n",
    "    fig.show()\n",
    "    \n",
    "    N_mergers = np.sum(true_merger_flag)\n",
    "    print(\"The number of BH mergers in this run is %d\"%(N_mergers))\n",
    "    return fig,ax"
   ]
  },
  {
   "cell_type": "code",
   "execution_count": 244,
   "metadata": {
    "tags": []
   },
   "outputs": [
    {
     "name": "stdout",
     "output_type": "stream",
     "text": [
      "The number of BH mergers in this run is 559\n"
     ]
    },
    {
     "data": {
      "image/png": "[encoded data removed]",
      "text/plain": [
       "<Figure size 500x300 with 1 Axes>"
      ]
     },
     "metadata": {},
     "output_type": "display_data"
    }
   ],
   "source": [
    "fig,ax = show_mergers_hist(merger_properties)"
   ]
  },
  {
   "cell_type": "code",
   "execution_count": 245,
   "metadata": {
    "tags": []
   },
   "outputs": [],
   "source": [
    "def get_snapshots_to_bh_mergers(basePath):\n",
    "    \n",
    "    snap_list, z_list=arepo.get_snapshot_redshift_correspondence(basePath)\n",
    "    snap_numbers = []\n",
    "    \n",
    "    brahma_merger_data=np.load(basePath + 'merger_statistics_subhalo_remnants.npy',allow_pickle=True)[0]\n",
    "\n",
    "    for remnant_redshift in brahma_merger_data['remnant_redshift']:\n",
    "        idx = np.where(z_list == remnant_redshift)[0]\n",
    "        snap_numbers.append(snap_list[idx[0]])\n",
    "    \n",
    "    return snap_numbers"
   ]
  },
  {
   "cell_type": "code",
   "execution_count": 246,
   "metadata": {
    "tags": []
   },
   "outputs": [],
   "source": [
    "snap_mergers = get_snapshots_to_bh_mergers(basePath)"
   ]
  },
  {
   "cell_type": "code",
   "execution_count": 247,
   "metadata": {
    "tags": []
   },
   "outputs": [],
   "source": [
    "snap_list, z_list=arepo.get_snapshot_redshift_correspondence(basePath)"
   ]
  },
  {
   "cell_type": "code",
   "execution_count": 248,
   "metadata": {
    "tags": []
   },
   "outputs": [],
   "source": [
    "# snap_numbers = []\n",
    "\n",
    "# for remnant_redshift in brahma_merger_data['remnant_redshift']:\n",
    "\n",
    "#     idx = np.where(z_list == remnant_redshift)[0]\n",
    "#     snap_numbers.append(snap_list[idx[0]])"
   ]
  },
  {
   "cell_type": "code",
   "execution_count": 249,
   "metadata": {
    "tags": []
   },
   "outputs": [],
   "source": [
    "# unique_merger_z = np.unique(brahma_merger_data['remnant_redshift'])\n",
    "# print(unique_merger_z) # we can just check at each of these snapshots "
   ]
  },
  {
   "cell_type": "code",
   "execution_count": 250,
   "metadata": {
    "tags": []
   },
   "outputs": [],
   "source": [
    "# unique_snap = []\n",
    "\n",
    "# for z_i in unique_merger_z:\n",
    "#     idx = np.where(z_list == z_i)[0]\n",
    "#     unique_snap.append(snap_list[idx[0]])"
   ]
  },
  {
   "cell_type": "markdown",
   "metadata": {},
   "source": [
    "## Connecting BH merger file to treedata"
   ]
  },
  {
   "cell_type": "code",
   "execution_count": 251,
   "metadata": {
    "tags": []
   },
   "outputs": [],
   "source": [
    "basePath_DF = '/orange/lblecha/aklantbhowmick/GAS_BASED_SEED_MODEL_UNIFORM_RUNS/L12p5n512/AREPO/output_ratio10_SFMFGM5_seed5.00_bFOF_LW10_DFD_3/'"
   ]
  },
  {
   "cell_type": "code",
   "execution_count": 252,
   "metadata": {
    "tags": []
   },
   "outputs": [],
   "source": [
    "basePath = '/orange/lblecha/aklantbhowmick/GAS_BASED_SEED_MODEL_UNIFORM_RUNS/L12p5n512/AREPO/output_ratio10_SFMFGM5_seed5.00_bFOF_LW10_spin_rich/'"
   ]
  },
  {
   "cell_type": "code",
   "execution_count": 253,
   "metadata": {
    "tags": []
   },
   "outputs": [
    {
     "name": "stdout",
     "output_type": "stream",
     "text": [
      "Max redshift: 25\n",
      "Box length : 18.461 Mpc\n"
     ]
    }
   ],
   "source": [
    "snap_num = 0\n",
    "h = il.groupcat.loadHeader(basePath_DF, snap_num)['HubbleParam']\n",
    "Box_l = il.groupcat.loadHeader(basePath_DF,snap_num)['BoxSize']/1000/h\n",
    "redshifts  =np.array([il.groupcat.loadHeader(basePath, snap)['Redshift'] for snap in snaps])\n",
    "print(\"Max redshift: %d\"%(redshifts[0]))\n",
    "print(\"Box length : %1.3f Mpc\"%(Box_l))"
   ]
  },
  {
   "cell_type": "code",
   "execution_count": 254,
   "metadata": {
    "tags": []
   },
   "outputs": [
    {
     "name": "stdout",
     "output_type": "stream",
     "text": [
      "The number of BH mergers in this run is 2990\n"
     ]
    },
    {
     "data": {
      "text/plain": [
       "(<Figure size 500x300 with 1 Axes>,\n",
       " <Axes: title={'center': 'Mergers in BRAHMA'}, xlabel='z', ylabel='Number of mergers'>)"
      ]
     },
     "execution_count": 254,
     "metadata": {},
     "output_type": "execute_result"
    },
    {
     "data": {
      "image/png": "[encoded data removed]",
      "text/plain": [
       "<Figure size 500x300 with 1 Axes>"
      ]
     },
     "metadata": {},
     "output_type": "display_data"
    }
   ],
   "source": [
    "bh_merger_properties=np.load(basePath_DF + 'merger_statistics_subhalo_remnants.npy',allow_pickle=True)[0]\n",
    "show_mergers_hist(bh_merger_properties)"
   ]
  },
  {
   "cell_type": "code",
   "execution_count": 255,
   "metadata": {
    "tags": []
   },
   "outputs": [
    {
     "name": "stdout",
     "output_type": "stream",
     "text": [
      "dict_keys(['merger_redshift', 'remnant_redshift', 'BH_ID1', 'BH_ID2', 'BH_Mass1', 'BH_Mass2', 'remnant_SubhaloID', 'remnant_SubhaloDarkMatterMass', 'remnant_SubhaloStellarMass', 'remnant_SubhaloHalfMassRadii', 'remnant_central_or_satellite', 'merger_type'])\n"
     ]
    }
   ],
   "source": [
    "merger_properties=np.load(basePath_DF + 'merger_statistics_subhalo_remnants.npy',allow_pickle=True)[0]\n",
    "print(merger_properties.keys())\n",
    "true_merger_flag  = np.array(merger_properties['merger_type'])==1"
   ]
  },
  {
   "cell_type": "code",
   "execution_count": 256,
   "metadata": {
    "tags": []
   },
   "outputs": [
    {
     "name": "stdout",
     "output_type": "stream",
     "text": [
      "There are 2990 mergers in this run\n"
     ]
    }
   ],
   "source": [
    "print(\"There are %d mergers in this run\"%(np.sum(true_merger_flag)))"
   ]
  },
  {
   "cell_type": "code",
   "execution_count": 257,
   "metadata": {
    "tags": []
   },
   "outputs": [],
   "source": [
    "snapshots_DF = get_snapshots_to_bh_mergers(basePath_DF)"
   ]
  },
  {
   "cell_type": "code",
   "execution_count": 258,
   "metadata": {
    "tags": []
   },
   "outputs": [],
   "source": [
    "merger_remnant_snap = np.array(snapshots_DF)[true_merger_flag]"
   ]
  },
  {
   "cell_type": "code",
   "execution_count": 259,
   "metadata": {
    "tags": []
   },
   "outputs": [],
   "source": [
    "merger_remnant_snap = []\n",
    "merger_remnant_z = np.array(merger_properties['remnant_redshift'])[true_merger_flag]\n",
    "merger_remnant_SubhaloID = np.array(merger_properties['remnant_SubhaloID'])[true_merger_flag]\n",
    "\n",
    "for remnant_redshift in merger_remnant_z:\n",
    "    idx = np.where(z_list == remnant_redshift)[0]\n",
    "    merger_remnant_snap.append(snap_list[idx[0]])\n"
   ]
  },
  {
   "cell_type": "code",
   "execution_count": 260,
   "metadata": {
    "tags": []
   },
   "outputs": [
    {
     "data": {
      "text/plain": [
       "2990"
      ]
     },
     "execution_count": 260,
     "metadata": {},
     "output_type": "execute_result"
    }
   ],
   "source": [
    "len(merger_remnant_snap)"
   ]
  },
  {
   "cell_type": "code",
   "execution_count": 261,
   "metadata": {
    "tags": []
   },
   "outputs": [
    {
     "data": {
      "text/plain": [
       "2990"
      ]
     },
     "execution_count": 261,
     "metadata": {},
     "output_type": "execute_result"
    }
   ],
   "source": [
    "len(merger_remnant_SubhaloID )"
   ]
  },
  {
   "cell_type": "code",
   "execution_count": 262,
   "metadata": {
    "tags": []
   },
   "outputs": [
    {
     "data": {
      "text/plain": [
       "16"
      ]
     },
     "execution_count": 262,
     "metadata": {},
     "output_type": "execute_result"
    }
   ],
   "source": [
    "merger_remnant_snap[0]"
   ]
  },
  {
   "cell_type": "code",
   "execution_count": 226,
   "metadata": {
    "tags": []
   },
   "outputs": [
    {
     "data": {
      "text/plain": [
       "'/orange/lblecha/aklantbhowmick/GAS_BASED_SEED_MODEL_UNIFORM_RUNS/L12p5n512/AREPO/output_ratio10_SFMFGM5_seed5.00_bFOF_LW10_spin_rich/postprocessing/tree_extended.hdf5'"
      ]
     },
     "execution_count": 226,
     "metadata": {},
     "output_type": "execute_result"
    }
   ],
   "source": [
    "basePath+'postprocessing/tree_extended.hdf5'"
   ]
  },
  {
   "cell_type": "code",
   "execution_count": 263,
   "metadata": {
    "tags": []
   },
   "outputs": [],
   "source": [
    "tree=h5py.File(basePath_DF+'postprocessing/tree_extended.hdf5','r')\n",
    "SubfindID=tree.get('SubfindID')[:]\n",
    "FirstProgenitorID=tree.get('FirstProgenitorID')[:]\n",
    "NextProgenitorID=tree.get('NextProgenitorID')[:]\n",
    "DescendantID=tree.get('DescendantID')[:]\n",
    "SnapNum=tree.get('SnapNum')[:]\n",
    "SubhaloID=tree.get('SubhaloID')[:]"
   ]
  },
  {
   "cell_type": "code",
   "execution_count": 288,
   "metadata": {
    "tags": []
   },
   "outputs": [],
   "source": [
    "def print_tree_details_for_bh_merger(tree,i):\n",
    "    tree_target_index = (SubfindID == merger_remnant_SubhaloID[i])&(SnapNum == merger_remnant_snap[i])\n",
    "    print(\"SubhaloID:\",SubhaloID[tree_target_index])\n",
    "    print(\"FpID:\",FirstProgenitorID[tree_target_index])\n",
    "    print(\"npID:\",NextProgenitorID[tree_target_index])\n",
    "    print(\"dID:\",DescendantID[tree_target_index])\n",
    "    print(\"snap at BH merger:\",SnapNum[tree_target_index])\n",
    "    \n",
    "def print_tree_details(tree,tree_target_index):\n",
    "\n",
    "    print(\"SubhaloID:\",SubhaloID[tree_target_index])\n",
    "    print(\"FpID:\",FirstProgenitorID[tree_target_index])\n",
    "    print(\"npID:\",NextProgenitorID[tree_target_index])\n",
    "    print(\"dID:\",DescendantID[tree_target_index])\n",
    "    print(\"snap at BH merger:\",SnapNum[tree_target_index])\n",
    "    "
   ]
  },
  {
   "cell_type": "markdown",
   "metadata": {},
   "source": [
    "## fpID is equal to -1\n",
    "The subhalo containing the BHs have no progenitors which means the BHs have merged but the subhalo hasn't. Look for the next progenitor of this subhalo and the descendent of them would be the post merger subhalo."
   ]
  },
  {
   "cell_type": "code",
   "execution_count": 289,
   "metadata": {
    "tags": []
   },
   "outputs": [
    {
     "name": "stdout",
     "output_type": "stream",
     "text": [
      "SubhaloID: [300000031000000004]\n",
      "FpID: [-1]\n",
      "npID: [300000031000000005]\n",
      "dID: [300000031000000003]\n",
      "snap at BH merger: [21]\n"
     ]
    }
   ],
   "source": [
    "print_tree_details_for_bh_merger(tree,27)"
   ]
  },
  {
   "cell_type": "code",
   "execution_count": 290,
   "metadata": {
    "tags": []
   },
   "outputs": [
    {
     "data": {
      "text/plain": [
       "505679"
      ]
     },
     "execution_count": 290,
     "metadata": {},
     "output_type": "execute_result"
    }
   ],
   "source": [
    "np.where(SubhaloID==300000031000000003)[0][0]"
   ]
  },
  {
   "cell_type": "code",
   "execution_count": 291,
   "metadata": {
    "tags": []
   },
   "outputs": [
    {
     "name": "stdout",
     "output_type": "stream",
     "text": [
      "SubhaloID: 300000031000000003\n",
      "FpID: 300000031000000004\n",
      "npID: -1\n",
      "dID: 300000031000000002\n",
      "snap at BH merger: 22\n"
     ]
    }
   ],
   "source": [
    "print_tree_details(tree,505679)"
   ]
  },
  {
   "cell_type": "markdown",
   "metadata": {},
   "source": [
    "300000031000000002 is the post BH merger (w/o postprocessing) subhalo"
   ]
  },
  {
   "cell_type": "markdown",
   "metadata": {
    "tags": []
   },
   "source": [
    "## fpID is not equal to -1, np is -1\n",
    "\n",
    "There is a first progenitor associated with this subhalo of bh merger but it has no next progenitor. Check if it has a next progenitor in this snapshot"
   ]
  },
  {
   "cell_type": "code",
   "execution_count": 293,
   "metadata": {
    "tags": []
   },
   "outputs": [
    {
     "name": "stdout",
     "output_type": "stream",
     "text": [
      "SubhaloID: [20000000000002832]\n",
      "FpID: [20000000000002833]\n",
      "npID: [-1]\n",
      "dID: [20000000000002831]\n",
      "snap at BH merger: [16]\n"
     ]
    }
   ],
   "source": [
    "print_tree_details_for_bh_merger(tree,0)"
   ]
  },
  {
   "cell_type": "code",
   "execution_count": 295,
   "metadata": {
    "tags": []
   },
   "outputs": [
    {
     "data": {
      "text/plain": [
       "32869"
      ]
     },
     "execution_count": 295,
     "metadata": {},
     "output_type": "execute_result"
    }
   ],
   "source": [
    "np.where(SubhaloID==20000000000002833)[0][0]"
   ]
  },
  {
   "cell_type": "code",
   "execution_count": 296,
   "metadata": {
    "tags": []
   },
   "outputs": [
    {
     "name": "stdout",
     "output_type": "stream",
     "text": [
      "SubhaloID: 20000000000002833\n",
      "FpID: 20000000000002834\n",
      "npID: -1\n",
      "dID: 20000000000002832\n",
      "snap at BH merger: 15\n"
     ]
    }
   ],
   "source": [
    "print_tree_details(tree,32869)"
   ]
  },
  {
   "cell_type": "markdown",
   "metadata": {
    "tags": []
   },
   "source": [
    "##### if not check the descendant in the nexr snapshot"
   ]
  },
  {
   "cell_type": "code",
   "execution_count": 298,
   "metadata": {
    "tags": []
   },
   "outputs": [
    {
     "data": {
      "text/plain": [
       "32867"
      ]
     },
     "execution_count": 298,
     "metadata": {},
     "output_type": "execute_result"
    }
   ],
   "source": [
    "np.where(SubhaloID==20000000000002831)[0][0]"
   ]
  },
  {
   "cell_type": "code",
   "execution_count": 299,
   "metadata": {
    "tags": []
   },
   "outputs": [
    {
     "name": "stdout",
     "output_type": "stream",
     "text": [
      "SubhaloID: 20000000000002831\n",
      "FpID: 20000000000002832\n",
      "npID: -1\n",
      "dID: 20000000000002830\n",
      "snap at BH merger: 17\n"
     ]
    }
   ],
   "source": [
    "print_tree_details(tree,32867)"
   ]
  },
  {
   "cell_type": "code",
   "execution_count": 300,
   "metadata": {
    "tags": []
   },
   "outputs": [
    {
     "data": {
      "text/plain": [
       "32866"
      ]
     },
     "execution_count": 300,
     "metadata": {},
     "output_type": "execute_result"
    }
   ],
   "source": [
    "np.where(SubhaloID==20000000000002830)[0][0]"
   ]
  },
  {
   "cell_type": "code",
   "execution_count": 301,
   "metadata": {
    "tags": []
   },
   "outputs": [
    {
     "name": "stdout",
     "output_type": "stream",
     "text": [
      "SubhaloID: 20000000000002830\n",
      "FpID: 20000000000002831\n",
      "npID: 20000000000002837\n",
      "dID: 20000000000002829\n",
      "snap at BH merger: 18\n"
     ]
    }
   ],
   "source": [
    "print_tree_details(tree,32866)"
   ]
  },
  {
   "cell_type": "markdown",
   "metadata": {},
   "source": [
    "### Keep looking at the descendants until you find a merger. In this case the subhalos merge at snapshot 18!"
   ]
  },
  {
   "cell_type": "markdown",
   "metadata": {},
   "source": [
    "## Special case: No subhalo found for bh merger!"
   ]
  },
  {
   "cell_type": "code",
   "execution_count": 302,
   "metadata": {
    "tags": []
   },
   "outputs": [
    {
     "name": "stdout",
     "output_type": "stream",
     "text": [
      "[] [] [] [] []\n"
     ]
    }
   ],
   "source": [
    "tree_target_index = (SubfindID == merger_remnant_SubhaloID[527])&(SnapNum == merger_remnant_snap[527])\n",
    "print(SubhaloID[tree_target_index],FirstProgenitorID[tree_target_index],NextProgenitorID[tree_target_index],DescendantID[tree_target_index],SnapNum[tree_target_index])"
   ]
  },
  {
   "cell_type": "code",
   "execution_count": 303,
   "metadata": {
    "tags": []
   },
   "outputs": [
    {
     "name": "stdout",
     "output_type": "stream",
     "text": [
      "SubhaloID: []\n",
      "FpID: []\n",
      "npID: []\n",
      "dID: []\n",
      "snap at BH merger: []\n"
     ]
    }
   ],
   "source": [
    "print_tree_details_for_bh_merger(tree,527)"
   ]
  },
  {
   "cell_type": "markdown",
   "metadata": {},
   "source": [
    "## However,"
   ]
  },
  {
   "cell_type": "code",
   "execution_count": 265,
   "metadata": {
    "tags": []
   },
   "outputs": [
    {
     "name": "stdout",
     "output_type": "stream",
     "text": [
      "[30000000100001198] [30000000100001199] [-1] [30000000100001197] [16]\n"
     ]
    }
   ],
   "source": [
    "tree_target_index = (SubfindID == merger_remnant_SubhaloID[527])&(SnapNum == merger_remnant_snap[527]+1)\n",
    "print(SubhaloID[tree_target_index],FirstProgenitorID[tree_target_index],NextProgenitorID[tree_target_index],DescendantID[tree_target_index],SnapNum[tree_target_index])"
   ]
  },
  {
   "cell_type": "code",
   "execution_count": 230,
   "metadata": {
    "tags": []
   },
   "outputs": [
    {
     "data": {
      "text/plain": [
       "300000031000000004"
      ]
     },
     "execution_count": 230,
     "metadata": {},
     "output_type": "execute_result"
    }
   ],
   "source": [
    "FirstProgenitorID[505679]"
   ]
  },
  {
   "cell_type": "code",
   "execution_count": 231,
   "metadata": {
    "tags": []
   },
   "outputs": [
    {
     "name": "stdout",
     "output_type": "stream",
     "text": [
      "[300000031000000004]\n"
     ]
    }
   ],
   "source": [
    "print(SubhaloID[tree_target_index])"
   ]
  },
  {
   "cell_type": "code",
   "execution_count": 232,
   "metadata": {
    "tags": []
   },
   "outputs": [
    {
     "name": "stdout",
     "output_type": "stream",
     "text": [
      "0 [False False False ... False False False] [20000000000002833]\n",
      "1 [False False False ... False False False] [50000001400000014]\n",
      "2 [False False False ... False False False] [12914]\n",
      "3 [False False False ... False False False] [10000000100005158]\n",
      "4 [False False False ... False False False] [170000014400000008]\n",
      "5 [False False False ... False False False] [170000015900000006]\n",
      "6 [False False False ... False False False] [8272]\n",
      "7 [False False False ... False False False] [240]\n",
      "8 [False False False ... False False False] [110000037600000014]\n",
      "9 [False False False ... False False False] [90000029800000011]\n",
      "10 [False False False ... False False False] [110000040100000008]\n",
      "11 [False False False ... False False False] [110000021100000007]\n",
      "12 [False False False ... False False False] [30000000500001046]\n",
      "13 [False False False ... False False False] [100]\n",
      "14 [False False False ... False False False] [1896]\n",
      "15 [False False False ... False False False] [30000000400000046]\n",
      "16 [False False False ... False False False] [30000000400000046]\n",
      "17 [False False False ... False False False] [30000000400000046]\n",
      "18 [False False False ... False False False] [541]\n",
      "19 [False False False ... False False False] [50000002300000169]\n",
      "20 [False False False ... False False False] [50000002300000169]\n",
      "21 [False False False ... False False False] [50000002300000169]\n",
      "22 [False False False ... False False False] [120000003400000009]\n",
      "23 [False False False ... False False False] [30000000500000147]\n",
      "24 [False False False ... False False False] [13]\n",
      "25 [False False False ... False False False] [70000007400000013]\n",
      "26 [False False False ... False False False] [80000021200000012]\n",
      "27 [False False False ... False False False] [-1]\n",
      "28 [False False False ... False False False] [130000084100000010]\n",
      "29 [False False False ... False False False] [170000062100000007]\n",
      "30 [False False False ... False False False] [40000000500000799]\n",
      "31 [False False False ... False False False] [70000001300000058]\n",
      "32 [False False False ... False False False] [20000000100001595]\n",
      "33 [False False False ... False False False] [2431]\n",
      "34 [False False False ... False False False] [10000000100000788]\n",
      "35 [False False False ... False False False] [20000000200000685]\n",
      "36 [False False False ... False False False] [20000000200000685]\n",
      "37 [False False False ... False False False] [8548]\n",
      "38 [False False False ... False False False] [140000112600000010]\n",
      "39 [False False False ... False False False] [30000000400001586]\n",
      "40 [False False False ... False False False] [160000100400000009]\n",
      "41 [False False False ... False False False] [130000040100000008]\n",
      "42 [False False False ... False False False] [60000000500000139]\n",
      "43 [False False False ... False False False] [40000001400000537]\n",
      "44 [False False False ... False False False] [-1]\n",
      "45 [False False False ... False False False] [10000000000005979]\n",
      "46 [False False False ... False False False] [70000003500000009]\n",
      "47 [False False False ... False False False] [190000073200000003]\n",
      "48 [False False False ... False False False] [40000001100000031]\n",
      "49 [False False False ... False False False] [20000000100004602]\n",
      "50 [False False False ... False False False] [110000044200000011]\n",
      "51 [False False False ... False False False] [20000000000003191]\n",
      "52 [False False False ... False False False] [100000051100000011]\n",
      "53 [False False False ... False False False] [90000009400000015]\n",
      "54 [False False False ... False False False] [130000024300000010]\n",
      "55 [False False False ... False False False] [160000006100000009]\n",
      "56 [False False False ... False False False] [80000006000000043]\n",
      "57 [False False False ... False False False] [80000019100000008]\n",
      "58 [False False False ... False False False] [150000122900000008]\n",
      "59 [False False False ... False False False] [140000038900000003]\n",
      "60 [False False False ... False False False] [-1]\n",
      "61 [False False False ... False False False] [50000000500000157]\n",
      "62 [False False False ... False False False] [2769]\n",
      "63 [False False False ... False False False] [60000000300000051]\n",
      "64 [False False False ... False False False] [60000007200000094]\n",
      "65 [False False False ... False False False] [40000000200000941]\n",
      "66 [False False False ... False False False] [120000073200000010]\n",
      "67 [False False False ... False False False] [160000093200000008]\n",
      "68 [False False False ... False False False] [110000056600000008]\n",
      "69 [False False False ... False False False] [160000095000000007]\n",
      "70 [False False False ... False False False] [110000042800000002]\n",
      "71 [False False False ... False False False] [70000002100000037]\n",
      "72 [False False False ... False False False] [40000000900000632]\n",
      "73 [False False False ... False False False] [80000002300000018]\n",
      "74 [False False False ... False False False] [70000006900000011]\n",
      "75 [False False False ... False False False] [80000018800000031]\n",
      "76 [False False False ... False False False] [150000077900000010]\n",
      "77 [False False False ... False False False] [120000034000000008]\n",
      "78 [False False False ... False False False] [110000045500000003]\n",
      "79 [False False False ... False False False] [9587]\n",
      "80 [False False False ... False False False] [20000000000004122]\n",
      "81 [False False False ... False False False] [50000000100000411]\n",
      "82 [False False False ... False False False] [40000001000000369]\n",
      "83 [False False False ... False False False] [10000000000004303]\n",
      "84 [False False False ... False False False] [60000008100000014]\n",
      "85 [False False False ... False False False] [10000000100005797]\n",
      "86 [False False False ... False False False] [80000006600000010]\n",
      "87 [False False False ... False False False] [30000000200002473]\n",
      "88 [False False False ... False False False] [110000040400000010]\n",
      "89 [False False False ... False False False] [90000001300000029]\n",
      "90 [False False False ... False False False] [190000082300000003]\n",
      "91 [False False False ... False False False] [30000000000000073]\n",
      "92 [False False False ... False False False] [30000000500000192]\n",
      "93 [False False False ... False False False] [50000002700000178]\n",
      "94 [False False False ... False False False] [5794]\n",
      "95 [False False False ... False False False] [30000000200002065]\n",
      "96 [False False False ... False False False] [20000000100004556]\n",
      "97 [False False False ... False False False] [20000000000003666]\n",
      "98 [False False False ... False False False] [180000150300000001]\n",
      "99 [False False False ... False False False] [20000000100001014]\n",
      "100 [False False False ... False False False] [70000011200000027]\n",
      "101 [False False False ... False False False] [60000000100000252]\n",
      "102 [False False False ... False False False] [230000000100000006]\n",
      "103 [False False False ... False False False] [30000000200001472]\n",
      "104 [False False False ... False False False] [70000006600000095]\n",
      "105 [False False False ... False False False] [90000026200000008]\n",
      "106 [False False False ... False False False] [30000000300001601]\n",
      "107 [False False False ... False False False] [-1]\n",
      "108 [False False False ... False False False] [70000006800000019]\n",
      "109 [False False False ... False False False] [110000061400000011]\n",
      "110 [False False False ... False False False] [250000132500000006]\n",
      "111 [False False False ... False False False] [20000000100000193]\n",
      "112 [False False False ... False False False] [30000000200002473]\n",
      "113 [False False False ... False False False] [10000000100004444]\n",
      "114 [False False False ... False False False] [60000003100000014]\n",
      "115 [False False False ... False False False] [60000001500000013]\n",
      "116 [False False False ... False False False] [20000000100002776]\n",
      "117 [False False False ... False False False] [30000000400001586]\n",
      "118 [False False False ... False False False] [60000002600000131]\n",
      "119 [False False False ... False False False] [110000073200000008]\n",
      "120 [False False False ... False False False] [100000018300000008]\n",
      "121 [False False False ... False False False] [160000136700000008]\n",
      "122 [False False False ... False False False] [100000038800000006]\n",
      "123 [False False False ... False False False] [70000007600000047]\n",
      "124 [False False False ... False False False] [120000021000000011]\n",
      "125 [False False False ... False False False] [330000257600000002]\n",
      "126 [False False False ... False False False] [10000000100005158]\n",
      "127 [False False False ... False False False] [30000000100002640]\n",
      "128 [False False False ... False False False] [180000097700000003]\n",
      "129 [False False False ... False False False] [40000000100000040]\n",
      "130 [False False False ... False False False] [110000015600000011]\n",
      "131 [False False False ... False False False] [20000000100004264]\n",
      "132 [False False False ... False False False] [130000105200000011]\n",
      "133 [False False False ... False False False] [60000007000000010]\n",
      "134 [False False False ... False False False] [190000043200000010]\n",
      "135 [False False False ... False False False] [50000000100000641]\n",
      "136 [False False False ... False False False] [80000010000000036]\n",
      "137 [False False False ... False False False] [13840]\n",
      "138 [False False False ... False False False] [220000059200000005]\n",
      "139 [False False False ... False False False] [40000000100001532]\n",
      "140 [False False False ... False False False] [90000017100000025]\n",
      "141 [False False False ... False False False] [120000035900000011]\n",
      "142 [False False False ... False False False] [140000052900000007]\n",
      "143 [False False False ... False False False] [110000072900000004]\n",
      "144 [False False False ... False False False] [230000067800000001]\n",
      "145 [False False False ... False False False] [-1]\n",
      "146 [False False False ... False False False] [70000007500000016]\n",
      "147 [False False False ... False False False] [80000010500000013]\n",
      "148 [False False False ... False False False] [70000003600000030]\n",
      "149 [False False False ... False False False] [60000000000000093]\n",
      "150 [False False False ... False False False] [10000000100001053]\n",
      "151 [False False False ... False False False] [90000013800000015]\n",
      "152 [False False False ... False False False] [60000006900000022]\n",
      "153 [False False False ... False False False] [100000033700000012]\n",
      "154 [False False False ... False False False] [80000011000000030]\n",
      "155 [False False False ... False False False] [150000130900000008]\n",
      "156 [False False False ... False False False] [120000043900000002]\n",
      "157 [False False False ... False False False] [-1]\n",
      "158 [False False False ... False False False] [50000001400000014]\n",
      "159 [False False False ... False False False] [40000001400000435]\n",
      "160 [False False False ... False False False] [20000000000000447]\n",
      "161 [False False False ... False False False] [40000000900000235]\n",
      "162 [False False False ... False False False] [-1]\n",
      "163 [False False False ... False False False] [110000028600000010]\n",
      "164 [False False False ... False False False] [160000116700000006]\n",
      "165 [False False False ... False False False] [20000000000001283]\n",
      "166 [False False False ... False False False] [10000000100000486]\n",
      "167 [False False False ... False False False] [14899]\n",
      "168 [False False False ... False False False] [90000015900000009]\n",
      "169 [False False False ... False False False] [10000000100000266]\n",
      "170 [False False False ... False False False] [80000026300000048]\n",
      "171 [False False False ... False False False] [160000130800000011]\n",
      "172 [False False False ... False False False] [100000037900000011]\n",
      "173 [False False False ... False False False] [50000001000000028]\n",
      "174 [False False False ... False False False] [12397]\n",
      "175 [False False False ... False False False] [130000028400000013]\n",
      "176 [False False False ... False False False] [20000000000000715]\n",
      "177 [False False False ... False False False] [80000004700000011]\n",
      "178 [False False False ... False False False] [70000001600000009]\n",
      "179 [False False False ... False False False] [20000000200000758]\n",
      "180 [False False False ... False False False] [80000002300000014]\n",
      "181 [False False False ... False False False] [110000058400000019]\n",
      "182 [False False False ... False False False] [90000007500000032]\n",
      "183 [False False False ... False False False] [40000001200000213]\n",
      "184 [False False False ... False False False] [30000000300001761]\n",
      "185 [False False False ... False False False] [170000011200000009]\n",
      "186 [False False False ... False False False] [100000050300000009]\n",
      "187 [False False False ... False False False] [140000111200000009]\n",
      "188 [False False False ... False False False] [30000000000001561]\n",
      "189 [False False False ... False False False] [40000000200000207]\n",
      "190 [False False False ... False False False] [70000011700000024]\n",
      "191 [False False False ... False False False] [40000000200001348]\n",
      "192 [False False False ... False False False] [60000000100000252]\n",
      "193 [False False False ... False False False] [110000007100000010]\n",
      "194 [False False False ... False False False] [40000000100000969]\n",
      "195 [False False False ... False False False] [90000002900000037]\n",
      "196 [False False False ... False False False] [110000056600000008]\n",
      "197 [False False False ... False False False] [150000009800000008]\n",
      "198 [False False False ... False False False] [70000009800000050]\n",
      "199 [False False False ... False False False] [90000012400000039]\n",
      "200 [False False False ... False False False] [30000000100001388]\n",
      "201 [False False False ... False False False] [80000014800000011]\n",
      "202 [False False False ... False False False] [20000000100001109]\n",
      "203 [False False False ... False False False] [110000030800000010]\n",
      "204 [False False False ... False False False] [140000000900000009]\n",
      "205 [False False False ... False False False] [160000000900000009]\n",
      "206 [False False False ... False False False] [120000027600000008]\n",
      "207 [False False False ... False False False] [170000053000000006]\n",
      "208 [False False False ... False False False] [110000020900000022]\n",
      "209 [False False False ... False False False] [70000015600000009]\n",
      "210 [False False False ... False False False] [177]\n",
      "211 [False False False ... False False False] [177]\n",
      "212 [False False False ... False False False] [177]\n",
      "213 [False False False ... False False False] [50000002400000184]\n",
      "214 [False False False ... False False False] [70000001000000034]\n",
      "215 [False False False ... False False False] [10000000100003104]\n",
      "216 [False False False ... False False False] [330000104200000003]\n",
      "217 [False False False ... False False False] [120000002300000005]\n",
      "218 [False False False ... False False False] [10000000000001713]\n",
      "219 [False False False ... False False False] [-1]\n",
      "220 [False False False ... False False False] [80000008200000037]\n",
      "221 [False False False ... False False False] [11868]\n",
      "222 [False False False ... False False False] [100000018700000010]\n",
      "223 [False False False ... False False False] [110000056800000004]\n",
      "224 [False False False ... False False False] [140000007400000002]\n",
      "225 [False False False ... False False False] [60000003200000016]\n",
      "226 [False False False ... False False False] [466]\n",
      "227 [False False False ... False False False] [-1]\n",
      "228 [False False False ... False False False] [110000044300000009]\n",
      "229 [False False False ... False False False] [160000013700000009]\n",
      "230 [False False False ... False False False] [130000041400000013]\n",
      "231 [False False False ... False False False] [100000039600000015]\n",
      "232 [False False False ... False False False] [20000000000000142]\n",
      "233 [False False False ... False False False] [15894]\n",
      "234 [False False False ... False False False] [100000038500000010]\n",
      "235 [False False False ... False False False] [30000000400001586]\n",
      "236 [False False False ... False False False] [40000000500000801]\n",
      "237 [False False False ... False False False] [50000000700000560]\n",
      "238 [False False False ... False False False] [60000001400000039]\n",
      "239 [False False False ... False False False] [20000000100003850]\n",
      "240 [False False False ... False False False] [180000112300000002]\n",
      "241 [False False False ... False False False] [-1]\n",
      "242 [False False False ... False False False] [70000010500000014]\n",
      "243 [False False False ... False False False] [9299]\n",
      "244 [False False False ... False False False] [9299]\n",
      "245 [False False False ... False False False] [140000040900000011]\n",
      "246 [False False False ... False False False] [340000404300000001]\n",
      "247 [False False False ... False False False] [-1]\n",
      "248 [False False False ... False False False] [160000132000000006]\n",
      "249 [False False False ... False False False] [80000003400000060]\n",
      "250 [False False False ... False False False] [150000118100000002]\n",
      "251 [False False False ... False False False] [70000003400000056]\n",
      "252 [False False False ... False False False] [30000000500000654]\n",
      "253 [False False False ... False False False] [80000005600000012]\n",
      "254 [False False False ... False False False] [50000000600000421]\n",
      "255 [False False False ... False False False] [4813]\n",
      "256 [False False False ... False False False] [100000008500000009]\n",
      "257 [False False False ... False False False] [100000009800000008]\n",
      "258 [False False False ... False False False] [90000004600000032]\n",
      "259 [False False False ... False False False] [20000000200003426]\n",
      "260 [False False False ... False False False] [20000000100000729]\n",
      "261 [False False False ... False False False] [40000000500000389]\n",
      "262 [False False False ... False False False] [110000029300000011]\n",
      "263 [False False False ... False False False] [110000028600000010]\n",
      "264 [False False False ... False False False] [90000019800000007]\n",
      "265 [False False False ... False False False] [20000000100001245]\n",
      "266 [False False False ... False False False] [60000000200000056]\n",
      "267 [False False False ... False False False] [70000011100000035]\n",
      "268 [False False False ... False False False] [80000000600000019]\n",
      "269 [False False False ... False False False] [70000010000000022]\n",
      "270 [False False False ... False False False] [10000000100005158]\n",
      "271 [False False False ... False False False] [160000064900000009]\n",
      "272 [False False False ... False False False] [110000014900000001]\n",
      "273 [False False False ... False False False] [30000000100001190]\n",
      "274 [False False False ... False False False] [110000016100000015]\n",
      "275 [False False False ... False False False] [10000000100000468]\n",
      "276 [False False False ... False False False] [110000038300000012]\n",
      "277 [False False False ... False False False] [20000000000002748]\n",
      "278 [False False False ... False False False] [30000000000001248]\n",
      "279 [False False False ... False False False] [110000065000000010]\n",
      "280 [False False False ... False False False] [70000010400000081]\n",
      "281 [False False False ... False False False] [120000039100000007]\n",
      "282 [False False False ... False False False] [110000020200000006]\n",
      "283 [False False False ... False False False] [5370]\n",
      "284 [False False False ... False False False] [110000005700000014]\n",
      "285 [False False False ... False False False] [40000000100000849]\n",
      "286 [False False False ... False False False] [110000073600000011]\n",
      "287 [False False False ... False False False] [150000087000000010]\n",
      "288 [False False False ... False False False] [230000000100000006]\n",
      "289 [False False False ... False False False] [50000001900000135]\n",
      "290 [False False False ... False False False] [30000000500001806]\n",
      "291 [False False False ... False False False] [150000067500000008]\n",
      "292 [False False False ... False False False] [40000000500000799]\n",
      "293 [False False False ... False False False] [180000113800000006]\n",
      "294 [False False False ... False False False] [80000010500000017]\n",
      "295 [False False False ... False False False] [30000000200001472]\n",
      "296 [False False False ... False False False] [90000025400000008]\n",
      "297 [False False False ... False False False] [20000000200001277]\n",
      "298 [False False False ... False False False] [-1]\n",
      "299 [False False False ... False False False] [70000007400000024]\n",
      "300 [False False False ... False False False] [130000009100000010]\n",
      "301 [False False False ... False False False] [110000043900000009]\n",
      "302 [False False False ... False False False] [330000172300000001]\n",
      "303 [False False False ... False False False] [180000150300000001]\n",
      "304 [False False False ... False False False] [50000001000000324]\n",
      "305 [False False False ... False False False] [150000058400000010]\n",
      "306 [False False False ... False False False] [80000011400000031]\n",
      "307 [False False False ... False False False] [5299]\n",
      "308 [False False False ... False False False] [10000000000001346]\n",
      "309 [False False False ... False False False] [10000000100005797]\n",
      "310 [False False False ... False False False] [90000000000000020]\n",
      "311 [False False False ... False False False] [40000000000000743]\n",
      "312 [False False False ... False False False] [70000008600000015]\n",
      "313 [False False False ... False False False] [30000000300001112]\n",
      "314 [False False False ... False False False] [90000008200000029]\n",
      "315 [False False False ... False False False] [190000038300000008]\n",
      "316 [False False False ... False False False] [190000000400000004]\n",
      "317 [False False False ... False False False] [220000096700000003]\n",
      "318 [False False False ... False False False] [10000000000001079]\n",
      "319 [False False False ... False False False] [2761]\n",
      "320 [False False False ... False False False] [110000057100000007]\n",
      "321 [False False False ... False False False] [160000046200000006]\n",
      "322 [False False False ... False False False] [20000000200000706]\n",
      "323 [False False False ... False False False] [40000000300000112]\n",
      "324 [False False False ... False False False] [110000035400000013]\n",
      "325 [False False False ... False False False] [30000000100000734]\n",
      "326 [False False False ... False False False] [40000001100000015]\n",
      "327 [False False False ... False False False] [40000000000000052]\n",
      "328 [False False False ... False False False] [40000000600000773]\n",
      "329 [False False False ... False False False] [130000068300000010]\n",
      "330 [False False False ... False False False] [70000014100000038]\n",
      "331 [False False False ... False False False] [180000120800000008]\n",
      "332 [False False False ... False False False] [60000001500000013]\n",
      "333 [False False False ... False False False] [40000000000000488]\n",
      "334 [False False False ... False False False] [30000000300000155]\n",
      "335 [False False False ... False False False] [30000000200002162]\n",
      "336 [False False False ... False False False] [-1]\n",
      "337 [False False False ... False False False] [130000051700000009]\n",
      "338 [False False False ... False False False] [150000068600000008]\n",
      "339 [False False False ... False False False] [120000055600000004]\n",
      "340 [False False False ... False False False] [20000000200000910]\n",
      "341 [False False False ... False False False] [60000007800000015]\n",
      "342 [False False False ... False False False] [60000007800000015]\n",
      "343 [False False False ... False False False] [40000000000000533]\n",
      "344 [False False False ... False False False] [20000000000000777]\n",
      "345 [False False False ... False False False] [5043]\n",
      "346 [False False False ... False False False] [30000000000002124]\n",
      "347 [False False False ... False False False] [120000060600000007]\n",
      "348 [False False False ... False False False] [60000005800000015]\n",
      "349 [False False False ... False False False] [20000000100000071]\n",
      "350 [False False False ... False False False] [10000000000001570]\n",
      "351 [False False False ... False False False] [80000013800000044]\n",
      "352 [False False False ... False False False] [150000025800000009]\n",
      "353 [False False False ... False False False] [160000091800000008]\n",
      "354 [False False False ... False False False] [110000062100000007]\n",
      "355 [False False False ... False False False] [50000001900000255]\n",
      "356 [False False False ... False False False] [40000000900000526]\n",
      "357 [False False False ... False False False] [90000029200000013]\n",
      "358 [False False False ... False False False] [100000013400000022]\n",
      "359 [False False False ... False False False] [40000000300000376]\n",
      "360 [False False False ... False False False] [-1]\n",
      "361 [False False False ... False False False] [30000000500001221]\n",
      "362 [False False False ... False False False] [50000000400000160]\n",
      "363 [False False False ... False False False] [10000000100001207]\n",
      "364 [False False False ... False False False] [10000000100001207]\n",
      "365 [False False False ... False False False] [70000004900000023]\n",
      "366 [False False False ... False False False] [10000000100004580]\n",
      "367 [False False False ... False False False] [160000066600000011]\n",
      "368 [False False False ... False False False] [40000000900000080]\n",
      "369 [False False False ... False False False] [16557]\n",
      "370 [False False False ... False False False] [-1]\n",
      "371 [False False False ... False False False] [970]\n",
      "372 [False False False ... False False False] [178]\n",
      "373 [False False False ... False False False] [20000000000001750]\n",
      "374 [False False False ... False False False] [30000000200001396]\n",
      "375 [False False False ... False False False] [130000084100000010]\n",
      "376 [False False False ... False False False] [100000008400000009]\n",
      "377 [False False False ... False False False] [-1]\n",
      "378 [False False False ... False False False] [-1]\n",
      "379 [False False False ... False False False] [-1]\n",
      "380 [False False False ... False False False] [40000000900000632]\n",
      "381 [False False False ... False False False] [50000001300000028]\n",
      "382 [False False False ... False False False] [60000006500000042]\n",
      "383 [False False False ... False False False] [60000002900000037]\n",
      "384 [False False False ... False False False] [120000031600000010]\n",
      "385 [False False False ... False False False] [150000018400000005]\n",
      "386 [False False False ... False False False] [20000000000001044]\n",
      "387 [False False False ... False False False] [30000000100001183]\n",
      "388 [False False False ... False False False] [80000021700000014]\n",
      "389 [False False False ... False False False] [100000037400000020]\n",
      "390 [False False False ... False False False] [60000005000000064]\n",
      "391 [False False False ... False False False] [70000014000000058]\n",
      "392 [False False False ... False False False] [140000055900000009]\n",
      "393 [False False False ... False False False] [150000031100000004]\n",
      "394 [False False False ... False False False] [30000000100000430]\n",
      "395 [False False False ... False False False] [40000000100000169]\n",
      "396 [False False False ... False False False] [40000001300000013]\n",
      "397 [False False False ... False False False] [40000000000000725]\n",
      "398 [False False False ... False False False] [20000000100002034]\n",
      "399 [False False False ... False False False] [120000086200000011]\n",
      "400 [False False False ... False False False] [8414]\n",
      "401 [False False False ... False False False] [60000004100000038]\n",
      "402 [False False False ... False False False] [150000019400000008]\n",
      "403 [False False False ... False False False] [60000005500000129]\n",
      "404 [False False False ... False False False] [50000001700000061]\n",
      "405 [False False False ... False False False] [30000000300000133]\n",
      "406 [False False False ... False False False] [120000046500000012]\n",
      "407 [False False False ... False False False] [30000000500000666]\n",
      "408 [False False False ... False False False] [70000006900000057]\n",
      "409 [False False False ... False False False] [100000016700000011]\n",
      "410 [False False False ... False False False] [80000026500000011]\n",
      "411 [False False False ... False False False] [80000026500000008]\n",
      "412 [False False False ... False False False] [150000110400000008]\n",
      "413 [False False False ... False False False] [60000005300000051]\n",
      "414 [False False False ... False False False] [8260]\n",
      "415 [False False False ... False False False] [40000000700000322]\n",
      "416 [False False False ... False False False] [60000001600000091]\n",
      "417 [False False False ... False False False] [10000000100005158]\n",
      "418 [False False False ... False False False] [110000049200000019]\n",
      "419 [False False False ... False False False] [14207]\n",
      "420 [False False False ... False False False] [130000006400000009]\n",
      "421 [False False False ... False False False] [40000001100000362]\n",
      "422 [False False False ... False False False] [30000000300001761]\n",
      "423 [False False False ... False False False] [180000134900000001]\n",
      "424 [False False False ... False False False] [5275]\n",
      "425 [False False False ... False False False] [110000038800000014]\n",
      "426 [False False False ... False False False] [-1]\n",
      "427 [False False False ... False False False] [40000000800000098]\n",
      "428 [False False False ... False False False] [50000001600000220]\n",
      "429 [False False False ... False False False] [20000000100001896]\n",
      "430 [False False False ... False False False] [100000003600000012]\n",
      "431 [False False False ... False False False] [10000000100005797]\n",
      "432 [False False False ... False False False] [100000004600000010]\n",
      "433 [False False False ... False False False] [20000000100003007]\n",
      "434 [False False False ... False False False] [90000029500000024]\n",
      "435 [False False False ... False False False] [150000045800000008]\n",
      "436 [False False False ... False False False] [60000008100000060]\n",
      "437 [False False False ... False False False] [150000067000000007]\n",
      "438 [False False False ... False False False] [30000000000003407]\n",
      "439 [False False False ... False False False] [20000000100002901]\n",
      "440 [False False False ... False False False] [80000023600000017]\n",
      "441 [False False False ... False False False] [-1]\n",
      "442 [False False False ... False False False] [130000103400000010]\n",
      "443 [False False False ... False False False] [90000036500000004]\n",
      "444 [False False False ... False False False] [10000000100002267]\n",
      "445 [False False False ... False False False] [20000000000001688]\n",
      "446 [False False False ... False False False] [10000000100001670]\n",
      "447 [False False False ... False False False] [-1]\n",
      "448 [False False False ... False False False] [30000000200001396]\n",
      "449 [False False False ... False False False] [100000026600000010]\n",
      "450 [False False False ... False False False] [140000047100000010]\n",
      "451 [False False False ... False False False] [170000014400000002]\n",
      "452 [False False False ... False False False] [-1]\n",
      "453 [False False False ... False False False] [60000002200000145]\n",
      "454 [False False False ... False False False] [90000031000000011]\n",
      "455 [False False False ... False False False] [70000006900000057]\n",
      "456 [False False False ... False False False] [2919]\n",
      "457 [False False False ... False False False] [70000010900000072]\n",
      "458 [False False False ... False False False] [10000000000004239]\n",
      "459 [False False False ... False False False] [50000001300000080]\n",
      "460 [False False False ... False False False] [120000033600000011]\n",
      "461 [False False False ... False False False] [8229]\n",
      "462 [False False False ... False False False] [110000065300000003]\n",
      "463 [False False False ... False False False] [40000000300000056]\n",
      "464 [False False False ... False False False] [30000000200000888]\n",
      "465 [False False False ... False False False] [140000047300000009]\n",
      "466 [False False False ... False False False] [80000008900000016]\n",
      "467 [False False False ... False False False] [20000000000000084]\n",
      "468 [False False False ... False False False] [70000006700000028]\n",
      "469 [False False False ... False False False] [150000041800000012]\n",
      "470 [False False False ... False False False] [60000003800000169]\n",
      "471 [False False False ... False False False] [40000001100000254]\n",
      "472 [False False False ... False False False] [220000125700000007]\n",
      "473 [False False False ... False False False] [210000163300000005]\n",
      "474 [False False False ... False False False] [110000054900000003]\n",
      "475 [False False False ... False False False] [-1]\n",
      "476 [False False False ... False False False] [100000057400000013]\n",
      "477 [False False False ... False False False] [20000000000002663]\n",
      "478 [False False False ... False False False] [30000000500000211]\n",
      "479 [False False False ... False False False] [40000000900000783]\n",
      "480 [False False False ... False False False] [20000000000000654]\n",
      "481 [False False False ... False False False] [170000027200000010]\n",
      "482 [False False False ... False False False] [100000042100000015]\n",
      "483 [False False False ... False False False] [90000038100000008]\n",
      "484 [False False False ... False False False] [150000075600000011]\n",
      "485 [False False False ... False False False] [130000103100000011]\n",
      "486 [False False False ... False False False] [70000014400000022]\n",
      "487 [False False False ... False False False] [100000005900000010]\n",
      "488 [False False False ... False False False] [110000049200000019]\n",
      "489 [False False False ... False False False] [20000000000001139]\n",
      "490 [False False False ... False False False] [70000005100000080]\n",
      "491 [False False False ... False False False] [30000000100000936]\n",
      "492 [False False False ... False False False] [50000002700000156]\n",
      "493 [False False False ... False False False] [20000000100002146]\n",
      "494 [False False False ... False False False] [80000025000000049]\n",
      "495 [False False False ... False False False] [2354]\n",
      "496 [False False False ... False False False] [170000041400000011]\n",
      "497 [False False False ... False False False] [-1]\n",
      "498 [False False False ... False False False] [80000007200000016]\n",
      "499 [False False False ... False False False] [80000018700000045]\n",
      "500 [False False False ... False False False] [120000081700000014]\n",
      "501 [False False False ... False False False] [30000000100002643]\n",
      "502 [False False False ... False False False] [60000008000000071]\n",
      "503 [False False False ... False False False] [20000000100003405]\n",
      "504 [False False False ... False False False] [20000000200000213]\n",
      "505 [False False False ... False False False] [60000003900000046]\n",
      "506 [False False False ... False False False] [40000001100000015]\n",
      "507 [False False False ... False False False] [40000001100000015]\n",
      "508 [False False False ... False False False] [-1]\n",
      "509 [False False False ... False False False] [50000000700000560]\n",
      "510 [False False False ... False False False] [130000090600000010]\n",
      "511 [False False False ... False False False] [40000000500000108]\n",
      "512 [False False False ... False False False] [120000044400000008]\n",
      "513 [False False False ... False False False] [30000000000000692]\n",
      "514 [False False False ... False False False] [90000017100000025]\n",
      "515 [False False False ... False False False] [30000000400000613]\n",
      "516 [False False False ... False False False] [190000044500000009]\n",
      "517 [False False False ... False False False] [-1]\n",
      "518 [False False False ... False False False] [70000012300000013]\n",
      "519 [False False False ... False False False] [60000008100000136]\n",
      "520 [False False False ... False False False] [20000000000002198]\n",
      "521 [False False False ... False False False] [110000056700000010]\n",
      "522 [False False False ... False False False] [120000048800000007]\n",
      "523 [False False False ... False False False] [-1]\n",
      "524 [False False False ... False False False] [-1]\n",
      "525 [False False False ... False False False] [160000137800000008]\n",
      "526 [False False False ... False False False] [190000041700000006]\n",
      "527 [False False False ... False False False] []\n"
     ]
    },
    {
     "ename": "IndexError",
     "evalue": "index 0 is out of bounds for axis 0 with size 0",
     "output_type": "error",
     "traceback": [
      "\u001b[0;31m---------------------------------------------------------------------------\u001b[0m",
      "\u001b[0;31mIndexError\u001b[0m                                Traceback (most recent call last)",
      "Cell \u001b[0;32mIn[232], line 11\u001b[0m\n\u001b[1;32m      9\u001b[0m fpIDs\u001b[38;5;241m.\u001b[39mappend(FirstProgenitorID[tree_target_index])\n\u001b[1;32m     10\u001b[0m \u001b[38;5;28mprint\u001b[39m(i,tree_target_index,FirstProgenitorID[tree_target_index])\n\u001b[0;32m---> 11\u001b[0m \u001b[38;5;28;01mif\u001b[39;00m \u001b[43mFirstProgenitorID\u001b[49m\u001b[43m[\u001b[49m\u001b[43mtree_target_index\u001b[49m\u001b[43m]\u001b[49m\u001b[43m[\u001b[49m\u001b[38;5;241;43m0\u001b[39;49m\u001b[43m]\u001b[49m\u001b[38;5;241m!=\u001b[39m\u001b[38;5;241m-\u001b[39m\u001b[38;5;241m1\u001b[39m:\n\u001b[1;32m     12\u001b[0m     fpIndex \u001b[38;5;241m=\u001b[39m np\u001b[38;5;241m.\u001b[39mwhere(SubhaloID\u001b[38;5;241m==\u001b[39mFirstProgenitorID[tree_target_index])[\u001b[38;5;241m0\u001b[39m][\u001b[38;5;241m0\u001b[39m]\n\u001b[1;32m     13\u001b[0m     npIDs\u001b[38;5;241m.\u001b[39mappend(NextProgenitorID[fpIndex])\n",
      "\u001b[0;31mIndexError\u001b[0m: index 0 is out of bounds for axis 0 with size 0"
     ]
    }
   ],
   "source": [
    "\n",
    "fpIDs = []\n",
    "npIDs = []\n",
    "\n",
    "for i in range(Nmergers):\n",
    "    #print(\"Processing merger %d of %d\"%(i+1,Nmergers))\n",
    "    tree_target_index = (SubfindID == merger_remnant_SubhaloID[i])&(SnapNum == merger_remnant_snap[i])\n",
    "    \n",
    "    \n",
    "    fpIDs.append(FirstProgenitorID[tree_target_index])\n",
    "    print(i,tree_target_index,FirstProgenitorID[tree_target_index])\n",
    "    if FirstProgenitorID[tree_target_index][0]!=-1:\n",
    "        fpIndex = np.where(SubhaloID==FirstProgenitorID[tree_target_index])[0][0]\n",
    "        npIDs.append(NextProgenitorID[fpIndex])\n",
    "    else:\n",
    "        npIDs.append(-1)\n",
    "    \n",
    "    #print(\"FirstProgenitorID:\",FirstProgenitorID[tree_target_index][0])"
   ]
  },
  {
   "cell_type": "code",
   "execution_count": 205,
   "metadata": {},
   "outputs": [
    {
     "name": "stderr",
     "output_type": "stream",
     "text": [
      "/tmp/ipykernel_958293/2554569082.py:17: DeprecationWarning: The truth value of an empty array is ambiguous. Returning False, but in future this will result in an error. Use `array.size > 0` to check that an array is not empty.\n",
      "  if FirstProgenitorID[tree_target_index]!=-1:\n"
     ]
    }
   ],
   "source": [
    "tree=h5py.File(basePath+'/postprocessing/tree_extended.hdf5','r')\n",
    "SubfindID=tree.get('SubfindID')[:]\n",
    "FirstProgenitorID=tree.get('FirstProgenitorID')[:]\n",
    "NextProgenitorID=tree.get('NextProgenitorID')[:]\n",
    "SnapNum=tree.get('SnapNum')[:]\n",
    "SubhaloID=tree.get('SubhaloID')[:]\n",
    "\n",
    "fpIDs = []\n",
    "npIDs = []\n",
    "\n",
    "for i in range(Nmergers):\n",
    "    tree_target_index = (SubfindID == merger_remnant_SubhaloID[i])&(SnapNum == merger_remnant_snap[i])\n",
    "    \n",
    "    fpIDs.append(FirstProgenitorID[tree_target_index])\n",
    "    #print(\"FirstProgenitorID:\",FirstProgenitorID[tree_target_index][0])\n",
    "    \n",
    "    if FirstProgenitorID[tree_target_index]!=-1:\n",
    "        fpIndex = np.where(SubhaloID==FirstProgenitorID[tree_target_index])[0][0]\n",
    "    npIDs.append(NextProgenitorID[fpIndex])\n",
    "    #print(\"NextProgenitorID:\",NextProgenitorID[fpIndex])"
   ]
  },
  {
   "cell_type": "code",
   "execution_count": 206,
   "metadata": {},
   "outputs": [
    {
     "data": {
      "text/plain": [
       "412"
      ]
     },
     "execution_count": 206,
     "metadata": {},
     "output_type": "execute_result"
    }
   ],
   "source": [
    "# Find indices where npIDs is -1\n",
    "npIDs = np.array(npIDs)  # ensure it's a numpy array\n",
    "indices_with_minus1 = np.where(npIDs == -1)[0]\n",
    "len(indices_with_minus1)"
   ]
  },
  {
   "cell_type": "code",
   "execution_count": 223,
   "metadata": {},
   "outputs": [],
   "source": [
    "indices_with_minus1 = npIDs==-1"
   ]
  },
  {
   "cell_type": "code",
   "execution_count": 227,
   "metadata": {},
   "outputs": [
    {
     "data": {
      "text/plain": [
       "array([False, False,  True,  True, False,  True,  True, False, False,\n",
       "        True, False, False, False, False,  True,  True, False,  True,\n",
       "        True,  True,  True, False,  True, False, False, False,  True,\n",
       "       False,  True, False, False, False, False, False, False, False,\n",
       "       False, False, False,  True, False,  True, False, False, False,\n",
       "       False, False, False, False,  True,  True, False, False, False,\n",
       "        True, False, False, False, False, False, False, False,  True,\n",
       "        True,  True,  True, False, False, False, False,  True,  True,\n",
       "       False, False, False, False,  True, False,  True,  True, False,\n",
       "        True, False, False, False, False, False, False, False, False,\n",
       "       False, False, False,  True, False, False, False,  True, False,\n",
       "        True,  True, False, False,  True, False, False, False, False,\n",
       "       False, False,  True, False, False, False, False, False, False,\n",
       "        True,  True,  True,  True, False, False, False, False, False,\n",
       "        True, False, False, False, False, False,  True, False, False,\n",
       "       False, False, False, False, False, False, False, False, False,\n",
       "       False, False,  True,  True, False, False, False, False, False,\n",
       "       False, False, False, False, False,  True, False,  True, False,\n",
       "       False, False, False, False, False,  True, False, False, False,\n",
       "       False, False,  True, False, False,  True, False,  True,  True,\n",
       "       False, False,  True, False, False, False, False,  True, False,\n",
       "       False, False, False, False,  True, False, False, False, False,\n",
       "       False, False, False, False, False, False, False, False, False,\n",
       "       False, False, False, False,  True, False, False, False, False,\n",
       "       False, False, False, False, False, False, False, False, False,\n",
       "        True,  True, False, False, False, False,  True,  True, False,\n",
       "        True, False, False, False,  True,  True, False, False, False,\n",
       "       False, False, False, False, False, False,  True, False, False,\n",
       "       False, False,  True, False, False,  True, False, False, False,\n",
       "       False, False, False, False, False, False, False, False,  True,\n",
       "        True, False, False, False,  True, False, False, False, False,\n",
       "       False, False, False,  True,  True,  True, False, False,  True,\n",
       "       False,  True, False, False,  True,  True, False,  True, False,\n",
       "       False,  True,  True, False,  True, False, False, False, False,\n",
       "       False, False, False,  True, False, False, False, False, False,\n",
       "       False, False, False, False, False, False,  True, False, False,\n",
       "       False,  True, False, False,  True, False, False, False,  True,\n",
       "       False, False,  True,  True, False, False, False, False,  True,\n",
       "        True, False,  True,  True, False, False, False, False, False,\n",
       "        True, False,  True,  True, False, False,  True,  True, False,\n",
       "       False, False,  True,  True, False, False, False, False, False,\n",
       "       False,  True, False, False, False, False, False, False,  True,\n",
       "       False, False,  True, False,  True,  True,  True, False,  True,\n",
       "       False, False,  True, False, False, False, False,  True, False,\n",
       "       False, False, False, False, False,  True,  True,  True, False,\n",
       "       False, False, False, False,  True, False, False, False, False,\n",
       "       False, False,  True,  True, False, False, False, False,  True,\n",
       "       False, False, False, False, False, False, False,  True, False,\n",
       "       False, False, False,  True,  True, False, False,  True,  True,\n",
       "       False, False, False, False, False, False, False, False, False,\n",
       "        True,  True, False,  True, False, False, False, False, False,\n",
       "       False,  True, False,  True, False, False, False, False, False,\n",
       "       False, False,  True, False, False, False, False, False, False,\n",
       "        True, False, False, False, False, False, False, False,  True,\n",
       "       False,  True,  True, False, False, False, False, False, False,\n",
       "       False,  True, False, False, False, False, False, False, False,\n",
       "        True,  True,  True,  True, False, False, False, False,  True,\n",
       "        True,  True,  True, False, False, False, False, False, False,\n",
       "       False, False, False, False,  True,  True,  True,  True, False,\n",
       "        True, False, False, False, False,  True, False, False,  True,\n",
       "        True, False, False, False, False, False, False, False, False,\n",
       "       False, False, False,  True,  True,  True, False, False, False,\n",
       "       False])"
      ]
     },
     "execution_count": 227,
     "metadata": {},
     "output_type": "execute_result"
    }
   ],
   "source": [
    "~indices_with_minus1"
   ]
  },
  {
   "cell_type": "code",
   "execution_count": 211,
   "metadata": {},
   "outputs": [],
   "source": [
    "BHMass1 = np.array(merger_properties['BH_Mass1'])[true_merger_flag]\n",
    "BHMass2 = np.array(merger_properties['BH_Mass2'])[true_merger_flag]"
   ]
  },
  {
   "cell_type": "code",
   "execution_count": 229,
   "metadata": {},
   "outputs": [
    {
     "data": {
      "text/plain": [
       "412"
      ]
     },
     "execution_count": 229,
     "metadata": {},
     "output_type": "execute_result"
    }
   ],
   "source": [
    "len(BHMass1[indices_with_minus1])"
   ]
  },
  {
   "cell_type": "code",
   "execution_count": 228,
   "metadata": {},
   "outputs": [
    {
     "data": {
      "text/plain": [
       "147"
      ]
     },
     "execution_count": 228,
     "metadata": {},
     "output_type": "execute_result"
    }
   ],
   "source": [
    "len(BHMass1[~indices_with_minus1])"
   ]
  },
  {
   "cell_type": "code",
   "execution_count": 232,
   "metadata": {},
   "outputs": [
    {
     "data": {
      "text/plain": [
       "<matplotlib.legend.Legend at 0x1553612e02b0>"
      ]
     },
     "execution_count": 232,
     "metadata": {},
     "output_type": "execute_result"
    },
    {
     "data": {
      "image/png": "[encoded data removed]",
      "text/plain": [
       "<Figure size 640x480 with 1 Axes>"
      ]
     },
     "metadata": {},
     "output_type": "display_data"
    }
   ],
   "source": [
    "plt.hist(np.log10(BHMass1[indices_with_minus1]*10**10/h),histtype='step',label='NextProgenitorID=-1')\n",
    "plt.hist(np.log10(BHMass1[~indices_with_minus1]*10**10/h),histtype='step',label='NextProgenitorID!=-1')\n",
    "plt.xlabel(\"log10(M_BH1)\")\n",
    "plt.legend()\n",
    "\n"
   ]
  },
  {
   "cell_type": "code",
   "execution_count": 231,
   "metadata": {},
   "outputs": [
    {
     "data": {
      "text/plain": [
       "(array([96., 23.,  9.,  5.,  3.,  3.,  3.,  2.,  1.,  2.]),\n",
       " array([5.16935153, 5.53514689, 5.90094225, 6.26673761, 6.63253297,\n",
       "        6.99832833, 7.36412369, 7.72991905, 8.09571441, 8.46150977,\n",
       "        8.82730513]),\n",
       " <BarContainer object of 10 artists>)"
      ]
     },
     "execution_count": 231,
     "metadata": {},
     "output_type": "execute_result"
    },
    {
     "data": {
      "image/png": "[encoded data removed]",
      "text/plain": [
       "<Figure size 640x480 with 1 Axes>"
      ]
     },
     "metadata": {},
     "output_type": "display_data"
    }
   ],
   "source": [
    "plt.hist(np.log10(BHMass2[indices_with_minus1]*10**10/h))\n",
    "plt.hist(np.log10(BHMass2[~indices_with_minus1]*10**10/h))"
   ]
  },
  {
   "cell_type": "code",
   "execution_count": 118,
   "metadata": {},
   "outputs": [
    {
     "name": "stdout",
     "output_type": "stream",
     "text": [
      "[50000000900000244] [50000000900000245] [50000000900000248] [50000000900000243] [847] [20] [50000000900000246]\n"
     ]
    }
   ],
   "source": [
    "print(SubhaloID[tree_target_index],\n",
    "FirstProgenitorID[tree_target_index],\n",
    "NextProgenitorID[tree_target_index],\n",
    "DescendantID[tree_target_index],\n",
    "SubfindID[tree_target_index],\n",
    "SnapNum[tree_target_index],\n",
    "MainLeafProgenitorID[tree_target_index],)"
   ]
  },
  {
   "cell_type": "code",
   "execution_count": 119,
   "metadata": {},
   "outputs": [
    {
     "name": "stdout",
     "output_type": "stream",
     "text": [
      "11433 11434 11438 11432 4384 20 11437\n"
     ]
    }
   ],
   "source": [
    "tree_target_index=np.where(SubhaloID==11433)[0][0]\n",
    "print(SubhaloID[tree_target_index],\n",
    "FirstProgenitorID[tree_target_index],\n",
    "NextProgenitorID[tree_target_index],\n",
    "DescendantID[tree_target_index],\n",
    "SubfindID[tree_target_index],\n",
    "SnapNum[tree_target_index],\n",
    "MainLeafProgenitorID[tree_target_index],)"
   ]
  },
  {
   "cell_type": "code",
   "execution_count": 93,
   "metadata": {},
   "outputs": [
    {
     "data": {
      "text/plain": [
       "array([110])"
      ]
     },
     "execution_count": 93,
     "metadata": {},
     "output_type": "execute_result"
    }
   ],
   "source": [
    "fpID = FirstProgenitorID[tree_target_index]\n",
    "np.where(SubhaloID==fpID)[0]"
   ]
  },
  {
   "cell_type": "code",
   "execution_count": 94,
   "metadata": {},
   "outputs": [
    {
     "data": {
      "text/plain": [
       "-1"
      ]
     },
     "execution_count": 94,
     "metadata": {},
     "output_type": "execute_result"
    }
   ],
   "source": [
    "NextProgenitorID[109]"
   ]
  },
  {
   "cell_type": "code",
   "execution_count": 95,
   "metadata": {},
   "outputs": [],
   "source": [
    "\n",
    "\n",
    "npID = NextProgenitorID[tree_target_index]\n",
    "\n"
   ]
  },
  {
   "cell_type": "code",
   "execution_count": 62,
   "metadata": {},
   "outputs": [
    {
     "data": {
      "text/plain": [
       "15"
      ]
     },
     "execution_count": 62,
     "metadata": {},
     "output_type": "execute_result"
    }
   ],
   "source": [
    "merger_remnant_snap[0]"
   ]
  },
  {
   "cell_type": "code",
   "execution_count": null,
   "metadata": {},
   "outputs": [],
   "source": [
    "Snap"
   ]
  }
 ],
 "metadata": {
  "kernelspec": {
   "display_name": "Python (hfrl)",
   "language": "python",
   "name": "hfrl"
  },
  "language_info": {
   "codemirror_mode": {
    "name": "ipython",
    "version": 3
   },
   "file_extension": ".py",
   "mimetype": "text/x-python",
   "name": "python",
   "nbconvert_exporter": "python",
   "pygments_lexer": "ipython3",
   "version": "3.10.15"
  }
 },
 "nbformat": 4,
 "nbformat_minor": 4
}
