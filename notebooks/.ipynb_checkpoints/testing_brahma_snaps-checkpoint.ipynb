{
 "cells": [
  {
   "cell_type": "code",
   "execution_count": 1,
   "metadata": {},
   "outputs": [],
   "source": [
    "import numpy as np\n",
    "from scipy.stats import ks_2samp\n",
    "from scipy import stats\n",
    "import matplotlib.pyplot as plt\n",
    "import h5py\n",
    "import time\n",
    "import illustris_python_mod as il_mod\n",
    "\n",
    "import sys\n",
    "import os\n",
    "sys.path.append('../BH_dynamics_analysis')\n",
    "sys.path.append('/home/pranavsatheesh/arepo_package/')\n",
    "import arepo_package as arepo\n",
    "from scipy.spatial import cKDTree\n",
    "\n",
    "from tqdm import tqdm"
   ]
  },
  {
   "cell_type": "code",
   "execution_count": 2,
   "metadata": {},
   "outputs": [],
   "source": [
    "# import illustris_python_mod as il\n",
    "# print(il.__file__)"
   ]
  },
  {
   "cell_type": "code",
   "execution_count": 3,
   "metadata": {},
   "outputs": [],
   "source": [
    "basePath = '/orange/lblecha/aklantbhowmick/GAS_BASED_SEED_MODEL_UNIFORM_RUNS/L12p5n512/AREPO/output_ratio10_SFMFGM5_seed5.00_bFOF_LW10_spin_rich/'"
   ]
  },
  {
   "cell_type": "code",
   "execution_count": 4,
   "metadata": {},
   "outputs": [],
   "source": [
    "h = arepo.get_cosmology(basePath)[2]\n",
    "N_snaps = 32\n",
    "snaps = np.arange(0,N_snaps+1,1)"
   ]
  },
  {
   "cell_type": "code",
   "execution_count": 5,
   "metadata": {},
   "outputs": [
    {
     "name": "stdout",
     "output_type": "stream",
     "text": [
      "dict_keys(['merger_redshift', 'remnant_redshift', 'BH_ID1', 'BH_ID2', 'BH_Mass1', 'BH_Mass2', 'remnant_SubhaloID', 'remnant_SubhaloDarkMatterMass', 'remnant_SubhaloStellarMass', 'remnant_SubhaloHalfMassRadii', 'remnant_central_or_satellite', 'merger_type'])\n"
     ]
    }
   ],
   "source": [
    "merger_properties=np.load(basePath + 'merger_statistics_subhalo_remnants.npy',allow_pickle=True)[0]\n",
    "print(merger_properties.keys())\n",
    "true_merger_flag  = np.array(merger_properties['merger_type'])==1"
   ]
  },
  {
   "cell_type": "code",
   "execution_count": 6,
   "metadata": {},
   "outputs": [
    {
     "data": {
      "image/png": "[encoded data removed]",
      "text/plain": [
       "<Figure size 640x480 with 1 Axes>"
      ]
     },
     "metadata": {},
     "output_type": "display_data"
    }
   ],
   "source": [
    "merger_z = np.array(merger_properties['remnant_redshift'])[true_merger_flag]\n",
    "plt.hist(merger_z, bins=10)\n",
    "plt.xlabel(\"z\")\n",
    "plt.ylabel(\"Number of mergers\")\n",
    "plt.title(\"Redshift distribution of mergers in BRAHMA\")\n",
    "plt.show()"
   ]
  },
  {
   "cell_type": "code",
   "execution_count": 7,
   "metadata": {},
   "outputs": [],
   "source": [
    "#true_merger_flag  = np.array(merger_properties['merger_type'])==1\n",
    "true_merger_flag  = np.logical_and(\n",
    "    np.array(merger_properties['merger_type']) == 1,\n",
    "    np.array(merger_properties['remnant_SubhaloStellarMass']) > 0\n",
    ")\n",
    "brahma_merger_data = {}\n",
    "\n",
    "for key in merger_properties.keys():\n",
    "    brahma_merger_data[key] = np.array(merger_properties[key])[true_merger_flag]"
   ]
  },
  {
   "cell_type": "code",
   "execution_count": 8,
   "metadata": {},
   "outputs": [
    {
     "name": "stdout",
     "output_type": "stream",
     "text": [
      "The number of BH mergers in this run is 550\n"
     ]
    }
   ],
   "source": [
    "N_mergers = np.sum(true_merger_flag)\n",
    "print(\"The number of BH mergers in this run is %d\"%(N_mergers))"
   ]
  },
  {
   "cell_type": "code",
   "execution_count": 9,
   "metadata": {},
   "outputs": [],
   "source": [
    "snap_list, z_list=arepo.get_snapshot_redshift_correspondence(basePath)"
   ]
  },
  {
   "cell_type": "code",
   "execution_count": 10,
   "metadata": {},
   "outputs": [],
   "source": [
    "snap_numbers = []\n",
    "\n",
    "for remnant_redshift in brahma_merger_data['remnant_redshift']:\n",
    "\n",
    "    idx = np.where(z_list == remnant_redshift)[0]\n",
    "    snap_numbers.append(snap_list[idx[0]])"
   ]
  },
  {
   "cell_type": "code",
   "execution_count": 11,
   "metadata": {},
   "outputs": [
    {
     "name": "stdout",
     "output_type": "stream",
     "text": [
      "[2.22044605e-16 9.94018026e-02 1.97284182e-01 2.97717685e-01\n",
      " 3.99926965e-01 5.03047523e-01 7.00106354e-01 9.97294226e-01\n",
      " 1.49551217e+00 2.00202814e+00 3.00813107e+00 4.00794511e+00\n",
      " 4.99593347e+00 6.01075740e+00 7.00541705e+00 8.01217295e+00\n",
      " 9.00233985e+00 9.99659047e+00 1.09756433e+01 1.19802133e+01\n",
      " 1.30025453e+01 1.40339921e+01 1.49891732e+01 1.60050415e+01\n",
      " 1.79630246e+01]\n"
     ]
    }
   ],
   "source": [
    "unique_merger_z = np.unique(brahma_merger_data['remnant_redshift'])\n",
    "print(unique_merger_z) # we can just check at each of these snapshots "
   ]
  },
  {
   "cell_type": "code",
   "execution_count": 12,
   "metadata": {},
   "outputs": [],
   "source": [
    "unique_snap = []\n",
    "\n",
    "for z_i in unique_merger_z:\n",
    "    idx = np.where(z_list == z_i)[0]\n",
    "    unique_snap.append(snap_list[idx[0]])\n"
   ]
  },
  {
   "cell_type": "code",
   "execution_count": 16,
   "metadata": {},
   "outputs": [],
   "source": [
    "merging_pop = {\n",
    "                \"snap\": np.array([], dtype=int),\n",
    "                \"z\": np.array([], dtype=float),\n",
    "                \"subhalo_ids\": np.array([], dtype=int),\n",
    "                \"Mstar\": np.array([], dtype=float),\n",
    "                \"Mgas\": np.array([], dtype=float),\n",
    "                \"MBH\": np.array([], dtype=float),\n",
    "                \"Mdot\": np.array([], dtype=float),\n",
    "                \"SFR\": np.array([], dtype=float),\n",
    "                \"MBH1\": np.array([], dtype=float),\n",
    "                \"MBH2\": np.array([], dtype=float)\n",
    "            }\n",
    "\n",
    "control_pop = {\n",
    "                \"snap\": [],\n",
    "                \"z\": [],\n",
    "                \"subhalo_ids\": [],\n",
    "                \"Mstar\": [],\n",
    "                \"Mgas\": [],\n",
    "                \"MBH\": [],\n",
    "                \"Mdot\": [],\n",
    "                \"SFR\": []\n",
    "            }"
   ]
  },
  {
   "cell_type": "code",
   "execution_count": 17,
   "metadata": {},
   "outputs": [],
   "source": [
    "def find_closest_matches(merging_Mstar,non_merging_Mstar,tolerance=0.1):\n",
    "    # Create a KDTree for the non-merging population\n",
    "    tree = cKDTree(non_merging_Mstar.reshape(-1, 1))\n",
    "\n",
    "    # Find the indices of the first 5 closest matches\n",
    "    distances, indices = tree.query(merging_Mstar.reshape(-1, 1), k=5)\n",
    "\n",
    "    closest_matches_Mstar = non_merging_Mstar[indices]\n",
    "\n",
    "    # Compute log10 differences\n",
    "    log_Mstar_merging = np.log10(merging_Mstar).reshape(-1, 1)\n",
    "    log_Mstar_matches = np.log10(closest_matches_Mstar)\n",
    "    dex_diff = np.abs(log_Mstar_merging - log_Mstar_matches)\n",
    "\n",
    "    within_tolerance = dex_diff <= tolerance\n",
    "\n",
    "    closest_indices_filtered = np.where(within_tolerance, indices, -1)\n",
    "\n",
    "    return closest_indices_filtered"
   ]
  },
  {
   "cell_type": "code",
   "execution_count": 18,
   "metadata": {},
   "outputs": [],
   "source": [
    "fields=['SubhaloLenType', 'SubhaloMassType', 'SubhaloBHMass', 'SubhaloBHMdot', 'SubhaloSFR','SubhaloGasMetallicity','SubhaloStarMetallicity','SubhaloPos','SubhaloHalfmassRadType']"
   ]
  },
  {
   "cell_type": "code",
   "execution_count": 19,
   "metadata": {},
   "outputs": [],
   "source": [
    "def update_merger_details(merging_pop,subhalos,subhalo_ids_merging,redshift,snapnum,brahma_merger_data_idx):\n",
    "\n",
    "    merging_pop[\"subhalo_ids\"] = np.concatenate((merging_pop[\"subhalo_ids\"], subhalo_ids_merging))\n",
    "    merging_pop[\"snap\"] = np.append(merging_pop[\"snap\"], snapnum*np.ones(len(subhalo_ids_merging)))\n",
    "    merging_pop[\"z\"] = np.append(merging_pop[\"z\"], redshift*np.ones(len(subhalo_ids_merging)))\n",
    "    merging_pop[\"Mstar\"] = np.concatenate((merging_pop[\"Mstar\"], subhalos['SubhaloMassType'][:,4][subhalo_ids_merging]))\n",
    "    merging_pop[\"Mgas\"] = np.concatenate((merging_pop[\"Mgas\"], subhalos['SubhaloMassType'][:,0][subhalo_ids_merging]))\n",
    "    merging_pop[\"MBH\"] = np.concatenate((merging_pop[\"MBH\"], subhalos['SubhaloBHMass'][subhalo_ids_merging]))\n",
    "    merging_pop[\"Mdot\"] = np.concatenate((merging_pop[\"Mdot\"], subhalos['SubhaloBHMdot'][subhalo_ids_merging]))\n",
    "    merging_pop[\"SFR\"] = np.concatenate((merging_pop[\"SFR\"], subhalos['SubhaloSFR'][subhalo_ids_merging]))\n",
    "    merging_pop[\"MBH1\"] = np.concatenate((merging_pop[\"MBH1\"], brahma_merger_data['BH_Mass1'][brahma_merger_data_idx]))\n",
    "    merging_pop[\"MBH2\"] = np.concatenate((merging_pop[\"MBH2\"], brahma_merger_data['BH_Mass2'][brahma_merger_data_idx]))\n"
   ]
  },
  {
   "cell_type": "code",
   "execution_count": 20,
   "metadata": {},
   "outputs": [],
   "source": [
    "def update_pop_units(pop,key=\"M\"):\n",
    "\n",
    "    if(key==\"M\"):\n",
    "        pop[\"Mstar\"] *= 1e10/h\n",
    "        pop[\"Mgas\"] *= (1e10/h )/ ( 0.978 * 1e9 /h)\n",
    "        pop[\"MBH\"] *= 1e10/h\n",
    "        pop[\"Mdot\"] *= 1e10/h\n",
    "        pop[\"MBH1\"] *= 1e10/h\n",
    "        pop[\"MBH2\"] *= 1e10/h\n",
    "    else:\n",
    "        pop[\"Mstar\"] *= 1e10/h\n",
    "        pop[\"Mgas\"] *= (1e10/h )/ ( 0.978 * 1e9 /h)\n",
    "        pop[\"MBH\"] *= 1e10/h\n",
    "        pop[\"Mdot\"] *= 1e10/h"
   ]
  },
  {
   "cell_type": "code",
   "execution_count": 21,
   "metadata": {},
   "outputs": [],
   "source": [
    "def update_control_details(control_pop,subhalos,closest_idxs,subhalo_ids_non_merging,redshift,snapnum):\n",
    "    subhalo_ids_matches = []\n",
    "    Mstar_matches = []\n",
    "    z_matches = []\n",
    "    snap_matches = []\n",
    "    Mgas_matches = []\n",
    "    MBH_matches = []\n",
    "    Mdot_matches = []\n",
    "    SFR_matches = []\n",
    "    \n",
    "    for match_ixs in closest_idxs:\n",
    "        subhalo_ids_matches_ixs = np.where(match_ixs != -1, subhalo_ids_non_merging[match_ixs], -1)\n",
    "        Mstar_matches_ixs = np.where(match_ixs != -1, subhalos['SubhaloMassType'][:,4][subhalo_ids_non_merging[match_ixs]]  * 1e10 /h, -1)\n",
    "        Mgas_matches_ixs = np.where(match_ixs != -1, subhalos['SubhaloMassType'][:,0][subhalo_ids_non_merging[match_ixs]]  * 1e10 /h, -1)\n",
    "        MBH_matches_ixs = np.where(match_ixs != -1, subhalos['SubhaloBHMass'][subhalo_ids_non_merging[match_ixs]]  * 1e10 /h, -1)\n",
    "        Mdot_matches_ixs = np.where(match_ixs != -1, subhalos['SubhaloBHMdot'][subhalo_ids_non_merging[match_ixs]]  * (1e10 / h) / (0.978 * 1e9 /h), -1)\n",
    "        SFR_matches_ixs = np.where(match_ixs != -1, subhalos['SubhaloSFR'][subhalo_ids_non_merging[match_ixs]], -1)\n",
    "\n",
    "        z_matches.append(redshift*np.ones(len(subhalo_ids_matches_ixs)))\n",
    "        snap_matches.append(snapnum*np.ones(len(subhalo_ids_matches_ixs)))\n",
    "        subhalo_ids_matches.append(subhalo_ids_matches_ixs)\n",
    "        Mstar_matches.append(Mstar_matches_ixs)\n",
    "        Mgas_matches.append(Mgas_matches_ixs)\n",
    "        MBH_matches.append(MBH_matches_ixs)\n",
    "        Mdot_matches.append(Mdot_matches_ixs)\n",
    "        SFR_matches.append(SFR_matches_ixs)\n",
    "\n",
    "    control_pop[\"subhalo_ids\"].extend(subhalo_ids_matches)\n",
    "    control_pop[\"Mstar\"].extend(Mstar_matches)\n",
    "    control_pop[\"Mgas\"].extend(Mgas_matches)\n",
    "    control_pop[\"MBH\"].extend(MBH_matches)\n",
    "    control_pop[\"Mdot\"].extend(Mdot_matches)\n",
    "    control_pop[\"SFR\"].extend(SFR_matches)\n",
    "    control_pop[\"z\"].extend(z_matches)\n",
    "    control_pop[\"snap\"].extend(snap_matches)    "
   ]
  },
  {
   "cell_type": "code",
   "execution_count": 25,
   "metadata": {},
   "outputs": [
    {
     "name": "stderr",
     "output_type": "stream",
     "text": [
      "Processing unique merger redshifts:   0%|          | 0/25 [00:00<?, ?it/s]"
     ]
    },
    {
     "name": "stderr",
     "output_type": "stream",
     "text": [
      "Processing unique merger redshifts: 100%|██████████| 25/25 [00:43<00:00,  1.72s/it]\n"
     ]
    }
   ],
   "source": [
    "for i in tqdm(range(len(unique_merger_z)), desc=\"Processing unique merger redshifts\"):\n",
    " \n",
    "    merger_idxs = np.where(brahma_merger_data['remnant_redshift'] == unique_merger_z[i])[0]\n",
    "    subhalos, o_redshift = arepo.get_subhalo_property(basePath, fields, unique_merger_z[i], postprocessed=1)\n",
    "    subhalo_ids = np.arange(len(subhalos['SubhaloLenType'][:, 0]))\n",
    "    subhalo_ids_merging = brahma_merger_data['remnant_SubhaloID'][merger_idxs]\n",
    "    subhalo_ids_non_merging = np.setdiff1d(subhalo_ids, subhalo_ids_merging)\n",
    "\n",
    "    update_merger_details(merging_pop, subhalos, subhalo_ids_merging, unique_merger_z[i], unique_snap[i], merger_idxs)\n",
    "    #merging_pop[\"subhalo_ids\"] = np.concatenate((merging_pop[\"subhalo_ids\"], subhalo_ids_merging))\n",
    "\n",
    "    merging_masses = subhalos['SubhaloMassType'][subhalo_ids_merging, 4] * 1e10 / h\n",
    "    non_merging_masses = subhalos['SubhaloMassType'][subhalo_ids_non_merging, 4] * 1e10 / h\n",
    "\n",
    "    closest_idxs = find_closest_matches(merging_masses, non_merging_masses)\n",
    "    update_control_details(control_pop, subhalos, closest_idxs, subhalo_ids_non_merging, unique_merger_z[i], unique_snap[i])\n",
    "    # control_pop[\"indices\"].extend(closest_idxs)\n",
    "\n",
    "    # subhalo_ids_matches = []\n",
    "    # for match_ixs in closest_idxs:\n",
    "    #     subhalo_ids_matches_ixs = np.where(match_ixs != -1, subhalo_ids_non_merging[match_ixs], -1)\n",
    "    #     subhalo_ids_matches.append(subhalo_ids_matches_ixs)\n",
    "    # control_pop[\"subhalo_ids\"].extend(subhalo_ids_matches)\n",
    "\n",
    "update_pop_units(merging_pop, key=\"M\")"
   ]
  },
  {
   "cell_type": "code",
   "execution_count": 28,
   "metadata": {},
   "outputs": [
    {
     "data": {
      "text/plain": [
       "[array([5126, 6368, 7350,   -1,   -1]),\n",
       " array([10418,  9802, 11030, 10849, 10583]),\n",
       " array([6013, 6574,   -1,   -1,   -1]),\n",
       " array([6574, 6793, 6013,   -1,   -1]),\n",
       " array([ 9132,  9654,  9524,     2, 10053]),\n",
       " array([9524,    2, 9654, 9132, 9206]),\n",
       " array([-1, -1, -1, -1, -1]),\n",
       " array([9871, 9689, 9746, 9338, 8653]),\n",
       " array([6215,    2, 5296, 6438,   -1]),\n",
       " array([5000, 4040,   -1,   -1,   -1]),\n",
       " array([9673, 9146, 9543, 9258, 9458]),\n",
       " array([-1, -1, -1, -1, -1]),\n",
       " array([7733, 7510, 7560, 6434, 8743]),\n",
       " array([11088,  9636, 10054, 11682,    16]),\n",
       " array([4825, 3941,   -1,   -1,   -1]),\n",
       " array([-1, -1, -1, -1, -1]),\n",
       " array([3941, 4337, 4825,    1,   -1]),\n",
       " array([-1, -1, -1, -1, -1]),\n",
       " array([7510, 6434, 7733, 7560, 8743]),\n",
       " array([2066,   -1,   -1,   -1,   -1]),\n",
       " array([5595, 8647, 7036, 7652, 7434]),\n",
       " array([4440, 3076,    2, 3634,   -1]),\n",
       " array([3634, 3076,   -1,   -1,   -1]),\n",
       " array([1993,   -1,   -1,   -1,   -1]),\n",
       " array([5595, 8647, 7036, 7434, 7235]),\n",
       " array([4440,    2, 3076, 3634,   -1]),\n",
       " array([4440,    2, 3076, 3634,   -1]),\n",
       " array([6242, 1994, 5409, 5907, 5145]),\n",
       " array([5124, 6179, 5830, 4133,   -1]),\n",
       " array([2473,   -1,   -1,   -1,   -1]),\n",
       " array([5922, 5124, 4834, 5314,   -1]),\n",
       " array([-1, -1, -1, -1, -1]),\n",
       " array([8528, 8199, 8582, 6897, 6027]),\n",
       " array([-1, -1, -1, -1, -1]),\n",
       " array([4132,    1, 2473,    2,   -1]),\n",
       " array([2473, 4132,   -1,   -1,   -1]),\n",
       " array([5124, 6179, 5830, 4133, 5922]),\n",
       " array([5431, 5020, 5991,   -1,   -1]),\n",
       " array([3593, 4355, 2602,   -1,   -1]),\n",
       " array([4889, 5672, 4596, 5181,   -1]),\n",
       " array([-1, -1, -1, -1, -1]),\n",
       " array([-1, -1, -1, -1, -1]),\n",
       " array([2602, 3951, 3593,   -1,   -1]),\n",
       " array([3951, 2602,   -1,   -1,   -1]),\n",
       " array([4889, 5672, 4596, 5181,   -1]),\n",
       " array([5020, 5181, 5431, 5672,   -1]),\n",
       " array([7801, 6649, 6094, 5021, 8171]),\n",
       " array([1006, 9816, 9058, 9798, 8895]),\n",
       " array([3951,   -1,   -1,   -1,   -1]),\n",
       " array([5020, 5431,   -1,   -1,   -1]),\n",
       " array([-1, -1, -1, -1, -1]),\n",
       " array([2602, 3951, 3593,   -1,   -1]),\n",
       " array([3081,   -1,   -1,   -1,   -1]),\n",
       " array([3929,   -1,   -1,   -1,   -1]),\n",
       " array([3929, 3422,   -1,   -1,   -1]),\n",
       " array([5743, 7441, 6072, 8075, 7504]),\n",
       " array([4461,  546, 4699,   -1,   -1]),\n",
       " array([8075, 7504, 6135,    4, 7441]),\n",
       " array([8075, 7504, 6135,    4, 7441]),\n",
       " array([1084, 3422, 4699,   -1,   -1]),\n",
       " array([6763, 7012, 4599, 5674, 6789]),\n",
       " array([3081,   -1,   -1,   -1,   -1]),\n",
       " array([-1, -1, -1, -1, -1]),\n",
       " array([-1, -1, -1, -1, -1]),\n",
       " array([3422, 1084, 4699,   -1,   -1]),\n",
       " array([-1, -1, -1, -1, -1]),\n",
       " array([8182, 4462, 7786, 8269, 6248]),\n",
       " array([3929, 3422,   -1,   -1,   -1]),\n",
       " array([6403, 6914, 5104, 5674,   -1]),\n",
       " array([6403, 6914, 5104, 5674,   -1]),\n",
       " array([4598, 4839, 5339,  546,   -1]),\n",
       " array([-1, -1, -1, -1, -1]),\n",
       " array([-1, -1, -1, -1, -1]),\n",
       " array([-1, -1, -1, -1, -1]),\n",
       " array([3931, 2140, 3359,    1, 3068]),\n",
       " array([4612, 5439,    2, 5221,    4]),\n",
       " array([   1, 3734, 3931,   -1,   -1]),\n",
       " array([418, 836,   0,  -1,  -1]),\n",
       " array([2143, 6836, 8451, 5032, 5944]),\n",
       " array([9687, 8432, 4278, 7895, 7783]),\n",
       " array([2573,  837, 4670,   -1,   -1]),\n",
       " array([2141, 5269, 5986, 5618, 4930]),\n",
       " array([2893, 3068,   -1,   -1,   -1]),\n",
       " array([4930, 2141, 5269, 5986, 5618]),\n",
       " array([3931, 2140, 3359,    1, 3068]),\n",
       " array([4080,    3, 3659, 4697,   -1]),\n",
       " array([   1, 3931, 3734,   -1,   -1]),\n",
       " array([4930, 4436, 2141, 5269, 2762]),\n",
       " array([  0, 836,  -1,  -1,  -1]),\n",
       " array([5660, 4791, 5482, 6041, 5112]),\n",
       " array([   3, 4697, 4080,   -1,   -1]),\n",
       " array([5439,    2,    4, 4612, 2762]),\n",
       " array([5903, 4536, 4981, 5618, 5986]),\n",
       " array([4930, 2141, 5269, 5986, 5618]),\n",
       " array([2141, 4930, 5269, 5986, 5618]),\n",
       " array([4930, 2141, 4436, 5269, 5986]),\n",
       " array([418, 836,   0,  -1,  -1]),\n",
       " array([418,  -1,  -1,  -1,  -1]),\n",
       " array([418, 836,   0,  -1,  -1]),\n",
       " array([-1, -1, -1, -1, -1]),\n",
       " array([-1, -1, -1, -1, -1]),\n",
       " array([-1, -1, -1, -1, -1]),\n",
       " array([4137, 3400,  626, 4099,   -1]),\n",
       " array([8609, 6520, 7559, 6285,    3]),\n",
       " array([10482,  8689,  1276,  4684,  5208]),\n",
       " array([3471, 5449, 4732, 4338, 5619]),\n",
       " array([-1, -1, -1, -1, -1]),\n",
       " array([-1, -1, -1, -1, -1]),\n",
       " array([-1, -1, -1, -1, -1]),\n",
       " array([-1, -1, -1, -1, -1]),\n",
       " array([4501, 4433, 3399, 4534, 1274]),\n",
       " array([-1, -1, -1, -1, -1]),\n",
       " array([5001, 5077, 4195, 4877, 5429]),\n",
       " array([-1, -1, -1, -1, -1]),\n",
       " array([-1, -1, -1, -1, -1]),\n",
       " array([3669, 4501,   -1,   -1,   -1]),\n",
       " array([-1, -1, -1, -1, -1]),\n",
       " array([-1, -1, -1, -1, -1]),\n",
       " array([-1, -1, -1, -1, -1]),\n",
       " array([5665,  323, 5347, 4906, 4566]),\n",
       " array([-1, -1, -1, -1, -1]),\n",
       " array([-1, -1, -1, -1, -1]),\n",
       " array([2207, 3011,   -1,   -1,   -1]),\n",
       " array([5429, 5077, 5001, 4195, 4877]),\n",
       " array([2207,   -1,   -1,   -1,   -1]),\n",
       " array([3669,   -1,   -1,   -1,   -1]),\n",
       " array([3669,   -1,   -1,   -1,   -1]),\n",
       " array([-1, -1, -1, -1, -1]),\n",
       " array([   1,  627, 3994, 5124, 4877]),\n",
       " array([5347, 4906,  323, 4338, 5449]),\n",
       " array([   1,  627, 3994, 5124, 4877]),\n",
       " array([-1, -1, -1, -1, -1]),\n",
       " array([ 626, 4099, 3400, 4137, 3793]),\n",
       " array([   1,  627, 5124, 3994, 4877]),\n",
       " array([2207,   -1,   -1,   -1,   -1]),\n",
       " array([3400, 4137,  626, 4099, 3793]),\n",
       " array([8454, 5042, 6826, 9347, 7424]),\n",
       " array([6633, 5579, 6454, 6818, 6003]),\n",
       " array([-1, -1, -1, -1, -1]),\n",
       " array([-1, -1, -1, -1, -1]),\n",
       " array([5429, 5077, 5001, 4195, 4137]),\n",
       " array([-1, -1, -1, -1, -1]),\n",
       " array([3669, 4501, 4433, 3399,   -1]),\n",
       " array([-1, -1, -1, -1, -1]),\n",
       " array([4501, 4433, 3399, 4534, 3669]),\n",
       " array([2511, 7723, 6755, 6203, 6509]),\n",
       " array([5124,    1,  627, 3994, 5241]),\n",
       " array([-1, -1, -1, -1, -1]),\n",
       " array([-1, -1, -1, -1, -1]),\n",
       " array([-1, -1, -1, -1, -1]),\n",
       " array([-1, -1, -1, -1, -1]),\n",
       " array([-1, -1, -1, -1, -1]),\n",
       " array([3670, 5544, 4820, 2850, 6708]),\n",
       " array([-1, -1, -1, -1, -1]),\n",
       " array([-1, -1, -1, -1, -1]),\n",
       " array([5429, 5077, 5001, 4195, 4137]),\n",
       " array([-1, -1, -1, -1, -1]),\n",
       " array([-1, -1, -1, -1, -1]),\n",
       " array([-1, -1, -1, -1, -1]),\n",
       " array([-1, -1, -1, -1, -1]),\n",
       " array([3886,  903, 4772, 3096, 3380]),\n",
       " array([8796, 7630, 9218, 6649, 7211]),\n",
       " array([2967, 2669, 5207, 3150, 2769]),\n",
       " array([4077,  458, 3931, 6089, 5185]),\n",
       " array([2206, 1945,  243, 1229, 1340]),\n",
       " array([-1, -1, -1, -1, -1]),\n",
       " array([1945,  243, 1229, 2206, 3271]),\n",
       " array([1514,   -1,   -1,   -1,   -1]),\n",
       " array([1628, 3860, 3843, 1757, 4373]),\n",
       " array([7413, 6601, 6778, 7264, 6531]),\n",
       " array([-1, -1, -1, -1, -1]),\n",
       " array([-1, -1, -1, -1, -1]),\n",
       " array([1832, 1340, 1884, 1681,  455]),\n",
       " array([2668, 2706, 1146, 3007, 3355]),\n",
       " array([1146, 2706, 2668, 3678, 3007]),\n",
       " array([1146, 2706, 2668, 3678, 3191]),\n",
       " array([3007, 3355, 2668, 2706, 1146]),\n",
       " array([-1, -1, -1, -1, -1]),\n",
       " array([1230,  587, 2805, 2841, 1341]),\n",
       " array([1144,   -1,   -1,   -1,   -1]),\n",
       " array([1340, 2206, 1832, 1945,   -1]),\n",
       " array([1514,   -1,   -1,   -1,   -1]),\n",
       " array([2841, 1230, 3271,  587, 2805]),\n",
       " array([2511, 3236, 3727, 2255, 5335]),\n",
       " array([-1, -1, -1, -1, -1]),\n",
       " array([4113, 4610, 4579, 4671, 3045]),\n",
       " array([2570, 4373, 4445, 3490, 3380]),\n",
       " array([1144,   -1,   -1,   -1,   -1]),\n",
       " array([-1, -1, -1, -1, -1]),\n",
       " array([ 7836,  7741, 10089,  8151,  9458]),\n",
       " array([1832, 1340, 1884, 1681,  455]),\n",
       " array([1144,   -1,   -1,   -1,   -1]),\n",
       " array([-1, -1, -1, -1, -1]),\n",
       " array([1230,  587, 2805, 2841, 1341]),\n",
       " array([1340, 1832, 2206, 1945,   -1]),\n",
       " array([ 490, 1448,   -1,   -1,   -1]),\n",
       " array([690,  -1,  -1,  -1,  -1]),\n",
       " array([1919,    2, 1348,  644,   -1]),\n",
       " array([690,  -1,  -1,  -1,  -1]),\n",
       " array([2582, 2734, 1268, 4498, 3906]),\n",
       " array([-1, -1, -1, -1, -1]),\n",
       " array([4331, 2769,  492, 4684, 4316]),\n",
       " array([2720, 2341, 2040, 1609, 1475]),\n",
       " array([3915, 1578, 2995, 4035, 2425]),\n",
       " array([-1, -1, -1, -1, -1]),\n",
       " array([3915, 1578, 2995, 4035, 2425]),\n",
       " array([3088, 2197, 1889, 2375, 3234]),\n",
       " array([2072, 2720, 1156, 2019, 2341]),\n",
       " array([1889, 2197, 2375, 3088, 3234]),\n",
       " array([551,  -1,  -1,  -1,  -1]),\n",
       " array([551,  -1,  -1,  -1,  -1]),\n",
       " array([1579, 3642, 1112, 3174, 2919]),\n",
       " array([551,  -1,  -1,  -1,  -1]),\n",
       " array([2197, 3088, 1889, 2375, 3234]),\n",
       " array([2919, 3174, 2758, 3642, 2224]),\n",
       " array([3088, 2197, 1475, 1609, 2040]),\n",
       " array([   4, 3965, 5932, 6972, 5264]),\n",
       " array([1889, 2197, 2375, 3088, 3234]),\n",
       " array([551,  -1,  -1,  -1,  -1]),\n",
       " array([-1, -1, -1, -1, -1]),\n",
       " array([5987, 5256, 4000, 5099, 1026]),\n",
       " array([1448,  490,   -1,   -1,   -1]),\n",
       " array([-1, -1, -1, -1, -1]),\n",
       " array([3056,  341, 3250, 3646, 2636]),\n",
       " array([2720, 2072, 1156, 2341, 2040]),\n",
       " array([3517, 2167,  185, 2132, 2872]),\n",
       " array([3805, 2996, 4566, 4149, 5068]),\n",
       " array([551,  -1,  -1,  -1,  -1]),\n",
       " array([1852, 1232, 1535,  996,  645]),\n",
       " array([-1, -1, -1, -1, -1]),\n",
       " array([ 490, 1448,   -1,   -1,   -1]),\n",
       " array([ 490, 1448,   -1,   -1,   -1]),\n",
       " array([2019, 1156, 1686, 1305, 2072]),\n",
       " array([ 490, 1448,   -1,   -1,   -1]),\n",
       " array([690,  -1,  -1,  -1,  -1]),\n",
       " array([1156, 2072, 2019, 2720, 1686]),\n",
       " array([1448,  490,   -1,   -1,   -1]),\n",
       " array([-1, -1, -1, -1, -1]),\n",
       " array([690,  -1,  -1,  -1,  -1]),\n",
       " array([-1, -1, -1, -1, -1]),\n",
       " array([1919,    2, 1348,  644,   -1]),\n",
       " array([ 644, 1348,  645,  996, 1535]),\n",
       " array([ 644,  645,  996, 1348, 1535]),\n",
       " array([-1, -1, -1, -1, -1]),\n",
       " array([2678, 2908,  184, 3120,  426]),\n",
       " array([1681,  866,  393, 1274, 1794]),\n",
       " array([515, 740,  -1,  -1,  -1]),\n",
       " array([2055, 2985, 2691, 1800, 2929]),\n",
       " array([1786, 1567,  260, 1881,  884]),\n",
       " array([4092, 2282, 4907, 3872, 4270]),\n",
       " array([ 3945,  6208,  7514, 11677,  7273]),\n",
       " array([ 438,  143, 2169, 2719, 2101]),\n",
       " array([ 394, 1959, 1429,  143, 1997]),\n",
       " array([-1, -1, -1, -1, -1]),\n",
       " array([1046,  790,  257,   -1,   -1]),\n",
       " array([ 394, 1959, 1429,  143, 1997]),\n",
       " array([-1, -1, -1, -1, -1]),\n",
       " array([1899,  867,    5, 2458, 3091]),\n",
       " array([1786, 1567,  260, 1881,  884]),\n",
       " array([1881, 1786, 1567,  259,  260]),\n",
       " array([515, 740,  -1,  -1,  -1]),\n",
       " array([3430, 1582,  937, 1942, 1347]),\n",
       " array([2838,  886, 2512, 3024, 2263]),\n",
       " array([3234, 1668, 1486, 2084, 3206]),\n",
       " array([ 752, 1329,  649, 1255, 1794]),\n",
       " array([ 257,  790, 1046,   -1,   -1]),\n",
       " array([1681,  393,  866, 1274, 1794]),\n",
       " array([1681,  866,  393, 1274, 1794]),\n",
       " array([-1, -1, -1, -1, -1]),\n",
       " array([ 866, 1681,  393,   -1,   -1]),\n",
       " array([1987, 2076,  678, 2463, 2161]),\n",
       " array([ 866, 1681,  393, 1274,   -1]),\n",
       " array([515, 740,  -1,  -1,  -1]),\n",
       " array([3144, 2996, 3500, 1810, 2672]),\n",
       " array([   8, 2711, 1552, 1688, 1510]),\n",
       " array([2897,  516, 2248, 2452, 3944]),\n",
       " array([ 790,  257, 1046,   -1,   -1]),\n",
       " array([4090, 4313, 1857, 3907, 4437]),\n",
       " array([1938, 1616, 2112, 1441, 2044]),\n",
       " array([ 257,  790, 1046,   -1,   -1]),\n",
       " array([ 257,  790, 1046,   -1,   -1]),\n",
       " array([1810, 3500, 2298, 3144,  963]),\n",
       " array([5009,  150, 4850, 5231,    9]),\n",
       " array([515, 740,  -1,  -1,  -1]),\n",
       " array([-1, -1, -1, -1, -1]),\n",
       " array([ 866, 1681,  393,   -1,   -1]),\n",
       " array([-1, -1, -1, -1, -1]),\n",
       " array([-1, -1, -1, -1, -1]),\n",
       " array([515, 740,  -1,  -1,  -1]),\n",
       " array([2013, 2503, 1442, 3936, 2201]),\n",
       " array([3737, 5023, 5029, 3119, 4690]),\n",
       " array([1997, 2238,  394, 2374, 1890]),\n",
       " array([2789,  653, 1400,  885, 3936]),\n",
       " array([-1, -1, -1, -1, -1]),\n",
       " array([1353, 1680, 1865,  699, 1522]),\n",
       " array([268, 596, 796, 440, 459]),\n",
       " array([-1, -1, -1, -1, -1]),\n",
       " array([-1, -1, -1, -1, -1]),\n",
       " array([1580, 1277, 1810, 1284, 1314]),\n",
       " array([1257,  802, 1400,  758, 1460]),\n",
       " array([-1, -1, -1, -1, -1]),\n",
       " array([1400,  758,  802,  611, 1257]),\n",
       " array([1460, 1257,  817,  802,  680]),\n",
       " array([-1, -1, -1, -1, -1]),\n",
       " array([1272, 1463, 1604, 1686, 1323]),\n",
       " array([-1, -1, -1, -1, -1]),\n",
       " array([  684, 13436, 26289,  2617, 19217]),\n",
       " array([1043, 1512,  680,  817, 1460]),\n",
       " array([6768, 2634, 4091, 5751, 3599]),\n",
       " array([796, 268, 826,  -1, 596]),\n",
       " array([1573, 1733,  657, 2093, 1451]),\n",
       " array([ 475,  628,  771, 1150,  400]),\n",
       " array([1545, 1565, 1489,  868, 2071]),\n",
       " array([2184, 2860, 3092,  779,  477]),\n",
       " array([796, 826, 863, 268,  -1]),\n",
       " array([ 379, 1851, 1680, 1353,  850]),\n",
       " array([1290, 3399, 2750, 1423, 4179]),\n",
       " array([1257, 1460,  802,  817,  680]),\n",
       " array([-1, -1, -1, -1, -1]),\n",
       " array([3095, 4435, 2230, 6263, 3063]),\n",
       " array([1573, 1733,  657, 2093, 1451]),\n",
       " array([431, 229, 292, 205,  -1]),\n",
       " array([4604, 3972, 5033, 5113, 3484]),\n",
       " array([-1, -1, -1, -1, -1]),\n",
       " array([ 723, 1379,  994, 1056,  706]),\n",
       " array([-1, -1, -1, -1, -1]),\n",
       " array([ 475,  628,  771, 1076, 1150]),\n",
       " array([1817, 1626, 1690, 2130, 1033]),\n",
       " array([-1, -1, -1, -1, -1]),\n",
       " array([ 475,  628,  771, 1150,  400]),\n",
       " array([796, 268, 826, 863,  -1]),\n",
       " array([1198, 1219, 1043, 1512, 1090]),\n",
       " array([  684, 13436, 26289,  2617, 19217]),\n",
       " array([2342, 2412, 2288, 2011, 2620]),\n",
       " array([1997, 1442,    6, 2502, 1945]),\n",
       " array([1031,  139,  989,  783,  581]),\n",
       " array([646, 109, 709, 767, 572]),\n",
       " array([776, 998, 171, 613, 564]),\n",
       " array([170, 138, 576, 717, 688]),\n",
       " array([1307, 1573, 2158,  591, 2155]),\n",
       " array([1551, 1072, 1338, 1267,  540]),\n",
       " array([-1, -1, -1, -1, -1]),\n",
       " array([124,  50,  -1,  -1,  -1]),\n",
       " array([ 981, 1143,  826,  416,  864]),\n",
       " array([3528, 4809, 3095, 3373, 3239]),\n",
       " array([ 758, 1158, 1321,  730, 1200]),\n",
       " array([660, 681, 639, 581, 458]),\n",
       " array([ 502, 1128, 2042, 1252, 1390]),\n",
       " array([1343, 1552, 1390, 1632, 2042]),\n",
       " array([ 928,  907,  340,  723, 1075]),\n",
       " array([ 50, 299,  -1,  -1,  -1]),\n",
       " array([ 19, 108, 321, 404,  -1]),\n",
       " array([ 50, 124,  -1,  -1,  -1]),\n",
       " array([ 21,  20, 206, 910, 789]),\n",
       " array([ 7729,   494, 11137,  5754,  2979]),\n",
       " array([1031,  139,  989,  783,  581]),\n",
       " array([ 581,  681,  660,  639, 1031]),\n",
       " array([-1, -1, -1, -1, -1]),\n",
       " array([ 542,  309, 1238,  889, 1578]),\n",
       " array([ 19, 321, 404, 483, 108]),\n",
       " array([124,  50,  -1,  -1,  -1]),\n",
       " array([767, 709, 138, 646, 170]),\n",
       " array([-1, -1, -1, -1, -1]),\n",
       " array([299,  -1,  -1,  -1,  -1]),\n",
       " array([170, 138, 576, 717, 688]),\n",
       " array([646, 709, 767, 138, 109]),\n",
       " array([ 835,  856,  171,  776, 1075]),\n",
       " array([ 581, 1031,  681,  139,  660]),\n",
       " array([1666,  805,  591, 2158, 1139]),\n",
       " array([ 783,  989,  139, 1031,  126]),\n",
       " array([1075,  835,  856,  928,  171]),\n",
       " array([ 491, 1252, 1128,  502,  970]),\n",
       " array([ 302, 4292, 4550, 2084, 1541]),\n",
       " array([776, 171, 998, 613, 564]),\n",
       " array([4038, 2094, 2311, 1768, 2933]),\n",
       " array([138, 767, 709, 170, 576]),\n",
       " array([217, 181,  -1,  -1,  -1]),\n",
       " array([1082, 1117,  292,  791,  627]),\n",
       " array([ 882,  774,  729,  866, 1139]),\n",
       " array([ 870, 1217, 1107, 1064, 1459]),\n",
       " array([595, 587, 182, 833, 687]),\n",
       " array([487, 548, 610,   1, 536]),\n",
       " array([254, 279, 407, 221,   1]),\n",
       " array([ 419,  982, 2127, 1416, 2785]),\n",
       " array([3902, 6786, 5843, 3850,  222]),\n",
       " array([2072, 1273, 1670, 1339, 1362]),\n",
       " array([1934, 1832, 2606,  943, 2494]),\n",
       " array([-1, -1, -1, -1, -1]),\n",
       " array([ 490,  791, 1082, 1117,  292]),\n",
       " array([ 54, 108, 181, 217,  -1]),\n",
       " array([53, 91, -1, -1, -1]),\n",
       " array([53, 91, -1, -1, -1]),\n",
       " array([587, 595, 182, 833, 997]),\n",
       " array([3932,  572, 4057, 1651,   13]),\n",
       " array([971, 228, 974, 768, 866]),\n",
       " array([610, 548, 536, 264, 843]),\n",
       " array([1604,  503, 1127, 1239, 2923]),\n",
       " array([-1, -1, -1, -1, -1]),\n",
       " array([2072, 1670, 1362, 1273, 1097]),\n",
       " array([181, 217,  54, 108,  -1]),\n",
       " array([181,  54, 217, 108,  -1]),\n",
       " array([1034, 1178, 2165, 1799,  890]),\n",
       " array([595, 587, 182, 833, 687]),\n",
       " array([397, 206, 190, 471, 650]),\n",
       " array([308, 241, 221, 407, 279]),\n",
       " array([254, 279,   1, 407, 221]),\n",
       " array([-1, -1, -1, -1, -1]),\n",
       " array([1107, 1217,  870, 1459, 1064]),\n",
       " array([181, 217,  54, 108,  -1]),\n",
       " array([548, 610, 536, 264, 487]),\n",
       " array([1670, 1362, 1097, 2072,  323]),\n",
       " array([1259,  759, 1042, 1511, 1522]),\n",
       " array([581, 764, 704, 699, 993]),\n",
       " array([ 928, 1083,  993, 1155,  502]),\n",
       " array([308, 241, 221, 407, 279]),\n",
       " array([1199,  940, 1769,  696, 1032]),\n",
       " array([ 490,  791, 1082, 1117,  292]),\n",
       " array([487,   1, 548, 610, 536]),\n",
       " array([587, 595, 182, 833, 997]),\n",
       " array([  1, 254, 487, 548, 610]),\n",
       " array([181, 217,  54, 108,  -1]),\n",
       " array([53, 91, -1, -1, -1]),\n",
       " array([613, 822, 554, 276, 412]),\n",
       " array([15165,  5677,  3316, 15680, 12947]),\n",
       " array([1117,  292,  627, 1139, 1082]),\n",
       " array([1082, 1117,  292,  791,  627]),\n",
       " array([181, 217,  54, 108,  -1]),\n",
       " array([264, 843, 536, 327, 610]),\n",
       " array([ 54, 108, 181, 217,  -1]),\n",
       " array([ 870, 1217, 1107, 1064, 1459]),\n",
       " array([ 786, 1933, 2291,  924, 1350]),\n",
       " array([102, 285, 218, 288, 345]),\n",
       " array([ 478,  459,  355, 1002,  725]),\n",
       " array([ 95, 155,  10,  -1,  -1]),\n",
       " array([463, 833, 103, 418,  71]),\n",
       " array([144,  39, 261, 158, 102]),\n",
       " array([ 39, 261, 158, 144, 102]),\n",
       " array([ 433, 1101,  526, 1127, 2249]),\n",
       " array([ 10,  95, 155,  -1,  -1]),\n",
       " array([261, 158,  39, 144, 155]),\n",
       " array([418, 463, 833, 131, 103]),\n",
       " array([725, 355, 459, 478,  65]),\n",
       " array([560, 715,  25, 523, 281]),\n",
       " array([1011,   72,  114,  436, 1216]),\n",
       " array([144,  39, 261, 158, 102]),\n",
       " array([1980,  115, 3498, 3708,  593]),\n",
       " array([ 4376, 13290,  2303,  3218,   325]),\n",
       " array([11739,  8786, 19232,  9224,  8127]),\n",
       " array([2456, 1979, 1073,  779,  479]),\n",
       " array([418, 463, 833, 131, 103]),\n",
       " array([422, 523, 250, 345, 288]),\n",
       " array([1682, 1206, 2393,   57,  843]),\n",
       " array([285, 218, 288, 102, 345]),\n",
       " array([-1, -1, -1, -1, -1]),\n",
       " array([ 469, 1375, 1618, 1335, 2203]),\n",
       " array([422, 250, 345, 288, 523]),\n",
       " array([156, 641, 193, 404, 624]),\n",
       " array([102, 285, 218, 144, 288]),\n",
       " array([144, 102,  39, 261, 158]),\n",
       " array([124,  -1,  -1,  -1,  -1]),\n",
       " array([ 525, 1197,  902, 1209, 3620]),\n",
       " array([ 7126, 10807,  6972,  4311,  6001]),\n",
       " array([285, 218, 288, 345, 250]),\n",
       " array([158, 261, 155,  39, 144]),\n",
       " array([248, 559,  91, 441, 437]),\n",
       " array([ 65, 252,  76,  57,   8]),\n",
       " array([ 483,  464, 1154, 1592, 1820]),\n",
       " array([ 68,  47, 190, 313, 208]),\n",
       " array([3369, 2149, 5555, 1888, 2439]),\n",
       " array([ 617, 6174,   48,  464,  483]),\n",
       " array([32, -1, -1, -1, -1]),\n",
       " array([210, 612, 148, 132, 286]),\n",
       " array([177, 458, 206, 319,  99]),\n",
       " array([ 91, 248, 348, 298, 559]),\n",
       " array([4313, 3164, 5541, 5412, 4399]),\n",
       " array([ 727, 3030, 1684, 3849, 3240]),\n",
       " array([161, 163,  82,  -1,  -1]),\n",
       " array([247,  57,  76, 141, 252]),\n",
       " array([3369, 2149, 5555, 1888, 2439]),\n",
       " array([247,  57,  76, 141, 252]),\n",
       " array([ 768,  327,  950, 1084, 1085]),\n",
       " array([5917, 2696, 5196,  966, 6550]),\n",
       " array([ 65, 252,  76,  57,   8]),\n",
       " array([3369, 2149, 5555, 1888, 2439]),\n",
       " array([247,  57,  76, 141, 252]),\n",
       " array([ 2152,  1855,  2871,   779, 17526]),\n",
       " array([2784, 4585,  641, 3018,   93]),\n",
       " array([248,  91, 348, 559, 298]),\n",
       " array([ 33, 153, 152,  -1,  -1]),\n",
       " array([3298,    1,  297, 2852,  131]),\n",
       " array([169, 384, 458, 146,  76]),\n",
       " array([1487, 4094, 2643, 3192, 4493]),\n",
       " array([509, 277, 150, 351, 197]),\n",
       " array([128, 247, 106, 233,  60]),\n",
       " array([277, 150, 509, 564,  52]),\n",
       " array([ 482, 5753, 1964, 4858, 3127]),\n",
       " array([1856, 1810,  573,  967, 1347]),\n",
       " array([12, -1, -1, -1, -1]),\n",
       " array([1355,  764, 2762, 2561, 2261]),\n",
       " array([152, 153,  33,  -1,  -1]),\n",
       " array([ 33, 153, 152,  -1,  -1]),\n",
       " array([564, 150,  52, 277, 134]),\n",
       " array([257, 142,  99, 134, 215]),\n",
       " array([254, 215, 152, 257,  -1]),\n",
       " array([277, 509, 150, 564,  52]),\n",
       " array([152, 153, 254, 215,  33]),\n",
       " array([257, 142,  99, 134, 215]),\n",
       " array([100, 375, 230,  90, 378]),\n",
       " array([ 7, -1, -1, -1, -1]),\n",
       " array([284, 319, 174,  13, 125]),\n",
       " array([266, 116, 268, 413, 318]),\n",
       " array([ 829,  422, 1502,  739,  631]),\n",
       " array([ 506,  122,  107, 1700, 1865]),\n",
       " array([ 108, 1507,  453,  613,  555]),\n",
       " array([ 98,  64, 147,  -1,  -1]),\n",
       " array([  93,  218, 1699, 1898, 2983]),\n",
       " array([199, 816,  58, 226, 297]),\n",
       " array([116, 268, 266, 413, 394]),\n",
       " array([318,  30, 266,  66,  25]),\n",
       " array([284, 319, 174,  13, 125]),\n",
       " array([318,  30, 266,  66,  25]),\n",
       " array([318,  30, 266,  66,  25]),\n",
       " array([318,  30, 266,  66,  25]),\n",
       " array([318,  30, 266,  66,  25]),\n",
       " array([ 108, 1507,  453,  613,  555]),\n",
       " array([ 7, -1, -1, -1, -1]),\n",
       " array([ 67, 258, 165, 109, 319]),\n",
       " array([2184,  644, 2017, 1182, 1280]),\n",
       " array([ 864,  320,  601, 2449,  706]),\n",
       " array([248, 246, 204,  53,   7]),\n",
       " array([ 32, 132,  50, 322, 209]),\n",
       " array([ 32, 132,  50, 322, 209]),\n",
       " array([ 97, 795,  84, 150, 530]),\n",
       " array([1042,  587,  590,  747, 1549]),\n",
       " array([ 112,  994,  710, 1071, 3430]),\n",
       " array([ 391, 1530, 1319, 1172, 1077]),\n",
       " array([17, 66, 84, -1, -1]),\n",
       " array([1155,  565,  930, 6112,  723]),\n",
       " array([1029,  913,  161, 1258,  426]),\n",
       " array([688, 274, 490,  40,  69]),\n",
       " array([6445,  687, 2248, 1530,  936]),\n",
       " array([2313, 1315,  352,  285,  954]),\n",
       " array([ 65, 272,  59, 230, 326]),\n",
       " array([388, 656, 128, 392, 925]),\n",
       " array([1969,  472,  581,   80,  555]),\n",
       " array([  53, 2612,  395, 1529,  663]),\n",
       " array([272, 230,  65, 326,  42]),\n",
       " array([642, 328, 603, 339,  44]),\n",
       " array([716, 624, 937, 215, 148]),\n",
       " array([ 99,   4, 480,  33,   6])]"
      ]
     },
     "execution_count": 28,
     "metadata": {},
     "output_type": "execute_result"
    }
   ],
   "source": [
    "control_pop['subhalo_ids']"
   ]
  },
  {
   "cell_type": "code",
   "execution_count": null,
   "metadata": {},
   "outputs": [],
   "source": [
    "subhalo_ids_matches = []\n",
    "Mstar_matches = []\n",
    "z_matches = []\n",
    "snap_matches = []\n",
    "Mgas_matches = []\n",
    "MBH_matches = []\n",
    "Mdot_matches = []\n",
    "SFR_matches = []\n",
    "\n",
    "for match_ixs in closest_idxs:\n",
    "    subhalo_ids_matches_ixs = np.where(match_ixs != -1, subhalo_ids_non_merging[match_ixs], -1)\n",
    "    Mstar_matches_ixs = np.where(match_ixs != -1, subhalos['SubhaloMassType'][:,4][subhalo_ids_non_merging[match_ixs]]  * 1e10 /h, -1)\n",
    "    Mgas_matches_ixs = np.where(match_ixs != -1, subhalos['SubhaloMassType'][:,0][subhalo_ids_non_merging[match_ixs]]  * 1e10 /h, -1)\n",
    "    MBH_matches_ixs = np.where(match_ixs != -1, subhalos['SubhaloBHMass'][subhalo_ids_non_merging[match_ixs]]  * 1e10 /h, -1)\n",
    "    Mdot_matches_ixs = np.where(match_ixs != -1, subhalos['SubhaloBHMdot'][subhalo_ids_non_merging[match_ixs]]  * (1e10 / h) / (0.978 * 1e9 /h), -1)\n",
    "    SFR_matches_ixs = np.where(match_ixs != -1, subhalos['SubhaloSFR'][subhalo_ids_non_merging[match_ixs]], -1)\n",
    "\n",
    "    z_matches.append(unique_merger_z[i]*np.ones(len(subhalo_ids_matches_ixs)))\n",
    "    snap_matches.append(unique_snap[i]*np.ones(len(subhalo_ids_matches_ixs)))\n",
    "    subhalo_ids_matches.append(subhalo_ids_matches_ixs)\n",
    "    Mstar_matches.append(Mstar_matches_ixs)\n",
    "    Mgas_matches.append(Mgas_matches_ixs)\n",
    "    MBH_matches.append(MBH_matches_ixs)\n",
    "    Mdot_matches.append(Mdot_matches_ixs)\n",
    "    SFR_matches.append(SFR_matches_ixs)\n",
    "    "
   ]
  },
  {
   "cell_type": "code",
   "execution_count": 62,
   "metadata": {},
   "outputs": [
    {
     "data": {
      "text/plain": [
       "(120974,)"
      ]
     },
     "execution_count": 62,
     "metadata": {},
     "output_type": "execute_result"
    }
   ],
   "source": [
    "np.shape(unique_merger_z[i]*np.ones(len(subhalo_ids_non_merging)))"
   ]
  },
  {
   "cell_type": "code",
   "execution_count": null,
   "metadata": {},
   "outputs": [],
   "source": [
    "merging_pop[\"z\"] = np.append(merging_pop[\"z\"], redshift*np.ones(len(subhalo_ids_merging)))"
   ]
  },
  {
   "cell_type": "code",
   "execution_count": 51,
   "metadata": {},
   "outputs": [
    {
     "data": {
      "text/plain": [
       "array([4137, 3400,  626, 4099,   -1])"
      ]
     },
     "execution_count": 51,
     "metadata": {},
     "output_type": "execute_result"
    }
   ],
   "source": [
    "subhalo_ids_matches[3] "
   ]
  },
  {
   "cell_type": "code",
   "execution_count": null,
   "metadata": {},
   "outputs": [],
   "source": [
    "def control_prop_find(control_pop,closest_indices_filtered):\n",
    "\n",
    "    subhalo_ids_merging = brahma_merger_data['remnant_SubhaloID'][merger_idxs]\n",
    "    subhalo_ids_non_merging = np.setdiff1d(subhalo_ids, subhalo_ids_merging)\n",
    "\n",
    "    control_pop[\"subhalo_ids\"].extend(subhalo_ids_matches)\n",
    "\n",
    "    subhalo_ids_matches = []\n",
    "    for match_ixs in closest_indices_filtered:\n",
    "        subhalo_ids_matches_ixs = np.where(match_ixs != -1, subhalo_ids_non_merging[match_ixs], -1)\n",
    "        subhalo_ids_matches.append(subhalo_ids_matches_ixs)\n",
    "    control_pop[\"subhalo_ids\"].extend(subhalo_ids)"
   ]
  },
  {
   "cell_type": "code",
   "execution_count": null,
   "metadata": {},
   "outputs": [
    {
     "name": "stdout",
     "output_type": "stream",
     "text": [
      "[[   -1    -1    -1    -1    -1]\n",
      " [ 7727  7504  7554  6430  8737]\n",
      " [11081  9630 10048 11675    15]\n",
      " [ 4821  3937    -1    -1    -1]\n",
      " [   -1    -1    -1    -1    -1]\n",
      " [ 3937  4333  4821     0    -1]\n",
      " [   -1    -1    -1    -1    -1]\n",
      " [ 7504  6430  7727  7554  8737]]\n"
     ]
    }
   ],
   "source": [
    "\n",
    "merging_masses_2d = merging_masses.reshape(-1, 1)\n",
    "non_merging_masses_2d = non_merging_masses.reshape(-1, 1)\n",
    "\n",
    "tree = cKDTree(non_merging_masses_2d)\n",
    "\n",
    "# Query for 5 nearest neighbors for each merging mass\n",
    "distances, indices = tree.query(merging_masses_2d, k=5)\n",
    "\n",
    "closest_matches_Mstar = non_merging_masses[indices]\n",
    "\n",
    "# Compute log10 differences\n",
    "log_Mstar_merging = np.log10(merging_masses).reshape(-1, 1)\n",
    "log_Mstar_matches = np.log10(closest_matches_Mstar)\n",
    "dex_diff = np.abs(log_Mstar_merging - log_Mstar_matches)\n",
    "\n",
    "within_tolerance = dex_diff <= 0.1\n",
    "\n",
    "# Set rejected matches to np.nan (or any marker you prefer)\n",
    "closest_indices_filtered = np.where(within_tolerance, indices, -1)\n",
    "# print(closest_indices_filtered)\n",
    "\n",
    "indexes_matched = []\n",
    "\n",
    "for indices in closest_indices_filtered:\n",
    "    indexes_matched.append(indices[indices != -1])\n",
    "\n",
    "print(closest_indices_filtered)                                    "
   ]
  },
  {
   "cell_type": "code",
   "execution_count": null,
   "metadata": {},
   "outputs": [],
   "source": [
    "control_pop[\"indices\"].extend(closest_indices_filtered)"
   ]
  },
  {
   "cell_type": "code",
   "execution_count": null,
   "metadata": {},
   "outputs": [
    {
     "data": {
      "text/plain": [
       "(19, 5)"
      ]
     },
     "execution_count": 228,
     "metadata": {},
     "output_type": "execute_result"
    }
   ],
   "source": [
    "np.shape(control_pop[\"indices\"])"
   ]
  },
  {
   "cell_type": "code",
   "execution_count": null,
   "metadata": {},
   "outputs": [
    {
     "data": {
      "text/plain": [
       "(19,)"
      ]
     },
     "execution_count": 229,
     "metadata": {},
     "output_type": "execute_result"
    }
   ],
   "source": [
    "np.shape(merging_pop[\"subhalo_ids\"])\n"
   ]
  },
  {
   "cell_type": "code",
   "execution_count": null,
   "metadata": {},
   "outputs": [
    {
     "data": {
      "text/plain": [
       "[array([-1, -1, -1, -1, -1]),\n",
       " array([7733, 7510, 7560, 6434, 8743]),\n",
       " array([11088,  9636, 10054, 11682,    16]),\n",
       " array([4825, 3941,   -1,   -1,   -1]),\n",
       " array([-1, -1, -1, -1, -1]),\n",
       " array([3941, 4337, 4825,    1,   -1]),\n",
       " array([-1, -1, -1, -1, -1]),\n",
       " array([7510, 6434, 7733, 7560, 8743])]"
      ]
     },
     "execution_count": 230,
     "metadata": {},
     "output_type": "execute_result"
    }
   ],
   "source": [
    "subhalo_ids_matches = []\n",
    "for match_ixs in closest_indices_filtered:\n",
    "    subhalo_ids_matches_ixs = np.where(match_ixs != -1, subhalo_ids_non_merging[match_ixs], -1)\n",
    "    subhalo_ids_matches.append(subhalo_ids_matches_ixs)\n",
    "subhalo_ids_matches"
   ]
  },
  {
   "cell_type": "code",
   "execution_count": null,
   "metadata": {},
   "outputs": [],
   "source": [
    "control_pop[\"subhalo_ids\"].extend(subhalo_ids_matches)"
   ]
  },
  {
   "cell_type": "code",
   "execution_count": null,
   "metadata": {},
   "outputs": [
    {
     "data": {
      "text/plain": [
       "[array([5126, 6368, 7350,   -1,   -1]),\n",
       " array([10418,  9802, 11030, 10849, 10583]),\n",
       " array([6013, 6574,   -1,   -1,   -1]),\n",
       " array([6574, 6793, 6013,   -1,   -1]),\n",
       " array([ 9132,  9654,  9524,     2, 10053]),\n",
       " array([9524,    2, 9654, 9132, 9206]),\n",
       " array([-1, -1, -1, -1, -1]),\n",
       " array([9871, 9689, 9746, 9338, 8653])]"
      ]
     },
     "execution_count": 151,
     "metadata": {},
     "output_type": "execute_result"
    }
   ],
   "source": [
    "control_pop[\"subhalo_ids\"]"
   ]
  },
  {
   "cell_type": "code",
   "execution_count": null,
   "metadata": {},
   "outputs": [
    {
     "data": {
      "text/plain": [
       "array([ 5125,  6365,  7346,    -1,    -1, 10410,  9795, 11022, 10841,\n",
       "       10575,  6010,  6571,    -1,    -1,    -1,  6571,  6790,  6010,\n",
       "          -1,    -1,  9127,  9647,  9517,     1, 10046,  9517,     1,\n",
       "        9647,  9127,  9201,    -1,    -1,    -1,    -1,    -1,  9864,\n",
       "        9682,  9739,  9332,  8648,  5125,  6365,  7346,    -1,    -1,\n",
       "       10410,  9795, 11022, 10841, 10575,  6010,  6571,    -1,    -1,\n",
       "          -1,  6571,  6790,  6010,    -1,    -1,  9127,  9647,  9517,\n",
       "           1, 10046,  9517,     1,  9647,  9127,  9201,    -1,    -1,\n",
       "          -1,    -1,    -1,  9864,  9682,  9739,  9332,  8648])"
      ]
     },
     "execution_count": 83,
     "metadata": {},
     "output_type": "execute_result"
    }
   ],
   "source": [
    "control_pop[\"indices\"] "
   ]
  },
  {
   "cell_type": "code",
   "execution_count": null,
   "metadata": {},
   "outputs": [
    {
     "data": {
      "text/plain": [
       "array([10.541076, 10.642996, 10.66561 ], dtype=float32)"
      ]
     },
     "execution_count": 37,
     "metadata": {},
     "output_type": "execute_result"
    }
   ],
   "source": [
    "np.log10(non_merging_masses[indexes_matched[0]])"
   ]
  },
  {
   "cell_type": "code",
   "execution_count": null,
   "metadata": {},
   "outputs": [
    {
     "name": "stdout",
     "output_type": "stream",
     "text": [
      "[[ 5125  6365  7346  5124  6979]\n",
      " [10410  9795 11022 10841 10575]\n",
      " [ 6010  6571  6790  7346  6365]\n",
      " [ 6571  6790  6010  7346  6365]\n",
      " [ 9127  9647  9517     1 10046]\n",
      " [ 9517     1  9647  9127  9201]\n",
      " [ 2091  2752  4847  3836  3353]\n",
      " [ 9864  9682  9739  9332  8648]]\n",
      "[[ 5125  6365  7346    -1    -1]\n",
      " [10410  9795 11022 10841 10575]\n",
      " [ 6010  6571    -1    -1    -1]\n",
      " [ 6571  6790  6010    -1    -1]\n",
      " [ 9127  9647  9517     1 10046]\n",
      " [ 9517     1  9647  9127  9201]\n",
      " [   -1    -1    -1    -1    -1]\n",
      " [ 9864  9682  9739  9332  8648]]\n",
      "Merging mass: 10.567659\n",
      "Closest 5 non-merging masses within 0.5 dex: [10.541076 10.642996 10.66561        nan       nan]\n"
     ]
    }
   ],
   "source": [
    "\n",
    "\n",
    "# Build KDTree\n",
    "tree = cKDTree(non_merging_masses_2d)\n",
    "\n",
    "# Query for 5 nearest neighbors for each merging mass\n",
    "distances, indices = tree.query(merging_masses_2d, k=5)\n",
    "print(indices)\n",
    "# Get the actual mass values\n",
    "closest_matches = non_merging_masses[indices]\n",
    "\n",
    "# Compute log10 differences\n",
    "log_merging = np.log10(merging_masses).reshape(-1, 1)\n",
    "log_matches = np.log10(closest_matches)\n",
    "dex_diff = np.abs(log_merging - log_matches)\n",
    "\n",
    "# Mask: True if within 0.5 dex\n",
    "within_tolerance = dex_diff <= 0.1\n",
    "\n",
    "# Set rejected matches to np.nan (or any marker you prefer)\n",
    "closest_matches_filtered = np.where(within_tolerance, closest_matches, np.nan)\n",
    "closest_indices_filtered = np.where(within_tolerance, indices, -1)\n",
    "print(closest_indices_filtered)\n",
    "\n",
    "# Example: print the filtered closest matches for the first merging subhalo\n",
    "print(\"Merging mass:\", np.log10(merging_masses[0]))\n",
    "print(\"Closest 5 non-merging masses within 0.5 dex:\", np.log10(closest_matches_filtered[0]))"
   ]
  },
  {
   "cell_type": "code",
   "execution_count": 24,
   "metadata": {},
   "outputs": [
    {
     "name": "stdout",
     "output_type": "stream",
     "text": [
      "[array([3.4759692e+10, 4.3953758e+10, 4.6303158e+10], dtype=float32), array([3.2310006e+09, 3.2506583e+09, 3.3192005e+09, 2.9367585e+09,\n",
      "       3.5556941e+09], dtype=float32), array([7.7142213e+10, 6.6881454e+10], dtype=float32), array([6.6881454e+10, 6.0654227e+10, 7.7142213e+10], dtype=float32), array([1.0889492e+10, 1.1003609e+10, 1.1623191e+10, 1.2152699e+10,\n",
      "       8.9527941e+09], dtype=float32), array([1.1623191e+10, 1.2152699e+10, 1.1003609e+10, 1.0889492e+10,\n",
      "       1.3250835e+10], dtype=float32), array([], dtype=float32), array([8.4615127e+09, 8.4675318e+09, 8.5822321e+09, 8.5996329e+09,\n",
      "       7.6653855e+09], dtype=float32)]\n",
      "[array([5125, 6365, 7346]), array([10410,  9795, 11022, 10841, 10575]), array([6010, 6571]), array([6571, 6790, 6010]), array([ 9127,  9647,  9517,     1, 10046]), array([9517,    1, 9647, 9127, 9201]), array([], dtype=int64), array([9864, 9682, 9739, 9332, 8648])]\n"
     ]
    }
   ],
   "source": [
    "indexes_matched = []\n",
    "non_merging_mass_matched = []\n",
    "for indices in closest_indices_filtered:\n",
    "    indexes_matched.append(indices[indices != -1])\n",
    "    non_merging_mass_matched.append(non_merging_masses[indices[indices != -1]])\n",
    "print(non_merging_mass_matched)\n",
    "print(indexes_matched)"
   ]
  },
  {
   "cell_type": "code",
   "execution_count": 263,
   "metadata": {},
   "outputs": [
    {
     "name": "stderr",
     "output_type": "stream",
     "text": [
      "Processing unique merger redshifts:  10%|█         | 1/10 [00:00<00:01,  6.41it/s]"
     ]
    },
    {
     "name": "stdout",
     "output_type": "stream",
     "text": [
      "(3,)\n",
      "(3, 5)\n",
      "(11,)\n",
      "(11, 5)\n"
     ]
    },
    {
     "name": "stderr",
     "output_type": "stream",
     "text": [
      "Processing unique merger redshifts:  20%|██        | 2/10 [00:00<00:01,  7.95it/s]"
     ]
    },
    {
     "name": "stdout",
     "output_type": "stream",
     "text": [
      "(14,)\n",
      "(14, 5)\n"
     ]
    },
    {
     "name": "stderr",
     "output_type": "stream",
     "text": [
      "Processing unique merger redshifts:  30%|███       | 3/10 [00:00<00:02,  2.62it/s]"
     ]
    },
    {
     "name": "stdout",
     "output_type": "stream",
     "text": [
      "(22,)\n",
      "(22, 5)\n"
     ]
    },
    {
     "name": "stderr",
     "output_type": "stream",
     "text": [
      "Processing unique merger redshifts:  40%|████      | 4/10 [00:01<00:02,  2.68it/s]"
     ]
    },
    {
     "name": "stdout",
     "output_type": "stream",
     "text": [
      "(23,)\n",
      "(23, 5)\n"
     ]
    },
    {
     "name": "stderr",
     "output_type": "stream",
     "text": [
      "Processing unique merger redshifts:  50%|█████     | 5/10 [00:02<00:02,  1.86it/s]"
     ]
    },
    {
     "name": "stdout",
     "output_type": "stream",
     "text": [
      "(31,)\n",
      "(31, 5)\n"
     ]
    },
    {
     "name": "stderr",
     "output_type": "stream",
     "text": [
      "Processing unique merger redshifts:  60%|██████    | 6/10 [00:03<00:02,  1.51it/s]"
     ]
    },
    {
     "name": "stdout",
     "output_type": "stream",
     "text": [
      "(40,)\n",
      "(40, 5)\n"
     ]
    },
    {
     "name": "stderr",
     "output_type": "stream",
     "text": [
      "Processing unique merger redshifts:  70%|███████   | 7/10 [00:03<00:01,  1.90it/s]"
     ]
    },
    {
     "name": "stdout",
     "output_type": "stream",
     "text": [
      "(55,)\n",
      "(55, 5)\n"
     ]
    },
    {
     "name": "stderr",
     "output_type": "stream",
     "text": [
      "Processing unique merger redshifts:  80%|████████  | 8/10 [00:03<00:01,  1.88it/s]"
     ]
    },
    {
     "name": "stdout",
     "output_type": "stream",
     "text": [
      "(77,)\n",
      "(77, 5)\n"
     ]
    },
    {
     "name": "stderr",
     "output_type": "stream",
     "text": [
      "Processing unique merger redshifts:  90%|█████████ | 9/10 [00:04<00:00,  2.16it/s]"
     ]
    },
    {
     "name": "stdout",
     "output_type": "stream",
     "text": [
      "(102,)\n",
      "(102, 5)\n"
     ]
    },
    {
     "name": "stderr",
     "output_type": "stream",
     "text": [
      "Processing unique merger redshifts: 100%|██████████| 10/10 [00:04<00:00,  2.16it/s]\n"
     ]
    }
   ],
   "source": [
    "\n",
    "\n",
    "for i in tqdm(range(10), desc=\"Processing unique merger redshifts\"):\n",
    "    print(np.shape(merging_pop['subhalo_ids']))\n",
    "    print(np.shape(control_pop['subhalo_ids']))\n",
    "    merger_idxs = np.where(brahma_merger_data['remnant_redshift'] == unique_merger_z[i])[0]\n",
    "    subhalos, o_redshift = arepo.get_subhalo_property(basePath, fields, unique_merger_z[i], postprocessed=1)\n",
    "    subhalo_ids = np.arange(len(subhalos['SubhaloLenType'][:, 0]))\n",
    "    subhalo_ids_merging = brahma_merger_data['remnant_SubhaloID'][merger_idxs]\n",
    "    subhalo_ids_non_merging = np.setdiff1d(subhalo_ids, subhalo_ids_merging)\n",
    "\n",
    "    #print(np.shape(subhalo_ids_merging))\n",
    "    merging_pop[\"subhalo_ids\"] = np.concatenate((merging_pop[\"subhalo_ids\"], subhalo_ids_merging))\n",
    "\n",
    "    merging_masses = subhalos['SubhaloMassType'][subhalo_ids_merging, 4] * 1e10 / h\n",
    "    non_merging_masses = subhalos['SubhaloMassType'][subhalo_ids_non_merging, 4] * 1e10 / h\n",
    "    # print(np.shape(merging_masses))\n",
    "    # print(np.shape(non_merging_masses))\n",
    "    closest_idxs = find_closest_matches(merging_masses, non_merging_masses)\n",
    "    #print(np.shape(closest_idxs))\n",
    "    control_pop[\"indices\"].extend(closest_idxs)\n",
    "\n",
    "    subhalo_ids_matches = []\n",
    "    for match_ixs in closest_idxs:\n",
    "        subhalo_ids_matches_ixs = np.where(match_ixs != -1, subhalo_ids_non_merging[match_ixs], -1)\n",
    "        subhalo_ids_matches.append(subhalo_ids_matches_ixs)\n",
    "    control_pop[\"subhalo_ids\"].extend(subhalo_ids_matches)\n"
   ]
  },
  {
   "cell_type": "code",
   "execution_count": 264,
   "metadata": {},
   "outputs": [
    {
     "data": {
      "text/plain": [
       "(163,)"
      ]
     },
     "execution_count": 264,
     "metadata": {},
     "output_type": "execute_result"
    }
   ],
   "source": [
    "np.shape(merging_pop['subhalo_ids'])\n"
   ]
  },
  {
   "cell_type": "code",
   "execution_count": 265,
   "metadata": {},
   "outputs": [
    {
     "data": {
      "text/plain": [
       "(163, 5)"
      ]
     },
     "execution_count": 265,
     "metadata": {},
     "output_type": "execute_result"
    }
   ],
   "source": [
    "np.shape(control_pop['subhalo_ids'])"
   ]
  },
  {
   "cell_type": "code",
   "execution_count": 52,
   "metadata": {},
   "outputs": [
    {
     "name": "stdout",
     "output_type": "stream",
     "text": [
      "remnant_redshift: 9.996590466186332 SubhaloID: 121 snapshot: 15\n",
      "Subhalomassbytype: [3.18922770e+08 4.12167231e+09 0.00000000e+00 0.00000000e+00\n",
      " 4.40996312e+06 8.87190091e+05]\n",
      "stellar_mass_from_file 4409963.122582925\n",
      "DM_mass_from_file 4121672306.487809\n"
     ]
    }
   ],
   "source": [
    "true_merger_flag  = np.array(merger_properties['merger_type'])==1\n",
    "merger_z = np.array(merger_properties['remnant_redshift'])[true_merger_flag]\n",
    "\n",
    "\n",
    "post_merger_subhaloid = np.array(merger_properties['remnant_SubhaloID'])[true_merger_flag]\n",
    "\n",
    "index=0\n",
    "\n",
    "snap_list, z_list=arepo.get_snapshot_redshift_correspondence(basePath)\n",
    "snapnum = snap_list[np.where(z_list==merger_z[index])[0][0]]\n",
    "\n",
    "print(\"remnant_redshift:\",merger_z[index],\"SubhaloID:\",post_merger_subhaloid[index],\"snapshot:\",snapnum)\n",
    "\n",
    "remnant_subhalo_stellarmass = np.array(merger_properties['remnant_SubhaloStellarMass'])[true_merger_flag]\n",
    "remnant_subhalo_darkmattermass = np.array(merger_properties['remnant_SubhaloDarkMatterMass'])[true_merger_flag]\n",
    "\n",
    "\n",
    "fields = ['SubhaloMassType']\n",
    "\n",
    "#subhalomasstype,o_redshift = arepo.get_subhalo_property(basePath,fields,merger_z[index],file_format='fof_sub_subfind')\n",
    "subhalomasstype,o_redshift = arepo.get_subhalo_property(basePath,fields,merger_z[index],postprocessed=1)\n",
    "h=0.67\n",
    "print(\"Subhalomassbytype:\",subhalomasstype[post_merger_subhaloid[index]]*10**10/h)\n",
    "print(\"stellar_mass_from_file\",remnant_subhalo_stellarmass[index]*10**10/h)\n",
    "print(\"DM_mass_from_file\",remnant_subhalo_darkmattermass[index]*10**10/h)\n"
   ]
  },
  {
   "cell_type": "code",
   "execution_count": 27,
   "metadata": {},
   "outputs": [],
   "source": [
    "fields=['SubhaloLenType', 'SubhaloMassType', 'SubhaloBHMass', 'SubhaloBHMdot', 'SubhaloSFR','SubhaloGasMetallicity','SubhaloStarMetallicity','SubhaloPos','SubhaloHalfmassRadType']"
   ]
  },
  {
   "cell_type": "code",
   "execution_count": 60,
   "metadata": {},
   "outputs": [],
   "source": [
    "subhalos,o_redshift = arepo.get_subhalo_property(basePath,fields,brahma_merger_data['remnant_redshift'][0],postprocessed=1)"
   ]
  },
  {
   "cell_type": "code",
   "execution_count": 85,
   "metadata": {},
   "outputs": [],
   "source": [
    "merger_indices = np.where(brahma_merger_data['remnant_redshift']==brahma_merger_data['remnant_redshift'][0])[0]\n",
    "\n",
    "subhalo_ids_merging = brahma_merger_data['remnant_SubhaloID'][merger_indices]"
   ]
  },
  {
   "cell_type": "code",
   "execution_count": 87,
   "metadata": {},
   "outputs": [
    {
     "data": {
      "text/plain": [
       "25"
      ]
     },
     "execution_count": 87,
     "metadata": {},
     "output_type": "execute_result"
    }
   ],
   "source": [
    "merger_indices.size"
   ]
  },
  {
   "cell_type": "code",
   "execution_count": null,
   "metadata": {},
   "outputs": [],
   "source": [
    "subhalo_ids = np.arange(len(subhalos['SubhaloLenType'][:,0]))\n",
    "valid_subhalo_ids = subhalo_ids"
   ]
  },
  {
   "cell_type": "code",
   "execution_count": 79,
   "metadata": {},
   "outputs": [
    {
     "data": {
      "text/plain": [
       "array([    0,     1,     2, ..., 49207, 49208, 49209])"
      ]
     },
     "execution_count": 79,
     "metadata": {},
     "output_type": "execute_result"
    }
   ],
   "source": [
    "subhalo_ids_non_merging = np.setdiff1d(valid_subhalo_ids, subhalo_ids_merging)"
   ]
  },
  {
   "cell_type": "code",
   "execution_count": 75,
   "metadata": {},
   "outputs": [
    {
     "data": {
      "text/plain": [
       "array([3.18922770e+08, 4.12167231e+09, 0.00000000e+00, 0.00000000e+00,\n",
       "       4.40996312e+06, 8.87190091e+05])"
      ]
     },
     "execution_count": 75,
     "metadata": {},
     "output_type": "execute_result"
    }
   ],
   "source": [
    "h=0.67\n",
    "subhalos['SubhaloMassType'][subhalo_ids_merging[0]]*10**10/h"
   ]
  },
  {
   "cell_type": "code",
   "execution_count": 11,
   "metadata": {},
   "outputs": [],
   "source": [
    "SubhaloMassType,o=arepo.get_subhalo_property(basePath,'SubhaloMassType',merger_z[index],postprocessed=1)"
   ]
  },
  {
   "cell_type": "code",
   "execution_count": 79,
   "metadata": {},
   "outputs": [
    {
     "data": {
      "text/plain": [
       "array([array([1.00050291e+11, 1.00052653e+11, 1.00004273e+11, 1.00003751e+11,\n",
       "              1.00001909e+11, 1.00134223e+11, 1.00099576e+11, 1.00100628e+11,\n",
       "              1.00134253e+11, 1.00007938e+11, 1.00134218e+11, 1.00036233e+11,\n",
       "              1.00021189e+11, 1.00030999e+11, 1.00134220e+11, 1.00031785e+11,\n",
       "              1.00032563e+11, 1.00129836e+11, 1.00129831e+11, 1.00069669e+11,\n",
       "              1.00070455e+11, 1.00067836e+11, 1.00129264e+11, 1.00127958e+11,\n",
       "              1.00130895e+11, 1.00061016e+11, 1.00062066e+11, 1.00040848e+11,\n",
       "              1.00134294e+11, 1.00134239e+11, 1.00001116e+11, 1.00019864e+11,\n",
       "              1.00018555e+11, 1.00020391e+11, 1.00128277e+11, 1.00130109e+11,\n",
       "              1.00026526e+11, 1.00023382e+11, 1.00023901e+11, 1.00085555e+11,\n",
       "              1.00132959e+11, 1.00000572e+11, 1.00011871e+11, 1.00006755e+11,\n",
       "              1.00009376e+11, 1.00007020e+11, 1.00009598e+11, 1.00010909e+11,\n",
       "              1.00009337e+11, 1.00021016e+11, 1.00110210e+11, 1.00025874e+11,\n",
       "              1.00003703e+11, 1.00003701e+11, 1.00004749e+11, 1.00134224e+11,\n",
       "              1.00058092e+11, 1.00057041e+11, 1.00058355e+11, 1.00126756e+11,\n",
       "              1.00128583e+11, 1.00126742e+11, 1.00016303e+11, 1.00016565e+11,\n",
       "              1.00106892e+11, 1.00040599e+11, 1.00041906e+11, 1.00052480e+11,\n",
       "              1.00085002e+11, 1.00085787e+11, 1.00062066e+11, 1.00016131e+11,\n",
       "              1.00019971e+11, 1.00008723e+11, 1.00006889e+11, 1.00096557e+11,\n",
       "              1.00096820e+11, 1.00134220e+11, 1.00120067e+11, 1.00094287e+11,\n",
       "              1.00007628e+11, 1.00133972e+11, 1.00024432e+11, 1.00026263e+11,\n",
       "              1.00108467e+11, 1.00106370e+11, 1.00124533e+11, 1.00129377e+11,\n",
       "              1.00134576e+11, 1.00120633e+11, 1.00122716e+11, 1.00124819e+11,\n",
       "              1.00061449e+11, 1.00061708e+11, 1.00068358e+11, 1.00012526e+11,\n",
       "              1.00105269e+11, 1.00098377e+11, 1.00098637e+11, 1.00096275e+11,\n",
       "              1.00096012e+11, 1.00023641e+11, 1.00091017e+11, 1.00097585e+11,\n",
       "              1.00085544e+11, 1.00132173e+11, 1.00134580e+11, 1.00048760e+11,\n",
       "              1.00046401e+11, 1.00002904e+11, 1.00129548e+11, 1.00127729e+11,\n",
       "              1.00003701e+11, 1.00001866e+11, 1.00090348e+11, 1.00004365e+11,\n",
       "              1.00004891e+11, 1.00134234e+11, 1.00087123e+11, 1.00079064e+11,\n",
       "              1.00123520e+11, 1.00116762e+11, 1.00034667e+11, 1.00077652e+11,\n",
       "              1.00076603e+11, 1.00081935e+11, 1.00084296e+11, 1.00070078e+11,\n",
       "              1.00134364e+11, 1.00024765e+11, 1.00024181e+11, 1.00087773e+11,\n",
       "              1.00090398e+11, 1.00032699e+11, 1.00105283e+11, 1.00124282e+11,\n",
       "              1.00124543e+11, 1.00123235e+11, 1.00127181e+11, 1.00070196e+11,\n",
       "              1.00078007e+11, 1.00016078e+11, 1.00071231e+11, 1.00000344e+11,\n",
       "              1.00004523e+11, 1.00046624e+11, 1.00108197e+11, 1.00058363e+11,\n",
       "              1.00074845e+11, 1.00134221e+11, 1.00003993e+11, 1.00022589e+11,\n",
       "              1.00061184e+11, 1.00109249e+11, 1.00123548e+11, 1.00090256e+11,\n",
       "              1.00015759e+11, 1.00122130e+11, 1.00055046e+11, 1.00006135e+11,\n",
       "              1.00134230e+11, 1.00071392e+11, 1.00072300e+11, 1.00061691e+11,\n",
       "              1.00127801e+11, 1.00058940e+11, 1.00059990e+11, 1.00125858e+11,\n",
       "              1.00083197e+11, 1.00097081e+11, 1.00121176e+11, 1.00016695e+11,\n",
       "              1.00127024e+11, 1.00068382e+11, 1.00052043e+11, 1.00037969e+11,\n",
       "              1.00050019e+11, 1.00011749e+11, 1.00072556e+11, 1.00000033e+11,\n",
       "              1.00132679e+11, 1.00106065e+11, 1.00126046e+11, 1.00063495e+11,\n",
       "              1.00019618e+11, 1.00134237e+11, 1.00076065e+11, 1.00056036e+11,\n",
       "              1.00125585e+11, 1.00061277e+11, 1.00121873e+11, 1.00134586e+11,\n",
       "              1.00134221e+11, 1.00025815e+11, 1.00055130e+11, 1.00133152e+11,\n",
       "              1.00076373e+11, 1.00009743e+11, 1.00009482e+11, 1.00001121e+11,\n",
       "              1.00067806e+11, 1.00077994e+11, 1.00099536e+11, 1.00017112e+11,\n",
       "              1.00074917e+11, 1.00078435e+11, 1.00119562e+11, 1.00069691e+11,\n",
       "              1.00074614e+11, 1.00019579e+11, 1.00132929e+11, 1.00132925e+11,\n",
       "              1.00125257e+11, 1.00015767e+11, 1.00080646e+11, 1.00134219e+11,\n",
       "              1.00010878e+11, 1.00111966e+11, 1.00134589e+11, 1.00134400e+11,\n",
       "              1.00129889e+11, 1.00019973e+11, 1.00069175e+11, 1.00134240e+11,\n",
       "              1.00013980e+11, 1.00078681e+11, 1.00007434e+11, 1.00123564e+11,\n",
       "              1.00047677e+11, 1.00005857e+11, 1.00106111e+11, 1.00123252e+11,\n",
       "              1.00095639e+11, 1.00057872e+11, 1.00073458e+11, 1.00064010e+11,\n",
       "              1.00125692e+11, 1.00123488e+11, 1.00098620e+11, 1.00088827e+11,\n",
       "              1.00109897e+11, 1.00015755e+11, 1.00083586e+11, 1.00050799e+11,\n",
       "              1.00051794e+11, 1.00134321e+11, 1.00052131e+11, 1.00001598e+11,\n",
       "              1.00020503e+11, 1.00011097e+11, 1.00010834e+11, 1.00030817e+11,\n",
       "              1.00115625e+11, 1.00123455e+11, 1.00120609e+11, 1.00082625e+11,\n",
       "              1.00134335e+11, 1.00103467e+11, 1.00087389e+11, 1.00056491e+11,\n",
       "              1.00013407e+11, 1.00003797e+11, 1.00122924e+11, 1.00051590e+11,\n",
       "              1.00052900e+11, 1.00016024e+11, 1.00039543e+11, 1.00108051e+11,\n",
       "              1.00057350e+11, 1.00067597e+11, 1.00049731e+11, 1.00005580e+11,\n",
       "              1.00121125e+11, 1.00012879e+11, 1.00071665e+11, 1.00127807e+11,\n",
       "              1.00097644e+11, 1.00076713e+11, 1.00132413e+11, 1.00013695e+11,\n",
       "              1.00030461e+11, 1.00097466e+11, 1.00097701e+11, 1.00055777e+11,\n",
       "              1.00105299e+11, 1.00061466e+11, 1.00121859e+11, 1.00122906e+11,\n",
       "              1.00063143e+11, 1.00009733e+11, 1.00059403e+11, 1.00127749e+11,\n",
       "              1.00023120e+11, 1.00066153e+11, 1.00071794e+11, 1.00021850e+11,\n",
       "              1.00080626e+11, 1.00010863e+11, 1.00022147e+11, 1.00060180e+11,\n",
       "              1.00125090e+11, 1.00059337e+11, 1.00094815e+11, 1.00049711e+11,\n",
       "              1.00071606e+11, 1.00011211e+11, 1.00058461e+11, 1.00014717e+11,\n",
       "              1.00057581e+11, 1.00019712e+11, 1.00088437e+11, 1.00072414e+11,\n",
       "              1.00124811e+11, 1.00031061e+11, 1.00027202e+11, 1.00114686e+11,\n",
       "              1.00030531e+11, 1.00029142e+11, 1.00000512e+11, 1.00120098e+11,\n",
       "              1.00068189e+11, 1.00023920e+11, 1.00058724e+11, 1.00031780e+11,\n",
       "              1.00114613e+11, 1.00022226e+11, 1.00021937e+11, 1.00045797e+11,\n",
       "              1.00012968e+11, 1.00011833e+11, 1.00008022e+11, 1.00004209e+11,\n",
       "              1.00047298e+11, 1.00062259e+11, 1.00102396e+11, 1.00108207e+11,\n",
       "              1.00134282e+11, 1.00104001e+11, 1.00058662e+11, 1.00115395e+11,\n",
       "              1.00027586e+11, 1.00109256e+11, 1.00087379e+11, 1.00070872e+11,\n",
       "              1.00020606e+11, 1.00055488e+11, 1.00020640e+11, 1.00008021e+11,\n",
       "              1.00007222e+11, 1.00103914e+11, 1.00072847e+11, 1.00011568e+11,\n",
       "              1.00009025e+11, 1.00001342e+11, 1.00084981e+11, 1.00134234e+11,\n",
       "              1.00129322e+11, 1.00134035e+11, 1.00013538e+11, 1.00134292e+11,\n",
       "              1.00078422e+11, 1.00056713e+11, 1.00134431e+11, 1.00114869e+11,\n",
       "              1.00050327e+11, 1.00134868e+11, 1.00096417e+11, 1.00130670e+11,\n",
       "              1.00037020e+11, 1.00134501e+11, 1.00008455e+11, 1.00015243e+11,\n",
       "              1.00126132e+11, 1.00132184e+11, 1.00026006e+11, 1.00027251e+11,\n",
       "              1.00002232e+11, 1.00024563e+11, 1.00029547e+11, 1.00132422e+11,\n",
       "              1.00132932e+11, 1.00123781e+11, 1.00048752e+11, 1.00050807e+11,\n",
       "              1.00086630e+11, 1.00102946e+11, 1.00002380e+11, 1.00067455e+11,\n",
       "              1.00131128e+11, 1.00080116e+11, 1.00094965e+11, 1.00011966e+11,\n",
       "              1.00097561e+11, 1.00118508e+11, 1.00127684e+11, 1.00122448e+11,\n",
       "              1.00100242e+11, 1.00104299e+11, 1.00112926e+11, 1.00077571e+11,\n",
       "              1.00099281e+11, 1.00134548e+11, 1.00060539e+11, 1.00076994e+11,\n",
       "              1.00050992e+11])                                               ,\n",
       "       array([1.00204352e-05, 7.03512487e-05, 3.01408236e-05, 2.01427883e-05,\n",
       "              1.00470197e-05, 2.01125404e-05, 1.00393690e-05, 1.00206125e-05,\n",
       "              1.00204588e-05, 5.03747688e-05, 2.00591185e-05, 7.05528655e-05,\n",
       "              6.03906592e-05, 1.00669122e-05, 3.01143009e-05, 1.00130692e-05,\n",
       "              1.00347543e-05, 3.02714470e-05, 1.00007346e-05, 2.00916493e-05,\n",
       "              1.00638681e-05, 1.00870420e-05, 3.02165117e-05, 2.01095208e-05,\n",
       "              6.06005196e-05, 4.02971818e-05, 1.00122643e-05, 1.00655943e-05,\n",
       "              1.00370698e-05, 1.00712177e-05, 1.00241568e-05, 1.00495317e-05,\n",
       "              1.00141524e-05, 1.00066927e-05, 1.00364696e-05, 1.00012612e-05,\n",
       "              3.01457912e-05, 1.00144034e-05, 1.00592806e-05, 4.01756406e-05,\n",
       "              3.01199325e-05, 1.00644174e-05, 1.00598290e-05, 1.00358775e-05,\n",
       "              1.01295527e-05, 2.01666189e-05, 2.00948271e-05, 1.00224170e-05,\n",
       "              1.00176185e-05, 4.03706326e-05, 1.00435236e-05, 3.01636101e-05,\n",
       "              1.00609468e-05, 1.00339776e-05, 1.00082334e-05, 1.00437155e-05,\n",
       "              2.00252289e-05, 1.01138421e-05, 1.00612106e-05, 1.00247607e-05,\n",
       "              1.00093475e-05, 1.00341513e-05, 2.01047587e-05, 1.00076741e-05,\n",
       "              2.02512038e-05, 1.00339093e-05, 1.00574480e-05, 1.00619482e-05,\n",
       "              3.02072986e-05, 1.00315719e-05, 1.00625193e-05, 2.02500050e-05,\n",
       "              1.00244670e-05, 1.00206380e-05, 1.00304906e-05, 1.00298157e-05,\n",
       "              1.00137504e-05, 2.01377097e-05, 2.00915838e-05, 2.01509902e-05,\n",
       "              1.00587495e-05, 2.01156254e-05, 1.00400848e-05, 2.01060120e-05,\n",
       "              1.00631405e-05, 1.00442976e-05, 1.00530951e-05, 2.02384454e-05,\n",
       "              1.00328843e-05, 1.00377893e-05, 1.00375464e-05, 2.00271315e-05,\n",
       "              2.00844206e-05, 1.00266343e-05, 1.00468396e-05, 1.00048192e-05,\n",
       "              1.00689504e-05, 1.00348907e-05, 1.00437055e-05, 1.00441512e-05,\n",
       "              1.00225034e-05, 1.00256284e-05, 2.02440478e-05, 2.02184874e-05,\n",
       "              1.00920306e-05, 1.00565812e-05, 1.00222960e-05, 2.01265575e-05,\n",
       "              1.00102288e-05, 1.00292273e-05, 1.00808629e-05, 1.00026764e-05,\n",
       "              1.00021571e-05, 1.00233210e-05, 2.02411611e-05, 1.00217412e-05,\n",
       "              1.00500001e-05, 1.00642728e-05, 1.00552697e-05, 2.01614239e-05,\n",
       "              1.00445395e-05, 1.00090319e-05, 1.00658690e-05, 1.00445650e-05,\n",
       "              1.00413463e-05, 1.00595744e-05, 1.00198376e-05, 1.00356929e-05,\n",
       "              1.00406905e-05, 1.00258621e-05, 1.00486950e-05, 1.00349253e-05,\n",
       "              1.00368707e-05, 2.02498359e-05, 1.00088364e-05, 1.00282241e-05,\n",
       "              1.00169455e-05, 1.00353764e-05, 1.00203779e-05, 1.00177785e-05,\n",
       "              2.01366765e-05, 1.00363377e-05, 2.01318580e-05, 1.00047382e-05,\n",
       "              2.01163875e-05, 1.00195875e-05, 1.00059297e-05, 1.00928883e-05,\n",
       "              1.00243024e-05, 1.00505395e-05, 1.00450761e-05, 2.01796865e-05,\n",
       "              1.00302150e-05, 1.00057341e-05, 1.00020197e-05, 1.00459511e-05,\n",
       "              1.00657762e-05, 2.01005641e-05, 1.00076304e-05, 1.00908846e-05,\n",
       "              1.00315410e-05, 2.00850045e-05, 1.00028547e-05, 1.00104235e-05,\n",
       "              1.00706147e-05, 1.00201560e-05, 1.00101643e-05, 2.00326813e-05,\n",
       "              1.00061943e-05, 1.00083553e-05, 2.00848608e-05, 1.00847310e-05,\n",
       "              1.00180805e-05, 1.00135567e-05, 1.00139296e-05, 1.00339594e-05,\n",
       "              3.01356577e-05, 1.00752077e-05, 1.00447678e-05, 1.00166280e-05,\n",
       "              1.00195912e-05, 1.00270527e-05, 1.00150746e-05, 1.00077477e-05,\n",
       "              1.00100251e-05, 1.00480984e-05, 2.00634349e-05, 1.00228935e-05,\n",
       "              1.00653697e-05, 1.00383049e-05, 1.00314082e-05, 1.00158504e-05,\n",
       "              1.00256075e-05, 1.00532770e-05, 1.00270217e-05, 1.00111820e-05,\n",
       "              1.00648404e-05, 1.00529642e-05, 1.00070074e-05, 1.00186153e-05,\n",
       "              1.00490806e-05, 1.00463640e-05, 1.00728184e-05, 1.00544112e-05,\n",
       "              1.00377738e-05, 1.00016168e-05, 1.00701100e-05, 1.00075194e-05,\n",
       "              3.01086147e-05, 1.00857815e-05, 1.00521074e-05, 1.00000279e-05,\n",
       "              2.00695413e-05, 1.00463585e-05, 1.00588431e-05, 3.00841912e-05,\n",
       "              1.00237767e-05, 1.00821680e-05, 1.00007910e-05, 1.00059187e-05,\n",
       "              1.00061388e-05, 9.99999975e-06, 1.00243487e-05, 1.00333855e-05,\n",
       "              2.00648101e-05, 1.00104726e-05, 1.00440193e-05, 1.00199568e-05,\n",
       "              2.01284638e-05, 2.00796949e-05, 1.00292027e-05, 1.00070092e-05,\n",
       "              1.00028055e-05, 1.00580301e-05, 1.00519255e-05, 1.00215857e-05,\n",
       "              1.00003781e-05, 1.00262905e-05, 2.01126895e-05, 1.00107045e-05,\n",
       "              1.00600801e-05, 1.00043681e-05, 1.00234902e-05, 1.00481802e-05,\n",
       "              1.00497027e-05, 1.00176294e-05, 1.00147809e-05, 1.00137122e-05,\n",
       "              1.00300167e-05, 1.00323869e-05, 1.00215075e-05, 1.00230536e-05,\n",
       "              1.00779407e-05, 1.00089146e-05, 1.00744865e-05, 1.00513935e-05,\n",
       "              1.00088673e-05, 1.00207290e-05, 1.00001898e-05, 1.00328562e-05,\n",
       "              1.00042516e-05, 1.00074321e-05, 1.00250909e-05, 1.00270727e-05,\n",
       "              1.00352045e-05, 1.00189272e-05, 1.00420821e-05, 1.00508405e-05,\n",
       "              1.00358848e-05, 1.00106981e-05, 1.00071611e-05, 1.00276538e-05,\n",
       "              1.00154130e-05, 1.00207671e-05, 1.00392845e-05, 1.00257557e-05,\n",
       "              1.00521011e-05, 1.00013922e-05, 1.00652578e-05, 1.00202742e-05,\n",
       "              1.00570987e-05, 1.00200941e-05, 1.00182397e-05, 1.00207517e-05,\n",
       "              1.00038515e-05, 1.00896295e-05, 1.00066172e-05, 1.00091347e-05,\n",
       "              1.00316656e-05, 1.00118586e-05, 1.00324651e-05, 1.00210063e-05,\n",
       "              1.00167081e-05, 1.00277748e-05, 1.00092047e-05, 1.00020898e-05,\n",
       "              1.00580273e-05, 1.00090811e-05, 1.00622337e-05, 1.00120451e-05,\n",
       "              1.00456764e-05, 1.00159268e-05, 1.00070683e-05, 1.00240222e-05,\n",
       "              1.00116404e-05, 1.00043499e-05, 1.00211037e-05, 1.00360176e-05,\n",
       "              1.00227144e-05, 1.00316283e-05, 1.00013267e-05, 1.00041780e-05,\n",
       "              1.00251000e-05, 1.00018497e-05, 1.00283605e-05, 1.00240995e-05,\n",
       "              1.00121260e-05, 1.00280013e-05, 1.00023299e-05, 1.00029793e-05,\n",
       "              1.00099378e-05, 2.00916020e-05, 1.00081807e-05, 1.00012567e-05,\n",
       "              1.00121169e-05, 1.00071975e-05, 1.00174238e-05, 1.00543684e-05,\n",
       "              1.00123034e-05, 1.00400002e-05, 1.00004236e-05, 1.00012057e-05,\n",
       "              1.00180077e-05, 1.00004736e-05, 1.00073239e-05, 1.00062980e-05,\n",
       "              1.00124998e-05, 1.00093694e-05, 1.00006191e-05, 1.00117441e-05,\n",
       "              1.00171301e-05, 1.00087254e-05, 1.00099433e-05, 1.00303669e-05,\n",
       "              1.00005927e-05, 1.00484449e-05, 1.00100024e-05, 1.00291754e-05,\n",
       "              1.00102206e-05, 1.00183534e-05, 1.00184261e-05, 1.00202105e-05,\n",
       "              1.00008938e-05, 1.00048865e-05, 1.00100779e-05, 1.00198504e-05,\n",
       "              1.00099851e-05, 1.00245434e-05, 1.00258521e-05, 1.00199850e-05,\n",
       "              1.00024008e-05, 1.00098014e-05, 1.00107754e-05, 1.00133229e-05,\n",
       "              1.00101161e-05, 1.00107382e-05, 1.00113566e-05, 1.00135776e-05,\n",
       "              1.00275593e-05, 1.00154457e-05, 1.00047000e-05, 1.00252564e-05,\n",
       "              1.00033603e-05, 1.00235384e-05, 1.00247080e-05, 1.00288362e-05,\n",
       "              1.00143425e-05, 1.00155221e-05, 9.99999975e-06, 1.00053876e-05,\n",
       "              1.00087200e-05, 1.00014668e-05, 1.00006919e-05, 1.00108791e-05,\n",
       "              1.00021434e-05, 1.00142206e-05, 9.99999975e-06, 1.00114639e-05,\n",
       "              1.00058814e-05, 1.00083262e-05, 1.00102870e-05, 1.00028174e-05,\n",
       "              1.00134848e-05, 1.00175348e-05, 9.99999975e-06, 1.00011830e-05,\n",
       "              1.00056659e-05, 1.00071393e-05, 1.00038624e-05, 9.99999975e-06,\n",
       "              1.00038569e-05, 1.00123370e-05, 1.00049965e-05, 1.00080415e-05,\n",
       "              1.00082971e-05])                                               ,\n",
       "       array([1.000e+00, 4.000e+00, 8.000e+00, 9.000e+00, 1.000e+01, 1.500e+01,\n",
       "              1.600e+01, 1.900e+01, 2.000e+01, 2.500e+01, 3.100e+01, 3.200e+01,\n",
       "              3.800e+01, 4.600e+01, 4.700e+01, 4.800e+01, 4.900e+01, 5.700e+01,\n",
       "              6.000e+01, 6.500e+01, 6.600e+01, 6.800e+01, 7.600e+01, 7.700e+01,\n",
       "              8.200e+01, 8.500e+01, 8.600e+01, 9.200e+01, 9.300e+01, 9.900e+01,\n",
       "              1.030e+02, 1.080e+02, 1.100e+02, 1.110e+02, 1.130e+02, 1.150e+02,\n",
       "              1.210e+02, 1.240e+02, 1.260e+02, 1.280e+02, 1.320e+02, 1.330e+02,\n",
       "              1.410e+02, 1.480e+02, 1.490e+02, 1.500e+02, 1.540e+02, 1.550e+02,\n",
       "              1.560e+02, 1.610e+02, 1.680e+02, 1.700e+02, 1.770e+02, 1.780e+02,\n",
       "              1.820e+02, 1.900e+02, 1.960e+02, 1.970e+02, 1.980e+02, 2.060e+02,\n",
       "              2.100e+02, 2.110e+02, 2.230e+02, 2.240e+02, 2.330e+02, 2.350e+02,\n",
       "              2.370e+02, 2.420e+02, 2.440e+02, 2.450e+02, 2.470e+02, 2.480e+02,\n",
       "              2.540e+02, 2.570e+02, 2.740e+02, 2.790e+02, 2.810e+02, 2.860e+02,\n",
       "              2.900e+02, 2.940e+02, 2.980e+02, 3.040e+02, 3.060e+02, 3.070e+02,\n",
       "              3.130e+02, 3.140e+02, 3.150e+02, 3.190e+02, 3.220e+02, 3.300e+02,\n",
       "              3.330e+02, 3.330e+02, 3.360e+02, 3.370e+02, 3.400e+02, 3.460e+02,\n",
       "              3.480e+02, 3.510e+02, 3.520e+02, 3.600e+02, 3.620e+02, 3.650e+02,\n",
       "              3.680e+02, 3.690e+02, 3.730e+02, 3.760e+02, 3.800e+02, 3.960e+02,\n",
       "              3.990e+02, 4.040e+02, 4.090e+02, 4.140e+02, 4.280e+02, 4.290e+02,\n",
       "              4.410e+02, 4.420e+02, 4.430e+02, 4.480e+02, 4.500e+02, 4.510e+02,\n",
       "              4.560e+02, 4.580e+02, 4.610e+02, 4.720e+02, 4.730e+02, 4.760e+02,\n",
       "              4.770e+02, 4.840e+02, 5.020e+02, 5.050e+02, 5.100e+02, 5.120e+02,\n",
       "              5.130e+02, 5.210e+02, 5.280e+02, 5.330e+02, 5.330e+02, 5.340e+02,\n",
       "              5.360e+02, 5.400e+02, 5.410e+02, 5.510e+02, 5.530e+02, 5.610e+02,\n",
       "              5.780e+02, 5.850e+02, 6.000e+02, 6.040e+02, 6.060e+02, 6.070e+02,\n",
       "              6.100e+02, 6.120e+02, 6.130e+02, 6.250e+02, 6.330e+02, 6.350e+02,\n",
       "              6.410e+02, 6.440e+02, 6.600e+02, 6.660e+02, 6.710e+02, 6.720e+02,\n",
       "              6.770e+02, 6.810e+02, 6.830e+02, 6.890e+02, 6.900e+02, 6.960e+02,\n",
       "              6.980e+02, 7.110e+02, 7.210e+02, 7.270e+02, 7.480e+02, 7.500e+02,\n",
       "              7.510e+02, 7.550e+02, 7.560e+02, 7.570e+02, 7.670e+02, 7.720e+02,\n",
       "              7.730e+02, 7.770e+02, 7.950e+02, 8.020e+02, 8.050e+02, 8.100e+02,\n",
       "              8.180e+02, 8.220e+02, 8.230e+02, 8.270e+02, 8.290e+02, 8.320e+02,\n",
       "              8.370e+02, 8.400e+02, 8.420e+02, 8.460e+02, 8.480e+02, 8.560e+02,\n",
       "              8.580e+02, 8.790e+02, 8.840e+02, 8.860e+02, 8.980e+02, 9.100e+02,\n",
       "              9.190e+02, 9.240e+02, 9.270e+02, 9.290e+02, 9.330e+02, 9.430e+02,\n",
       "              9.500e+02, 9.500e+02, 9.570e+02, 9.590e+02, 9.610e+02, 9.710e+02,\n",
       "              1.005e+03, 1.012e+03, 1.015e+03, 1.020e+03, 1.021e+03, 1.042e+03,\n",
       "              1.060e+03, 1.061e+03, 1.063e+03, 1.064e+03, 1.070e+03, 1.077e+03,\n",
       "              1.084e+03, 1.107e+03, 1.109e+03, 1.119e+03, 1.138e+03, 1.155e+03,\n",
       "              1.182e+03, 1.197e+03, 1.205e+03, 1.221e+03, 1.226e+03, 1.227e+03,\n",
       "              1.255e+03, 1.267e+03, 1.295e+03, 1.312e+03, 1.315e+03, 1.325e+03,\n",
       "              1.329e+03, 1.358e+03, 1.360e+03, 1.367e+03, 1.379e+03, 1.386e+03,\n",
       "              1.400e+03, 1.406e+03, 1.409e+03, 1.410e+03, 1.414e+03, 1.417e+03,\n",
       "              1.431e+03, 1.438e+03, 1.444e+03, 1.449e+03, 1.466e+03, 1.548e+03,\n",
       "              1.549e+03, 1.560e+03, 1.578e+03, 1.586e+03, 1.592e+03, 1.622e+03,\n",
       "              1.640e+03, 1.675e+03, 1.699e+03, 1.700e+03, 1.726e+03, 1.731e+03,\n",
       "              1.734e+03, 1.740e+03, 1.745e+03, 1.746e+03, 1.752e+03, 1.757e+03,\n",
       "              1.763e+03, 1.789e+03, 1.801e+03, 1.815e+03, 1.836e+03, 1.837e+03,\n",
       "              1.840e+03, 1.900e+03, 1.905e+03, 1.909e+03, 1.972e+03, 2.003e+03,\n",
       "              2.021e+03, 2.034e+03, 2.044e+03, 2.068e+03, 2.085e+03, 2.107e+03,\n",
       "              2.110e+03, 2.131e+03, 2.138e+03, 2.159e+03, 2.175e+03, 2.178e+03,\n",
       "              2.277e+03, 2.301e+03, 2.342e+03, 2.365e+03, 2.393e+03, 2.406e+03,\n",
       "              2.474e+03, 2.481e+03, 2.487e+03, 2.496e+03, 2.501e+03, 2.515e+03,\n",
       "              2.519e+03, 2.541e+03, 2.543e+03, 2.546e+03, 2.572e+03, 2.595e+03,\n",
       "              2.688e+03, 2.779e+03, 2.793e+03, 2.799e+03, 2.816e+03, 2.912e+03,\n",
       "              2.937e+03, 2.947e+03, 2.951e+03, 2.953e+03, 2.957e+03, 3.014e+03,\n",
       "              3.030e+03, 3.047e+03, 3.094e+03, 3.097e+03, 3.100e+03, 3.183e+03,\n",
       "              3.210e+03, 3.235e+03, 3.238e+03, 3.291e+03, 3.305e+03, 3.371e+03,\n",
       "              3.408e+03, 3.415e+03, 3.458e+03, 3.464e+03, 3.508e+03, 3.525e+03,\n",
       "              3.541e+03, 3.613e+03, 3.634e+03, 3.643e+03, 3.645e+03, 3.653e+03,\n",
       "              3.707e+03, 3.732e+03, 3.747e+03, 3.941e+03, 3.971e+03, 4.037e+03,\n",
       "              4.045e+03, 4.048e+03, 4.115e+03, 4.153e+03, 4.341e+03, 4.371e+03,\n",
       "              4.388e+03, 4.408e+03, 4.461e+03, 4.462e+03, 4.471e+03, 4.574e+03,\n",
       "              4.617e+03, 4.698e+03, 4.699e+03, 4.757e+03, 4.768e+03, 4.810e+03,\n",
       "              4.812e+03, 4.865e+03, 5.027e+03, 5.237e+03, 5.262e+03, 5.277e+03,\n",
       "              5.308e+03, 5.474e+03, 5.512e+03, 5.798e+03, 6.447e+03, 6.480e+03,\n",
       "              6.509e+03, 6.680e+03, 6.814e+03, 7.212e+03, 7.303e+03, 7.333e+03,\n",
       "              7.692e+03, 7.737e+03, 8.833e+03])                                ,\n",
       "       array([9.57160228e-05, 4.98036752e-05, 5.16623957e-04, 2.68367818e-04,\n",
       "              2.67360447e-04, 6.71101094e-04, 9.03431574e-05, 5.83906294e-05,\n",
       "              5.62573259e-05, 1.53551903e-03, 2.19462545e-05, 1.45231979e-03,\n",
       "              8.57965031e-04, 1.69380684e-04, 1.85009907e-04, 7.83669966e-05,\n",
       "              2.28481164e-04, 4.58126422e-04, 6.40023063e-05, 4.86452860e-04,\n",
       "              6.16996476e-05, 1.86596313e-04, 4.62572934e-04, 1.43188969e-04,\n",
       "              5.45964343e-04, 4.85931145e-04, 9.00832165e-05, 1.37190334e-04,\n",
       "              1.41411481e-04, 2.66650663e-04, 1.25829058e-04, 1.75634705e-04,\n",
       "              2.18737441e-05, 6.70465743e-05, 1.36884788e-04, 6.20672363e-05,\n",
       "              2.95467529e-04, 2.03768304e-05, 4.15180439e-05, 4.30045795e-04,\n",
       "              3.35089426e-04, 1.02661856e-04, 3.88449844e-04, 3.34484153e-04,\n",
       "              1.47709332e-04, 8.18086992e-05, 3.26359732e-04, 2.30311725e-05,\n",
       "              7.47965751e-05, 6.49327761e-04, 6.55028853e-05, 1.89619182e-04,\n",
       "              2.59424036e-04, 8.75912592e-05, 1.17216650e-05, 1.84939476e-04,\n",
       "              5.18345259e-05, 5.10608952e-05, 1.91934814e-05, 2.55252293e-04,\n",
       "              3.26364359e-04, 6.34688186e-05, 3.33728567e-05, 3.78412296e-05,\n",
       "              3.50898830e-04, 1.94346998e-04, 6.06538379e-05, 1.62369499e-04,\n",
       "              4.32403816e-04, 5.03090232e-05, 4.21776116e-04, 2.94442114e-04,\n",
       "              2.78645275e-05, 6.80037119e-05, 8.32216829e-05, 8.14460509e-05,\n",
       "              0.00000000e+00, 3.12831195e-04, 2.90748692e-04, 2.30796257e-04,\n",
       "              2.81244313e-04, 0.00000000e+00, 1.83568947e-04, 2.52182799e-05,\n",
       "              1.84902208e-04, 5.12869628e-05, 1.73270222e-04, 2.52861646e-04,\n",
       "              1.61891894e-05, 6.21457293e-05, 2.59190914e-04, 2.59190914e-04,\n",
       "              2.91501521e-04, 9.08989750e-05, 2.33647850e-04, 1.26303339e-05,\n",
       "              2.82644207e-04, 4.82585347e-05, 1.60851523e-05, 1.25754988e-04,\n",
       "              7.61767806e-05, 2.45720257e-05, 3.63552710e-04, 2.13999781e-04,\n",
       "              1.46777375e-05, 2.67331081e-04, 0.00000000e+00, 6.06815047e-05,\n",
       "              2.96393046e-05, 4.49552863e-05, 1.93916785e-04, 5.57615858e-05,\n",
       "              3.70270318e-05, 5.53804784e-05, 3.03154287e-04, 1.84608234e-05,\n",
       "              4.34214671e-05, 1.04291656e-04, 4.48570936e-05, 3.40437400e-04,\n",
       "              3.59785452e-04, 2.58040614e-04, 3.52367002e-04, 8.69431969e-05,\n",
       "              1.10461355e-04, 7.58197421e-05, 1.50935593e-05, 0.00000000e+00,\n",
       "              1.72505199e-04, 9.29218077e-05, 1.83704105e-04, 1.74639172e-05,\n",
       "              0.00000000e+00, 1.81181429e-04, 1.04519808e-04, 5.01676732e-05,\n",
       "              5.01676732e-05, 0.00000000e+00, 2.35572865e-04, 4.04568564e-05,\n",
       "              1.67148115e-04, 0.00000000e+00, 1.48869425e-04, 0.00000000e+00,\n",
       "              3.79655030e-05, 2.89140953e-05, 0.00000000e+00, 1.08724678e-04,\n",
       "              4.48335923e-05, 1.65055171e-05, 1.26912113e-04, 3.28222581e-04,\n",
       "              1.21979123e-04, 0.00000000e+00, 0.00000000e+00, 1.63996621e-04,\n",
       "              1.41361743e-04, 1.40017044e-04, 0.00000000e+00, 1.70653366e-04,\n",
       "              1.07835869e-04, 8.46737021e-05, 0.00000000e+00, 0.00000000e+00,\n",
       "              2.70221266e-04, 9.67320884e-05, 5.73062207e-05, 7.82430798e-05,\n",
       "              1.72518645e-04, 0.00000000e+00, 7.86213495e-05, 4.00356075e-05,\n",
       "              0.00000000e+00, 0.00000000e+00, 1.17050775e-04, 1.43313664e-04,\n",
       "              1.75000780e-04, 1.27296677e-04, 9.03616528e-05, 1.11993868e-04,\n",
       "              3.21337538e-05, 1.33562780e-05, 1.38347648e-04, 1.71811582e-04,\n",
       "              0.00000000e+00, 2.31556274e-04, 5.62228815e-05, 6.08126575e-05,\n",
       "              1.09190492e-04, 3.54987060e-05, 6.39128630e-05, 5.98274783e-05,\n",
       "              9.92886926e-05, 7.26228463e-05, 0.00000000e+00, 0.00000000e+00,\n",
       "              5.67650823e-05, 0.00000000e+00, 1.66522059e-05, 0.00000000e+00,\n",
       "              7.63742719e-05, 4.08139895e-05, 3.11484437e-05, 2.48149117e-05,\n",
       "              1.34945556e-04, 5.89421761e-05, 1.15385032e-04, 5.16913278e-05,\n",
       "              1.85898738e-04, 1.75164590e-04, 1.65926234e-04, 1.65926234e-04,\n",
       "              4.61125528e-05, 2.95503160e-05, 6.61686936e-05, 4.00336285e-05,\n",
       "              9.39989695e-05, 2.43333889e-05, 0.00000000e+00, 0.00000000e+00,\n",
       "              1.20955074e-05, 0.00000000e+00, 0.00000000e+00, 3.94140006e-05,\n",
       "              4.71476633e-05, 4.49987019e-05, 1.38573785e-04, 4.46520426e-05,\n",
       "              1.65593170e-04, 3.07953960e-05, 1.02768179e-04, 1.97386780e-05,\n",
       "              3.74875890e-05, 8.82362583e-05, 0.00000000e+00, 4.42175042e-05,\n",
       "              0.00000000e+00, 2.88074443e-05, 6.10976422e-05, 7.11436587e-05,\n",
       "              1.62722397e-04, 1.17097570e-05, 0.00000000e+00, 1.48013569e-04,\n",
       "              7.12793480e-05, 1.20936369e-04, 1.44153000e-05, 3.57224781e-05,\n",
       "              0.00000000e+00, 1.05367755e-04, 0.00000000e+00, 5.83073415e-05,\n",
       "              9.32049734e-05, 0.00000000e+00, 2.38614011e-05, 9.12105243e-05,\n",
       "              1.93095693e-05, 1.81947344e-05, 0.00000000e+00, 0.00000000e+00,\n",
       "              2.93715002e-05, 5.12305232e-05, 4.52071326e-05, 1.51227014e-05,\n",
       "              0.00000000e+00, 2.76614683e-05, 1.51524109e-05, 8.05072050e-05,\n",
       "              7.87078025e-05, 1.97947993e-05, 4.36651753e-05, 0.00000000e+00,\n",
       "              2.42023398e-05, 1.27558887e-04, 0.00000000e+00, 4.69496590e-05,\n",
       "              0.00000000e+00, 3.26284389e-05, 5.10271129e-05, 5.62451351e-05,\n",
       "              1.83492903e-05, 4.18976997e-05, 0.00000000e+00, 1.31739998e-05,\n",
       "              1.70727672e-05, 0.00000000e+00, 2.37509030e-05, 2.57543343e-05,\n",
       "              8.71400043e-05, 0.00000000e+00, 7.37202063e-05, 0.00000000e+00,\n",
       "              0.00000000e+00, 6.97347932e-05, 0.00000000e+00, 4.44649413e-05,\n",
       "              5.60269000e-05, 0.00000000e+00, 0.00000000e+00, 0.00000000e+00,\n",
       "              1.95506454e-05, 1.03986575e-04, 4.09417116e-05, 0.00000000e+00,\n",
       "              0.00000000e+00, 2.17659544e-05, 0.00000000e+00, 7.96162349e-05,\n",
       "              0.00000000e+00, 0.00000000e+00, 2.36208780e-05, 2.34400632e-05,\n",
       "              9.42871557e-05, 0.00000000e+00, 1.56835176e-05, 4.93922380e-05,\n",
       "              0.00000000e+00, 0.00000000e+00, 2.58236923e-05, 1.58895200e-05,\n",
       "              0.00000000e+00, 9.46137734e-05, 0.00000000e+00, 2.76244573e-05,\n",
       "              0.00000000e+00, 0.00000000e+00, 0.00000000e+00, 0.00000000e+00,\n",
       "              2.53578219e-05, 0.00000000e+00, 1.56755686e-05, 0.00000000e+00,\n",
       "              0.00000000e+00, 0.00000000e+00, 1.66360041e-05, 0.00000000e+00,\n",
       "              4.00290082e-05, 2.93920348e-05, 0.00000000e+00, 1.96550209e-05,\n",
       "              2.29172692e-05, 0.00000000e+00, 1.51348768e-05, 0.00000000e+00,\n",
       "              0.00000000e+00, 0.00000000e+00, 2.62771737e-05, 3.38833925e-05,\n",
       "              2.19436588e-05, 0.00000000e+00, 1.61887656e-05, 0.00000000e+00,\n",
       "              0.00000000e+00, 0.00000000e+00, 0.00000000e+00, 2.25712902e-05,\n",
       "              0.00000000e+00, 0.00000000e+00, 2.89862419e-05, 0.00000000e+00,\n",
       "              1.62066972e-05, 1.80365587e-05, 0.00000000e+00, 4.66936872e-05,\n",
       "              0.00000000e+00, 0.00000000e+00, 1.98452162e-05, 0.00000000e+00,\n",
       "              0.00000000e+00, 3.39166108e-05, 0.00000000e+00, 0.00000000e+00,\n",
       "              0.00000000e+00, 0.00000000e+00, 4.27905106e-05, 0.00000000e+00,\n",
       "              4.65545090e-05, 1.86359721e-05, 0.00000000e+00, 0.00000000e+00,\n",
       "              0.00000000e+00, 0.00000000e+00, 0.00000000e+00, 0.00000000e+00,\n",
       "              0.00000000e+00, 0.00000000e+00, 0.00000000e+00, 1.96807960e-05,\n",
       "              0.00000000e+00, 0.00000000e+00, 0.00000000e+00, 1.68533606e-05,\n",
       "              0.00000000e+00, 2.62051835e-05, 0.00000000e+00, 0.00000000e+00,\n",
       "              0.00000000e+00, 2.73112601e-05, 0.00000000e+00, 0.00000000e+00,\n",
       "              0.00000000e+00, 1.51862478e-05, 0.00000000e+00, 0.00000000e+00,\n",
       "              0.00000000e+00])                                               ,\n",
       "       array([0.02575457, 0.00641236, 0.42332101, 0.12614483, 0.02365215,\n",
       "              0.45496234, 0.08325559, 0.00515091, 0.00420483, 0.58310449,\n",
       "              0.00346898, 0.61884552, 0.55104268, 0.20014979, 0.10901015,\n",
       "              0.04446605, 0.03458471, 0.36949924, 0.01124791, 0.42300564,\n",
       "              0.02701602, 0.01566298, 0.41932642, 0.04814528, 0.46957412,\n",
       "              0.38232395, 0.0213395 , 0.04120731, 0.03143109, 0.25659961,\n",
       "              0.01124791, 0.10743334, 0.00904038, 0.00809429, 0.23610106,\n",
       "              0.02018317, 0.27615204, 0.01082743, 0.0035741 , 0.41291407,\n",
       "              0.22600949, 0.05140402, 0.37790889, 0.16220123, 0.07358448,\n",
       "              0.06422874, 0.21802031, 0.02848771, 0.03584616, 0.38631853,\n",
       "              0.00388947, 0.2855078 , 0.05392691, 0.0213395 , 0.00525603,\n",
       "              0.23736252, 0.0904038 , 0.04814528, 0.02091902, 0.1310855 ,\n",
       "              0.24840018, 0.01944733, 0.14664336, 0.03111572, 0.28855628,\n",
       "              0.12141439, 0.03237717, 0.05529348, 0.25596887, 0.00904038,\n",
       "              0.26101467, 0.23830861, 0.01850124, 0.02628017, 0.09744688,\n",
       "              0.12677555, 0.01461178, 0.20130612, 0.23095015, 0.23746763,\n",
       "              0.19888835, 0.00231266, 0.1255141 , 0.06023416, 0.13707738,\n",
       "              0.06790797, 0.17134672, 0.24903092, 0.05939319, 0.00746357,\n",
       "              0.20246245, 0.20246245, 0.19699617, 0.01734491, 0.16945454,\n",
       "              0.01503226, 0.21381548, 0.11395083, 0.02344191, 0.09429326,\n",
       "              0.01513738, 0.02533409, 0.22117393, 0.20593143, 0.01145815,\n",
       "              0.18879676, 0.01440153, 0.115843  , 0.00452019, 0.11458155,\n",
       "              0.18291   , 0.01261448, 0.01534762, 0.01335033, 0.21202843,\n",
       "              0.05760614, 0.04257388, 0.01965757, 0.01229912, 0.1956296 ,\n",
       "              0.18869163, 0.18637899, 0.11731469, 0.12677555, 0.02239071,\n",
       "              0.1310855 , 0.01797564, 0.00630724, 0.12635507, 0.05760614,\n",
       "              0.14716896, 0.0665414 , 0.02007805, 0.18080759, 0.12603971,\n",
       "              0.11657885, 0.11657885, 0.0157681 , 0.16850847, 0.01229912,\n",
       "              0.15578887, 0.00578164, 0.13886443, 0.00578164, 0.10522581,\n",
       "              0.02154974, 0.01944733, 0.11826078, 0.04761967, 0.04047146,\n",
       "              0.13602617, 0.12215024, 0.10985112, 0.01997293, 0.00851478,\n",
       "              0.13928491, 0.13592105, 0.13875932, 0.01114279, 0.13781323,\n",
       "              0.14159757, 0.11321498, 0.00977622, 0.03185157, 0.12908821,\n",
       "              0.01429641, 0.01650395, 0.11594812, 0.12688068, 0.01377081,\n",
       "              0.11321498, 0.00599188, 0.00536116, 0.00714821, 0.11405595,\n",
       "              0.10470021, 0.12067855, 0.1244629 , 0.11153305, 0.06412362,\n",
       "              0.01713467, 0.02112926, 0.09629055, 0.11847102, 0.01324521,\n",
       "              0.09671103, 0.08798601, 0.01229912, 0.11037672, 0.09786736,\n",
       "              0.02281119, 0.03195669, 0.01345545, 0.08104805, 0.05371667,\n",
       "              0.01913197, 0.01871148, 0.05760614, 0.01082743, 0.01345545,\n",
       "              0.12036319, 0.091455  , 0.04246876, 0.00346898, 0.08735529,\n",
       "              0.07747395, 0.10575141, 0.06317753, 0.10133635, 0.08903722,\n",
       "              0.09839296, 0.09839296, 0.02144462, 0.07169231, 0.10406948,\n",
       "              0.08409655, 0.01965757, 0.08399143, 0.00704309, 0.00935574,\n",
       "              0.00441507, 0.03868441, 0.05277058, 0.01366569, 0.09103452,\n",
       "              0.06496459, 0.09071916, 0.08104805, 0.0889321 , 0.0645441 ,\n",
       "              0.05424228, 0.00588676, 0.06065464, 0.07631762, 0.00346898,\n",
       "              0.08567336, 0.03437446, 0.0177654 , 0.0945035 , 0.07242815,\n",
       "              0.07831492, 0.01114279, 0.08136341, 0.06864381, 0.07253327,\n",
       "              0.06170585, 0.04005098, 0.06107512, 0.04299436, 0.06549019,\n",
       "              0.04089195, 0.04078683, 0.06937966, 0.00325874, 0.06118024,\n",
       "              0.04688383, 0.03679224, 0.02228559, 0.030485  , 0.01681931,\n",
       "              0.02817234, 0.02659553, 0.03921002, 0.05718565, 0.00714821,\n",
       "              0.04436093, 0.05592421, 0.06664652, 0.03931514, 0.00946086,\n",
       "              0.03363862, 0.00273314, 0.01745003, 0.0467787 , 0.04541214,\n",
       "              0.04110219, 0.06160072, 0.03111572, 0.06086488, 0.06054952,\n",
       "              0.05623957, 0.0406817 , 0.02785698, 0.0127196 , 0.0406817 ,\n",
       "              0.05697541, 0.02617505, 0.00756869, 0.04541214, 0.02060365,\n",
       "              0.05623957, 0.04057658, 0.03700248, 0.00756869, 0.00883014,\n",
       "              0.02218047, 0.04993233, 0.03216693, 0.04152267, 0.03258741,\n",
       "              0.0391049 , 0.048776  , 0.02659553, 0.04036634, 0.02712114,\n",
       "              0.01650395, 0.03616152, 0.036582  , 0.03185157, 0.03437446,\n",
       "              0.02848771, 0.0152425 , 0.03311302, 0.03363862, 0.03584616,\n",
       "              0.042679  , 0.04036634, 0.03237717, 0.01723979, 0.02407264,\n",
       "              0.03164133, 0.04204828, 0.02091902, 0.01713467, 0.01976269,\n",
       "              0.0310106 , 0.02890819, 0.03248229, 0.03143109, 0.02701602,\n",
       "              0.01913197, 0.0238624 , 0.02112926, 0.02144462, 0.02827747,\n",
       "              0.01345545, 0.02943379, 0.02512384, 0.01913197, 0.02953891,\n",
       "              0.02670065, 0.02701602, 0.02522897, 0.02901331, 0.02596481,\n",
       "              0.02964403, 0.02701602, 0.0279621 , 0.02680578, 0.03332326,\n",
       "              0.03006452, 0.02312655, 0.01986781, 0.02722626, 0.02260095,\n",
       "              0.02007805, 0.02323167, 0.01871148, 0.02628017, 0.03111572,\n",
       "              0.02175998, 0.02806722, 0.02154974, 0.02775186, 0.01797564,\n",
       "              0.0218651 , 0.0188166 , 0.02417776, 0.01702955, 0.01702955,\n",
       "              0.0208139 , 0.02144462, 0.02018317, 0.01429641, 0.0218651 ,\n",
       "              0.02543921, 0.01534762, 0.02165486, 0.0147169 , 0.02302143,\n",
       "              0.02218047, 0.0188166 , 0.018291  , 0.01545274, 0.01871148,\n",
       "              0.01934221, 0.01408617, 0.01597835, 0.01650395, 0.01797564,\n",
       "              0.01513738, 0.01450665, 0.02070878, 0.01713467, 0.01440153,\n",
       "              0.01377081, 0.01440153, 0.01713467, 0.01492714, 0.01387593,\n",
       "              0.0127196 , 0.01408617, 0.01187864, 0.01345545, 0.01051207]),\n",
       "       array([1., 1., 1., 1., 1., 1., 1., 1., 1., 1., 1., 1., 1., 1., 1., 1., 1.,\n",
       "              1., 1., 1., 1., 1., 1., 1., 1., 1., 1., 1., 1., 1., 1., 1., 1., 1.,\n",
       "              1., 1., 1., 1., 1., 1., 1., 1., 1., 1., 1., 1., 1., 1., 1., 1., 1.,\n",
       "              1., 1., 1., 1., 1., 1., 1., 1., 1., 1., 1., 1., 1., 1., 1., 1., 1.,\n",
       "              1., 1., 1., 1., 1., 1., 1., 1., 1., 1., 1., 1., 1., 1., 1., 1., 1.,\n",
       "              1., 1., 1., 1., 1., 2., 1., 1., 1., 1., 1., 1., 1., 1., 1., 1., 1.,\n",
       "              1., 1., 1., 1., 1., 1., 1., 1., 1., 1., 1., 1., 1., 1., 1., 1., 1.,\n",
       "              1., 1., 1., 1., 1., 1., 1., 1., 1., 1., 1., 1., 1., 1., 1., 1., 1.,\n",
       "              2., 1., 1., 1., 1., 1., 1., 1., 1., 1., 1., 1., 1., 1., 1., 1., 1.,\n",
       "              1., 1., 1., 1., 1., 1., 1., 1., 1., 1., 1., 1., 1., 1., 1., 1., 1.,\n",
       "              1., 1., 1., 1., 1., 1., 1., 1., 1., 1., 1., 1., 1., 1., 1., 1., 1.,\n",
       "              1., 1., 1., 1., 1., 1., 1., 1., 1., 1., 1., 1., 1., 1., 1., 1., 1.,\n",
       "              1., 1., 1., 1., 1., 1., 1., 2., 1., 1., 1., 1., 1., 1., 1., 1., 1.,\n",
       "              1., 1., 1., 1., 1., 1., 1., 1., 1., 1., 1., 1., 1., 1., 1., 1., 1.,\n",
       "              1., 1., 1., 1., 1., 1., 1., 1., 1., 1., 1., 1., 1., 1., 1., 1., 1.,\n",
       "              1., 1., 1., 1., 1., 1., 1., 1., 1., 1., 1., 1., 1., 1., 1., 1., 1.,\n",
       "              1., 1., 1., 1., 1., 1., 1., 1., 1., 1., 1., 1., 1., 1., 1., 1., 1.,\n",
       "              1., 1., 1., 1., 1., 1., 1., 1., 1., 1., 1., 1., 1., 1., 1., 1., 1.,\n",
       "              1., 1., 1., 1., 1., 1., 1., 1., 1., 1., 1., 1., 1., 1., 1., 1., 1.,\n",
       "              1., 1., 1., 1., 1., 1., 1., 1., 1., 1., 1., 1., 1., 1., 1., 1., 1.,\n",
       "              1., 1., 1., 1., 1., 1., 1., 1., 1., 1., 1., 1., 1., 1., 1., 1., 1.,\n",
       "              1., 1., 1., 1., 1., 1., 1., 1., 1., 1., 1., 1., 1., 1., 1., 1., 1.,\n",
       "              1., 1., 1., 1., 1., 1., 1., 1., 1., 1., 1., 1., 1., 1., 1., 1., 1.,\n",
       "              1., 1., 1., 1., 1., 1., 1., 1., 1., 1., 1., 1., 1., 1.])           ,\n",
       "       array([ 4.09987497,  4.87575674,  7.74905825,  6.63564253,  4.04690266,\n",
       "              11.68858719, 13.79547977,  1.88426769,  2.4747293 , 14.63617134,\n",
       "               0.        ,  7.51702738, 11.30303574, 26.46675873,  9.7008009 ,\n",
       "               5.01078796,  4.09597635,  5.34309626,  2.72650909, 10.24230289,\n",
       "               3.2480576 ,  3.22522426,  6.00433588,  4.51096058,  8.15989685,\n",
       "               6.61995506,  4.32198763,  2.84465671,  2.21485519,  6.53504467,\n",
       "               2.55968976,  5.26017189,  0.        ,  4.76977253,  3.82875896,\n",
       "               5.23887777,  7.80628061,  0.        ,  0.        ,  7.8613596 ,\n",
       "               9.94805717,  3.3919239 , 12.21367073,  3.09178853,  7.16296673,\n",
       "               1.60659647,  8.43085098,  0.        ,  5.31713438, 10.3011713 ,\n",
       "               1.85019851, 17.70991898,  5.07242203,  5.49629593,  0.        ,\n",
       "               5.9614706 ,  0.        ,  0.        ,  0.        ,  3.65009427,\n",
       "               7.28491926,  5.61816835,  0.        ,  0.        ,  7.06576872,\n",
       "               3.91188717,  1.42301762,  3.84325695,  7.52162123,  4.0481081 ,\n",
       "               6.52709484,  6.02546549,  0.        , 15.93946457,  4.23668671,\n",
       "               5.40539312,  0.        , 12.06948662,  5.86961794,  6.71981859,\n",
       "               7.58264542,  0.        ,  8.63852596,  0.        ,  4.86584139,\n",
       "              11.92254829,  6.2844677 ,  5.69654083,  0.        ,  4.74567938,\n",
       "               3.28562689,  3.28562689,  4.62805462,  3.53017163, 15.77000904,\n",
       "               0.        ,  3.91987276,  3.66199183,  0.        ,  5.88722801,\n",
       "               4.34032106,  0.        ,  6.23108339,  3.27760959,  0.        ,\n",
       "               3.50953364,  0.        ,  3.49772358,  0.        ,  0.        ,\n",
       "               5.31948805,  4.40240002,  0.        ,  5.00850201,  3.71784258,\n",
       "               0.        ,  0.        ,  4.75889587,  0.        ,  4.1691761 ,\n",
       "               4.16229248,  5.57394314,  8.58068466,  3.05928469,  1.98866761,\n",
       "               2.72596335,  0.        ,  0.        ,  5.37273788,  2.54641819,\n",
       "               3.75134754,  0.        ,  0.        ,  3.7422142 ,  2.30168486,\n",
       "               0.        ,  0.        ,  0.        ,  2.79635549,  5.42490482,\n",
       "               3.66157126,  0.        ,  6.39468956,  0.        ,  0.        ,\n",
       "               0.        ,  0.        ,  9.52781391,  0.        ,  0.        ,\n",
       "               4.29140043,  5.81111288,  5.77148008,  0.        ,  0.        ,\n",
       "               6.78914928,  4.0620904 ,  3.61838675,  0.        ,  3.83816171,\n",
       "               4.59794712,  4.25825214,  0.        ,  0.        ,  3.73522067,\n",
       "               2.68749809,  0.        ,  5.3071866 ,  3.35628295,  0.        ,\n",
       "              12.72106647,  0.        ,  0.        ,  0.        ,  7.98249626,\n",
       "               3.9978137 ,  3.70126534,  5.61255074, 10.19501495,  2.75103402,\n",
       "               0.        ,  0.        , 10.50899029, 10.3974762 ,  0.        ,\n",
       "               6.23152161,  6.08339977,  2.66216445,  2.73025727, 16.20171738,\n",
       "               5.69709635,  2.90215707,  1.94403708,  2.35597491,  0.        ,\n",
       "               0.        ,  2.26088262,  0.        ,  0.        ,  0.        ,\n",
       "               5.73987675, 27.23946762,  0.        ,  0.        ,  2.81205273,\n",
       "               3.69934392,  4.17696238,  0.        ,  3.52195072,  5.08056927,\n",
       "               4.66883373,  4.66883373,  0.        ,  4.55100155,  2.59853506,\n",
       "               0.        ,  4.66490459,  0.        ,  0.        ,  0.        ,\n",
       "               0.        ,  0.        ,  0.        ,  7.12387085,  0.        ,\n",
       "               0.        ,  3.0044477 ,  2.95391798,  3.81958771,  0.        ,\n",
       "               4.59500504,  0.        ,  0.        ,  6.34938097,  0.        ,\n",
       "               2.12049294,  0.        ,  0.        ,  3.41506982,  1.43769908,\n",
       "               3.37054133,  0.        ,  0.        ,  4.20667458,  2.49881697,\n",
       "               8.46178436,  0.        ,  0.        ,  0.        ,  4.73337126,\n",
       "               0.        ,  2.6051209 ,  5.36289978,  0.        ,  0.        ,\n",
       "               4.4313364 ,  0.        ,  0.        ,  0.        ,  0.        ,\n",
       "               0.        ,  1.48086846,  0.        ,  0.        ,  0.        ,\n",
       "               0.        ,  0.        ,  5.54868984,  3.20842099,  0.        ,\n",
       "               4.78822613,  0.        ,  0.        ,  3.50785494,  0.        ,\n",
       "               0.        ,  0.        ,  0.        ,  0.        ,  5.20103264,\n",
       "               0.        , 12.30669498,  0.        ,  0.        ,  0.        ,\n",
       "               0.        ,  0.        ,  0.        ,  3.3181932 ,  0.        ,\n",
       "               3.94887948,  0.        ,  0.        ,  4.54368067,  0.        ,\n",
       "              14.48746777,  3.51536536,  0.        ,  0.        ,  0.        ,\n",
       "               0.        ,  1.99777293,  0.        ,  0.        ,  0.        ,\n",
       "               0.        ,  0.        ,  3.94793057,  0.        ,  0.        ,\n",
       "               0.        ,  0.        ,  2.56096816,  0.        ,  0.        ,\n",
       "               0.        ,  0.        ,  0.        ,  0.        ,  0.        ,\n",
       "               0.        ,  1.43978989,  0.        , 15.78391838,  0.        ,\n",
       "               0.        ,  0.        ,  0.        ,  0.        ,  0.        ,\n",
       "               0.        ,  0.        ,  0.        ,  0.        ,  0.        ,\n",
       "               0.        ,  5.57146454,  0.        ,  0.        ,  0.        ,\n",
       "               0.        ,  0.        ,  0.        ,  0.        ,  0.        ,\n",
       "               0.        ,  0.        ,  5.2149334 ,  0.        ,  0.        ,\n",
       "               0.        ,  0.        ,  0.        ,  0.        ,  0.        ,\n",
       "               0.        ,  0.        ,  0.        ,  0.        ,  0.        ,\n",
       "               0.        ,  0.        ,  0.        ,  5.88539124,  0.        ,\n",
       "               0.        ,  0.        ,  0.        ,  0.        ,  0.        ,\n",
       "               0.        ,  0.        ,  0.        ,  0.        ,  0.        ,\n",
       "               0.        ,  2.34288788,  0.        ,  0.        ,  0.        ,\n",
       "               0.        ,  0.        ,  0.        ,  0.        ,  0.        ,\n",
       "               0.        ,  0.        ,  0.        ,  0.        ,  0.        ,\n",
       "               0.        ,  0.        ,  0.        ,  0.        ,  0.        ,\n",
       "               0.        ,  0.        ,  0.        ,  0.        ,  0.        ,\n",
       "               0.        ,  0.        ,  0.        ,  0.        ,  0.        ]),\n",
       "       9.996590466186332], dtype=object)"
      ]
     },
     "execution_count": 79,
     "metadata": {},
     "output_type": "execute_result"
    }
   ],
   "source": [
    "np.load(basePath+'bhdata_with_subhalos/snapshot_%s.npy'%(snapnum),allow_pickle=True)"
   ]
  },
  {
   "cell_type": "markdown",
   "metadata": {},
   "source": [
    "#### Header data"
   ]
  },
  {
   "cell_type": "code",
   "execution_count": 26,
   "metadata": {},
   "outputs": [
    {
     "name": "stdout",
     "output_type": "stream",
     "text": [
      "Max redshift: 25\n",
      "Box length : 18.461 Mpc\n"
     ]
    }
   ],
   "source": [
    "snap_num = 0\n",
    "h = il_mod.groupcat.loadHeader(basePath, snap_num)['HubbleParam']\n",
    "Box_l = il_mod.groupcat.loadHeader(basePath,snap_num)['BoxSize']/1000/h\n",
    "redshifts  =np.array([il_mod.groupcat.loadHeader(basePath, snap)['Redshift'] for snap in snaps])\n",
    "print(\"Max redshift: %d\"%(redshifts[0]))\n",
    "print(\"Box length : %1.3f Mpc\"%(Box_l))"
   ]
  },
  {
   "cell_type": "code",
   "execution_count": 56,
   "metadata": {},
   "outputs": [
    {
     "name": "stdout",
     "output_type": "stream",
     "text": [
      "47525\n",
      "Subhalo masses: [10.03982357  8.61622094  8.31304592 ...  7.55276321  7.51828201\n",
      "  7.49206536]\n",
      "Subhalo indices: [    0     1     2 ... 47522 47523 47524]\n"
     ]
    }
   ],
   "source": [
    "fields = ['SubhaloMass','SubhaloSFRinRad','SubhaloMassType']\n",
    "snapNum=15\n",
    "subhalos = il.groupcat.loadSubhalos(basePath,snapNum,fields=fields)\n",
    "print(subhalos['count'])\n",
    "print(\"Subhalo masses:\",np.log10(subhalos['SubhaloMass']*10**10/h))\n",
    "# Get the \"index-based IDs\" for subhalos (0 to N-1)\n",
    "subhalo_indices = np.arange(len(subhalos['SubhaloMass']))\n",
    "print(f\"Subhalo indices: {subhalo_indices}\")"
   ]
  },
  {
   "cell_type": "code",
   "execution_count": 74,
   "metadata": {},
   "outputs": [
    {
     "data": {
      "text/plain": [
       "3.553144e-05"
      ]
     },
     "execution_count": 74,
     "metadata": {},
     "output_type": "execute_result"
    }
   ],
   "source": [
    "subhalos['SubhaloMassType'][85][4]"
   ]
  },
  {
   "cell_type": "markdown",
   "metadata": {},
   "source": [
    "### BH mergers to subhalo data"
   ]
  },
  {
   "cell_type": "code",
   "execution_count": 27,
   "metadata": {},
   "outputs": [],
   "source": [
    "snap_list, z_list=arepo.get_snapshot_redshift_correspondence(basePath)"
   ]
  },
  {
   "cell_type": "code",
   "execution_count": 29,
   "metadata": {},
   "outputs": [
    {
     "data": {
      "text/plain": [
       "array([2.50484387e+01, 2.39609608e+01, 2.30324872e+01, 2.20291718e+01,\n",
       "       2.09634266e+01, 2.00464910e+01, 1.89776156e+01, 1.79630246e+01,\n",
       "       1.69999610e+01, 1.60050415e+01, 1.49891732e+01, 1.40339921e+01,\n",
       "       1.30025453e+01, 1.19802133e+01, 1.09756433e+01, 9.99659047e+00,\n",
       "       9.00233985e+00, 8.01217295e+00, 7.00541705e+00, 6.01075740e+00,\n",
       "       4.99593347e+00, 4.00794511e+00, 3.00813107e+00, 2.00202814e+00,\n",
       "       1.49551217e+00, 9.97294226e-01, 7.00106354e-01, 5.03047523e-01,\n",
       "       3.99926965e-01, 2.97717685e-01, 1.97284182e-01, 9.94018026e-02,\n",
       "       2.22044605e-16])"
      ]
     },
     "execution_count": 29,
     "metadata": {},
     "output_type": "execute_result"
    }
   ],
   "source": [
    "z_list"
   ]
  },
  {
   "cell_type": "code",
   "execution_count": 28,
   "metadata": {},
   "outputs": [
    {
     "data": {
      "text/plain": [
       "<KeysViewHDF5 ['BH_ID', 'BH_Mass', 'BH_Mdot', 'Rho', 'ScaleFactor', 'cs']>"
      ]
     },
     "execution_count": 28,
     "metadata": {},
     "output_type": "execute_result"
    }
   ],
   "source": [
    "details=h5py.File(basePath+'blackhole_details.hdf5')\n",
    "details.keys()"
   ]
  },
  {
   "cell_type": "code",
   "execution_count": 25,
   "metadata": {},
   "outputs": [
    {
     "data": {
      "text/plain": [
       "array([1.00005e-05, 1.00000e-05, 1.00001e-05, ..., 2.83128e-05,\n",
       "       1.55527e-05, 9.95773e-04])"
      ]
     },
     "execution_count": 25,
     "metadata": {},
     "output_type": "execute_result"
    }
   ],
   "source": [
    "details.get('BH_Mass')[:]"
   ]
  },
  {
   "cell_type": "code",
   "execution_count": null,
   "metadata": {},
   "outputs": [],
   "source": [
    "full_data=np.loadtxt(basePath+'blackhole_details/'+output_file_name,dtype='str')"
   ]
  },
  {
   "cell_type": "code",
   "execution_count": null,
   "metadata": {},
   "outputs": [
    {
     "data": {
      "text/plain": [
       "(37833, 6)"
      ]
     },
     "execution_count": 20,
     "metadata": {},
     "output_type": "execute_result"
    }
   ],
   "source": [
    "np.shape(full_data)"
   ]
  },
  {
   "cell_type": "code",
   "execution_count": 5,
   "metadata": {},
   "outputs": [],
   "source": [
    "basePath = '/orange/lblecha/aklantbhowmick/GAS_BASED_SEED_MODEL_UNIFORM_RUNS/L12p5n512/AREPO/output_ratio10_SFMFGM5_seed5.00_bFOF_LW10_spin_rich/output'"
   ]
  },
  {
   "cell_type": "markdown",
   "metadata": {},
   "source": [
    "['DescendantID', 'FirstProgenitorID', 'FirstSubhaloInFOFGroupID', 'LastProgenitorID', 'MainLeafProgenitorID', 'Mass', 'MassHistory', 'NextProgenitorID', 'NextSubhaloInFOFGroupID', 'NumParticles', 'RootDescendantID', 'SnapNum', 'SubfindID', 'SubhaloID', 'SubhaloIDRaw', 'TreeID']"
   ]
  },
  {
   "cell_type": "markdown",
   "metadata": {},
   "source": [
    "## Halo Data"
   ]
  },
  {
   "cell_type": "code",
   "execution_count": 14,
   "metadata": {},
   "outputs": [],
   "source": [
    "import illustris_python_mod as il"
   ]
  },
  {
   "cell_type": "code",
   "execution_count": 16,
   "metadata": {},
   "outputs": [],
   "source": [
    "basePath = '/orange/lblecha/aklantbhowmick/GAS_BASED_SEED_MODEL_UNIFORM_RUNS/L12p5n512/AREPO/output_ratio10_SFMFGM5_seed5.00_bFOF_LW10_spin_rich/'"
   ]
  },
  {
   "cell_type": "code",
   "execution_count": 17,
   "metadata": {},
   "outputs": [
    {
     "name": "stdout",
     "output_type": "stream",
     "text": [
      "Subhalo indices for halo 0: [0]\n",
      "Subhalo indices for halo 1: [1]\n"
     ]
    }
   ],
   "source": [
    "snapNum=0\n",
    "halo_data = il.groupcat.loadHalos(basePath, snapNum, fields=['GroupFirstSub', 'GroupNsubs'])\n",
    "group_first_sub = halo_data['GroupFirstSub']  # Index of first subhalo in subhalo catalog\n",
    "group_nsubs = halo_data['GroupNsubs']         # Number of subhalos in halo\n",
    "\n",
    "#print(group_first_sub)\n",
    "#print(group_nsubs)\n",
    "\n",
    "subhalos = il.groupcat.loadSubhalos(basePath, snapNum, fields=['SubhaloMass', 'SubhaloGrNr'])\n",
    "\n",
    "# Get the \"index-based IDs\" for subhalos (0 to N-1)\n",
    "subhalo_indices = np.arange(len(subhalos['SubhaloMass']))\n",
    "#print(f\"Subhalo indices: {subhalo_indices}\")\n",
    "\n",
    "for i in group_first_sub:\n",
    "    if group_first_sub[i] >= 0:\n",
    "        start = group_first_sub[i]\n",
    "        end = start + group_nsubs[i]\n",
    "        subhalos_in_halo = subhalo_indices[start:end]\n",
    "        print(f\"Subhalo indices for halo {i}: {subhalos_in_halo}\")\n",
    "    else:\n",
    "        print(f\"Halo {i} has no subhalos.\")"
   ]
  },
  {
   "cell_type": "code",
   "execution_count": 18,
   "metadata": {},
   "outputs": [
    {
     "name": "stdout",
     "output_type": "stream",
     "text": [
      "[  0   2   4   6   7   8   9  10  11  12  14  15  16  17  18  19  20  21\n",
      "  22  23  24  25  26  27  28  29  30  31  32  33  34  35  36  37  38  39\n",
      "  40  41  42  43  44  45  46  47  48  49  50  51  52  53  54  55  56  57\n",
      "  58  59  60  61  62  63  64  65  66  67  68  69  70  71  72  73  74  75\n",
      "  76  77  78  79  80  81  82  83  84  85  86  87  88  89  90  91  92  93\n",
      "  94  95  96  97  98  99 100 101 102 103 104 105 106 107 108 109 110 111\n",
      " 112 113 114 115 116 117 118 119 120 121 122 123 124 125 126 127 128 129\n",
      " 130 131 132 133 134 135 136 137 138 139 140 141 142 143 144 145 146 147\n",
      " 148 149 150 151 152 153 154 155 156 157 158 159 160 161 162 163 164 165\n",
      " 166 167 168 169 170 171  -1 172 173 174 175 176 177 178 179 180 181 182\n",
      " 183 184 185 186 187 188 189 190 191 192 193 194 195 196 197 198 199  -1\n",
      " 200 201 202 203 204 205 206 207 208 209 210 211 212 213 214 215 216 217\n",
      "  -1 218 219 220 221 222 223 224 225]\n"
     ]
    }
   ],
   "source": [
    "snapNum=5\n",
    "GroupFirstSub = il.groupcat.loadHalos(basePath,snapNum,fields=['GroupFirstSub'])\n",
    "print(GroupFirstSub)"
   ]
  },
  {
   "cell_type": "code",
   "execution_count": 19,
   "metadata": {},
   "outputs": [
    {
     "name": "stdout",
     "output_type": "stream",
     "text": [
      "254718 160000051800000012 160000051800000002\n",
      "/orange/lblecha/aklantbhowmick/GAS_BASED_SEED_MODEL_UNIFORM_RUNS/L12p5n512/AREPO/output_ratio10_SFMFGM5_seed5.00_bFOF_LW10_spin_rich/postprocessing/tree_extended.*.hdf5 40\n",
      "postprocessing/tree_extended.0.hdf5\n",
      "/orange/lblecha/aklantbhowmick/GAS_BASED_SEED_MODEL_UNIFORM_RUNS/L12p5n512/AREPO/output_ratio10_SFMFGM5_seed5.00_bFOF_LW10_spin_rich/postprocessing/tree_extended.0.hdf5\n",
      "postprocessing/tree_extended.1.hdf5\n",
      "/orange/lblecha/aklantbhowmick/GAS_BASED_SEED_MODEL_UNIFORM_RUNS/L12p5n512/AREPO/output_ratio10_SFMFGM5_seed5.00_bFOF_LW10_spin_rich/postprocessing/tree_extended.1.hdf5\n",
      "postprocessing/tree_extended.2.hdf5\n",
      "/orange/lblecha/aklantbhowmick/GAS_BASED_SEED_MODEL_UNIFORM_RUNS/L12p5n512/AREPO/output_ratio10_SFMFGM5_seed5.00_bFOF_LW10_spin_rich/postprocessing/tree_extended.2.hdf5\n",
      "postprocessing/tree_extended.3.hdf5\n",
      "/orange/lblecha/aklantbhowmick/GAS_BASED_SEED_MODEL_UNIFORM_RUNS/L12p5n512/AREPO/output_ratio10_SFMFGM5_seed5.00_bFOF_LW10_spin_rich/postprocessing/tree_extended.3.hdf5\n",
      "postprocessing/tree_extended.4.hdf5\n",
      "/orange/lblecha/aklantbhowmick/GAS_BASED_SEED_MODEL_UNIFORM_RUNS/L12p5n512/AREPO/output_ratio10_SFMFGM5_seed5.00_bFOF_LW10_spin_rich/postprocessing/tree_extended.4.hdf5\n",
      "postprocessing/tree_extended.5.hdf5\n",
      "/orange/lblecha/aklantbhowmick/GAS_BASED_SEED_MODEL_UNIFORM_RUNS/L12p5n512/AREPO/output_ratio10_SFMFGM5_seed5.00_bFOF_LW10_spin_rich/postprocessing/tree_extended.5.hdf5\n",
      "postprocessing/tree_extended.6.hdf5\n",
      "/orange/lblecha/aklantbhowmick/GAS_BASED_SEED_MODEL_UNIFORM_RUNS/L12p5n512/AREPO/output_ratio10_SFMFGM5_seed5.00_bFOF_LW10_spin_rich/postprocessing/tree_extended.6.hdf5\n",
      "postprocessing/tree_extended.7.hdf5\n",
      "/orange/lblecha/aklantbhowmick/GAS_BASED_SEED_MODEL_UNIFORM_RUNS/L12p5n512/AREPO/output_ratio10_SFMFGM5_seed5.00_bFOF_LW10_spin_rich/postprocessing/tree_extended.7.hdf5\n",
      "postprocessing/tree_extended.8.hdf5\n",
      "/orange/lblecha/aklantbhowmick/GAS_BASED_SEED_MODEL_UNIFORM_RUNS/L12p5n512/AREPO/output_ratio10_SFMFGM5_seed5.00_bFOF_LW10_spin_rich/postprocessing/tree_extended.8.hdf5\n",
      "postprocessing/tree_extended.9.hdf5\n",
      "/orange/lblecha/aklantbhowmick/GAS_BASED_SEED_MODEL_UNIFORM_RUNS/L12p5n512/AREPO/output_ratio10_SFMFGM5_seed5.00_bFOF_LW10_spin_rich/postprocessing/tree_extended.9.hdf5\n",
      "postprocessing/tree_extended.10.hdf5\n",
      "/orange/lblecha/aklantbhowmick/GAS_BASED_SEED_MODEL_UNIFORM_RUNS/L12p5n512/AREPO/output_ratio10_SFMFGM5_seed5.00_bFOF_LW10_spin_rich/postprocessing/tree_extended.10.hdf5\n",
      "postprocessing/tree_extended.11.hdf5\n",
      "/orange/lblecha/aklantbhowmick/GAS_BASED_SEED_MODEL_UNIFORM_RUNS/L12p5n512/AREPO/output_ratio10_SFMFGM5_seed5.00_bFOF_LW10_spin_rich/postprocessing/tree_extended.11.hdf5\n",
      "postprocessing/tree_extended.12.hdf5\n",
      "/orange/lblecha/aklantbhowmick/GAS_BASED_SEED_MODEL_UNIFORM_RUNS/L12p5n512/AREPO/output_ratio10_SFMFGM5_seed5.00_bFOF_LW10_spin_rich/postprocessing/tree_extended.12.hdf5\n",
      "postprocessing/tree_extended.13.hdf5\n",
      "/orange/lblecha/aklantbhowmick/GAS_BASED_SEED_MODEL_UNIFORM_RUNS/L12p5n512/AREPO/output_ratio10_SFMFGM5_seed5.00_bFOF_LW10_spin_rich/postprocessing/tree_extended.13.hdf5\n",
      "postprocessing/tree_extended.14.hdf5\n",
      "/orange/lblecha/aklantbhowmick/GAS_BASED_SEED_MODEL_UNIFORM_RUNS/L12p5n512/AREPO/output_ratio10_SFMFGM5_seed5.00_bFOF_LW10_spin_rich/postprocessing/tree_extended.14.hdf5\n",
      "postprocessing/tree_extended.15.hdf5\n",
      "/orange/lblecha/aklantbhowmick/GAS_BASED_SEED_MODEL_UNIFORM_RUNS/L12p5n512/AREPO/output_ratio10_SFMFGM5_seed5.00_bFOF_LW10_spin_rich/postprocessing/tree_extended.15.hdf5\n",
      "postprocessing/tree_extended.16.hdf5\n",
      "/orange/lblecha/aklantbhowmick/GAS_BASED_SEED_MODEL_UNIFORM_RUNS/L12p5n512/AREPO/output_ratio10_SFMFGM5_seed5.00_bFOF_LW10_spin_rich/postprocessing/tree_extended.16.hdf5\n",
      "postprocessing/tree_extended.17.hdf5\n",
      "/orange/lblecha/aklantbhowmick/GAS_BASED_SEED_MODEL_UNIFORM_RUNS/L12p5n512/AREPO/output_ratio10_SFMFGM5_seed5.00_bFOF_LW10_spin_rich/postprocessing/tree_extended.17.hdf5\n",
      "postprocessing/tree_extended.18.hdf5\n",
      "/orange/lblecha/aklantbhowmick/GAS_BASED_SEED_MODEL_UNIFORM_RUNS/L12p5n512/AREPO/output_ratio10_SFMFGM5_seed5.00_bFOF_LW10_spin_rich/postprocessing/tree_extended.18.hdf5\n",
      "postprocessing/tree_extended.19.hdf5\n",
      "/orange/lblecha/aklantbhowmick/GAS_BASED_SEED_MODEL_UNIFORM_RUNS/L12p5n512/AREPO/output_ratio10_SFMFGM5_seed5.00_bFOF_LW10_spin_rich/postprocessing/tree_extended.19.hdf5\n",
      "postprocessing/tree_extended.20.hdf5\n",
      "/orange/lblecha/aklantbhowmick/GAS_BASED_SEED_MODEL_UNIFORM_RUNS/L12p5n512/AREPO/output_ratio10_SFMFGM5_seed5.00_bFOF_LW10_spin_rich/postprocessing/tree_extended.20.hdf5\n",
      "postprocessing/tree_extended.21.hdf5\n",
      "/orange/lblecha/aklantbhowmick/GAS_BASED_SEED_MODEL_UNIFORM_RUNS/L12p5n512/AREPO/output_ratio10_SFMFGM5_seed5.00_bFOF_LW10_spin_rich/postprocessing/tree_extended.21.hdf5\n",
      "postprocessing/tree_extended.22.hdf5\n",
      "/orange/lblecha/aklantbhowmick/GAS_BASED_SEED_MODEL_UNIFORM_RUNS/L12p5n512/AREPO/output_ratio10_SFMFGM5_seed5.00_bFOF_LW10_spin_rich/postprocessing/tree_extended.22.hdf5\n",
      "postprocessing/tree_extended.23.hdf5\n",
      "/orange/lblecha/aklantbhowmick/GAS_BASED_SEED_MODEL_UNIFORM_RUNS/L12p5n512/AREPO/output_ratio10_SFMFGM5_seed5.00_bFOF_LW10_spin_rich/postprocessing/tree_extended.23.hdf5\n",
      "postprocessing/tree_extended.24.hdf5\n",
      "/orange/lblecha/aklantbhowmick/GAS_BASED_SEED_MODEL_UNIFORM_RUNS/L12p5n512/AREPO/output_ratio10_SFMFGM5_seed5.00_bFOF_LW10_spin_rich/postprocessing/tree_extended.24.hdf5\n",
      "postprocessing/tree_extended.25.hdf5\n",
      "/orange/lblecha/aklantbhowmick/GAS_BASED_SEED_MODEL_UNIFORM_RUNS/L12p5n512/AREPO/output_ratio10_SFMFGM5_seed5.00_bFOF_LW10_spin_rich/postprocessing/tree_extended.25.hdf5\n",
      "postprocessing/tree_extended.26.hdf5\n",
      "/orange/lblecha/aklantbhowmick/GAS_BASED_SEED_MODEL_UNIFORM_RUNS/L12p5n512/AREPO/output_ratio10_SFMFGM5_seed5.00_bFOF_LW10_spin_rich/postprocessing/tree_extended.26.hdf5\n",
      "postprocessing/tree_extended.27.hdf5\n",
      "/orange/lblecha/aklantbhowmick/GAS_BASED_SEED_MODEL_UNIFORM_RUNS/L12p5n512/AREPO/output_ratio10_SFMFGM5_seed5.00_bFOF_LW10_spin_rich/postprocessing/tree_extended.27.hdf5\n",
      "postprocessing/tree_extended.28.hdf5\n",
      "/orange/lblecha/aklantbhowmick/GAS_BASED_SEED_MODEL_UNIFORM_RUNS/L12p5n512/AREPO/output_ratio10_SFMFGM5_seed5.00_bFOF_LW10_spin_rich/postprocessing/tree_extended.28.hdf5\n",
      "postprocessing/tree_extended.29.hdf5\n",
      "/orange/lblecha/aklantbhowmick/GAS_BASED_SEED_MODEL_UNIFORM_RUNS/L12p5n512/AREPO/output_ratio10_SFMFGM5_seed5.00_bFOF_LW10_spin_rich/postprocessing/tree_extended.29.hdf5\n",
      "postprocessing/tree_extended.30.hdf5\n",
      "/orange/lblecha/aklantbhowmick/GAS_BASED_SEED_MODEL_UNIFORM_RUNS/L12p5n512/AREPO/output_ratio10_SFMFGM5_seed5.00_bFOF_LW10_spin_rich/postprocessing/tree_extended.30.hdf5\n",
      "postprocessing/tree_extended.31.hdf5\n",
      "/orange/lblecha/aklantbhowmick/GAS_BASED_SEED_MODEL_UNIFORM_RUNS/L12p5n512/AREPO/output_ratio10_SFMFGM5_seed5.00_bFOF_LW10_spin_rich/postprocessing/tree_extended.31.hdf5\n",
      "postprocessing/tree_extended.32.hdf5\n",
      "/orange/lblecha/aklantbhowmick/GAS_BASED_SEED_MODEL_UNIFORM_RUNS/L12p5n512/AREPO/output_ratio10_SFMFGM5_seed5.00_bFOF_LW10_spin_rich/postprocessing/tree_extended.32.hdf5\n",
      "postprocessing/tree_extended.33.hdf5\n",
      "/orange/lblecha/aklantbhowmick/GAS_BASED_SEED_MODEL_UNIFORM_RUNS/L12p5n512/AREPO/output_ratio10_SFMFGM5_seed5.00_bFOF_LW10_spin_rich/postprocessing/tree_extended.33.hdf5\n",
      "postprocessing/tree_extended.34.hdf5\n",
      "/orange/lblecha/aklantbhowmick/GAS_BASED_SEED_MODEL_UNIFORM_RUNS/L12p5n512/AREPO/output_ratio10_SFMFGM5_seed5.00_bFOF_LW10_spin_rich/postprocessing/tree_extended.34.hdf5\n",
      "postprocessing/tree_extended.35.hdf5\n",
      "/orange/lblecha/aklantbhowmick/GAS_BASED_SEED_MODEL_UNIFORM_RUNS/L12p5n512/AREPO/output_ratio10_SFMFGM5_seed5.00_bFOF_LW10_spin_rich/postprocessing/tree_extended.35.hdf5\n",
      "postprocessing/tree_extended.36.hdf5\n",
      "/orange/lblecha/aklantbhowmick/GAS_BASED_SEED_MODEL_UNIFORM_RUNS/L12p5n512/AREPO/output_ratio10_SFMFGM5_seed5.00_bFOF_LW10_spin_rich/postprocessing/tree_extended.36.hdf5\n",
      "postprocessing/tree_extended.37.hdf5\n",
      "/orange/lblecha/aklantbhowmick/GAS_BASED_SEED_MODEL_UNIFORM_RUNS/L12p5n512/AREPO/output_ratio10_SFMFGM5_seed5.00_bFOF_LW10_spin_rich/postprocessing/tree_extended.37.hdf5\n",
      "postprocessing/tree_extended.38.hdf5\n",
      "/orange/lblecha/aklantbhowmick/GAS_BASED_SEED_MODEL_UNIFORM_RUNS/L12p5n512/AREPO/output_ratio10_SFMFGM5_seed5.00_bFOF_LW10_spin_rich/postprocessing/tree_extended.38.hdf5\n",
      "postprocessing/tree_extended.16.hdf5\n",
      "/orange/lblecha/aklantbhowmick/GAS_BASED_SEED_MODEL_UNIFORM_RUNS/L12p5n512/AREPO/output_ratio10_SFMFGM5_seed5.00_bFOF_LW10_spin_rich/postprocessing/tree_extended.16.hdf5\n",
      "postprocessing/tree_extended.16.hdf5\n",
      "/orange/lblecha/aklantbhowmick/GAS_BASED_SEED_MODEL_UNIFORM_RUNS/L12p5n512/AREPO/output_ratio10_SFMFGM5_seed5.00_bFOF_LW10_spin_rich/postprocessing/tree_extended.16.hdf5\n",
      "['DescendantID', 'FirstProgenitorID', 'FirstSubhaloInFOFGroupID', 'LastProgenitorID', 'MainLeafProgenitorID', 'Mass', 'MassHistory', 'NextProgenitorID', 'NextSubhaloInFOFGroupID', 'NumParticles', 'RootDescendantID', 'SnapNum', 'SubfindID', 'SubhaloID', 'SubhaloIDRaw', 'TreeID']\n",
      "[30 29 28 27 26 25 24 23 22]\n",
      "254328 160000048800000012 160000048800000002\n",
      "postprocessing/tree_extended.16.hdf5\n",
      "/orange/lblecha/aklantbhowmick/GAS_BASED_SEED_MODEL_UNIFORM_RUNS/L12p5n512/AREPO/output_ratio10_SFMFGM5_seed5.00_bFOF_LW10_spin_rich/postprocessing/tree_extended.16.hdf5\n",
      "postprocessing/tree_extended.16.hdf5\n",
      "/orange/lblecha/aklantbhowmick/GAS_BASED_SEED_MODEL_UNIFORM_RUNS/L12p5n512/AREPO/output_ratio10_SFMFGM5_seed5.00_bFOF_LW10_spin_rich/postprocessing/tree_extended.16.hdf5\n",
      "['DescendantID', 'FirstProgenitorID', 'FirstSubhaloInFOFGroupID', 'LastProgenitorID', 'MainLeafProgenitorID', 'Mass', 'MassHistory', 'NextProgenitorID', 'NextSubhaloInFOFGroupID', 'NumParticles', 'RootDescendantID', 'SnapNum', 'SubfindID', 'SubhaloID', 'SubhaloIDRaw', 'TreeID']\n",
      "[30 29 28 27 26 25 24 23 22 21]\n",
      "11387 11404 11387\n",
      "postprocessing/tree_extended.0.hdf5\n",
      "/orange/lblecha/aklantbhowmick/GAS_BASED_SEED_MODEL_UNIFORM_RUNS/L12p5n512/AREPO/output_ratio10_SFMFGM5_seed5.00_bFOF_LW10_spin_rich/postprocessing/tree_extended.0.hdf5\n",
      "postprocessing/tree_extended.0.hdf5\n",
      "/orange/lblecha/aklantbhowmick/GAS_BASED_SEED_MODEL_UNIFORM_RUNS/L12p5n512/AREPO/output_ratio10_SFMFGM5_seed5.00_bFOF_LW10_spin_rich/postprocessing/tree_extended.0.hdf5\n",
      "['DescendantID', 'FirstProgenitorID', 'FirstSubhaloInFOFGroupID', 'LastProgenitorID', 'MainLeafProgenitorID', 'Mass', 'MassHistory', 'NextProgenitorID', 'NextSubhaloInFOFGroupID', 'NumParticles', 'RootDescendantID', 'SnapNum', 'SubfindID', 'SubhaloID', 'SubhaloIDRaw', 'TreeID']\n",
      "[30 29 28 27 26 25 24 23 22 21 20 19 18]\n"
     ]
    },
    {
     "data": {
      "text/plain": [
       "Text(0.5, 1.0, 'Progenitor branch walk of subhalos')"
      ]
     },
     "execution_count": 19,
     "metadata": {},
     "output_type": "execute_result"
    },
    {
     "data": {
      "image/png": "[encoded data removed]",
      "text/plain": [
       "<Figure size 640x480 with 1 Axes>"
      ]
     },
     "metadata": {},
     "output_type": "display_data"
    }
   ],
   "source": [
    "fields = ['Mass','SubfindID','SnapNum']\n",
    "\n",
    "snapNum=30\n",
    "GroupFirstSub = il.groupcat.loadHalos(basePath,snapNum,fields=['GroupFirstSub'])\n",
    "start = 15\n",
    "for i in range(start,start+3):\n",
    "    tree = il.sublink.loadTree(basePath,snapNum,GroupFirstSub[i],fields=fields,onlyMPB=True)\n",
    "    print(tree['SnapNum'])\n",
    "    plt.plot(tree['SnapNum'],tree['Mass'],'-')\n",
    "plt.yscale('log')\n",
    "plt.xlabel('Snapshot Number')\n",
    "plt.ylabel('Subhalo Mass (sim unit)')\n",
    "plt.title('Progenitor branch walk of subhalos')"
   ]
  },
  {
   "cell_type": "code",
   "execution_count": 27,
   "metadata": {},
   "outputs": [],
   "source": [
    "snapNum=32"
   ]
  },
  {
   "cell_type": "code",
   "execution_count": 30,
   "metadata": {},
   "outputs": [],
   "source": [
    "sub_lentype = il.groupcat.loadSubhalos(basePath,snapNum,fields=['SubhaloLenType'])"
   ]
  },
  {
   "cell_type": "code",
   "execution_count": 35,
   "metadata": {},
   "outputs": [
    {
     "name": "stdout",
     "output_type": "stream",
     "text": [
      "460\n"
     ]
    }
   ],
   "source": [
    "Ngas = sub_lentype[:,0]\n",
    "Ndm = sub_lentype[:,1]\n",
    "Nstar = sub_lentype[:,4]\n",
    "Nbh = sub_lentype[:,5]\n",
    "\n",
    "idx = np.where((Ngas >= 50) & (Ndm >= 50) & (Nstar >= 50) & (Nbh >= 0))[0]\n",
    "\n",
    "nselect = idx.size\n",
    "print(nselect)"
   ]
  },
  {
   "cell_type": "code",
   "execution_count": 36,
   "metadata": {},
   "outputs": [],
   "source": [
    "nselect = sub_lentype.size"
   ]
  },
  {
   "cell_type": "code",
   "execution_count": 67,
   "metadata": {},
   "outputs": [],
   "source": [
    "fields = ['SubhaloID', 'NextProgenitorID', 'MainLeafProgenitorID', 'FirstProgenitorID',\n",
    "              'LastProgenitorID', 'RootDescendantID',\n",
    "              'SnapNum', 'DescendantID', 'SubfindID']"
   ]
  },
  {
   "cell_type": "code",
   "execution_count": 65,
   "metadata": {},
   "outputs": [],
   "source": [
    "fields = ['SubhaloID', 'NextProgenitorID', 'MainLeafProgenitorID', 'FirstProgenitorID',\n",
    "              'LastProgenitorID', 'RootDescendantID',\n",
    "              'SnapNum', 'DescendantID', 'SubfindID','SubhaloMassType']"
   ]
  },
  {
   "cell_type": "code",
   "execution_count": 52,
   "metadata": {},
   "outputs": [
    {
     "data": {
      "text/plain": [
       "{'count': 12,\n",
       " 'SubhaloID': array([170000027900000000, 170000027900000001, 170000027900000002,\n",
       "        170000027900000003, 170000027900000004, 170000027900000005,\n",
       "        170000027900000006, 170000027900000007, 170000027900000008,\n",
       "        170000027900000009, 170000027900000010, 170000027900000011]),\n",
       " 'NextProgenitorID': array([-1, -1, -1, -1, -1, -1, -1, -1, -1, -1, -1, -1]),\n",
       " 'MainLeafProgenitorID': array([170000027900000011, 170000027900000011, 170000027900000011,\n",
       "        170000027900000011, 170000027900000011, 170000027900000011,\n",
       "        170000027900000011, 170000027900000011, 170000027900000011,\n",
       "        170000027900000011, 170000027900000011, 170000027900000011]),\n",
       " 'FirstProgenitorID': array([170000027900000001, 170000027900000002, 170000027900000003,\n",
       "        170000027900000004, 170000027900000005, 170000027900000006,\n",
       "        170000027900000007, 170000027900000008, 170000027900000009,\n",
       "        170000027900000010, 170000027900000011,                 -1]),\n",
       " 'LastProgenitorID': array([170000027900000011, 170000027900000011, 170000027900000011,\n",
       "        170000027900000011, 170000027900000011, 170000027900000011,\n",
       "        170000027900000011, 170000027900000011, 170000027900000011,\n",
       "        170000027900000011, 170000027900000011, 170000027900000011]),\n",
       " 'RootDescendantID': array([170000027900000000, 170000027900000000, 170000027900000000,\n",
       "        170000027900000000, 170000027900000000, 170000027900000000,\n",
       "        170000027900000000, 170000027900000000, 170000027900000000,\n",
       "        170000027900000000, 170000027900000000, 170000027900000000]),\n",
       " 'SnapNum': array([32, 31, 30, 29, 28, 27, 26, 25, 24, 23, 22, 21], dtype=int16),\n",
       " 'DescendantID': array([                -1, 170000027900000000, 170000027900000001,\n",
       "        170000027900000002, 170000027900000003, 170000027900000004,\n",
       "        170000027900000005, 170000027900000006, 170000027900000007,\n",
       "        170000027900000008, 170000027900000009, 170000027900000010]),\n",
       " 'SubfindID': array([15255, 15411, 16487, 10724,  8087, 10567, 11567, 12304, 16064,\n",
       "        12976, 21749, 13684], dtype=int32)}"
      ]
     },
     "execution_count": 52,
     "metadata": {},
     "output_type": "execute_result"
    }
   ],
   "source": [
    "tree"
   ]
  },
  {
   "cell_type": "code",
   "execution_count": 53,
   "metadata": {},
   "outputs": [],
   "source": [
    "minMassRatio=1e-10\n",
    "invMinMassRatio = 1.0 / minMassRatio"
   ]
  },
  {
   "cell_type": "code",
   "execution_count": 62,
   "metadata": {},
   "outputs": [],
   "source": [
    "fpMass = np.array([])\n",
    "fpIndex = np.array([])\n",
    "fpSubfindID = np.array([])\n",
    "fpSnapNum = np.array([])\n",
    "\n",
    "descSnap = np.array([])\n",
    "descIndex = np.array([])\n",
    "descSubfindID = np.array([])\n",
    "\n",
    "npMass = np.array([])\n",
    "npIndex = np.array([])\n",
    "npSubfindID = np.array([])\n",
    "npSnapNum = np.array([])\n"
   ]
  },
  {
   "cell_type": "code",
   "execution_count": 63,
   "metadata": {},
   "outputs": [
    {
     "ename": "KeyError",
     "evalue": "'SubhaloMassType'",
     "output_type": "error",
     "traceback": [
      "\u001b[0;31m---------------------------------------------------------------------------\u001b[0m",
      "\u001b[0;31mKeyError\u001b[0m                                  Traceback (most recent call last)",
      "Cell \u001b[0;32mIn[63], line 12\u001b[0m\n\u001b[1;32m      9\u001b[0m \u001b[38;5;28;01mwhile\u001b[39;00m fpID \u001b[38;5;241m!=\u001b[39m \u001b[38;5;241m-\u001b[39m\u001b[38;5;241m1\u001b[39m:\n\u001b[1;32m     11\u001b[0m     fpIndex \u001b[38;5;241m=\u001b[39m index \u001b[38;5;241m+\u001b[39m (fpID \u001b[38;5;241m-\u001b[39m rootID)\n\u001b[0;32m---> 12\u001b[0m     fpMass  \u001b[38;5;241m=\u001b[39m \u001b[43mil\u001b[49m\u001b[38;5;241;43m.\u001b[39;49m\u001b[43msublink\u001b[49m\u001b[38;5;241;43m.\u001b[39;49m\u001b[43mmaxPastMass\u001b[49m\u001b[43m(\u001b[49m\u001b[43mtree\u001b[49m\u001b[43m,\u001b[49m\u001b[43m \u001b[49m\u001b[43mfpIndex\u001b[49m\u001b[43m)\u001b[49m\n\u001b[1;32m     13\u001b[0m     fpNpart \u001b[38;5;241m=\u001b[39m tree[\u001b[38;5;124m'\u001b[39m\u001b[38;5;124mSubhaloLenType\u001b[39m\u001b[38;5;124m'\u001b[39m][fpIndex,:]\n\u001b[1;32m     16\u001b[0m     npID \u001b[38;5;241m=\u001b[39m tree[\u001b[38;5;124m'\u001b[39m\u001b[38;5;124mNextProgenitorID\u001b[39m\u001b[38;5;124m'\u001b[39m][fpIndex]\n",
      "File \u001b[0;32m~/illustris_python_mod/illustris_python_mod/sublink.py:197\u001b[0m, in \u001b[0;36mmaxPastMass\u001b[0;34m(tree, index, partType)\u001b[0m\n\u001b[1;32m    194\u001b[0m ptNum \u001b[38;5;241m=\u001b[39m partTypeNum(partType)\n\u001b[1;32m    196\u001b[0m branchSize \u001b[38;5;241m=\u001b[39m tree[\u001b[38;5;124m'\u001b[39m\u001b[38;5;124mMainLeafProgenitorID\u001b[39m\u001b[38;5;124m'\u001b[39m][index] \u001b[38;5;241m-\u001b[39m tree[\u001b[38;5;124m'\u001b[39m\u001b[38;5;124mSubhaloID\u001b[39m\u001b[38;5;124m'\u001b[39m][index] \u001b[38;5;241m+\u001b[39m \u001b[38;5;241m1\u001b[39m\n\u001b[0;32m--> 197\u001b[0m masses \u001b[38;5;241m=\u001b[39m \u001b[43mtree\u001b[49m\u001b[43m[\u001b[49m\u001b[38;5;124;43m'\u001b[39;49m\u001b[38;5;124;43mSubhaloMassType\u001b[39;49m\u001b[38;5;124;43m'\u001b[39;49m\u001b[43m]\u001b[49m[index: index \u001b[38;5;241m+\u001b[39m branchSize, ptNum]\n\u001b[1;32m    198\u001b[0m \u001b[38;5;28;01mreturn\u001b[39;00m np\u001b[38;5;241m.\u001b[39mmax(masses)\n",
      "\u001b[0;31mKeyError\u001b[0m: 'SubhaloMassType'"
     ]
    }
   ],
   "source": [
    "rootID = tree['SubhaloID'][index]\n",
    "rootSubfindID = tree['SubfindID'][index]\n",
    "fpID   = tree['FirstProgenitorID'][index]\n",
    "rootSnap = tree['SnapNum'][index]\n",
    "fpSnap = rootSnap #tree['SnapNum'][index]\n",
    "#print(f\"rootID = {rootID}, fpID={fpID}\")\n",
    "fdesID = tree['DescendantID'][index]\n",
    "\n",
    "while fpID != -1:\n",
    "    \n",
    "    fpIndex = index + (fpID - rootID)\n",
    "    fpMass  = il.sublink.maxPastMass(tree, fpIndex)\n",
    "    fpNpart = tree['SubhaloLenType'][fpIndex,:]\n",
    "\n",
    "           \n",
    "    npID = tree['NextProgenitorID'][fpIndex]\n",
    "    npSnap = tree['SnapNum'][fpIndex]\n",
    "    ndesID = tree['DescendantID'][fpIndex]\n",
    "\n",
    "    fdesIndex = index + (fdesID - rootID)\n",
    "\n",
    "    while npID != -1:\n",
    "\n",
    "        npIndex = index + (npID - rootID)\n",
    "        npMass  = il.sublink.maxPastMass(tree, npIndex)\n",
    "        npNpart = tree['SubhaloLenType'][npIndex,:]\n",
    "\n",
    "        ndesIndex = index + (ndesID - rootID)\n",
    "            \n",
    "                \n",
    "        if fpMass > 0.0 and npMass > 0.0:\n",
    "            ratio = npMass / fpMass\n",
    "                    \n",
    "            if (ratio >= minMassRatio and ratio <= invMinMassRatio):\n",
    "                count += 1\n",
    "\n",
    "            # make sure descendant snap is progenitor snap + 1\n",
    "                if fpSnap == (npSnap+2):\n",
    "                    print(f\"NOTE: SubLink skipped snap {npSnap+1} in finding descendant.\")\n",
    "                elif fpSnap != (npSnap+1) and fpSnap != (npSnap+2):\n",
    "                    raise Exception(f'ERROR: snaps not contiguous b/t prog ({npSnap}) & desc ({fpSnap}).')\n",
    "\n",
    "\n",
    "                        \n",
    "                # progenitor snapnum\n",
    "                fpSnap = np.append(fpSnap, tree['SnapNum'][fpIndex])\n",
    "                npSnap = np.append(npSnap, tree['SnapNum'][npIndex])\n",
    "                descSnap = np.append(descSnap, tree['SnapNum'][ndesIndex])\n",
    "                \n",
    "                # first progenitor subfind ID and masses\n",
    "                fpSubhaloID = np.append(fpSubhaloID, tree['SubhaloID'][fpIndex])\n",
    "                fpSubfindID = np.append(fpSubfindID, tree['SubfindID'][fpIndex])\n",
    "\n",
    "                # next progenitor subfind ID and masses\n",
    "                npSubhaloID = np.append(npSubhaloID, tree['SubhaloID'][npIndex])\n",
    "                npSubfindID = np.append(npSubfindID, tree['SubfindID'][npIndex])\n",
    "\n",
    "                # mass ratio (defined to be nextProg / firstProg *at max past mass*)\n",
    "                progMassRatio = np.append(progMassRatio, ratio)\n",
    "                \n",
    "                fpMass = np.append(fpMass, fpMass)\n",
    "                npMass = np.append(npMass, npMass)\n",
    "                        \n",
    "                # descendant subfind ID and masses\n",
    "                descSubhaloID = np.append(descSubhaloID, tree['SubhaloID'][ndesIndex])\n",
    "                descSubfindID = np.append(descSubfindID, tree['SubfindID'][ndesIndex])\n",
    "                \n",
    "                    #else:\n",
    "                    #    print(\"WARNING!! merger didnt meet mass ratio &/or Npart criteria!\")\n",
    "                \n",
    "                npID = tree['NextProgenitorID'][npIndex]\n",
    "                npSnap = tree['SnapNum'][npIndex]\n",
    "                ndesID = tree['DescendantID'][npIndex]\n",
    "\n",
    "\n",
    "            fpID = tree['FirstProgenitorID'][fpIndex]\n",
    "            fpSnap = tree['SnapNum'][fpIndex]\n",
    "            fdesID = tree['DescendantID'][fpIndex]"
   ]
  },
  {
   "cell_type": "code",
   "execution_count": 80,
   "metadata": {},
   "outputs": [
    {
     "data": {
      "text/plain": [
       "<KeysViewHDF5 ['DescendantID', 'FirstProgenitorID', 'FirstSubhaloInFOFGroupID', 'LastProgenitorID', 'MainLeafProgenitorID', 'Mass', 'MassHistory', 'NextProgenitorID', 'NextSubhaloInFOFGroupID', 'NumParticles', 'RootDescendantID', 'SnapNum', 'SubfindID', 'SubhaloID', 'SubhaloIDRaw', 'TreeID']>"
      ]
     },
     "execution_count": 80,
     "metadata": {},
     "output_type": "execute_result"
    }
   ],
   "source": [
    "tree_path_example = basePath+'postprocessing/tree_extended.0.hdf5'\n",
    "tree_file_read = h5py.File(tree_path_example, 'r')\n",
    "tree_file_read.keys()"
   ]
  },
  {
   "cell_type": "code",
   "execution_count": null,
   "metadata": {},
   "outputs": [
    {
     "data": {
      "text/plain": [
       "<KeysViewHDF5 ['DescendantID', 'FirstProgenitorID', 'FirstSubhaloInFOFGroupID', 'GroupBHMass', 'GroupBHMdot', 'GroupCM', 'GroupFirstSub', 'GroupGasMetalFractions', 'GroupGasMetallicity', 'GroupLen', 'GroupLenType', 'GroupMass', 'GroupMassType', 'GroupNsubs', 'GroupPos', 'GroupSFR', 'GroupStarMetalFractions', 'GroupStarMetallicity', 'GroupVel', 'GroupWindMass', 'Group_M_Crit200', 'Group_M_Crit500', 'Group_M_Mean200', 'Group_M_TopHat200', 'Group_R_Crit200', 'Group_R_Crit500', 'Group_R_Mean200', 'Group_R_TopHat200', 'LastProgenitorID', 'MainLeafProgenitorID', 'Mass', 'MassHistory', 'NextProgenitorID', 'NextSubhaloInFOFGroupID', 'NumParticles', 'RootDescendantID', 'SnapNum', 'SubfindID', 'SubhaloBHMass', 'SubhaloBHMdot', 'SubhaloCM', 'SubhaloGasMetalFractions', 'SubhaloGasMetalFractionsHalfRad', 'SubhaloGasMetalFractionsMaxRad', 'SubhaloGasMetalFractionsSfr', 'SubhaloGasMetalFractionsSfrWeighted', 'SubhaloGasMetallicity', 'SubhaloGasMetallicityHalfRad', 'SubhaloGasMetallicityMaxRad', 'SubhaloGasMetallicitySfr', 'SubhaloGasMetallicitySfrWeighted', 'SubhaloGrNr', 'SubhaloHalfmassRad', 'SubhaloHalfmassRadType', 'SubhaloID', 'SubhaloIDMostbound', 'SubhaloIDRaw', 'SubhaloLen', 'SubhaloLenType', 'SubhaloMass', 'SubhaloMassInHalfRad', 'SubhaloMassInHalfRadType', 'SubhaloMassInMaxRad', 'SubhaloMassInMaxRadType', 'SubhaloMassInRad', 'SubhaloMassInRadType', 'SubhaloMassType', 'SubhaloParent', 'SubhaloPos', 'SubhaloSFR', 'SubhaloSFRinHalfRad', 'SubhaloSFRinMaxRad', 'SubhaloSFRinRad', 'SubhaloSpin', 'SubhaloStarMetalFractions', 'SubhaloStarMetalFractionsHalfRad', 'SubhaloStarMetalFractionsMaxRad', 'SubhaloStarMetallicity', 'SubhaloStarMetallicityHalfRad', 'SubhaloStarMetallicityMaxRad', 'SubhaloStellarPhotometrics', 'SubhaloStellarPhotometricsMassInRad', 'SubhaloStellarPhotometricsRad', 'SubhaloVel', 'SubhaloVelDisp', 'SubhaloVmax', 'SubhaloVmaxRad', 'SubhaloWindMass', 'TreeID']>"
      ]
     },
     "execution_count": 81,
     "metadata": {},
     "output_type": "execute_result"
    }
   ],
   "source": [
    "illustris_treepath = '/orange/lblecha/IllustrisTNG/Runs/TNG50-1/output/postprocessing/trees/SubLink/'\n",
    "illustris_tree_read = h5py.File(illustris_treepath + 'tree_extended.0.hdf5', 'r')\n",
    "illustris_tree_read.keys()"
   ]
  },
  {
   "cell_type": "code",
   "execution_count": null,
   "metadata": {},
   "outputs": [],
   "source": []
  }
 ],
 "metadata": {
  "kernelspec": {
   "display_name": "Python 3",
   "language": "python",
   "name": "python3"
  },
  "language_info": {
   "codemirror_mode": {
    "name": "ipython",
    "version": 3
   },
   "file_extension": ".py",
   "mimetype": "text/x-python",
   "name": "python",
   "nbconvert_exporter": "python",
   "pygments_lexer": "ipython3",
   "version": "3.10.15"
  }
 },
 "nbformat": 4,
 "nbformat_minor": 2
}
