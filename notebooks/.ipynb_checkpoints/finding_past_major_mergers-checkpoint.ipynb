{
 "cells": [
  {
   "cell_type": "code",
   "execution_count": 2,
   "id": "25ecb524",
   "metadata": {},
   "outputs": [],
   "source": [
    "import sys\n",
    "import os\n",
    "sys.path.append('/home/pranavsatheesh/host_galaxies/')"
   ]
  },
  {
   "cell_type": "code",
   "execution_count": 3,
   "id": "47534a6e",
   "metadata": {},
   "outputs": [],
   "source": [
    "import illustris_python as il\n",
    "import matplotlib.pyplot as plt\n",
    "import h5py\n",
    "import numpy as np"
   ]
  },
  {
   "cell_type": "code",
   "execution_count": 4,
   "id": "409d5f04",
   "metadata": {},
   "outputs": [],
   "source": [
    "basePath = '/orange/lblecha/IllustrisTNG/Runs/TNG50-1/output'\n",
    "merger_file_path = '/home/pranavsatheesh/host_galaxies/data/merger_files'"
   ]
  },
  {
   "cell_type": "code",
   "execution_count": null,
   "id": "ce007da5",
   "metadata": {},
   "outputs": [],
   "source": [
    "snap_list = np.arange(1,100)\n",
    "redshifts = np.array([il.groupcat.loadHeader(basePath, snap)['Redshift'].item() for snap in snap_list])\n",
    "scale_factors = np.array([il.groupcat.loadHeader(basePath, snap)['Time'].item() for snap in snap_list])\n",
    "one_plus_z = 1.0 / scale_factors"
   ]
  },
  {
   "cell_type": "code",
   "execution_count": null,
   "id": "3ee85c9b",
   "metadata": {},
   "outputs": [],
   "source": [
    "def snap_to_z(snap):\n",
    "    return one_plus_z[snap-1]-1"
   ]
  },
  {
   "cell_type": "code",
   "execution_count": null,
   "id": "78fbf84e",
   "metadata": {},
   "outputs": [],
   "source": [
    "snap_to_z(1)"
   ]
  },
  {
   "cell_type": "code",
   "execution_count": 6,
   "id": "4a784d86",
   "metadata": {},
   "outputs": [],
   "source": [
    "merger_file_1bh = merger_file_path+'/galaxy-mergers_TNG50-1_gas-100_dm-100_star-100_bh-001.hdf5'#merger file\n",
    "merger_file_nobh = merger_file_path+'/galaxy-mergers_TNG50-1_gas-100_dm-100_star-100_bh-000.hdf5'"
   ]
  },
  {
   "cell_type": "code",
   "execution_count": 7,
   "id": "17c5a141",
   "metadata": {},
   "outputs": [
    {
     "data": {
      "text/plain": [
       "<KeysViewHDF5 ['InfallMassRatio', 'ProgMassRatio', 'ProgMassRatio_mod', 'SubhaloBHMass', 'SubhaloBHMdot', 'SubhaloCM', 'SubhaloGrNr', 'SubhaloHalfmassRadType', 'SubhaloLenType', 'SubhaloMassInHalfRadType', 'SubhaloMassInRadType', 'SubhaloMassType', 'SubhaloPos', 'SubhaloSFR', 'SubhaloVel', 'SubhaloVelDisp', 'fpMass', 'fpMass_mod', 'fpMasshistory', 'fpinfallMass', 'fpsnaphistory', 'npMass', 'npMass_mod', 'npMasshistory', 'npinfallMass', 'npsnaphistory', 'shids_subf', 'shids_tree', 'snaps', 'time']>"
      ]
     },
     "execution_count": 7,
     "metadata": {},
     "output_type": "execute_result"
    }
   ],
   "source": [
    "fmergers = h5py.File(merger_file_nobh, 'r')\n",
    "fmergers.keys()"
   ]
  },
  {
   "cell_type": "code",
   "execution_count": 8,
   "id": "0cb770cf",
   "metadata": {},
   "outputs": [
    {
     "data": {
      "text/plain": [
       "array([ 6, 29,  4])"
      ]
     },
     "execution_count": 8,
     "metadata": {},
     "output_type": "execute_result"
    }
   ],
   "source": [
    "fmergers['shids_subf'][0]"
   ]
  },
  {
   "cell_type": "code",
   "execution_count": 9,
   "id": "8e46773e",
   "metadata": {},
   "outputs": [
    {
     "data": {
      "text/plain": [
       "array([60, 60, 61])"
      ]
     },
     "execution_count": 9,
     "metadata": {},
     "output_type": "execute_result"
    }
   ],
   "source": [
    "fmergers['snaps'][0]"
   ]
  },
  {
   "cell_type": "code",
   "execution_count": 10,
   "id": "877872a0",
   "metadata": {},
   "outputs": [
    {
     "data": {
      "text/plain": [
       "array([99118379, 99207946, 99118378])"
      ]
     },
     "execution_count": 10,
     "metadata": {},
     "output_type": "execute_result"
    }
   ],
   "source": [
    "fmergers['shids_tree'][0]"
   ]
  },
  {
   "cell_type": "code",
   "execution_count": 15,
   "id": "15865e25",
   "metadata": {},
   "outputs": [],
   "source": [
    "tree = il.sublink.loadTree(basePath,61,4,fields=['SubhaloID', 'NextProgenitorID', 'MainLeafProgenitorID', 'FirstProgenitorID',\n",
    "              'LastProgenitorID', 'RootDescendantID', 'SubhaloLenType', 'SubhaloMassType',\n",
    "              'SnapNum', 'DescendantID', 'SubfindID','FirstSubhaloInFOFGroupID']\n",
    ",onlyMDB=True)"
   ]
  },
  {
   "cell_type": "code",
   "execution_count": 17,
   "id": "539c4652",
   "metadata": {},
   "outputs": [
    {
     "data": {
      "text/plain": [
       "61"
      ]
     },
     "execution_count": 17,
     "metadata": {},
     "output_type": "execute_result"
    }
   ],
   "source": [
    "tree['SnapNum'][-1]"
   ]
  },
  {
   "cell_type": "code",
   "execution_count": null,
   "id": "790b07f0",
   "metadata": {},
   "outputs": [],
   "source": [
    "snap_to_z(61)"
   ]
  },
  {
   "cell_type": "code",
   "execution_count": null,
   "id": "475a100a",
   "metadata": {},
   "outputs": [],
   "source": []
  }
 ],
 "metadata": {
  "kernelspec": {
   "display_name": "Python 3",
   "language": "python",
   "name": "python3"
  },
  "language_info": {
   "codemirror_mode": {
    "name": "ipython",
    "version": 3
   },
   "file_extension": ".py",
   "mimetype": "text/x-python",
   "name": "python",
   "nbconvert_exporter": "python",
   "pygments_lexer": "ipython3",
   "version": "3.10.15"
  }
 },
 "nbformat": 4,
 "nbformat_minor": 5
}
