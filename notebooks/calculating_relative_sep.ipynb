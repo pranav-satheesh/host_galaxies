{
 "cells": [
  {
   "cell_type": "code",
   "execution_count": 7,
   "metadata": {},
   "outputs": [],
   "source": [
    "import sys\n",
    "sys.path.append('/home/pranavsatheesh/host_galaxies/')\n",
    "import illustris_python as il\n",
    "import matplotlib.pyplot as plt\n",
    "import h5py\n",
    "import numpy as np\n",
    "from scipy.spatial import cKDTree"
   ]
  },
  {
   "cell_type": "code",
   "execution_count": 3,
   "metadata": {},
   "outputs": [],
   "source": [
    "basepath = '/orange/lblecha/IllustrisTNG/Runs/TNG50-1/output'\n",
    "merger_file_path = '/home/pranavsatheesh/host_galaxies/data/merger_files'"
   ]
  },
  {
   "cell_type": "code",
   "execution_count": 135,
   "metadata": {},
   "outputs": [
    {
     "name": "stdout",
     "output_type": "stream",
     "text": [
      "0.9972942257819404\n"
     ]
    }
   ],
   "source": [
    "snap = 50\n",
    "subhalos = il.groupcat.loadSubhalos(\n",
    "                basepath, snap, \n",
    "                fields=['SubhaloLenType', 'SubhaloMassType', 'SubhaloBHMass', 'SubhaloBHMdot', 'SubhaloSFR','SubhaloPos','SubhaloHalfmassRadType']\n",
    "            )\n",
    "\n",
    "header = il.groupcat.loadHeader(basepath, snap)\n",
    "h =header['HubbleParam']\n",
    "box_size = header['BoxSize']/h\n",
    "z = header['Redshift']\n",
    "print(header['Redshift'])\n",
    "subhalo_pos = subhalos['SubhaloPos']/h "
   ]
  },
  {
   "cell_type": "code",
   "execution_count": 137,
   "metadata": {},
   "outputs": [
    {
     "name": "stdout",
     "output_type": "stream",
     "text": [
      "6780233\n"
     ]
    }
   ],
   "source": [
    "subhalo_ids = np.arange(0,len(subhalos['SubhaloPos']))\n",
    "print(len(subhalo_ids))"
   ]
  },
  {
   "cell_type": "code",
   "execution_count": 138,
   "metadata": {},
   "outputs": [
    {
     "name": "stdout",
     "output_type": "stream",
     "text": [
      "[ True  True  True ... False False False]\n",
      "20163\n"
     ]
    }
   ],
   "source": [
    "Ngas = subhalos['SubhaloLenType'][:, 0]\n",
    "Ndm = subhalos['SubhaloLenType'][:, 1]\n",
    "Nstar = subhalos['SubhaloLenType'][:, 4]\n",
    "Nbh = subhalos['SubhaloLenType'][:, 5]\n",
    "\n",
    "valid_mask = (Ngas >= 100) & (Ndm >= 100) & (Nstar >= 100) & (Nbh >= 0)\n",
    "print(valid_mask)\n",
    "subhalo_ids = subhalo_ids[valid_mask]\n",
    "subhalo_pos = subhalo_pos[valid_mask]\n",
    "print(len(subhalo_ids))"
   ]
  },
  {
   "cell_type": "code",
   "execution_count": 139,
   "metadata": {},
   "outputs": [
    {
     "name": "stdout",
     "output_type": "stream",
     "text": [
      "20056\n"
     ]
    }
   ],
   "source": [
    "tree = cKDTree(subhalo_pos, boxsize=box_size)\n",
    "distances, nearest_neighbors = tree.query(subhalo_pos,k=2)\n",
    "\n",
    "nearest_subhalo_ids = nearest_neighbors[:,-1]\n",
    "r_subhalos = distances[:,-1]\n",
    "\n",
    "stellar_half_mass_radius = subhalos['SubhaloHalfmassRadType'][:,4]/h\n",
    "\n",
    "\n",
    "r_sep = r_subhalos/(stellar_half_mass_radius[subhalo_ids] + stellar_half_mass_radius[nearest_subhalo_ids] )\n",
    "\n",
    "\n",
    "valid_mask = r_sep>2 #only including non interacting galaxies with a closest companinon relative seperation above 2\n",
    "\n",
    "subhalo_ids = subhalo_ids[valid_mask]\n",
    "print(len(subhalo_ids))"
   ]
  }
 ],
 "metadata": {
  "kernelspec": {
   "display_name": "hfrl",
   "language": "python",
   "name": "hfrl"
  },
  "language_info": {
   "codemirror_mode": {
    "name": "ipython",
    "version": 3
   },
   "file_extension": ".py",
   "mimetype": "text/x-python",
   "name": "python",
   "nbconvert_exporter": "python",
   "pygments_lexer": "ipython3",
   "version": "3.10.12"
  }
 },
 "nbformat": 4,
 "nbformat_minor": 2
}
