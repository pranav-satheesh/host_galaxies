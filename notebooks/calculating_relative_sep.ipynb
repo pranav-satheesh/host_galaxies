{
 "cells": [
  {
   "cell_type": "code",
   "execution_count": 7,
   "metadata": {},
   "outputs": [],
   "source": [
    "import sys\n",
    "sys.path.append('/home/pranavsatheesh/host_galaxies/')\n",
    "import illustris_python as il\n",
    "import matplotlib.pyplot as plt\n",
    "import h5py\n",
    "import numpy as np\n",
    "from scipy.spatial import cKDTree"
   ]
  },
  {
   "cell_type": "code",
   "execution_count": 3,
   "metadata": {},
   "outputs": [],
   "source": [
    "basepath = '/orange/lblecha/IllustrisTNG/Runs/TNG50-1/output'\n",
    "merger_file_path = '/home/pranavsatheesh/host_galaxies/data/merger_files'"
   ]
  },
  {
   "cell_type": "code",
   "execution_count": 140,
   "metadata": {},
   "outputs": [],
   "source": [
    "merger_file_1bh = merger_file_path+'/galaxy-mergers_TNG50-1_gas-100_dm-100_star-100_bh-001.hdf5'"
   ]
  },
  {
   "cell_type": "code",
   "execution_count": 141,
   "metadata": {},
   "outputs": [],
   "source": [
    "fmergers = h5py.File(merger_file_1bh, 'r')"
   ]
  },
  {
   "cell_type": "code",
   "execution_count": 154,
   "metadata": {},
   "outputs": [
    {
     "data": {
      "text/plain": [
       "51668.14289932093"
      ]
     },
     "execution_count": 154,
     "metadata": {},
     "output_type": "execute_result"
    }
   ],
   "source": [
    "fmergers.attrs['box_volume_mpc']**(1/3) * 1000"
   ]
  },
  {
   "cell_type": "code",
   "execution_count": 150,
   "metadata": {},
   "outputs": [
    {
     "data": {
      "text/plain": [
       "137.93311879725817"
      ]
     },
     "execution_count": 150,
     "metadata": {},
     "output_type": "execute_result"
    }
   ],
   "source": [
    "fmergers.attrs['box_volume_mpc']/10**3"
   ]
  },
  {
   "cell_type": "code",
   "execution_count": 148,
   "metadata": {},
   "outputs": [
    {
     "name": "stdout",
     "output_type": "stream",
     "text": [
      "HubbleParam: 0.6774\n",
      "Omega0: 0.3089\n",
      "OmegaLambda: 0.6911\n",
      "box_volume_mpc: 137933.11879725818\n",
      "created: 2024-12-18 01:35:27.457083\n",
      "merger_components_in_data_arrays: (FirstProg, NextProg, Descendant)\n",
      "min_parts: [100 100 100   1]\n",
      "num_mergers: 467\n",
      "part_names: ['gas' 'dm' 'star' 'bh']\n",
      "part_types: [0 1 4 5]\n",
      "snaptimes: [0.04751386 0.06254232 0.07704034 0.08350282 0.09093728 0.09625777\n",
      " 0.09997661 0.10582597 0.11096103 0.11634526 0.12141409 0.12491542\n",
      " 0.13348287 0.14263794 0.1460576  0.15314485 0.16057599 0.1667797\n",
      " 0.17653754 0.18422877 0.19316822 0.1996827  0.21236949 0.22267443\n",
      " 0.2334794  0.24949284 0.25668768 0.26787083 0.2795412  0.29034102\n",
      " 0.30155808 0.31172794 0.32224077 0.33310814 0.344342   0.35427208\n",
      " 0.36448853 0.37499959 0.38398999 0.39506344 0.40071935 0.41423335\n",
      " 0.42416436 0.43433346 0.44474635 0.45325613 0.46412269 0.47300321\n",
      " 0.48205365 0.49127726 0.50067736 0.51268081 0.52002058 0.52997065\n",
      " 0.54011111 0.55044559 0.55832602 0.56900902 0.57715521 0.5881985\n",
      " 0.59661941 0.60803512 0.61674002 0.62556955 0.63452548 0.64666649\n",
      " 0.65592445 0.66531496 0.6748399  0.68450121 0.69430083 0.70424076\n",
      " 0.71432298 0.72454955 0.73492252 0.74192021 0.75254187 0.76331559\n",
      " 0.77058363 0.78532797 0.7928056  0.80415576 0.81566841 0.82343493\n",
      " 0.8352236  0.84718103 0.8552476  0.86749171 0.87575168 0.88828933\n",
      " 0.90100647 0.90958556 0.92260759 0.93139235 0.94472658 0.95372195\n",
      " 0.96737586 0.97658689 0.99056814 1.        ]\n"
     ]
    }
   ],
   "source": [
    "for attr_name in fmergers.attrs:\n",
    "    print(f\"{attr_name}: {fmergers.attrs[attr_name]}\")"
   ]
  },
  {
   "cell_type": "code",
   "execution_count": 135,
   "metadata": {},
   "outputs": [
    {
     "name": "stdout",
     "output_type": "stream",
     "text": [
      "0.9972942257819404\n"
     ]
    }
   ],
   "source": [
    "snap = 50\n",
    "subhalos = il.groupcat.loadSubhalos(\n",
    "                basepath, snap, \n",
    "                fields=['SubhaloLenType', 'SubhaloMassType', 'SubhaloBHMass', 'SubhaloBHMdot', 'SubhaloSFR','SubhaloPos','SubhaloHalfmassRadType']\n",
    "            )\n",
    "\n",
    "header = il.groupcat.loadHeader(basepath, snap)\n",
    "h =header['HubbleParam']\n",
    "box_size = header['BoxSize']/h\n",
    "z = header['Redshift']\n",
    "print(header['Redshift'])\n",
    "subhalo_pos = subhalos['SubhaloPos']/h "
   ]
  },
  {
   "cell_type": "code",
   "execution_count": 151,
   "metadata": {},
   "outputs": [
    {
     "data": {
      "text/plain": [
       "51668.142899320934"
      ]
     },
     "execution_count": 151,
     "metadata": {},
     "output_type": "execute_result"
    }
   ],
   "source": [
    "box_size"
   ]
  },
  {
   "cell_type": "code",
   "execution_count": 137,
   "metadata": {},
   "outputs": [
    {
     "name": "stdout",
     "output_type": "stream",
     "text": [
      "6780233\n"
     ]
    }
   ],
   "source": [
    "subhalo_ids = np.arange(0,len(subhalos['SubhaloPos']))\n",
    "print(len(subhalo_ids))"
   ]
  },
  {
   "cell_type": "code",
   "execution_count": 138,
   "metadata": {},
   "outputs": [
    {
     "name": "stdout",
     "output_type": "stream",
     "text": [
      "[ True  True  True ... False False False]\n",
      "20163\n"
     ]
    }
   ],
   "source": [
    "Ngas = subhalos['SubhaloLenType'][:, 0]\n",
    "Ndm = subhalos['SubhaloLenType'][:, 1]\n",
    "Nstar = subhalos['SubhaloLenType'][:, 4]\n",
    "Nbh = subhalos['SubhaloLenType'][:, 5]\n",
    "\n",
    "valid_mask = (Ngas >= 100) & (Ndm >= 100) & (Nstar >= 100) & (Nbh >= 0)\n",
    "print(valid_mask)\n",
    "subhalo_ids = subhalo_ids[valid_mask]\n",
    "subhalo_pos = subhalo_pos[valid_mask]\n",
    "print(len(subhalo_ids))"
   ]
  },
  {
   "cell_type": "code",
   "execution_count": 139,
   "metadata": {},
   "outputs": [
    {
     "name": "stdout",
     "output_type": "stream",
     "text": [
      "20056\n"
     ]
    }
   ],
   "source": [
    "tree = cKDTree(subhalo_pos, boxsize=box_size)\n",
    "distances, nearest_neighbors = tree.query(subhalo_pos,k=2)\n",
    "\n",
    "nearest_subhalo_ids = nearest_neighbors[:,-1]\n",
    "r_subhalos = distances[:,-1]\n",
    "\n",
    "stellar_half_mass_radius = subhalos['SubhaloHalfmassRadType'][:,4]/h\n",
    "\n",
    "\n",
    "r_sep = r_subhalos/(stellar_half_mass_radius[subhalo_ids] + stellar_half_mass_radius[nearest_subhalo_ids] )\n",
    "\n",
    "\n",
    "valid_mask = r_sep>2 #only including non interacting galaxies with a closest companinon relative seperation above 2\n",
    "\n",
    "subhalo_ids = subhalo_ids[valid_mask]\n",
    "print(len(subhalo_ids))"
   ]
  }
 ],
 "metadata": {
  "kernelspec": {
   "display_name": "hfrl",
   "language": "python",
   "name": "hfrl"
  },
  "language_info": {
   "codemirror_mode": {
    "name": "ipython",
    "version": 3
   },
   "file_extension": ".py",
   "mimetype": "text/x-python",
   "name": "python",
   "nbconvert_exporter": "python",
   "pygments_lexer": "ipython3",
   "version": "3.10.12"
  }
 },
 "nbformat": 4,
 "nbformat_minor": 2
}
