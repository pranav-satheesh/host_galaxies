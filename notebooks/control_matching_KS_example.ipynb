{
 "cells": [
  {
   "cell_type": "code",
   "execution_count": 1,
   "metadata": {},
   "outputs": [],
   "source": [
    "import numpy as np\n",
    "from scipy.stats import ks_2samp\n",
    "from scipy import stats\n",
    "import matplotlib.pyplot as plt\n",
    "import h5py\n",
    "import time"
   ]
  },
  {
   "cell_type": "code",
   "execution_count": 2,
   "metadata": {},
   "outputs": [],
   "source": [
    "pop_file_loc = \"/home/pranavsatheesh/host_galaxies/data/population_files/\"\n",
    "pop_file = pop_file_loc + \"population_sort_gas-100_dm-100_star-100_bh-001.hdf5\""
   ]
  },
  {
   "cell_type": "code",
   "execution_count": 2,
   "metadata": {},
   "outputs": [],
   "source": [
    "pop_file_loc = \"/home/pranavsatheesh/host_galaxies/merger_file_runs/\"\n",
    "pop_file = pop_file_loc + \"population_sort_gas-100_dm-100_star-100_bh-001.hdf5\""
   ]
  },
  {
   "cell_type": "code",
   "execution_count": 3,
   "metadata": {},
   "outputs": [],
   "source": [
    "pop = h5py.File(pop_file, 'r')\n",
    "# Mstar_merging = pop['merging_population']['Mstar'][:]\n",
    "# Mstar_non_merging = pop['non_merging_population']['Mstar'][:]"
   ]
  },
  {
   "cell_type": "code",
   "execution_count": 5,
   "metadata": {},
   "outputs": [
    {
     "data": {
      "text/plain": [
       "<KeysViewHDF5 ['MBH', 'MBH_1', 'MBH_2', 'Mdot', 'Mgas', 'Mstar', 'SFR', 'q_merger', 'snap', 'subhalo_ids', 'z']>"
      ]
     },
     "execution_count": 5,
     "metadata": {},
     "output_type": "execute_result"
    }
   ],
   "source": [
    "pop['merging_population'].keys()"
   ]
  },
  {
   "cell_type": "code",
   "execution_count": 6,
   "metadata": {},
   "outputs": [
    {
     "data": {
      "text/plain": [
       "<KeysViewHDF5 ['MBH', 'MBH_1', 'MBH_2', 'Mdot', 'Mgas', 'Mstar', 'SFR', 'q_merger', 'snap', 'subhalo_ids', 'z']>"
      ]
     },
     "execution_count": 6,
     "metadata": {},
     "output_type": "execute_result"
    }
   ],
   "source": [
    "pop['major_merging_population'].keys()"
   ]
  },
  {
   "cell_type": "code",
   "execution_count": 18,
   "metadata": {},
   "outputs": [
    {
     "data": {
      "text/plain": [
       "(467,)"
      ]
     },
     "execution_count": 18,
     "metadata": {},
     "output_type": "execute_result"
    }
   ],
   "source": [
    "pop['major_merging_population']['MBH_1'].shape"
   ]
  },
  {
   "cell_type": "code",
   "execution_count": 15,
   "metadata": {},
   "outputs": [
    {
     "data": {
      "text/plain": [
       "(array([  1.,   0.,   2.,   6.,   3.,  13.,  28.,  61., 140., 213.]),\n",
       " array([-2.42837510e+00, -2.18554735e+00, -1.94271959e+00, -1.69989184e+00,\n",
       "        -1.45706408e+00, -1.21423633e+00, -9.71408575e-01, -7.28580820e-01,\n",
       "        -4.85753065e-01, -2.42925310e-01, -9.75550821e-05]),\n",
       " <BarContainer object of 10 artists>)"
      ]
     },
     "execution_count": 15,
     "metadata": {},
     "output_type": "execute_result"
    },
    {
     "data": {
      "image/png": "[encoded data removed]",
      "text/plain": [
       "<Figure size 640x480 with 1 Axes>"
      ]
     },
     "metadata": {},
     "output_type": "display_data"
    }
   ],
   "source": [
    "plt.hist(np.log10(pop['major_merging_population']['q_merger'][:]))\n",
    "plt.hist(np.log10(pop['merging_population']['q_merger'][:]))"
   ]
  },
  {
   "cell_type": "markdown",
   "metadata": {},
   "source": [
    "### Algorithm 1: Assigning a weight to each galaxies "
   ]
  },
  {
   "cell_type": "code",
   "execution_count": 5,
   "metadata": {},
   "outputs": [],
   "source": [
    "def generate_control_sample_restrictive(pop,z_tol_def = 0.01,Mstar_dex_tol_def = 0.1):\n",
    "    start_time = time.time()\n",
    "\n",
    "    control_sample = {\n",
    "        \"idx\": np.array([], dtype=int),\n",
    "        \"subhalo_ids\": [],\n",
    "        \"snap\": [],\n",
    "        \"z\": [],\n",
    "        \"Mstar\": [],\n",
    "        \"z_tol\": [],\n",
    "        \"Mstar_dex_tol\": []\n",
    "    }\n",
    "\n",
    "    for i in range(len(pop['merging_population'][\"z\"])):\n",
    "        z_mrg = pop['merging_population'][\"z\"][i]\n",
    "        Mstar_mrg = pop['merging_population'][\"Mstar\"][i]\n",
    "\n",
    "        z_tol = z_tol_def\n",
    "        Mstar_dex_tol = Mstar_dex_tol_def\n",
    "        \n",
    "        idxs = np.where((np.abs(pop['non_merging_population'][\"z\"] - z_mrg) <= z_tol) & (np.abs(np.log10(pop['non_merging_population'][\"Mstar\"]) - np.log10(Mstar_mrg)) <= Mstar_dex_tol))\n",
    "        \n",
    "        while (np.size(idxs) < 10 and Mstar_dex_tol < 0.3):\n",
    "            z_tol *= 1.5  # increase the tolerances by 50 percent\n",
    "            Mstar_dex_tol *= 1.5\n",
    "            idxs = np.where((np.abs(pop['non_merging_population'][\"z\"] - z_mrg) <= z_tol) & \n",
    "                            (np.abs(np.log10(pop['non_merging_population'][\"Mstar\"]) - np.log10(Mstar_mrg)) <= Mstar_dex_tol))\n",
    "\n",
    "        control_sample[\"idx\"] = np.append(control_sample[\"idx\"], i)\n",
    "        control_sample[\"z_tol\"].append(z_tol)\n",
    "        control_sample[\"Mstar_dex_tol\"].append(Mstar_dex_tol)\n",
    "        control_sample[\"subhalo_ids\"].append(pop['non_merging_population'][\"subhalo_ids\"][idxs])\n",
    "        control_sample[\"snap\"].append(pop['non_merging_population'][\"snap\"][idxs])\n",
    "        control_sample[\"z\"].append(pop['non_merging_population'][\"z\"][idxs])\n",
    "        control_sample[\"Mstar\"].append(pop['non_merging_population'][\"Mstar\"][idxs])\n",
    "    \n",
    "    end_time = time.time()\n",
    "    print(f\"Elapsed time: {end_time - start_time} seconds\")\n",
    "\n",
    "    return control_sample"
   ]
  },
  {
   "cell_type": "code",
   "execution_count": 10,
   "metadata": {},
   "outputs": [],
   "source": [
    "def generate_control_sample(pop,z_tol_def = 0.01,Mstar_dex_tol_def = 0.1):\n",
    "    start_time = time.time()\n",
    "\n",
    "    control_sample = {\n",
    "        \"idx\": np.array([], dtype=int),\n",
    "        \"subhalo_ids\": [],\n",
    "        \"snap\": [],\n",
    "        \"z\": [],\n",
    "        \"Mstar\": [],\n",
    "        \"z_tol\": [],\n",
    "        \"Mstar_dex_tol\": []\n",
    "    }\n",
    "\n",
    "    for i in range(len(pop['merging_population'][\"z\"])):\n",
    "        z_mrg = pop['merging_population'][\"z\"][i]\n",
    "        Mstar_mrg = pop['merging_population'][\"Mstar\"][i]\n",
    "\n",
    "        z_tol = z_tol_def\n",
    "        Mstar_dex_tol = Mstar_dex_tol_def\n",
    "        \n",
    "        idxs = np.where((np.abs(pop['non_merging_population'][\"z\"] - z_mrg) <= z_tol) & (np.abs(np.log10(pop['non_merging_population'][\"Mstar\"]) - np.log10(Mstar_mrg)) <= Mstar_dex_tol))\n",
    "        \n",
    "        while (np.size(idxs) < 10):\n",
    "            z_tol *= 1.5  # increase the tolerances by 50 percent\n",
    "            Mstar_dex_tol *= 1.5\n",
    "            idxs = np.where((np.abs(pop['non_merging_population'][\"z\"] - z_mrg) <= z_tol) & \n",
    "                            (np.abs(np.log10(pop['non_merging_population'][\"Mstar\"]) - np.log10(Mstar_mrg)) <= Mstar_dex_tol))\n",
    "\n",
    "        control_sample[\"idx\"] = np.append(control_sample[\"idx\"], i)\n",
    "        control_sample[\"z_tol\"]=np.append(control_sample[\"z_tol\"],z_tol)\n",
    "        control_sample[\"Mstar_dex_tol\"]=np.append(control_sample[\"Mstar_dex_tol\"],Mstar_dex_tol)\n",
    "       #control_sample[\"z_tol\"].append(z_tol)\n",
    "        #control_sample[\"Mstar_dex_tol\"].append(Mstar_dex_tol)\n",
    "        control_sample[\"subhalo_ids\"].append(pop['non_merging_population'][\"subhalo_ids\"][idxs])\n",
    "        control_sample[\"snap\"].append(pop['non_merging_population'][\"snap\"][idxs])\n",
    "        control_sample[\"z\"].append(pop['non_merging_population'][\"z\"][idxs])\n",
    "        control_sample[\"Mstar\"].append(pop['non_merging_population'][\"Mstar\"][idxs])\n",
    "    \n",
    "    end_time = time.time()\n",
    "    print(f\"Elapsed time: {end_time - start_time} seconds\")\n",
    "\n",
    "    return control_sample"
   ]
  },
  {
   "cell_type": "code",
   "execution_count": 11,
   "metadata": {},
   "outputs": [
    {
     "name": "stdout",
     "output_type": "stream",
     "text": [
      "Elapsed time: 28.67768144607544 seconds\n",
      "Elapsed time: 28.13616156578064 seconds\n"
     ]
    }
   ],
   "source": [
    "control_def = generate_control_sample(pop)\n",
    "control_restrictive = generate_control_sample_restrictive(pop)"
   ]
  },
  {
   "cell_type": "markdown",
   "metadata": {},
   "source": [
    "## Algorithm 2: Using KS matching "
   ]
  },
  {
   "cell_type": "code",
   "execution_count": 6,
   "metadata": {},
   "outputs": [
    {
     "data": {
      "text/plain": [
       "<KeysViewHDF5 ['MBH', 'Mdot', 'Mgas', 'Mstar', 'SFR', 'snap', 'subhalo_ids', 'z']>"
      ]
     },
     "execution_count": 6,
     "metadata": {},
     "output_type": "execute_result"
    }
   ],
   "source": [
    "pop['merging_population'].keys()"
   ]
  },
  {
   "cell_type": "code",
   "execution_count": 7,
   "metadata": {},
   "outputs": [
    {
     "name": "stdout",
     "output_type": "stream",
     "text": [
      "467\n"
     ]
    }
   ],
   "source": [
    "N_mergers = len(pop['merging_population']['MBH'])\n",
    "print(N_mergers)\n",
    "N_non_mergers = len(pop['non_merging_population']['MBH'])"
   ]
  },
  {
   "cell_type": "code",
   "execution_count": 8,
   "metadata": {},
   "outputs": [],
   "source": [
    "control_indices = np.arange(0,N_non_mergers)"
   ]
  },
  {
   "cell_type": "code",
   "execution_count": 9,
   "metadata": {},
   "outputs": [],
   "source": [
    "control_mask = np.ones(N_non_mergers, dtype=bool)"
   ]
  },
  {
   "cell_type": "code",
   "execution_count": 10,
   "metadata": {},
   "outputs": [
    {
     "data": {
      "text/plain": [
       "array([ True,  True,  True, ...,  True,  True,  True])"
      ]
     },
     "execution_count": 10,
     "metadata": {},
     "output_type": "execute_result"
    }
   ],
   "source": [
    "control_mask"
   ]
  },
  {
   "cell_type": "code",
   "execution_count": 11,
   "metadata": {},
   "outputs": [],
   "source": [
    "from scipy.spatial import cKDTree\n",
    "from scipy.spatial import distance\n"
   ]
  },
  {
   "cell_type": "code",
   "execution_count": 12,
   "metadata": {},
   "outputs": [
    {
     "ename": "KeyboardInterrupt",
     "evalue": "",
     "output_type": "error",
     "traceback": [
      "\u001b[0;31m---------------------------------------------------------------------------\u001b[0m",
      "\u001b[0;31mKeyboardInterrupt\u001b[0m                         Traceback (most recent call last)",
      "Cell \u001b[0;32mIn[12], line 3\u001b[0m\n\u001b[1;32m      1\u001b[0m \u001b[38;5;66;03m# Extract coordinates\u001b[39;00m\n\u001b[1;32m      2\u001b[0m merging_points \u001b[38;5;241m=\u001b[39m np\u001b[38;5;241m.\u001b[39mcolumn_stack((pop[\u001b[38;5;124m'\u001b[39m\u001b[38;5;124mmerging_population\u001b[39m\u001b[38;5;124m'\u001b[39m][\u001b[38;5;124m'\u001b[39m\u001b[38;5;124mz\u001b[39m\u001b[38;5;124m'\u001b[39m], pop[\u001b[38;5;124m'\u001b[39m\u001b[38;5;124mmerging_population\u001b[39m\u001b[38;5;124m'\u001b[39m][\u001b[38;5;124m'\u001b[39m\u001b[38;5;124mMstar\u001b[39m\u001b[38;5;124m'\u001b[39m]))\n\u001b[0;32m----> 3\u001b[0m non_merging_points \u001b[38;5;241m=\u001b[39m \u001b[43mnp\u001b[49m\u001b[38;5;241;43m.\u001b[39;49m\u001b[43mcolumn_stack\u001b[49m\u001b[43m(\u001b[49m\u001b[43m(\u001b[49m\u001b[43mpop\u001b[49m\u001b[43m[\u001b[49m\u001b[38;5;124;43m'\u001b[39;49m\u001b[38;5;124;43mnon_merging_population\u001b[39;49m\u001b[38;5;124;43m'\u001b[39;49m\u001b[43m]\u001b[49m\u001b[43m[\u001b[49m\u001b[38;5;124;43m'\u001b[39;49m\u001b[38;5;124;43mz\u001b[39;49m\u001b[38;5;124;43m'\u001b[39;49m\u001b[43m]\u001b[49m\u001b[43m,\u001b[49m\u001b[43m \u001b[49m\u001b[43mpop\u001b[49m\u001b[43m[\u001b[49m\u001b[38;5;124;43m'\u001b[39;49m\u001b[38;5;124;43mnon_merging_population\u001b[39;49m\u001b[38;5;124;43m'\u001b[39;49m\u001b[43m]\u001b[49m\u001b[43m[\u001b[49m\u001b[38;5;124;43m'\u001b[39;49m\u001b[38;5;124;43mMstar\u001b[39;49m\u001b[38;5;124;43m'\u001b[39;49m\u001b[43m]\u001b[49m\u001b[43m)\u001b[49m\u001b[43m)\u001b[49m\n\u001b[1;32m      5\u001b[0m \u001b[38;5;66;03m# Compute pairwise Euclidean distances\u001b[39;00m\n\u001b[1;32m      6\u001b[0m dist_matrix \u001b[38;5;241m=\u001b[39m distance\u001b[38;5;241m.\u001b[39mcdist(merging_points, non_merging_points)\n",
      "File \u001b[0;32m<__array_function__ internals>:200\u001b[0m, in \u001b[0;36mcolumn_stack\u001b[0;34m(*args, **kwargs)\u001b[0m\n",
      "File \u001b[0;32m/apps/jupyter/6.5.4/lib/python3.10/site-packages/numpy/lib/shape_base.py:656\u001b[0m, in \u001b[0;36mcolumn_stack\u001b[0;34m(tup)\u001b[0m\n\u001b[1;32m    654\u001b[0m         arr \u001b[38;5;241m=\u001b[39m array(arr, copy\u001b[38;5;241m=\u001b[39m\u001b[38;5;28;01mFalse\u001b[39;00m, subok\u001b[38;5;241m=\u001b[39m\u001b[38;5;28;01mTrue\u001b[39;00m, ndmin\u001b[38;5;241m=\u001b[39m\u001b[38;5;241m2\u001b[39m)\u001b[38;5;241m.\u001b[39mT\n\u001b[1;32m    655\u001b[0m     arrays\u001b[38;5;241m.\u001b[39mappend(arr)\n\u001b[0;32m--> 656\u001b[0m \u001b[38;5;28;01mreturn\u001b[39;00m \u001b[43m_nx\u001b[49m\u001b[38;5;241;43m.\u001b[39;49m\u001b[43mconcatenate\u001b[49m\u001b[43m(\u001b[49m\u001b[43marrays\u001b[49m\u001b[43m,\u001b[49m\u001b[43m \u001b[49m\u001b[38;5;241;43m1\u001b[39;49m\u001b[43m)\u001b[49m\n",
      "File \u001b[0;32m<__array_function__ internals>:200\u001b[0m, in \u001b[0;36mconcatenate\u001b[0;34m(*args, **kwargs)\u001b[0m\n",
      "\u001b[0;31mKeyboardInterrupt\u001b[0m: "
     ]
    }
   ],
   "source": [
    "# Extract coordinates\n",
    "merging_points = np.column_stack((pop['merging_population']['z'], pop['merging_population']['Mstar']))\n",
    "non_merging_points = np.column_stack((pop['non_merging_population']['z'], pop['non_merging_population']['Mstar']))\n",
    "\n",
    "# Compute pairwise Euclidean distances\n",
    "dist_matrix = distance.cdist(merging_points, non_merging_points)"
   ]
  },
  {
   "cell_type": "code",
   "execution_count": 13,
   "metadata": {},
   "outputs": [],
   "source": [
    "from tqdm import tqdm"
   ]
  },
  {
   "cell_type": "code",
   "execution_count": null,
   "metadata": {},
   "outputs": [],
   "source": [
    "merging_points = np.column_stack((pop['merging_population']['z'], np.log10(pop['merging_population']['Mstar'])))\n",
    "non_merging_points = np.column_stack((pop['non_merging_population']['z'], np.log10(pop['non_merging_population']['Mstar'])))\n",
    "\n",
    "# Build a KDTree for fast nearest neighbor search\n",
    "tree = cKDTree(non_merging_points)\n",
    "\n",
    "# Track used indices\n",
    "used = np.zeros(len(non_merging_points), dtype=bool)  # False means available\n",
    "#closest_indices = np.full(len(merging_points), -1)  # Store assigned indices\n",
    "\n",
    "control_indices = []\n",
    "\n",
    "p_z = 1.0  # or set an initial value\n",
    "p_Mstar = 1.0  # or set an initial value\n",
    "\n",
    "# Perform the loop with initial values\n",
    "while True:\n",
    "    closest_indices = np.full(len(merging_points), -1)  # Store assigned indices\n",
    "\n",
    "    for i in tqdm(range(len(merging_points)), desc=\"Processing merging points\", ncols=100):\n",
    "    #for i in range(len(merging_points)):\n",
    "    # Find the closest available neighbor\n",
    "        d, min_index = tree.query(merging_points[i])\n",
    "\n",
    "        if (used[min_index]): # If already taken, find the next closest manually\n",
    "            dists, idxs = tree.query(merging_points[i], k=len(non_merging_points))  # Get sorted neighbor\n",
    "            min_index = idxs[np.where(~used[idxs])[0][0]]  # Find first unused index\n",
    "\n",
    "\n",
    "        # Ensure we select an unused index\n",
    "        #while used[min_index]:  # If already taken, find the next closest manually\n",
    "            #dists, idxs = tree.query(merging_points[i], k=len(non_merging_points))  # Get sorted neighbors\n",
    "            #min_index = idxs[np.where(~used[idxs])[0][0]]  # Find first unused index\n",
    "        \n",
    "        # Store the match and mark as used\n",
    "        closest_indices[i] = min_index\n",
    "        used[min_index] = True  # Mark as used\n",
    "\n",
    "    control_indices.append(closest_indices)\n",
    "    print(len(pop['non_merging_population']['Mstar'][np.sort(closest_indices)]),len(pop['non_merging_population']['z'][np.sort(closest_indices)]))\n",
    "\n",
    "    D_mstar, p_Mstar = ks_2samp(pop['non_merging_population']['Mstar'][np.sort(closest_indices)],pop['merging_population']['Mstar'])\n",
    "    D_z, p_z = ks_2samp(pop['non_merging_population']['z'][np.sort(closest_indices)],pop['merging_population']['z'])\n",
    "    print(p_z,p_Mstar,np.shape(control_indices)[0])\n",
    "    \n",
    "    if p_z < 0.99 or p_Mstar < 0.99 or np.shape(control_indices)[0]>=10:\n",
    "        \n",
    "        break  # Exit the loop if both conditions are no longer true\n",
    "\n",
    "# `closest_indices` now contains the nearest non-merging index for each merging point without replacement."
   ]
  },
  {
   "cell_type": "code",
   "execution_count": 77,
   "metadata": {},
   "outputs": [],
   "source": [
    "D_mstar, p_Mstar = ks_2samp(pop['non_merging_population']['Mstar'][sorted_indices],pop['merging_population']['Mstar'])"
   ]
  },
  {
   "cell_type": "code",
   "execution_count": 121,
   "metadata": {},
   "outputs": [],
   "source": [
    "control_z = np.array(control_indices).flatten()"
   ]
  },
  {
   "cell_type": "code",
   "execution_count": null,
   "metadata": {},
   "outputs": [],
   "source": []
  },
  {
   "cell_type": "code",
   "execution_count": 127,
   "metadata": {},
   "outputs": [
    {
     "data": {
      "text/plain": [
       "(array([0.39432499, 0.364322  , 0.31717445, 0.27859918, 0.28288532,\n",
       "        0.12001195, 0.16287337, 0.02571685, 0.03000299, 0.02571685]),\n",
       " array([2.22044605e-16, 4.99593347e-01, 9.99186694e-01, 1.49878004e+00,\n",
       "        1.99837339e+00, 2.49796673e+00, 2.99756008e+00, 3.49715343e+00,\n",
       "        3.99674677e+00, 4.49634012e+00, 4.99593347e+00]),\n",
       " [<matplotlib.patches.Polygon at 0x1528b786b8b0>])"
      ]
     },
     "execution_count": 127,
     "metadata": {},
     "output_type": "execute_result"
    },
    {
     "data": {
      "image/png": "[encoded data removed]",
      "text/plain": [
       "<Figure size 640x480 with 1 Axes>"
      ]
     },
     "metadata": {},
     "output_type": "display_data"
    }
   ],
   "source": [
    "sorted_indices = np.sort(closest_indices)\n",
    "plt.hist(pop['non_merging_population']['z'][np.sort(control_z)],histtype=\"step\",density=True)\n",
    "#plt.hist(pop['non_merging_population']['z'][sorted_indices],histtype=\"step\")\n",
    "plt.hist(pop['merging_population']['z'],histtype=\"step\",density=True)"
   ]
  },
  {
   "cell_type": "code",
   "execution_count": 1,
   "metadata": {},
   "outputs": [
    {
     "ename": "NameError",
     "evalue": "name 'np' is not defined",
     "output_type": "error",
     "traceback": [
      "\u001b[0;31m---------------------------------------------------------------------------\u001b[0m",
      "\u001b[0;31mNameError\u001b[0m                                 Traceback (most recent call last)",
      "Cell \u001b[0;32mIn[1], line 2\u001b[0m\n\u001b[1;32m      1\u001b[0m \u001b[38;5;66;03m# Filter out non-positive SFR values\u001b[39;00m\n\u001b[0;32m----> 2\u001b[0m log_sfr_non_merging \u001b[38;5;241m=\u001b[39m \u001b[43mnp\u001b[49m\u001b[38;5;241m.\u001b[39mlog10(pop[\u001b[38;5;124m'\u001b[39m\u001b[38;5;124mnon_merging_population\u001b[39m\u001b[38;5;124m'\u001b[39m][\u001b[38;5;124m'\u001b[39m\u001b[38;5;124mSFR\u001b[39m\u001b[38;5;124m'\u001b[39m][np\u001b[38;5;241m.\u001b[39msort(control_z)])\n\u001b[1;32m      3\u001b[0m log_sfr_merging \u001b[38;5;241m=\u001b[39m np\u001b[38;5;241m.\u001b[39mlog10(pop[\u001b[38;5;124m'\u001b[39m\u001b[38;5;124mmerging_population\u001b[39m\u001b[38;5;124m'\u001b[39m][\u001b[38;5;124m'\u001b[39m\u001b[38;5;124mSFR\u001b[39m\u001b[38;5;124m'\u001b[39m])\n\u001b[1;32m      5\u001b[0m \u001b[38;5;66;03m# Remove any non-positive values (SFR <= 0)\u001b[39;00m\n",
      "\u001b[0;31mNameError\u001b[0m: name 'np' is not defined"
     ]
    }
   ],
   "source": [
    "# Filter out non-positive SFR values\n",
    "log_sfr_non_merging = np.log10(pop['non_merging_population']['SFR'][np.sort(control_z)])\n",
    "log_sfr_merging = np.log10(pop['merging_population']['SFR'])\n",
    "\n",
    "# Remove any non-positive values (SFR <= 0)\n",
    "log_sfr_non_merging = log_sfr_non_merging[log_sfr_non_merging > 0]\n",
    "log_sfr_merging = log_sfr_merging[log_sfr_merging > 0]\n",
    "\n",
    "# Create the histograms for both distributions, normalized to the same area (density=True)\n",
    "plt.hist(log_sfr_non_merging, histtype=\"step\", density=True, bins=10, label=\"Non-merging\")\n",
    "plt.hist(log_sfr_merging, histtype=\"step\", density=True, bins=10, label=\"Merging\")\n",
    "\n",
    "# Add a legend and axis labels\n",
    "plt.legend()\n",
    "plt.xlabel(\"Log10(SFR)\")\n",
    "plt.ylabel(\"Density\")\n",
    "plt.show()"
   ]
  },
  {
   "cell_type": "code",
   "execution_count": 141,
   "metadata": {},
   "outputs": [
    {
     "data": {
      "image/png": "[encoded data removed]",
      "text/plain": [
       "<Figure size 640x480 with 1 Axes>"
      ]
     },
     "metadata": {},
     "output_type": "display_data"
    }
   ],
   "source": [
    "# Filter out non-positive Mgas values\n",
    "log_mgas_non_merging = np.log10(pop['non_merging_population']['Mgas'][np.sort(control_z)])\n",
    "log_mgas_merging = np.log10(pop['merging_population']['Mgas'])\n",
    "\n",
    "# Remove any non-positive values (Mgas <= 0)\n",
    "log_mgas_non_merging = log_mgas_non_merging[log_mgas_non_merging > 0]\n",
    "log_mgas_merging = log_mgas_merging[log_mgas_merging > 0]\n",
    "\n",
    "# Define the bins for Mgas (logarithmic bins or linear bins depending on your needs)\n",
    "bins = np.linspace(np.min(log_mgas_non_merging),np.max(log_mgas_non_merging), 20)\n",
    "\n",
    "# Create the histograms for both distributions, normalized to the same area (density=True)\n",
    "plt.hist(log_mgas_non_merging, histtype=\"step\", density=True, bins=bins, label=\"Non-merging\")\n",
    "plt.hist(log_mgas_merging, histtype=\"step\", density=True, bins=bins, label=\"Merging\")\n",
    "\n",
    "median_non_merging = np.median(log_mgas_non_merging)\n",
    "median_merging = np.median(log_mgas_merging)\n",
    "\n",
    "plt.axvline(median_non_merging, color='blue', linestyle='--', label=f\"Median Non-merging: {median_non_merging:.2f}\")\n",
    "plt.axvline(median_merging, color='orange', linestyle='--', label=f\"Median Merging: {median_merging:.2f}\")\n",
    "\n",
    "# Add a legend and axis labels\n",
    "plt.legend()\n",
    "#plt.xscale('log')  # Use logarithmic x-axis for better visibility\n",
    "plt.xlabel(\"Log10(Mgas)\")\n",
    "plt.ylabel(\"Density\")\n",
    "plt.show()\n"
   ]
  },
  {
   "cell_type": "code",
   "execution_count": 40,
   "metadata": {},
   "outputs": [],
   "source": [
    "control_sample_test  = \"control_sample_testfile.hdf5\""
   ]
  },
  {
   "cell_type": "code",
   "execution_count": 41,
   "metadata": {},
   "outputs": [
    {
     "name": "stdout",
     "output_type": "stream",
     "text": [
      "idx False\n",
      "subhalo_ids True\n",
      "snap True\n",
      "z True\n",
      "Mstar True\n",
      "z_tol False\n",
      "Mstar_dex_tol False\n"
     ]
    }
   ],
   "source": [
    "for key, value in control_def.items():\n",
    "    print(key,isinstance(value, list))"
   ]
  },
  {
   "cell_type": "code",
   "execution_count": 44,
   "metadata": {},
   "outputs": [],
   "source": [
    "with h5py.File(control_sample_test, 'w') as f:\n",
    "            for key, value in control_def.items():\n",
    "                # Define a variable-length data type\n",
    "                vlen_dtype = h5py.special_dtype(vlen=np.dtype('float64'))\n",
    "                \n",
    "                # Create a dataset with the variable-length data type\n",
    "                if isinstance(value, list):\n",
    "                    dset = f.create_dataset(key, (len(value),), dtype=vlen_dtype)\n",
    "                    dset[:] = value\n",
    "                else:\n",
    "                    f.create_dataset(key, data=value)"
   ]
  },
  {
   "cell_type": "code",
   "execution_count": 43,
   "metadata": {},
   "outputs": [],
   "source": [
    "f.close()\n",
    "control_sample_tst.close()"
   ]
  },
  {
   "cell_type": "code",
   "execution_count": 46,
   "metadata": {},
   "outputs": [],
   "source": [
    "control_sample_tst = h5py.File(control_sample_test, 'r')\n"
   ]
  },
  {
   "cell_type": "code",
   "execution_count": 49,
   "metadata": {},
   "outputs": [
    {
     "data": {
      "text/plain": [
       "0.01"
      ]
     },
     "execution_count": 49,
     "metadata": {},
     "output_type": "execute_result"
    }
   ],
   "source": [
    "control_sample_tst['z_tol'][1]"
   ]
  },
  {
   "cell_type": "code",
   "execution_count": null,
   "metadata": {},
   "outputs": [],
   "source": [
    "Mstar_tol_max_non_restrictive = np.max(control_def['z_tol'])\n",
    "Mstar_tol_max_restrictive = np.max(control_restrictive['z_tol'])"
   ]
  },
  {
   "cell_type": "code",
   "execution_count": 9,
   "metadata": {},
   "outputs": [
    {
     "name": "stdout",
     "output_type": "stream",
     "text": [
      "The maximum tolerance in z is 0.076\n",
      "The maximum tolerance in $M_{\\star}$ is 0.759\n",
      "The average number of control samples is 151\n",
      "The minimum number of control samples is 10\n"
     ]
    }
   ],
   "source": [
    "print(f\"The maximum tolerance in z is {np.max(control_sample['z_tol']):.3f}\")\n",
    "print(f\"The maximum tolerance in $M_{{\\star}}$ is {np.max(control_sample['Mstar_dex_tol']):.3f}\")\n",
    "lengths_subhalo_ids = [len(sublist) for sublist in control_sample['subhalo_ids']]\n",
    "print(f\"The average number of control samples is {np.mean(lengths_subhalo_ids):.0f}\")\n",
    "print(f\"The minimum number of control samples is {np.min(lengths_subhalo_ids):.0f}\")"
   ]
  },
  {
   "cell_type": "code",
   "execution_count": 65,
   "metadata": {},
   "outputs": [],
   "source": [
    "def weight_Mstar(i,pop,control):\n",
    "    return 1  - np.abs(np.log10(pop[\"merging_population\"][\"Mstar\"][i])- np.log10(control[\"Mstar\"][i]))/control[\"Mstar_dex_tol\"][i]\n",
    "\n",
    "def weight_z(i,pop,control):\n",
    "    return 1  - np.abs(np.log10(pop[\"merging_population\"][\"z\"][i])- np.log10(control[\"z\"][i]))/control[\"z_tol\"][i]\n",
    "\n",
    "def weight_tot(i,pop,control):\n",
    "    return weight_z(i,pop,control)*weight_Mstar(i,pop,control)\n",
    "\n",
    "def control_prop_avg(prop_key,index,pop,control):\n",
    "    control_pop = control[prop_key][index]\n",
    "    control_weights = weight_tot(index,pop,control)\n",
    "    control_avg = np.sum(control_weights*control_pop)/np.sum(control_weights)\n",
    "    return control_avg"
   ]
  },
  {
   "cell_type": "code",
   "execution_count": 66,
   "metadata": {},
   "outputs": [],
   "source": [
    "N_mergers = len(pop['merging_population'][\"z\"])\n",
    "\n",
    "control_z_avg = np.array([control_prop_avg(\"z\", i,pop,control_def) for i in range(N_mergers)])\n",
    "control_Mstar_avg = np.array([control_prop_avg(\"Mstar\", i,pop,control_def) for i in range(N_mergers)])\n",
    "\n",
    "control_restrictive_z_avg = np.array([control_prop_avg(\"z\", i,pop,control_restrictive) for i in range(N_mergers)])\n",
    "control_restrictive_Mstar_avg = np.array([control_prop_avg(\"Mstar\", i,pop,control_restrictive) for i in range(N_mergers)])"
   ]
  },
  {
   "cell_type": "code",
   "execution_count": 67,
   "metadata": {},
   "outputs": [],
   "source": [
    "Mstar_binsize = 0.5  # specify the binsize\n",
    "Mstar_min = 7\n",
    "Mstar_max = 12\n",
    "Nbins_Ms = int((Mstar_max-Mstar_min)/Mstar_binsize)\n",
    "Mstar_bins = np.linspace(Mstar_min,Mstar_max,Nbins_Ms)\n",
    "\n",
    "z_binsize = 0.1  \n",
    "z_min = 0\n",
    "z_max = 5\n",
    "Nbins_z = int((z_max - z_min) / z_binsize)\n",
    "z_bins = np.linspace(z_min, z_max, Nbins_z)"
   ]
  },
  {
   "cell_type": "code",
   "execution_count": 77,
   "metadata": {},
   "outputs": [
    {
     "data": {
      "text/plain": [
       "Text(0.5, 0, '$\\\\log(M_{\\\\star}/M_{\\\\odot})$')"
      ]
     },
     "execution_count": 77,
     "metadata": {},
     "output_type": "execute_result"
    },
    {
     "data": {
      "image/png": "[encoded data removed]",
      "text/plain": [
       "<Figure size 1000x400 with 2 Axes>"
      ]
     },
     "metadata": {},
     "output_type": "display_data"
    }
   ],
   "source": [
    "fig,ax = plt.subplots(1,2,figsize=(10,4))\n",
    "ax[0].hist(np.log10(control_Mstar_avg), bins=Mstar_bins,histtype=\"step\",color=\"black\",label=\"control\")\n",
    "ax[0].hist(np.log10(pop['merging_population']['Mstar']),bins=Mstar_bins,histtype=\"step\",label=\"mergers\",color=\"orange\",linestyle=\"--\")\n",
    "ax[0].set_title(f\"Maximum Mstar tol = %2.3f dex\"%(Mstar_tol_max_non_restrictive))\n",
    "ax[0].set_xlabel(\"z\",fontsize=25)\n",
    "ax[0].set_ylabel(\"N\",fontsize=25)\n",
    "\n",
    "\n",
    "ax[1].hist(np.log10(control_restrictive_Mstar_avg), bins=Mstar_bins,histtype=\"step\",color=\"black\",label=\"control\")\n",
    "ax[1].hist(np.log10(pop['merging_population']['Mstar']),bins=Mstar_bins,histtype=\"step\",label=\"mergers\",color=\"orange\",linestyle=\"--\")\n",
    "ax[1].set_title(f\"Maximum Mstar tol = %2.3f dex\"%(Mstar_tol_max_restrictive))\n",
    "ax[1].legend(fontsize=15)\n",
    "ax[1].set_xlabel(\"$\\log(M_{\\star}/M_{\\odot})$\",fontsize=25)"
   ]
  },
  {
   "cell_type": "code",
   "execution_count": 21,
   "metadata": {},
   "outputs": [
    {
     "data": {
      "image/png": "[encoded data removed]",
      "text/plain": [
       "<Figure size 1000x400 with 2 Axes>"
      ]
     },
     "metadata": {},
     "output_type": "display_data"
    }
   ],
   "source": [
    "fig,ax = plt.subplots(1,2,figsize=(10,4))\n",
    "control_z_avg = np.array([control_prop_avg(\"z\", i) for i in range(N_mergers)])\n",
    "ax[0].hist(control_z_avg,histtype=\"step\",color=\"black\",label=\"control\")\n",
    "ax[0].hist(pop['merging_population']['z'],histtype=\"step\",label=\"mergers\",color=\"orange\",linestyle=\"--\")\n",
    "\n",
    "ax[0].set_xlabel(\"z\",fontsize=25)\n",
    "ax[0].set_ylabel(\"N\",fontsize=25)\n",
    "\n",
    "control_Mstar_avg = np.array([control_prop_avg(\"Mstar\", i) for i in range(N_mergers)])\n",
    "ax[1].hist(np.log10(control_Mstar_avg),histtype=\"step\",color=\"black\",label=\"control\")\n",
    "ax[1].hist(np.log10(pop['merging_population']['Mstar']),histtype=\"step\",label=\"mergers\",color=\"orange\",linestyle=\"--\")\n",
    "ax[1].legend(fontsize=15)\n",
    "ax[1].set_xlabel(\"$\\log(M_{\\star}/M_{\\odot})$\",fontsize=25)\n",
    "#ax[1].set_ylabel(\"N\",fontsize=25)\n",
    "fig.tight_layout()"
   ]
  },
  {
   "cell_type": "code",
   "execution_count": 76,
   "metadata": {},
   "outputs": [
    {
     "name": "stdout",
     "output_type": "stream",
     "text": [
      "Redshift matching gives KS statistic of 0.017 and p-value of 0.9999998707742743\n",
      "Mstar matching gives KS statistic of 0.015 and p-value of 0.9999999994509645\n"
     ]
    }
   ],
   "source": [
    "D_z,p_value_z = ks_2samp(control_z_avg,pop['merging_population']['z'])\n",
    "D_Mstar,p_value_Mstar = ks_2samp(np.log10(control_Mstar_avg),np.log10(pop['merging_population']['Mstar']))\n",
    "print(f\"Redshift matching gives KS statistic of {D_z:2.3f} and p-value of {p_value_z}\")\n",
    "print(f\"Mstar matching gives KS statistic of {D_Mstar:.3f} and p-value of {p_value_Mstar}\")"
   ]
  },
  {
   "cell_type": "code",
   "execution_count": 75,
   "metadata": {},
   "outputs": [
    {
     "name": "stdout",
     "output_type": "stream",
     "text": [
      "Redshift matching gives KS statistic of 0.017 and p-value of 0.9999998707742743\n",
      "Mstar matching gives KS statistic of 0.011 and p-value of 0.9999999999999998\n"
     ]
    }
   ],
   "source": [
    "D_z,p_value_z = ks_2samp(control_restrictive_z_avg,pop['merging_population']['z'])\n",
    "D_Mstar,p_value_Mstar = ks_2samp(np.log10(control_restrictive_Mstar_avg),np.log10(pop['merging_population']['Mstar']))\n",
    "print(f\"Redshift matching gives KS statistic of {D_z:2.3f} and p-value of {p_value_z}\")\n",
    "print(f\"Mstar matching gives KS statistic of {D_Mstar:.3f} and p-value of {p_value_Mstar}\")"
   ]
  },
  {
   "cell_type": "code",
   "execution_count": null,
   "metadata": {},
   "outputs": [],
   "source": [
    "control_sample_file =  \"control_sample.hdf5\"\n",
    "\n",
    "      \n",
    "\n",
    "with h5py.File(control_sample_file, 'w') as f:\n",
    "    for key, value in control_sample.items():\n",
    "        if isinstance(value, list):\n",
    "            group = f.create_group(key)\n",
    "            for i, array in enumerate(value):\n",
    "                group.create_dataset(str(i), data=array)\n",
    "        else:\n",
    "            f.create_dataset(key, data=value)\n",
    "\n",
    "f.close()"
   ]
  },
  {
   "cell_type": "code",
   "execution_count": null,
   "metadata": {},
   "outputs": [],
   "source": [
    "with h5py.File(control_sample_file, 'w') as f:\n",
    "    for key, value in control_sample.items():\n",
    "        # Define a variable-length data type\n",
    "        vlen_dtype = h5py.special_dtype(vlen=np.dtype('float64'))\n",
    "        \n",
    "        # Create a dataset with the variable-length data type\n",
    "        if isinstance(value, list):\n",
    "            dset = f.create_dataset(key, (len(value),), dtype=vlen_dtype)\n",
    "            dset[:] = value\n",
    "        else:\n",
    "            f.create_dataset(key, data=value)"
   ]
  }
 ],
 "metadata": {
  "kernelspec": {
   "display_name": "hfrl",
   "language": "python",
   "name": "hfrl"
  },
  "language_info": {
   "codemirror_mode": {
    "name": "ipython",
    "version": 3
   },
   "file_extension": ".py",
   "mimetype": "text/x-python",
   "name": "python",
   "nbconvert_exporter": "python",
   "pygments_lexer": "ipython3",
   "version": "3.10.12"
  }
 },
 "nbformat": 4,
 "nbformat_minor": 2
}
