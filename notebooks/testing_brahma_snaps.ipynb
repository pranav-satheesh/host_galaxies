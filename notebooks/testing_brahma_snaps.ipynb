{
 "cells": [
  {
   "cell_type": "code",
   "execution_count": 85,
   "metadata": {},
   "outputs": [],
   "source": [
    "import numpy as np\n",
    "from scipy.stats import ks_2samp\n",
    "from scipy import stats\n",
    "import matplotlib.pyplot as plt\n",
    "import h5py\n",
    "import time\n",
    "import illustris_python_mod as il"
   ]
  },
  {
   "cell_type": "code",
   "execution_count": 86,
   "metadata": {},
   "outputs": [],
   "source": [
    "basePath = '/orange/lblecha/aklantbhowmick/GAS_BASED_SEED_MODEL_UNIFORM_RUNS/L12p5n512/AREPO/output_ratio10_SFMFGM5_seed5.00_bFOF_LW10_spin_rich/'"
   ]
  },
  {
   "cell_type": "code",
   "execution_count": 87,
   "metadata": {},
   "outputs": [],
   "source": [
    "N_snaps = 32\n",
    "snaps = np.arange(0,N_snaps+1,1)"
   ]
  },
  {
   "cell_type": "markdown",
   "metadata": {},
   "source": [
    "## Header data"
   ]
  },
  {
   "cell_type": "code",
   "execution_count": 88,
   "metadata": {},
   "outputs": [
    {
     "name": "stdout",
     "output_type": "stream",
     "text": [
      "Max redshift: 25\n",
      "Box length : 18.461 Mpc\n"
     ]
    }
   ],
   "source": [
    "snap_num = 0\n",
    "h = il.groupcat.loadHeader(basePath, snap_num)['HubbleParam']\n",
    "Box_l = il.groupcat.loadHeader(basePath,snap_num)['BoxSize']/1000/h\n",
    "redshifts  =np.array([il.groupcat.loadHeader(basePath, snap)['Redshift'] for snap in snaps])\n",
    "print(\"Max redshift: %d\"%(redshifts[0]))\n",
    "print(\"Box length : %1.3f Mpc\"%(Box_l))"
   ]
  },
  {
   "cell_type": "code",
   "execution_count": 89,
   "metadata": {},
   "outputs": [
    {
     "name": "stdout",
     "output_type": "stream",
     "text": [
      "2\n",
      "Subhalo masses: [7.82703851 7.61894372]\n",
      "Subhalo indices: [0 1]\n"
     ]
    }
   ],
   "source": [
    "fields = ['SubhaloMass','SubhaloSFRinRad']\n",
    "snapNum=0\n",
    "subhalos = il.groupcat.loadSubhalos(basePath,snapNum,fields=fields)\n",
    "print(subhalos['count'])\n",
    "print(\"Subhalo masses:\",np.log10(subhalos['SubhaloMass']*10**10/h))\n",
    "# Get the \"index-based IDs\" for subhalos (0 to N-1)\n",
    "subhalo_indices = np.arange(len(subhalos['SubhaloMass']))\n",
    "print(f\"Subhalo indices: {subhalo_indices}\")"
   ]
  },
  {
   "cell_type": "code",
   "execution_count": 5,
   "metadata": {},
   "outputs": [],
   "source": [
    "basePath = '/orange/lblecha/aklantbhowmick/GAS_BASED_SEED_MODEL_UNIFORM_RUNS/L12p5n512/AREPO/output_ratio10_SFMFGM5_seed5.00_bFOF_LW10_spin_rich/output'"
   ]
  },
  {
   "cell_type": "code",
   "execution_count": 1,
   "metadata": {},
   "outputs": [],
   "source": [
    "import illustris_python_mod as il"
   ]
  },
  {
   "cell_type": "code",
   "execution_count": 2,
   "metadata": {},
   "outputs": [],
   "source": [
    "basePath = '/orange/lblecha/aklantbhowmick/GAS_BASED_SEED_MODEL_UNIFORM_RUNS/L12p5n512/AREPO/output_ratio10_SFMFGM5_seed5.00_bFOF_LW10_spin_rich/'"
   ]
  },
  {
   "cell_type": "markdown",
   "metadata": {},
   "source": [
    "['DescendantID', 'FirstProgenitorID', 'FirstSubhaloInFOFGroupID', 'LastProgenitorID', 'MainLeafProgenitorID', 'Mass', 'MassHistory', 'NextProgenitorID', 'NextSubhaloInFOFGroupID', 'NumParticles', 'RootDescendantID', 'SnapNum', 'SubfindID', 'SubhaloID', 'SubhaloIDRaw', 'TreeID']"
   ]
  },
  {
   "cell_type": "markdown",
   "metadata": {},
   "source": [
    "## Halo Data"
   ]
  },
  {
   "cell_type": "code",
   "execution_count": 64,
   "metadata": {},
   "outputs": [
    {
     "name": "stdout",
     "output_type": "stream",
     "text": [
      "Subhalo indices for halo 0: [0]\n",
      "Subhalo indices for halo 1: [1]\n"
     ]
    }
   ],
   "source": [
    "snapNum=0\n",
    "halo_data = il.groupcat.loadHalos(basePath, snapNum, fields=['GroupFirstSub', 'GroupNsubs'])\n",
    "group_first_sub = halo_data['GroupFirstSub']  # Index of first subhalo in subhalo catalog\n",
    "group_nsubs = halo_data['GroupNsubs']         # Number of subhalos in halo\n",
    "\n",
    "#print(group_first_sub)\n",
    "#print(group_nsubs)\n",
    "\n",
    "subhalos = il.groupcat.loadSubhalos(basePath, snapNum, fields=['SubhaloMass', 'SubhaloGrNr'])\n",
    "\n",
    "# Get the \"index-based IDs\" for subhalos (0 to N-1)\n",
    "subhalo_indices = np.arange(len(subhalos['SubhaloMass']))\n",
    "#print(f\"Subhalo indices: {subhalo_indices}\")\n",
    "\n",
    "for i in group_first_sub:\n",
    "    if group_first_sub[i] >= 0:\n",
    "        start = group_first_sub[i]\n",
    "        end = start + group_nsubs[i]\n",
    "        subhalos_in_halo = subhalo_indices[start:end]\n",
    "        print(f\"Subhalo indices for halo {i}: {subhalos_in_halo}\")\n",
    "    else:\n",
    "        print(f\"Halo {i} has no subhalos.\")"
   ]
  },
  {
   "cell_type": "code",
   "execution_count": 68,
   "metadata": {},
   "outputs": [
    {
     "name": "stdout",
     "output_type": "stream",
     "text": [
      "[  0   2   4   6   7   8   9  10  11  12  14  15  16  17  18  19  20  21\n",
      "  22  23  24  25  26  27  28  29  30  31  32  33  34  35  36  37  38  39\n",
      "  40  41  42  43  44  45  46  47  48  49  50  51  52  53  54  55  56  57\n",
      "  58  59  60  61  62  63  64  65  66  67  68  69  70  71  72  73  74  75\n",
      "  76  77  78  79  80  81  82  83  84  85  86  87  88  89  90  91  92  93\n",
      "  94  95  96  97  98  99 100 101 102 103 104 105 106 107 108 109 110 111\n",
      " 112 113 114 115 116 117 118 119 120 121 122 123 124 125 126 127 128 129\n",
      " 130 131 132 133 134 135 136 137 138 139 140 141 142 143 144 145 146 147\n",
      " 148 149 150 151 152 153 154 155 156 157 158 159 160 161 162 163 164 165\n",
      " 166 167 168 169 170 171  -1 172 173 174 175 176 177 178 179 180 181 182\n",
      " 183 184 185 186 187 188 189 190 191 192 193 194 195 196 197 198 199  -1\n",
      " 200 201 202 203 204 205 206 207 208 209 210 211 212 213 214 215 216 217\n",
      "  -1 218 219 220 221 222 223 224 225]\n"
     ]
    }
   ],
   "source": [
    "snapNum=5\n",
    "GroupFirstSub = il.groupcat.loadHalos(basePath,snapNum,fields=['GroupFirstSub'])\n",
    "print(GroupFirstSub)"
   ]
  },
  {
   "cell_type": "code",
   "execution_count": 92,
   "metadata": {},
   "outputs": [
    {
     "data": {
      "text/plain": [
       "9.996590466186332"
      ]
     },
     "execution_count": 92,
     "metadata": {},
     "output_type": "execute_result"
    }
   ],
   "source": [
    "redshifts[15]"
   ]
  },
  {
   "cell_type": "code",
   "execution_count": 83,
   "metadata": {},
   "outputs": [
    {
     "name": "stdout",
     "output_type": "stream",
     "text": [
      "254718 160000051800000012 160000051800000002\n",
      "postprocessing/tree_extended.16.hdf5\n",
      "/orange/lblecha/aklantbhowmick/GAS_BASED_SEED_MODEL_UNIFORM_RUNS/L12p5n512/AREPO/output_ratio10_SFMFGM5_seed5.00_bFOF_LW10_spin_rich/postprocessing/tree_extended.16.hdf5\n",
      "postprocessing/tree_extended.16.hdf5\n",
      "/orange/lblecha/aklantbhowmick/GAS_BASED_SEED_MODEL_UNIFORM_RUNS/L12p5n512/AREPO/output_ratio10_SFMFGM5_seed5.00_bFOF_LW10_spin_rich/postprocessing/tree_extended.16.hdf5\n",
      "['DescendantID', 'FirstProgenitorID', 'FirstSubhaloInFOFGroupID', 'LastProgenitorID', 'MainLeafProgenitorID', 'Mass', 'MassHistory', 'NextProgenitorID', 'NextSubhaloInFOFGroupID', 'NumParticles', 'RootDescendantID', 'SnapNum', 'SubfindID', 'SubhaloID', 'SubhaloIDRaw', 'TreeID']\n",
      "[30 29 28 27 26 25 24 23 22]\n",
      "254328 160000048800000012 160000048800000002\n",
      "postprocessing/tree_extended.16.hdf5\n",
      "/orange/lblecha/aklantbhowmick/GAS_BASED_SEED_MODEL_UNIFORM_RUNS/L12p5n512/AREPO/output_ratio10_SFMFGM5_seed5.00_bFOF_LW10_spin_rich/postprocessing/tree_extended.16.hdf5\n",
      "postprocessing/tree_extended.16.hdf5\n",
      "/orange/lblecha/aklantbhowmick/GAS_BASED_SEED_MODEL_UNIFORM_RUNS/L12p5n512/AREPO/output_ratio10_SFMFGM5_seed5.00_bFOF_LW10_spin_rich/postprocessing/tree_extended.16.hdf5\n",
      "['DescendantID', 'FirstProgenitorID', 'FirstSubhaloInFOFGroupID', 'LastProgenitorID', 'MainLeafProgenitorID', 'Mass', 'MassHistory', 'NextProgenitorID', 'NextSubhaloInFOFGroupID', 'NumParticles', 'RootDescendantID', 'SnapNum', 'SubfindID', 'SubhaloID', 'SubhaloIDRaw', 'TreeID']\n",
      "[30 29 28 27 26 25 24 23 22 21]\n",
      "11387 11404 11387\n",
      "postprocessing/tree_extended.0.hdf5\n",
      "/orange/lblecha/aklantbhowmick/GAS_BASED_SEED_MODEL_UNIFORM_RUNS/L12p5n512/AREPO/output_ratio10_SFMFGM5_seed5.00_bFOF_LW10_spin_rich/postprocessing/tree_extended.0.hdf5\n",
      "postprocessing/tree_extended.0.hdf5\n",
      "/orange/lblecha/aklantbhowmick/GAS_BASED_SEED_MODEL_UNIFORM_RUNS/L12p5n512/AREPO/output_ratio10_SFMFGM5_seed5.00_bFOF_LW10_spin_rich/postprocessing/tree_extended.0.hdf5\n",
      "['DescendantID', 'FirstProgenitorID', 'FirstSubhaloInFOFGroupID', 'LastProgenitorID', 'MainLeafProgenitorID', 'Mass', 'MassHistory', 'NextProgenitorID', 'NextSubhaloInFOFGroupID', 'NumParticles', 'RootDescendantID', 'SnapNum', 'SubfindID', 'SubhaloID', 'SubhaloIDRaw', 'TreeID']\n",
      "[30 29 28 27 26 25 24 23 22 21 20 19 18]\n"
     ]
    },
    {
     "data": {
      "text/plain": [
       "Text(0.5, 1.0, 'Progenitor branch walk of subhalos')"
      ]
     },
     "execution_count": 83,
     "metadata": {},
     "output_type": "execute_result"
    },
    {
     "data": {
      "image/png": "[encoded data removed]",
      "text/plain": [
       "<Figure size 640x480 with 1 Axes>"
      ]
     },
     "metadata": {},
     "output_type": "display_data"
    }
   ],
   "source": [
    "fields = ['Mass','SubfindID','SnapNum']\n",
    "\n",
    "snapNum=30\n",
    "GroupFirstSub = il.groupcat.loadHalos(basePath,snapNum,fields=['GroupFirstSub'])\n",
    "start = 15\n",
    "for i in range(start,start+3):\n",
    "    tree = il.sublink.loadTree(basePath,snapNum,GroupFirstSub[i],fields=fields,onlyMPB=True)\n",
    "    print(tree['SnapNum'])\n",
    "    plt.plot(tree['SnapNum'],tree['Mass'],'-')\n",
    "plt.yscale('log')\n",
    "plt.xlabel('Snapshot Number')\n",
    "plt.ylabel('Subhalo Mass (sim unit)')\n",
    "plt.title('Progenitor branch walk of subhalos')"
   ]
  },
  {
   "cell_type": "code",
   "execution_count": 54,
   "metadata": {},
   "outputs": [
    {
     "name": "stdout",
     "output_type": "stream",
     "text": [
      "12 103 12\n",
      "postprocessing/tree_extended.0.hdf5\n",
      "/orange/lblecha/aklantbhowmick/GAS_BASED_SEED_MODEL_UNIFORM_RUNS/L12p5n512/AREPO/output_ratio10_SFMFGM5_seed5.00_bFOF_LW10_spin_rich/postprocessing/tree_extended.0.hdf5\n",
      "postprocessing/tree_extended.0.hdf5\n",
      "/orange/lblecha/aklantbhowmick/GAS_BASED_SEED_MODEL_UNIFORM_RUNS/L12p5n512/AREPO/output_ratio10_SFMFGM5_seed5.00_bFOF_LW10_spin_rich/postprocessing/tree_extended.0.hdf5\n",
      "['DescendantID', 'FirstProgenitorID', 'FirstSubhaloInFOFGroupID', 'LastProgenitorID', 'MainLeafProgenitorID', 'Mass', 'MassHistory', 'NextProgenitorID', 'NextSubhaloInFOFGroupID', 'NumParticles', 'RootDescendantID', 'SnapNum', 'SubfindID', 'SubhaloID', 'SubhaloIDRaw', 'TreeID']\n"
     ]
    }
   ],
   "source": [
    "fields = ['SubhaloID','SubfindID','SnapNum']\n",
    "snapNum= 20\n",
    "subhaloid= 0\n",
    "tree = il.sublink.loadTree(basePath,snapNum,subhaloid,fields=fields,onlyMPB=True)"
   ]
  },
  {
   "cell_type": "code",
   "execution_count": null,
   "metadata": {},
   "outputs": [],
   "source": [
    "basePath = '/orange/lblecha/aklantbhowmick/GAS_BASED_SEED_MODEL_UNIFORM_RUNS/L12p5n512/AREPO/output_ratio10_SFMFGM5_seed5.00_bFOF_LW10_spin_rich/output'"
   ]
  },
  {
   "cell_type": "code",
   "execution_count": 19,
   "metadata": {},
   "outputs": [],
   "source": [
    "snapNum=0\n",
    "offsetPath = basePath + '/../postprocessing/offsets/offsets_%03d.hdf5'%snapNum"
   ]
  },
  {
   "cell_type": "code",
   "execution_count": 42,
   "metadata": {},
   "outputs": [
    {
     "name": "stdout",
     "output_type": "stream",
     "text": [
      "<KeysViewHDF5 ['FileOffsets', 'LastProgenitorID', 'MainLeafProgenitorID', 'RowNum', 'SubhaloID']>\n",
      "49\n"
     ]
    }
   ],
   "source": [
    "snapNum=9\n",
    "offsetPath = basePath + '/postprocessing/offsets/offsets_%03d.hdf5'%snapNum\n",
    "f =  h5py.File(offsetPath, 'r') \n",
    "print(f.keys())\n",
    "#print(f['FileOffsets'][:])\n",
    "#print(f['SubhaloID'][:])\n",
    "print(np.sum(f['SubhaloID'][:]>0))\n",
    "#print(f['RowNum'][:])\n",
    "#print(f['LastProgenitorID'][:])"
   ]
  },
  {
   "cell_type": "code",
   "execution_count": 49,
   "metadata": {},
   "outputs": [
    {
     "name": "stdout",
     "output_type": "stream",
     "text": [
      "<KeysViewHDF5 ['FileOffsets', 'Group', 'Subhalo']>\n",
      "<KeysViewHDF5 ['Group', 'SnapByType', 'SubLink', 'SubLink_gal', 'Subhalo']>\n",
      "[      0    6146   20552   33804   46812   59696   72361   84923   97198\n",
      "  109375  121568  133738  145862  158025  170132  182207  194167  206041\n",
      "  217975  229873  241724  253740  265719  277566  289329  301157  313043\n",
      "  324899  336635  348497  360217  371987  383741  395380  407098  418756\n",
      "  430574  442184  453905  465715  477336  489045  500770  512572  524276\n",
      "  535912  547569  559181  570821  582433  594072  605720  617436  629124\n",
      "  640788  652337  663917  675527  687194  698837  710493  722116  733700\n",
      "  745265  756756  768271  779777  791270  802855  814345  825797  837307\n",
      "  848928  860414  871907  883387  894800  906181  917715  929270  940795\n",
      "  952218  963672  975132  986600  998085 1009586 1020947 1032398 1043834\n",
      " 1055300 1066871 1078442 1089858 1101338 1112882 1124453 1135922 1147431\n",
      " 1158994 1170398 1181879 1193325 1204851 1216364 1227744 1239260 1250709\n",
      " 1262098 1273493 1284999 1296451 1307892 1319330 1330706 1342191 1353655\n",
      " 1365077 1376446 1387892 1399289 1410742 1422157 1433588 1445076 1456544\n",
      " 1467964 1479412 1490870 1502269 1513669 1525098 1536410 1547825 1559225\n",
      " 1570659 1582117 1593424 1604770 1616190 1627684 1639103 1650493 1661926\n",
      " 1673296 1684633 1695966 1707164 1718581 1729946 1741318 1752701 1763987\n",
      " 1775391 1786802 1798137 1809459 1820864 1832304 1843587 1854982 1866338\n",
      " 1877782 1889041 1900373 1911719 1923063 1934494 1945872 1957282 1968555\n",
      " 1979909 1991282 2002597 2013887 2025210 2036524 2047818 2059201 2070571\n",
      " 2081809 2093131 2104395 2115678 2127080 2138434 2149843 2161150 2172501\n",
      " 2183776 2195078 2206407 2217631 2229013 2240381 2251824 2263110 2274382\n",
      " 2285754 2297006 2308343 2319660 2331022 2342308 2353603 2364988 2376290\n",
      " 2387581 2398798 2410084 2421388 2432574 2443948 2455208 2466485 2477696\n",
      " 2489006 2500255 2511601 2522858 2534207 2545528 2556843 2568184 2579556\n",
      " 2590975 2602422 2613723 2625121 2636560 2647916 2659267 2670593 2681861\n",
      " 2693142 2704378 2715576 2726865 2738221 2749471 2760806 2772016 2783361\n",
      " 2794807 2806096 2817429 2828733 2839938 2851246 2862580 2873885 2885224\n",
      " 2896564 2907889 2919186 2930512 2941870 2953160 2964456 2975761 2987023\n",
      " 2998214 3009507 3020682 3032012 3043257 3054669 3065959 3077309 3088561\n",
      " 3099817 3111133 3122429 3133742 3145102 3156399 3167689 3178900 3190179\n",
      " 3201437 3212741 3224009 3235347 3246589 3257836 3269118 3280444 3291610\n",
      " 3302915 3314233 3325480 3336636 3347968 3359208 3370613 3381891 3393168\n",
      " 3404470 3415570 3426886 3438163 3449439 3460629 3471839 3483158 3494355\n",
      " 3505696 3517025 3528241 3539415 3550669 3561912 3573136 3584197 3595407\n",
      " 3606597 3617823 3629078 3640310 3651523 3662642 3673916 3685096 3696263\n",
      " 3707527 3718764 3729906 3741115 3752231 3763504 3774805 3786025 3797300\n",
      " 3808578 3819899 3831158 3842408 3853508 3864812 3875977 3887108 3898280\n",
      " 3909534 3920828 3932154 3943357 3954521 3965733 3976958 3988294 3999397\n",
      " 4010678 4021902 4033124 4044384 4055609 4066832 4078118 4089334 4100591\n",
      " 4111870 4123034 4134234 4145451 4156600 4167828 4178935 4189958 4201159\n",
      " 4212292 4223564 4234806 4245959 4257096 4268300 4279431 4290656 4301870\n",
      " 4313003 4324101 4335277 4346560 4357637 4368845 4379960 4391167 4402439\n",
      " 4413672 4424893 4436121 4447311 4458572 4469825 4480990 4492260 4503458\n",
      " 4514596 4525754 4536931 4548072 4559114 4570359 4581600 4592802 4604131\n",
      " 4615328 4626523 4637735 4648962 4660211 4671473 4682533 4693730 4704955\n",
      " 4716160 4727318 4738438 4749567 4760761 4771946 4783065 4794222 4805399\n",
      " 4816638 4827886 4839033 4850137 4861309 4872476 4883690 4894823 4906051\n",
      " 4917151 4928279 4939429 4950595 4961625 4972773 4983933 4995144 5006370\n",
      " 5017550 5028747 5039953 5051019 5062218 5073417 5084707 5095914 5107085\n",
      " 5118163 5129324 5140630 5151799 5162966 5174222 5185399 5196474 5207683\n",
      " 5218873 5229958 5241219 5252508 5263744 5274893 5286029 5297211 5308375\n",
      " 5319470 5330649 5341865 5353086 5364336 5375602 5386733 5397947 5409030\n",
      " 5420170 5431276 5442435 5453753 5464849 5475943 5487012 5498201 5509384\n",
      " 5520689 5531914 5543130 5554227 5565482 5576665 5587854 5599061 5610338\n",
      " 5621595 5632795 5643995 5655148 5666331 5677570 5688810 5699986 5711094\n",
      " 5722185 5733423 5744579 5755627 5766801 5777999 5789121 5800259 5811418\n",
      " 5822415 5833525 5844559 5855706 5866799 5877925 5889049 5900275 5911405\n",
      " 5922492 5933560 5944729 5955864 5967038 5978223 5989364 6000530 6011613\n",
      " 6022737 6033791 6044936 6056025 6067247 6078374 6089391 6100532 6111639\n",
      " 6122805 6133930 6145135 6156260 6167504 6178662 6189803 6200975 6212094\n",
      " 6223258 6234469 6245708 6256912 6268075 6279241 6290429 6301592 6312762\n",
      " 6323957 6335170 6346223 6357354 6368560 6379673 6390823 6401915 6413044\n",
      " 6424177 6435300 6446500 6457792 6468998 6480099 6491351 6502582 6513721\n",
      " 6524850 6535967 6547128 6558234 6569466 6580587 6591691 6602737 6613965\n",
      " 6625190 6636269 6647363 6658476 6669578 6680732 6691837 6702890 6714092\n",
      " 6725281 6736421 6747553 6758636 6769791 6780907 6791985 6803097 6814381\n",
      " 6825462 6836658 6847761 6858952 6870055 6881251 6892389 6903436 6914550\n",
      " 6925629 6936765 6947862 6958993 6970108 6981161 6992330 7003464 7014504\n",
      " 7025623 7036757 7047888 7059011 7070239 7081345 7092478 7103538 7114609\n",
      " 7125716 7136770 7147945 7159074 7170134 7181310 7192434 7203484 7214579\n",
      " 7225689 7236862 7248041 7259269 7270331 7281468 7292574 7303747 7314764\n",
      " 7325908 7337053 7348235 7359416 7370544 7381740 7392924 7404127 7415192\n",
      " 7426296 7437402 7448474 7459749 7470985 7482161 7493289 7504396 7515434\n",
      " 7526519 7537758 7548867 7560001 7571065 7582239 7593299 7604577 7615676\n",
      " 7626780 7637817 7649011 7660134 7671322]\n"
     ]
    }
   ],
   "source": [
    "snapNum=10\n",
    "basePath = '/orange/lblecha/IllustrisTNG/Runs/TNG50-1/output'\n",
    "offsetPath = basePath + '/../postprocessing/offsets/offsets_%03d.hdf5'%snapNum\n",
    "f =  h5py.File(offsetPath, 'r') \n",
    "print(f.keys())\n",
    "print(f['FileOffsets'].keys())\n",
    "print(f['FileOffsets/Subhalo'][:])"
   ]
  },
  {
   "cell_type": "code",
   "execution_count": 37,
   "metadata": {},
   "outputs": [],
   "source": [
    "basePath = '/orange/lblecha/IllustrisTNG/Runs/TNG50-1/output'"
   ]
  },
  {
   "cell_type": "code",
   "execution_count": 38,
   "metadata": {},
   "outputs": [],
   "source": [
    "fields = ['SubhaloMass','SubfindID','SnapNum']\n",
    "tree = il.sublink.loadTree(basePath,0,0,fields=fields,onlyMPB=True)"
   ]
  },
  {
   "cell_type": "code",
   "execution_count": 36,
   "metadata": {},
   "outputs": [],
   "source": [
    "snapNum = 0\n",
    "offsetpath = basePath+'/../postprocessing/offsets/offsets_%03d.hdf5' % snapNum"
   ]
  },
  {
   "cell_type": "code",
   "execution_count": 37,
   "metadata": {},
   "outputs": [
    {
     "data": {
      "text/plain": [
       "<HDF5 file \"offsets_000.hdf5\" (mode r)>"
      ]
     },
     "execution_count": 37,
     "metadata": {},
     "output_type": "execute_result"
    }
   ],
   "source": [
    "h5py.File(offsetpath)"
   ]
  },
  {
   "cell_type": "code",
   "execution_count": null,
   "metadata": {},
   "outputs": [],
   "source": []
  }
 ],
 "metadata": {
  "kernelspec": {
   "display_name": "Python 3",
   "language": "python",
   "name": "python3"
  },
  "language_info": {
   "codemirror_mode": {
    "name": "ipython",
    "version": 3
   },
   "file_extension": ".py",
   "mimetype": "text/x-python",
   "name": "python",
   "nbconvert_exporter": "python",
   "pygments_lexer": "ipython3",
   "version": "3.10.15"
  }
 },
 "nbformat": 4,
 "nbformat_minor": 2
}
