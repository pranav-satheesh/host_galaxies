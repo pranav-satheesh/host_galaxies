{
 "cells": [
  {
   "cell_type": "code",
   "execution_count": 1,
   "id": "25ecb524",
   "metadata": {},
   "outputs": [],
   "source": [
    "import sys\n",
    "import os\n",
    "sys.path.append('/home/pranavsatheesh/host_galaxies/')"
   ]
  },
  {
   "cell_type": "code",
   "execution_count": 2,
   "id": "47534a6e",
   "metadata": {},
   "outputs": [],
   "source": [
    "import illustris_python as il\n",
    "import matplotlib.pyplot as plt\n",
    "import h5py\n",
    "import numpy as np\n",
    "from astropy.cosmology import WMAP9 as cosmo\n",
    "import astropy.units as u\n",
    "from astropy.cosmology import z_at_value"
   ]
  },
  {
   "cell_type": "code",
   "execution_count": 3,
   "id": "409d5f04",
   "metadata": {},
   "outputs": [],
   "source": [
    "basePath = '/orange/lblecha/IllustrisTNG/Runs/TNG50-1/output'\n",
    "merger_file_path = '/home/pranavsatheesh/host_galaxies/data/merger_files'"
   ]
  },
  {
   "cell_type": "code",
   "execution_count": 4,
   "id": "ce007da5",
   "metadata": {},
   "outputs": [],
   "source": [
    "snap_list = np.arange(1,100)\n",
    "redshifts = np.array([il.groupcat.loadHeader(basePath, snap)['Redshift'].item() for snap in snap_list])\n",
    "scale_factors = np.array([il.groupcat.loadHeader(basePath, snap)['Time'].item() for snap in snap_list])\n",
    "one_plus_z = 1.0 / scale_factors"
   ]
  },
  {
   "cell_type": "code",
   "execution_count": 5,
   "id": "09a350cb",
   "metadata": {},
   "outputs": [
    {
     "name": "stdout",
     "output_type": "stream",
     "text": [
      "1 14.989173240042412\n"
     ]
    },
    {
     "data": {
      "text/plain": [
       "14.989173240042412"
      ]
     },
     "execution_count": 5,
     "metadata": {},
     "output_type": "execute_result"
    }
   ],
   "source": [
    "z_values = one_plus_z - 1.0\n",
    "print(snap_list[0],z_values[0])\n",
    "\n",
    "def snap_to_z(snap):\n",
    "    return one_plus_z[snap-1]-1\n",
    "\n",
    "snap_to_z(1)"
   ]
  },
  {
   "cell_type": "code",
   "execution_count": 6,
   "id": "4a784d86",
   "metadata": {},
   "outputs": [],
   "source": [
    "merger_file_1bh = merger_file_path+'/galaxy-mergers_TNG50-1_gas-100_dm-100_star-100_bh-001.hdf5'#merger file\n",
    "merger_file_nobh = merger_file_path+'/galaxy-mergers_TNG50-1_gas-100_dm-100_star-100_bh-000.hdf5'"
   ]
  },
  {
   "cell_type": "code",
   "execution_count": 7,
   "id": "17c5a141",
   "metadata": {},
   "outputs": [
    {
     "data": {
      "text/plain": [
       "<KeysViewHDF5 ['InfallMassRatio', 'ProgMassRatio', 'ProgMassRatio_mod', 'SubhaloBHMass', 'SubhaloBHMdot', 'SubhaloCM', 'SubhaloGrNr', 'SubhaloHalfmassRadType', 'SubhaloLenType', 'SubhaloMassInHalfRadType', 'SubhaloMassInRadType', 'SubhaloMassType', 'SubhaloPos', 'SubhaloSFR', 'SubhaloVel', 'SubhaloVelDisp', 'fpMass', 'fpMass_mod', 'fpMasshistory', 'fpinfallMass', 'fpsnaphistory', 'npMass', 'npMass_mod', 'npMasshistory', 'npinfallMass', 'npsnaphistory', 'shids_subf', 'shids_tree', 'snaps', 'time']>"
      ]
     },
     "execution_count": 7,
     "metadata": {},
     "output_type": "execute_result"
    }
   ],
   "source": [
    "fmergers = h5py.File(merger_file_nobh, 'r')\n",
    "fmergers.keys()"
   ]
  },
  {
   "cell_type": "code",
   "execution_count": 33,
   "id": "84e76ec4",
   "metadata": {},
   "outputs": [
    {
     "data": {
      "text/plain": [
       "array([0.13042818, 0.10740212, 0.0407346 , ..., 0.82631713, 0.82732099,\n",
       "       0.26820847])"
      ]
     },
     "execution_count": 33,
     "metadata": {},
     "output_type": "execute_result"
    }
   ],
   "source": [
    "fmergers['ProgMassRatio_mod'][:]"
   ]
  },
  {
   "cell_type": "code",
   "execution_count": 8,
   "id": "f18636c3",
   "metadata": {},
   "outputs": [],
   "source": [
    "prog_mass_ratio = fmergers['ProgMassRatio_mod'][:]\n",
    "prog_mass_ratio[prog_mass_ratio>1] = 1/prog_mass_ratio[prog_mass_ratio>1]"
   ]
  },
  {
   "cell_type": "code",
   "execution_count": 9,
   "id": "cc16fa53",
   "metadata": {},
   "outputs": [
    {
     "name": "stdout",
     "output_type": "stream",
     "text": [
      "There are 7699 mergers and 5938 major mergers\n"
     ]
    }
   ],
   "source": [
    "print(\"There are %d mergers and %d major mergers\"%(len(prog_mass_ratio), np.sum(prog_mass_ratio>0.1)))\n",
    "\n",
    "major_mergers_mask = prog_mass_ratio > 0.1"
   ]
  },
  {
   "cell_type": "code",
   "execution_count": 37,
   "id": "a0af1d31",
   "metadata": {},
   "outputs": [],
   "source": [
    "snaps_galaxy_mergers = fmergers['snaps'][:,2]"
   ]
  },
  {
   "cell_type": "code",
   "execution_count": 39,
   "id": "1fc9ee39",
   "metadata": {},
   "outputs": [],
   "source": [
    "merger_indices = np.where(snaps_galaxy_mergers == 60)[0]"
   ]
  },
  {
   "cell_type": "code",
   "execution_count": 40,
   "id": "d8d3bdfc",
   "metadata": {},
   "outputs": [
    {
     "data": {
      "text/plain": [
       "array([ True,  True,  True,  True, False, False,  True,  True, False,\n",
       "        True,  True,  True,  True,  True,  True,  True,  True, False,\n",
       "        True,  True,  True,  True,  True,  True,  True,  True,  True,\n",
       "       False,  True, False,  True,  True,  True,  True,  True,  True,\n",
       "        True,  True,  True])"
      ]
     },
     "execution_count": 40,
     "metadata": {},
     "output_type": "execute_result"
    }
   ],
   "source": [
    "major_mergers_mask[merger_indices]"
   ]
  },
  {
   "cell_type": "code",
   "execution_count": 44,
   "id": "ad780e57",
   "metadata": {},
   "outputs": [
    {
     "data": {
      "text/plain": [
       "array([ 867,  887,  895, 1210, 1430, 1880, 2182, 2784, 3082, 3090, 3477,\n",
       "       3857, 4363, 4441, 4727, 4794, 5368, 5412, 5693, 6164, 6174, 6232,\n",
       "       6270, 6327, 6488, 6518, 6783, 6833, 6870, 6886, 6912, 6951, 7048,\n",
       "       7051, 7318, 7390, 7481, 7489, 7512])"
      ]
     },
     "execution_count": 44,
     "metadata": {},
     "output_type": "execute_result"
    }
   ],
   "source": [
    "merger_indices"
   ]
  },
  {
   "cell_type": "code",
   "execution_count": 43,
   "id": "d22babcf",
   "metadata": {},
   "outputs": [
    {
     "data": {
      "text/plain": [
       "array([ 867,  887,  895, 1210, 2182, 2784, 3090, 3477, 3857, 4363, 4441,\n",
       "       4727, 4794, 5368, 5693, 6164, 6174, 6232, 6270, 6327, 6488, 6518,\n",
       "       6783, 6870, 6912, 6951, 7048, 7051, 7318, 7390, 7481, 7489, 7512])"
      ]
     },
     "execution_count": 43,
     "metadata": {},
     "output_type": "execute_result"
    }
   ],
   "source": [
    "merger_indices[major_mergers_mask[merger_indices]]"
   ]
  },
  {
   "cell_type": "code",
   "execution_count": 11,
   "id": "bfccafee",
   "metadata": {},
   "outputs": [
    {
     "name": "stdout",
     "output_type": "stream",
     "text": [
      "Descendant subfind ID: 4, snap: 61\n"
     ]
    }
   ],
   "source": [
    "descendant_subfind_id = fmergers['shids_subf'][major_mergers_mask][0][2]\n",
    "descendant_snap = fmergers['snaps'][major_mergers_mask][0][2]\n",
    "print(\"Descendant subfind ID: %d, snap: %d\"%(descendant_subfind_id, descendant_snap))"
   ]
  },
  {
   "cell_type": "code",
   "execution_count": 12,
   "id": "d0931443",
   "metadata": {},
   "outputs": [],
   "source": [
    "tree = il.sublink.loadTree(basePath,snapNum=descendant_snap,id=descendant_subfind_id,fields=['SubhaloID', 'NextProgenitorID', 'MainLeafProgenitorID', 'FirstProgenitorID',\n",
    "              'LastProgenitorID', 'RootDescendantID', 'SubhaloLenType', 'SubhaloMassType',\n",
    "              'SnapNum', 'DescendantID', 'SubfindID','FirstSubhaloInFOFGroupID']\n",
    ",onlyMDB=True)"
   ]
  },
  {
   "cell_type": "code",
   "execution_count": 13,
   "id": "d79660cf",
   "metadata": {},
   "outputs": [
    {
     "name": "stdout",
     "output_type": "stream",
     "text": [
      "74\n"
     ]
    }
   ],
   "source": [
    "rootID = tree['SubhaloID'][-1]\n",
    "descID = tree['DescendantID'][-1]\n",
    "descSnap = tree['SnapNum'][-1]\n",
    "\n",
    "\n",
    "desc_time = cosmo.age(snap_to_z(descSnap)).value #in Gyr\n",
    "#find the redshift of descendant 2 Gyrs after\n",
    "\n",
    "target_descendant_z = z_at_value(cosmo.age, (desc_time+2) * u.Gyr).value\n",
    "target_descendant_snap = snap_list[np.argmin(np.abs(z_values - target_descendant_z))]\n",
    "\n",
    "print(target_descendant_snap)"
   ]
  },
  {
   "cell_type": "code",
   "execution_count": 14,
   "id": "06ae71f1",
   "metadata": {},
   "outputs": [],
   "source": [
    "merger_descendants = {\n",
    "    'shids_subfind': [],\n",
    "    'snap': [],\n",
    "    'shids_tree': []\n",
    "}"
   ]
  },
  {
   "cell_type": "code",
   "execution_count": 15,
   "id": "a86c60b4",
   "metadata": {},
   "outputs": [
    {
     "name": "stdout",
     "output_type": "stream",
     "text": [
      "Descendant ID: 99118377, snap: 61, subhaloid: 4\n",
      "Descendant ID: 99118376, snap: 62, subhaloid: 3\n",
      "Descendant ID: 99118375, snap: 63, subhaloid: 3\n",
      "Descendant ID: 99118374, snap: 64, subhaloid: 5\n",
      "Descendant ID: 99118373, snap: 65, subhaloid: 5\n",
      "Descendant ID: 99118372, snap: 66, subhaloid: 7\n",
      "Descendant ID: 99118371, snap: 67, subhaloid: 5\n",
      "Descendant ID: 99118370, snap: 68, subhaloid: 4\n",
      "Descendant ID: 99118369, snap: 69, subhaloid: 5\n",
      "Descendant ID: 99118368, snap: 70, subhaloid: 4\n",
      "Descendant ID: 99118367, snap: 71, subhaloid: 5\n",
      "Descendant ID: 99118366, snap: 72, subhaloid: 6\n",
      "Descendant ID: 99118365, snap: 73, subhaloid: 6\n",
      "Descendant ID: 99118364, snap: 74, subhaloid: 6\n"
     ]
    }
   ],
   "source": [
    "rootID = tree['SubhaloID'][-1]\n",
    "descID = tree['DescendantID'][-1]\n",
    "descSnap = tree['SnapNum'][-1]\n",
    "desc_subfind_id = tree['SubfindID'][-1]\n",
    "\n",
    "print(\"Descendant ID: %d, snap: %d, subhaloid: %d\"%(descID, descSnap,desc_subfind_id))\n",
    "\n",
    "while descID != -1:\n",
    "    index = - (1 + rootID-descID)\n",
    "    subID = tree['SubhaloID'][index]\n",
    "    descID = tree['DescendantID'][index]\n",
    "    descSnap = tree['SnapNum'][index]\n",
    "    desc_subfind_id = tree['SubfindID'][index]\n",
    "    #find the descendant \n",
    "    if(descSnap> target_descendant_snap):\n",
    "        break\n",
    "    else:\n",
    "        print(\"Descendant ID: %d, snap: %d, subhaloid: %d\"%(descID, descSnap,desc_subfind_id))\n",
    "        merger_descendants['shids_subfind'].append(desc_subfind_id)\n",
    "        merger_descendants['snap'].append(descSnap)\n",
    "        merger_descendants['shids_tree'].append(subID)\n",
    "\n",
    "\n"
   ]
  },
  {
   "cell_type": "markdown",
   "id": "cc5a4570",
   "metadata": {},
   "source": [
    "## Working with the major merger descendant file to filter out in the population"
   ]
  },
  {
   "cell_type": "code",
   "execution_count": 16,
   "id": "907fd727",
   "metadata": {},
   "outputs": [
    {
     "data": {
      "text/plain": [
       "<KeysViewHDF5 ['shids_subfind', 'shids_tree', 'snap']>"
      ]
     },
     "execution_count": 16,
     "metadata": {},
     "output_type": "execute_result"
    }
   ],
   "source": [
    "descendant_file = merger_file_path+'/descendants_after_2Gyr_of_mergers.hdf5'\n",
    "fdescendant = h5py.File(descendant_file, 'r')\n",
    "fdescendant.keys()"
   ]
  },
  {
   "cell_type": "code",
   "execution_count": 17,
   "id": "21dbc911",
   "metadata": {},
   "outputs": [
    {
     "name": "stdout",
     "output_type": "stream",
     "text": [
      "Number of repeated pairs: 11060\n"
     ]
    }
   ],
   "source": [
    "snaps = fdescendant['snap'][:]\n",
    "shids_subfind = fdescendant['shids_subfind'][:]\n",
    "\n",
    "pairs = np.array(list(zip(snaps, shids_subfind)))\n",
    "unique_pairs, counts = np.unique(pairs, axis=0, return_counts=True)\n",
    "\n",
    "repeated_pairs = unique_pairs[counts > 1]\n",
    "print(\"Number of repeated pairs:\", len(repeated_pairs))\n"
   ]
  },
  {
   "cell_type": "code",
   "execution_count": 18,
   "id": "69f6e89e",
   "metadata": {},
   "outputs": [],
   "source": [
    "snap_list = np.arange(1,100)"
   ]
  },
  {
   "cell_type": "code",
   "execution_count": 19,
   "id": "327e2ec6",
   "metadata": {},
   "outputs": [],
   "source": [
    "subhalos = il.groupcat.loadSubhalos(\n",
    "                basePath, snap_list[-1], \n",
    "                fields=['SubhaloLenType', 'SubhaloMassType', 'SubhaloBHMass', 'SubhaloBHMdot', 'SubhaloSFR','SubhaloGasMetallicity','SubhaloStarMetallicity','SubhaloPos','SubhaloHalfmassRadType']\n",
    "            )"
   ]
  },
  {
   "cell_type": "code",
   "execution_count": 20,
   "id": "fe4ae18a",
   "metadata": {},
   "outputs": [],
   "source": [
    "descend_snaps = np.where(snaps==snap_list[-1])[0]\n",
    "descend_subhaloids = shids_subfind[descend_snaps]"
   ]
  },
  {
   "cell_type": "code",
   "execution_count": 21,
   "id": "00aad2b1",
   "metadata": {},
   "outputs": [],
   "source": [
    "subhalo_ids = np.arange(len(subhalos['SubhaloLenType'][:,5]))"
   ]
  },
  {
   "cell_type": "code",
   "execution_count": 31,
   "id": "9671001d",
   "metadata": {},
   "outputs": [],
   "source": [
    "descendant_mask = ~np.isin(subhalo_ids, descend_subhaloids)"
   ]
  },
  {
   "cell_type": "code",
   "execution_count": 32,
   "id": "a5c20306",
   "metadata": {},
   "outputs": [
    {
     "data": {
      "text/plain": [
       "array([      1,       2,       3, ..., 5688110, 5688111, 5688112])"
      ]
     },
     "execution_count": 32,
     "metadata": {},
     "output_type": "execute_result"
    }
   ],
   "source": [
    "subhalo_ids[descendant_mask]"
   ]
  },
  {
   "cell_type": "code",
   "execution_count": 22,
   "id": "d2382cf0",
   "metadata": {},
   "outputs": [
    {
     "data": {
      "text/plain": [
       "array([      1,       2,       3, ..., 5688110, 5688111, 5688112])"
      ]
     },
     "execution_count": 22,
     "metadata": {},
     "output_type": "execute_result"
    }
   ],
   "source": [
    "np.setdiff1d(subhalo_ids, descend_subhaloids)"
   ]
  },
  {
   "cell_type": "code",
   "execution_count": 23,
   "id": "09ed0b0c",
   "metadata": {},
   "outputs": [
    {
     "data": {
      "text/plain": [
       "163"
      ]
     },
     "execution_count": 23,
     "metadata": {},
     "output_type": "execute_result"
    }
   ],
   "source": [
    "len(descend_subhaloids)"
   ]
  },
  {
   "cell_type": "code",
   "execution_count": 24,
   "id": "e4484dc9",
   "metadata": {},
   "outputs": [
    {
     "data": {
      "text/plain": [
       "5688113"
      ]
     },
     "execution_count": 24,
     "metadata": {},
     "output_type": "execute_result"
    }
   ],
   "source": [
    "len(subhalo_ids)"
   ]
  },
  {
   "cell_type": "markdown",
   "id": "fd467ada",
   "metadata": {},
   "source": []
  },
  {
   "cell_type": "code",
   "execution_count": 25,
   "id": "a5d7a9b9",
   "metadata": {},
   "outputs": [
    {
     "data": {
      "text/plain": [
       "array([     0,  63877,  63889,  63980, 117255, 117255, 143882, 229933,\n",
       "       229933, 253861, 294873, 300903, 300903, 329512, 371126, 382215,\n",
       "       383976, 383980, 418335, 419618, 419626, 430866, 434356, 438148,\n",
       "       440410, 441709, 441709, 449658, 455292, 470346, 474008, 478219,\n",
       "       486046, 493433, 499021, 499704, 500579, 502372, 509709, 527839,\n",
       "       539667, 561004, 563050, 568303, 569653, 579509, 581058, 583258,\n",
       "       590569, 592984, 594731, 600743, 600743, 602133, 606038, 607864,\n",
       "       608061, 608528, 611524, 614626, 614627, 614627, 617027, 624089,\n",
       "       629093, 630290, 631927, 637317, 637317, 639157, 641601, 642734,\n",
       "       643728, 645213, 645833, 647894, 648911, 648986, 649207, 649905,\n",
       "       652044, 655988, 656798, 659936, 660178, 661934, 669749, 673482,\n",
       "       673482, 674870, 674870, 677069, 678287, 678357, 678357, 678672,\n",
       "       681133, 681133, 685739, 687331, 692122, 694385, 694760, 694832,\n",
       "       695819, 697626, 700600, 703534, 704456, 712942, 717408, 718908,\n",
       "       719261, 721084, 726670, 729360, 729529, 729962, 731874, 733465,\n",
       "       737277, 744489, 747357, 747547, 748720, 751858, 752185, 754151,\n",
       "       756247, 756758, 761783, 763295, 764615, 771980, 775018, 775861,\n",
       "       777481, 779194, 779263, 784039, 786638, 787066, 791615, 792297,\n",
       "       792552, 792552, 792630, 793097, 793097, 793097, 793618, 794105,\n",
       "       798145, 798756, 800231, 801311, 803184, 805583, 811140, 811763,\n",
       "       819416, 834999, 857637])"
      ]
     },
     "execution_count": 25,
     "metadata": {},
     "output_type": "execute_result"
    }
   ],
   "source": [
    "subhalo_ids[descend_subhaloids]"
   ]
  },
  {
   "cell_type": "code",
   "execution_count": null,
   "id": "2740f4de",
   "metadata": {},
   "outputs": [],
   "source": []
  }
 ],
 "metadata": {
  "kernelspec": {
   "display_name": "Python 3",
   "language": "python",
   "name": "python3"
  },
  "language_info": {
   "codemirror_mode": {
    "name": "ipython",
    "version": 3
   },
   "file_extension": ".py",
   "mimetype": "text/x-python",
   "name": "python",
   "nbconvert_exporter": "python",
   "pygments_lexer": "ipython3",
   "version": "3.10.15"
  }
 },
 "nbformat": 4,
 "nbformat_minor": 5
}
